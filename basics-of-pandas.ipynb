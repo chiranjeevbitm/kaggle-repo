{
  "cells": [
    {
      "metadata": {
        "_cell_guid": "b1076dfc-b9ad-4769-8c92-a6c4dae69d19",
        "_uuid": "8f2839f25d086af736a60e9eeb907d3b93b6e0e5",
        "trusted": true,
        "collapsed": true
      },
      "cell_type": "code",
      "source": "import xgboost\nimport numpy as np\nimport pandas as pd\nfrom math import sqrt\n\nimport matplotlib.pyplot as plt\nfrom sklearn import preprocessing\nfrom sklearn.pipeline import Pipeline\nfrom sklearn import cross_validation, metrics\nfrom sklearn.metrics import mean_squared_error\nfrom sklearn.preprocessing import LabelEncoder\nfrom sklearn.preprocessing import StandardScaler\nfrom sklearn.linear_model import LinearRegression\nfrom sklearn.model_selection import train_test_split\nfrom sklearn.metrics import explained_variance_score",
      "execution_count": 13,
      "outputs": []
    },
    {
      "metadata": {
        "_cell_guid": "79c7e3d0-c299-4dcb-8224-4455121ee9b0",
        "_uuid": "d629ff2d2480ee46fbb7e2d37f6b5fab8052498a",
        "trusted": true,
        "collapsed": true
      },
      "cell_type": "code",
      "source": "train=pd.read_csv(\"../input/train_4aqQp50.csv\")\ntest = pd.read_csv(\"../input/test_VJP2kVH.csv\")",
      "execution_count": 14,
      "outputs": []
    },
    {
      "metadata": {
        "_cell_guid": "8e4f6dcc-3ca0-4365-a629-0d497423d65f",
        "_uuid": "5f43ecebf48bcadb1c31a07c9af3f4d4d15ad96a",
        "trusted": true
      },
      "cell_type": "code",
      "source": "train.head()",
      "execution_count": 15,
      "outputs": [
        {
          "output_type": "execute_result",
          "execution_count": 15,
          "data": {
            "text/plain": "   PRT_ID        AREA  INT_SQFT     ...      REG_FEE  COMMIS  SALES_PRICE\n0  P03210  Karapakkam      1004     ...       380000  144400      7600000\n1  P09411  Anna Nagar      1986     ...       760122  304049     21717770\n2  P01812       Adyar       909     ...       421094   92114     13159200\n3  P05346   Velachery      1855     ...       356321   77042      9630290\n4  P06210  Karapakkam      1226     ...       237000   74063      7406250\n\n[5 rows x 22 columns]",
            "text/html": "<div>\n<style scoped>\n    .dataframe tbody tr th:only-of-type {\n        vertical-align: middle;\n    }\n\n    .dataframe tbody tr th {\n        vertical-align: top;\n    }\n\n    .dataframe thead th {\n        text-align: right;\n    }\n</style>\n<table border=\"1\" class=\"dataframe\">\n  <thead>\n    <tr style=\"text-align: right;\">\n      <th></th>\n      <th>PRT_ID</th>\n      <th>AREA</th>\n      <th>INT_SQFT</th>\n      <th>DATE_SALE</th>\n      <th>DIST_MAINROAD</th>\n      <th>N_BEDROOM</th>\n      <th>N_BATHROOM</th>\n      <th>N_ROOM</th>\n      <th>SALE_COND</th>\n      <th>PARK_FACIL</th>\n      <th>DATE_BUILD</th>\n      <th>BUILDTYPE</th>\n      <th>UTILITY_AVAIL</th>\n      <th>STREET</th>\n      <th>MZZONE</th>\n      <th>QS_ROOMS</th>\n      <th>QS_BATHROOM</th>\n      <th>QS_BEDROOM</th>\n      <th>QS_OVERALL</th>\n      <th>REG_FEE</th>\n      <th>COMMIS</th>\n      <th>SALES_PRICE</th>\n    </tr>\n  </thead>\n  <tbody>\n    <tr>\n      <th>0</th>\n      <td>P03210</td>\n      <td>Karapakkam</td>\n      <td>1004</td>\n      <td>04-05-2011</td>\n      <td>131</td>\n      <td>1.0</td>\n      <td>1.0</td>\n      <td>3</td>\n      <td>AbNormal</td>\n      <td>Yes</td>\n      <td>15-05-1967</td>\n      <td>Commercial</td>\n      <td>AllPub</td>\n      <td>Paved</td>\n      <td>A</td>\n      <td>4.0</td>\n      <td>3.9</td>\n      <td>4.9</td>\n      <td>4.330</td>\n      <td>380000</td>\n      <td>144400</td>\n      <td>7600000</td>\n    </tr>\n    <tr>\n      <th>1</th>\n      <td>P09411</td>\n      <td>Anna Nagar</td>\n      <td>1986</td>\n      <td>19-12-2006</td>\n      <td>26</td>\n      <td>2.0</td>\n      <td>1.0</td>\n      <td>5</td>\n      <td>AbNormal</td>\n      <td>No</td>\n      <td>22-12-1995</td>\n      <td>Commercial</td>\n      <td>AllPub</td>\n      <td>Gravel</td>\n      <td>RH</td>\n      <td>4.9</td>\n      <td>4.2</td>\n      <td>2.5</td>\n      <td>3.765</td>\n      <td>760122</td>\n      <td>304049</td>\n      <td>21717770</td>\n    </tr>\n    <tr>\n      <th>2</th>\n      <td>P01812</td>\n      <td>Adyar</td>\n      <td>909</td>\n      <td>04-02-2012</td>\n      <td>70</td>\n      <td>1.0</td>\n      <td>1.0</td>\n      <td>3</td>\n      <td>AbNormal</td>\n      <td>Yes</td>\n      <td>09-02-1992</td>\n      <td>Commercial</td>\n      <td>ELO</td>\n      <td>Gravel</td>\n      <td>RL</td>\n      <td>4.1</td>\n      <td>3.8</td>\n      <td>2.2</td>\n      <td>3.090</td>\n      <td>421094</td>\n      <td>92114</td>\n      <td>13159200</td>\n    </tr>\n    <tr>\n      <th>3</th>\n      <td>P05346</td>\n      <td>Velachery</td>\n      <td>1855</td>\n      <td>13-03-2010</td>\n      <td>14</td>\n      <td>3.0</td>\n      <td>2.0</td>\n      <td>5</td>\n      <td>Family</td>\n      <td>No</td>\n      <td>18-03-1988</td>\n      <td>Others</td>\n      <td>NoSewr</td>\n      <td>Paved</td>\n      <td>I</td>\n      <td>4.7</td>\n      <td>3.9</td>\n      <td>3.6</td>\n      <td>4.010</td>\n      <td>356321</td>\n      <td>77042</td>\n      <td>9630290</td>\n    </tr>\n    <tr>\n      <th>4</th>\n      <td>P06210</td>\n      <td>Karapakkam</td>\n      <td>1226</td>\n      <td>05-10-2009</td>\n      <td>84</td>\n      <td>1.0</td>\n      <td>1.0</td>\n      <td>3</td>\n      <td>AbNormal</td>\n      <td>Yes</td>\n      <td>13-10-1979</td>\n      <td>Others</td>\n      <td>AllPub</td>\n      <td>Gravel</td>\n      <td>C</td>\n      <td>3.0</td>\n      <td>2.5</td>\n      <td>4.1</td>\n      <td>3.290</td>\n      <td>237000</td>\n      <td>74063</td>\n      <td>7406250</td>\n    </tr>\n  </tbody>\n</table>\n</div>"
          },
          "metadata": {}
        }
      ]
    },
    {
      "metadata": {
        "_cell_guid": "c8c9f35a-1d02-471f-ad97-4564ecf947bf",
        "_uuid": "3d7a6f17dd1ce3de7132686945a7e2eae88e0552",
        "trusted": true
      },
      "cell_type": "code",
      "source": "train.info()",
      "execution_count": 16,
      "outputs": [
        {
          "output_type": "stream",
          "text": "<class 'pandas.core.frame.DataFrame'>\nRangeIndex: 7109 entries, 0 to 7108\nData columns (total 22 columns):\nPRT_ID           7109 non-null object\nAREA             7109 non-null object\nINT_SQFT         7109 non-null int64\nDATE_SALE        7109 non-null object\nDIST_MAINROAD    7109 non-null int64\nN_BEDROOM        7108 non-null float64\nN_BATHROOM       7104 non-null float64\nN_ROOM           7109 non-null int64\nSALE_COND        7109 non-null object\nPARK_FACIL       7109 non-null object\nDATE_BUILD       7109 non-null object\nBUILDTYPE        7109 non-null object\nUTILITY_AVAIL    7109 non-null object\nSTREET           7109 non-null object\nMZZONE           7109 non-null object\nQS_ROOMS         7109 non-null float64\nQS_BATHROOM      7109 non-null float64\nQS_BEDROOM       7109 non-null float64\nQS_OVERALL       7061 non-null float64\nREG_FEE          7109 non-null int64\nCOMMIS           7109 non-null int64\nSALES_PRICE      7109 non-null int64\ndtypes: float64(6), int64(6), object(10)\nmemory usage: 1.2+ MB\n",
          "name": "stdout"
        }
      ]
    },
    {
      "metadata": {
        "_cell_guid": "fabe6ace-a872-4be1-b6ef-30babbf73739",
        "scrolled": true,
        "_uuid": "044258ef57338a8b8cd093b691f15eca3ebae20a",
        "trusted": true
      },
      "cell_type": "code",
      "source": "train\n",
      "execution_count": 17,
      "outputs": [
        {
          "output_type": "execute_result",
          "execution_count": 17,
          "data": {
            "text/plain": "      PRT_ID        AREA  INT_SQFT     ...      REG_FEE  COMMIS  SALES_PRICE\n0     P03210  Karapakkam      1004     ...       380000  144400      7600000\n1     P09411  Anna Nagar      1986     ...       760122  304049     21717770\n2     P01812       Adyar       909     ...       421094   92114     13159200\n3     P05346   Velachery      1855     ...       356321   77042      9630290\n4     P06210  Karapakkam      1226     ...       237000   74063      7406250\n5     P00219    Chrompet      1220     ...       409027  198316     12394750\n6     P09105    Chrompet      1167     ...       263152   33955      8488790\n7     P09679   Velachery      1847     ...       604809  235204     16800250\n8     P03377    Chrompet       771     ...       257578   33236      8308970\n9     P09623   Velachery      1635     ...       323346  121255      8083650\n10    P09540    Chrompet      1203     ...       403326  119504     14938000\n11    P07121    Chrompet      1054     ...       245693  141746      9449730\n12    P05512    Chrompet      1196     ...       289554   35097      8774370\n13    P09370       Adyar      1056     ...       319141   37546      9386490\n14    P04085   Velachery      1865     ...       619987  294494     15499680\n15    P06328   Velachery      1868     ...       597135  188569     15714080\n16    P06039  Karapakkam      1639     ...       285648   77904      8656000\n17    P02016    Chrompet       796     ...       316464  130951     10912550\n18    P08160       Adyar      1136     ...       323214   49725      8287550\n19    P01372  Anna Nagar      1902     ...       742113  212032     21203240\n20    P00936    Chrompet      1069     ...       283544   43622     10905530\n21    P07346    Chrompet       931     ...       248021   27558      9185970\n22    P06851    KK Nagar      2010     ...       327762  262210     10925400\n23    P04665    Chrompet      1074     ...       288821   86646      9627380\n24    P00902      TNagar      1972     ...       487297  167073     13922760\n25    P00293     T Nagar      1685     ...       352830  176415     12601080\n26    P02235       Adyar      1130     ...       468417   53533     13383350\n27    P04080  Karapakkam      1301     ...       357283   71457      7939625\n28    P02677       Adyar       730     ...       265449   53090      8848285\n29    P00755     T Nagar      1806     ...       430852  113382     11338200\n...      ...         ...       ...     ...          ...     ...          ...\n7079  P01918       Adyar       934     ...       288628  104227      8017445\n7080  P08039       Adyar       903     ...       296843   68502      7611350\n7081  P00603     T Nagar      1946     ...       556955  171371     14280890\n7082  P08060       Adyar       791     ...       352180  146742      9782785\n7083  P09758   Velachery      1992     ...       411777  111291     11129100\n7084  P07245    Chrompet       858     ...       226302   30174      7543400\n7085  P08537    Chrompet       990     ...       370636  203252     11956000\n7086  P03059  Karapakkam       705     ...       206449   59641      4587750\n7087  P05763  Karapakkam      1008     ...       373930  200646      9120250\n7088  P05164  Karapakkam      1696     ...       293724   57312      7164000\n7089  P06915   Velachery      1907     ...       420760  210380     14025340\n7090  P02629    KK Nagar      1960     ...       432725  122051     11095520\n7091  P03495    KK Nagar      2051     ...       411765  160131     11437920\n7092  P00465    Chrompet      1202     ...       232479   25831      8610340\n7093  P07282   Velachery      1941     ...       320289  141304      9420260\n7094  P07645    KK Nagar      2456     ...       679450  353880     14155200\n7095  P08967  Anna Nagar      1955     ...       372645  146396     13308750\n7096  P03146    Chrompet      1275     ...       287798   86339      9593250\n7097  P05670  Anna Nagar      1860     ...       522119   70557     14111320\n7098  P00629  Anna Nagar      1611     ...       432288  209172     13944780\n7099  P03828       Adyar       895     ...       250641    7372      7371800\n7100  P05438     T Nagar      1733     ...       702058  312026     19501600\n7101  P05042  Karapakkam       666     ...       273317   74541      6211750\n7102  P05560  Karapakkam       701     ...       282175  141088      5643500\n7103  P05133  Karapakkam      1462     ...       356716  178358      9387250\n7104  P03834  Karapakkam       598     ...       208767  107060      5353000\n7105  P10000   Velachery      1897     ...       346191  205551     10818480\n7106  P09594   Velachery      1614     ...       317354  167028      8351410\n7107  P06508  Karapakkam       787     ...       425350  119098      8507000\n7108  P09794   Velachery      1896     ...       349177   79812      9976480\n\n[7109 rows x 22 columns]",
            "text/html": "<div>\n<style scoped>\n    .dataframe tbody tr th:only-of-type {\n        vertical-align: middle;\n    }\n\n    .dataframe tbody tr th {\n        vertical-align: top;\n    }\n\n    .dataframe thead th {\n        text-align: right;\n    }\n</style>\n<table border=\"1\" class=\"dataframe\">\n  <thead>\n    <tr style=\"text-align: right;\">\n      <th></th>\n      <th>PRT_ID</th>\n      <th>AREA</th>\n      <th>INT_SQFT</th>\n      <th>DATE_SALE</th>\n      <th>DIST_MAINROAD</th>\n      <th>N_BEDROOM</th>\n      <th>N_BATHROOM</th>\n      <th>N_ROOM</th>\n      <th>SALE_COND</th>\n      <th>PARK_FACIL</th>\n      <th>DATE_BUILD</th>\n      <th>BUILDTYPE</th>\n      <th>UTILITY_AVAIL</th>\n      <th>STREET</th>\n      <th>MZZONE</th>\n      <th>QS_ROOMS</th>\n      <th>QS_BATHROOM</th>\n      <th>QS_BEDROOM</th>\n      <th>QS_OVERALL</th>\n      <th>REG_FEE</th>\n      <th>COMMIS</th>\n      <th>SALES_PRICE</th>\n    </tr>\n  </thead>\n  <tbody>\n    <tr>\n      <th>0</th>\n      <td>P03210</td>\n      <td>Karapakkam</td>\n      <td>1004</td>\n      <td>04-05-2011</td>\n      <td>131</td>\n      <td>1.0</td>\n      <td>1.0</td>\n      <td>3</td>\n      <td>AbNormal</td>\n      <td>Yes</td>\n      <td>15-05-1967</td>\n      <td>Commercial</td>\n      <td>AllPub</td>\n      <td>Paved</td>\n      <td>A</td>\n      <td>4.0</td>\n      <td>3.9</td>\n      <td>4.9</td>\n      <td>4.330</td>\n      <td>380000</td>\n      <td>144400</td>\n      <td>7600000</td>\n    </tr>\n    <tr>\n      <th>1</th>\n      <td>P09411</td>\n      <td>Anna Nagar</td>\n      <td>1986</td>\n      <td>19-12-2006</td>\n      <td>26</td>\n      <td>2.0</td>\n      <td>1.0</td>\n      <td>5</td>\n      <td>AbNormal</td>\n      <td>No</td>\n      <td>22-12-1995</td>\n      <td>Commercial</td>\n      <td>AllPub</td>\n      <td>Gravel</td>\n      <td>RH</td>\n      <td>4.9</td>\n      <td>4.2</td>\n      <td>2.5</td>\n      <td>3.765</td>\n      <td>760122</td>\n      <td>304049</td>\n      <td>21717770</td>\n    </tr>\n    <tr>\n      <th>2</th>\n      <td>P01812</td>\n      <td>Adyar</td>\n      <td>909</td>\n      <td>04-02-2012</td>\n      <td>70</td>\n      <td>1.0</td>\n      <td>1.0</td>\n      <td>3</td>\n      <td>AbNormal</td>\n      <td>Yes</td>\n      <td>09-02-1992</td>\n      <td>Commercial</td>\n      <td>ELO</td>\n      <td>Gravel</td>\n      <td>RL</td>\n      <td>4.1</td>\n      <td>3.8</td>\n      <td>2.2</td>\n      <td>3.090</td>\n      <td>421094</td>\n      <td>92114</td>\n      <td>13159200</td>\n    </tr>\n    <tr>\n      <th>3</th>\n      <td>P05346</td>\n      <td>Velachery</td>\n      <td>1855</td>\n      <td>13-03-2010</td>\n      <td>14</td>\n      <td>3.0</td>\n      <td>2.0</td>\n      <td>5</td>\n      <td>Family</td>\n      <td>No</td>\n      <td>18-03-1988</td>\n      <td>Others</td>\n      <td>NoSewr</td>\n      <td>Paved</td>\n      <td>I</td>\n      <td>4.7</td>\n      <td>3.9</td>\n      <td>3.6</td>\n      <td>4.010</td>\n      <td>356321</td>\n      <td>77042</td>\n      <td>9630290</td>\n    </tr>\n    <tr>\n      <th>4</th>\n      <td>P06210</td>\n      <td>Karapakkam</td>\n      <td>1226</td>\n      <td>05-10-2009</td>\n      <td>84</td>\n      <td>1.0</td>\n      <td>1.0</td>\n      <td>3</td>\n      <td>AbNormal</td>\n      <td>Yes</td>\n      <td>13-10-1979</td>\n      <td>Others</td>\n      <td>AllPub</td>\n      <td>Gravel</td>\n      <td>C</td>\n      <td>3.0</td>\n      <td>2.5</td>\n      <td>4.1</td>\n      <td>3.290</td>\n      <td>237000</td>\n      <td>74063</td>\n      <td>7406250</td>\n    </tr>\n    <tr>\n      <th>5</th>\n      <td>P00219</td>\n      <td>Chrompet</td>\n      <td>1220</td>\n      <td>11-09-2014</td>\n      <td>36</td>\n      <td>2.0</td>\n      <td>1.0</td>\n      <td>4</td>\n      <td>Partial</td>\n      <td>No</td>\n      <td>12-09-2009</td>\n      <td>Commercial</td>\n      <td>NoSeWa</td>\n      <td>No Access</td>\n      <td>RH</td>\n      <td>4.5</td>\n      <td>2.6</td>\n      <td>3.1</td>\n      <td>3.320</td>\n      <td>409027</td>\n      <td>198316</td>\n      <td>12394750</td>\n    </tr>\n    <tr>\n      <th>6</th>\n      <td>P09105</td>\n      <td>Chrompet</td>\n      <td>1167</td>\n      <td>05-04-2007</td>\n      <td>137</td>\n      <td>1.0</td>\n      <td>1.0</td>\n      <td>3</td>\n      <td>Partial</td>\n      <td>No</td>\n      <td>12-04-1979</td>\n      <td>Other</td>\n      <td>AllPub</td>\n      <td>No Access</td>\n      <td>RL</td>\n      <td>3.6</td>\n      <td>2.1</td>\n      <td>2.5</td>\n      <td>2.670</td>\n      <td>263152</td>\n      <td>33955</td>\n      <td>8488790</td>\n    </tr>\n    <tr>\n      <th>7</th>\n      <td>P09679</td>\n      <td>Velachery</td>\n      <td>1847</td>\n      <td>13-03-2006</td>\n      <td>176</td>\n      <td>3.0</td>\n      <td>2.0</td>\n      <td>5</td>\n      <td>Family</td>\n      <td>No</td>\n      <td>15-03-1996</td>\n      <td>Commercial</td>\n      <td>AllPub</td>\n      <td>Gravel</td>\n      <td>RM</td>\n      <td>2.4</td>\n      <td>4.5</td>\n      <td>2.1</td>\n      <td>3.260</td>\n      <td>604809</td>\n      <td>235204</td>\n      <td>16800250</td>\n    </tr>\n    <tr>\n      <th>8</th>\n      <td>P03377</td>\n      <td>Chrompet</td>\n      <td>771</td>\n      <td>06-04-2011</td>\n      <td>175</td>\n      <td>1.0</td>\n      <td>1.0</td>\n      <td>2</td>\n      <td>AdjLand</td>\n      <td>No</td>\n      <td>14-04-1977</td>\n      <td>Others</td>\n      <td>NoSewr</td>\n      <td>Paved</td>\n      <td>RM</td>\n      <td>2.9</td>\n      <td>3.7</td>\n      <td>4.0</td>\n      <td>3.550</td>\n      <td>257578</td>\n      <td>33236</td>\n      <td>8308970</td>\n    </tr>\n    <tr>\n      <th>9</th>\n      <td>P09623</td>\n      <td>Velachery</td>\n      <td>1635</td>\n      <td>22-06-2006</td>\n      <td>74</td>\n      <td>2.0</td>\n      <td>1.0</td>\n      <td>4</td>\n      <td>AbNormal</td>\n      <td>No</td>\n      <td>26-06-1991</td>\n      <td>Others</td>\n      <td>ELO</td>\n      <td>No Access</td>\n      <td>I</td>\n      <td>3.1</td>\n      <td>3.1</td>\n      <td>3.3</td>\n      <td>3.160</td>\n      <td>323346</td>\n      <td>121255</td>\n      <td>8083650</td>\n    </tr>\n    <tr>\n      <th>10</th>\n      <td>P09540</td>\n      <td>Chrompet</td>\n      <td>1203</td>\n      <td>19-10-2006</td>\n      <td>78</td>\n      <td>2.0</td>\n      <td>1.0</td>\n      <td>4</td>\n      <td>AdjLand</td>\n      <td>Yes</td>\n      <td>26-10-1978</td>\n      <td>Commercial</td>\n      <td>AllPub</td>\n      <td>No Access</td>\n      <td>RM</td>\n      <td>4.0</td>\n      <td>3.2</td>\n      <td>4.5</td>\n      <td>3.830</td>\n      <td>403326</td>\n      <td>119504</td>\n      <td>14938000</td>\n    </tr>\n    <tr>\n      <th>11</th>\n      <td>P07121</td>\n      <td>Chrompet</td>\n      <td>1054</td>\n      <td>16-02-2009</td>\n      <td>143</td>\n      <td>1.0</td>\n      <td>1.0</td>\n      <td>3</td>\n      <td>Partial</td>\n      <td>No</td>\n      <td>26-02-1972</td>\n      <td>Others</td>\n      <td>NoSewr</td>\n      <td>Gravel</td>\n      <td>RM</td>\n      <td>2.2</td>\n      <td>3.1</td>\n      <td>3.3</td>\n      <td>2.890</td>\n      <td>245693</td>\n      <td>141746</td>\n      <td>9449730</td>\n    </tr>\n    <tr>\n      <th>12</th>\n      <td>P05512</td>\n      <td>Chrompet</td>\n      <td>1196</td>\n      <td>11-02-2010</td>\n      <td>137</td>\n      <td>1.0</td>\n      <td>1.0</td>\n      <td>3</td>\n      <td>Family</td>\n      <td>No</td>\n      <td>16-02-1991</td>\n      <td>Others</td>\n      <td>NoSewr</td>\n      <td>No Access</td>\n      <td>RL</td>\n      <td>2.1</td>\n      <td>2.5</td>\n      <td>2.1</td>\n      <td>2.260</td>\n      <td>289554</td>\n      <td>35097</td>\n      <td>8774370</td>\n    </tr>\n    <tr>\n      <th>13</th>\n      <td>P09370</td>\n      <td>Adyar</td>\n      <td>1056</td>\n      <td>01-01-2007</td>\n      <td>83</td>\n      <td>1.0</td>\n      <td>1.0</td>\n      <td>3</td>\n      <td>Partial</td>\n      <td>Yes</td>\n      <td>07-01-1981</td>\n      <td>Others</td>\n      <td>NoSewr</td>\n      <td>Paved</td>\n      <td>RH</td>\n      <td>2.2</td>\n      <td>3.4</td>\n      <td>3.7</td>\n      <td>3.190</td>\n      <td>319141</td>\n      <td>37546</td>\n      <td>9386490</td>\n    </tr>\n    <tr>\n      <th>14</th>\n      <td>P04085</td>\n      <td>Velachery</td>\n      <td>1865</td>\n      <td>11-11-2010</td>\n      <td>157</td>\n      <td>3.0</td>\n      <td>2.0</td>\n      <td>5</td>\n      <td>Family</td>\n      <td>No</td>\n      <td>24-11-1956</td>\n      <td>Commercial</td>\n      <td>NoSewr</td>\n      <td>Paved</td>\n      <td>RM</td>\n      <td>4.8</td>\n      <td>2.2</td>\n      <td>4.9</td>\n      <td>3.660</td>\n      <td>619987</td>\n      <td>294494</td>\n      <td>15499680</td>\n    </tr>\n    <tr>\n      <th>15</th>\n      <td>P06328</td>\n      <td>Velachery</td>\n      <td>1868</td>\n      <td>12-09-2009</td>\n      <td>148</td>\n      <td>3.0</td>\n      <td>2.0</td>\n      <td>5</td>\n      <td>Family</td>\n      <td>No</td>\n      <td>14-09-2000</td>\n      <td>Commercial</td>\n      <td>NoSewr</td>\n      <td>Gravel</td>\n      <td>RH</td>\n      <td>3.8</td>\n      <td>3.8</td>\n      <td>3.1</td>\n      <td>NaN</td>\n      <td>597135</td>\n      <td>188569</td>\n      <td>15714080</td>\n    </tr>\n    <tr>\n      <th>16</th>\n      <td>P06039</td>\n      <td>Karapakkam</td>\n      <td>1639</td>\n      <td>04-11-2009</td>\n      <td>175</td>\n      <td>2.0</td>\n      <td>2.0</td>\n      <td>4</td>\n      <td>Normal Sale</td>\n      <td>Yes</td>\n      <td>09-11-1991</td>\n      <td>House</td>\n      <td>ELO</td>\n      <td>Gravel</td>\n      <td>I</td>\n      <td>2.3</td>\n      <td>3.2</td>\n      <td>4.8</td>\n      <td>3.570</td>\n      <td>285648</td>\n      <td>77904</td>\n      <td>8656000</td>\n    </tr>\n    <tr>\n      <th>17</th>\n      <td>P02016</td>\n      <td>Chrompet</td>\n      <td>796</td>\n      <td>25-12-2011</td>\n      <td>134</td>\n      <td>1.0</td>\n      <td>1.0</td>\n      <td>2</td>\n      <td>AdjLand</td>\n      <td>Yes</td>\n      <td>03-01-1975</td>\n      <td>Commercial</td>\n      <td>AllPub</td>\n      <td>No Access</td>\n      <td>RL</td>\n      <td>3.5</td>\n      <td>4.6</td>\n      <td>4.7</td>\n      <td>4.300</td>\n      <td>316464</td>\n      <td>130951</td>\n      <td>10912550</td>\n    </tr>\n    <tr>\n      <th>18</th>\n      <td>P08160</td>\n      <td>Adyar</td>\n      <td>1136</td>\n      <td>05-04-2008</td>\n      <td>69</td>\n      <td>1.0</td>\n      <td>1.0</td>\n      <td>3</td>\n      <td>Normal Sale</td>\n      <td>Yes</td>\n      <td>13-04-1978</td>\n      <td>Others</td>\n      <td>AllPub</td>\n      <td>Paved</td>\n      <td>A</td>\n      <td>4.6</td>\n      <td>2.6</td>\n      <td>2.9</td>\n      <td>3.350</td>\n      <td>323214</td>\n      <td>49725</td>\n      <td>8287550</td>\n    </tr>\n    <tr>\n      <th>19</th>\n      <td>P01372</td>\n      <td>Anna Nagar</td>\n      <td>1902</td>\n      <td>02-07-2012</td>\n      <td>168</td>\n      <td>2.0</td>\n      <td>1.0</td>\n      <td>5</td>\n      <td>Family</td>\n      <td>Yes</td>\n      <td>13-07-1970</td>\n      <td>Commercial</td>\n      <td>ELO</td>\n      <td>Paved</td>\n      <td>RL</td>\n      <td>4.5</td>\n      <td>4.9</td>\n      <td>4.9</td>\n      <td>4.760</td>\n      <td>742113</td>\n      <td>212032</td>\n      <td>21203240</td>\n    </tr>\n    <tr>\n      <th>20</th>\n      <td>P00936</td>\n      <td>Chrompet</td>\n      <td>1069</td>\n      <td>19-04-2013</td>\n      <td>53</td>\n      <td>1.0</td>\n      <td>1.0</td>\n      <td>3</td>\n      <td>AbNormal</td>\n      <td>Yes</td>\n      <td>20-04-2009</td>\n      <td>Others</td>\n      <td>NoSewr</td>\n      <td>Paved</td>\n      <td>RM</td>\n      <td>2.8</td>\n      <td>2.7</td>\n      <td>4.9</td>\n      <td>3.390</td>\n      <td>283544</td>\n      <td>43622</td>\n      <td>10905530</td>\n    </tr>\n    <tr>\n      <th>21</th>\n      <td>P07346</td>\n      <td>Chrompet</td>\n      <td>931</td>\n      <td>13-12-2008</td>\n      <td>96</td>\n      <td>1.0</td>\n      <td>1.0</td>\n      <td>3</td>\n      <td>AbNormal</td>\n      <td>Yes</td>\n      <td>19-12-1986</td>\n      <td>Others</td>\n      <td>ELO</td>\n      <td>Paved</td>\n      <td>RL</td>\n      <td>4.2</td>\n      <td>3.1</td>\n      <td>3.1</td>\n      <td>3.430</td>\n      <td>248021</td>\n      <td>27558</td>\n      <td>9185970</td>\n    </tr>\n    <tr>\n      <th>22</th>\n      <td>P06851</td>\n      <td>KK Nagar</td>\n      <td>2010</td>\n      <td>06-05-2009</td>\n      <td>114</td>\n      <td>3.0</td>\n      <td>2.0</td>\n      <td>5</td>\n      <td>Partial</td>\n      <td>No</td>\n      <td>09-05-1999</td>\n      <td>Others</td>\n      <td>NoSewr</td>\n      <td>Gravel</td>\n      <td>RH</td>\n      <td>3.4</td>\n      <td>4.5</td>\n      <td>3.4</td>\n      <td>3.730</td>\n      <td>327762</td>\n      <td>262210</td>\n      <td>10925400</td>\n    </tr>\n    <tr>\n      <th>23</th>\n      <td>P04665</td>\n      <td>Chrompet</td>\n      <td>1074</td>\n      <td>23-07-2010</td>\n      <td>100</td>\n      <td>1.0</td>\n      <td>1.0</td>\n      <td>3</td>\n      <td>AbNormal</td>\n      <td>No</td>\n      <td>27-07-1994</td>\n      <td>Others</td>\n      <td>NoSewr</td>\n      <td>Gravel</td>\n      <td>RL</td>\n      <td>3.0</td>\n      <td>3.4</td>\n      <td>4.9</td>\n      <td>3.730</td>\n      <td>288821</td>\n      <td>86646</td>\n      <td>9627380</td>\n    </tr>\n    <tr>\n      <th>24</th>\n      <td>P00902</td>\n      <td>TNagar</td>\n      <td>1972</td>\n      <td>13-05-2013</td>\n      <td>111</td>\n      <td>2.0</td>\n      <td>1.0</td>\n      <td>5</td>\n      <td>AdjLand</td>\n      <td>No</td>\n      <td>14-05-2008</td>\n      <td>Others</td>\n      <td>NoSewr</td>\n      <td>No Access</td>\n      <td>RH</td>\n      <td>4.1</td>\n      <td>4.4</td>\n      <td>2.8</td>\n      <td>3.590</td>\n      <td>487297</td>\n      <td>167073</td>\n      <td>13922760</td>\n    </tr>\n    <tr>\n      <th>25</th>\n      <td>P00293</td>\n      <td>T Nagar</td>\n      <td>1685</td>\n      <td>19-07-2014</td>\n      <td>105</td>\n      <td>1.0</td>\n      <td>1.0</td>\n      <td>4</td>\n      <td>Family</td>\n      <td>No</td>\n      <td>27-07-1980</td>\n      <td>House</td>\n      <td>NoSewr</td>\n      <td>Gravel</td>\n      <td>RM</td>\n      <td>2.8</td>\n      <td>4.4</td>\n      <td>4.0</td>\n      <td>3.740</td>\n      <td>352830</td>\n      <td>176415</td>\n      <td>12601080</td>\n    </tr>\n    <tr>\n      <th>26</th>\n      <td>P02235</td>\n      <td>Adyar</td>\n      <td>1130</td>\n      <td>10-11-2011</td>\n      <td>29</td>\n      <td>1.0</td>\n      <td>1.0</td>\n      <td>3</td>\n      <td>Family</td>\n      <td>Yes</td>\n      <td>17-11-1981</td>\n      <td>Commercial</td>\n      <td>ELO</td>\n      <td>Paved</td>\n      <td>RH</td>\n      <td>2.3</td>\n      <td>2.5</td>\n      <td>2.2</td>\n      <td>2.290</td>\n      <td>468417</td>\n      <td>53533</td>\n      <td>13383350</td>\n    </tr>\n    <tr>\n      <th>27</th>\n      <td>P04080</td>\n      <td>Karapakkam</td>\n      <td>1301</td>\n      <td>12-11-2010</td>\n      <td>59</td>\n      <td>1.0</td>\n      <td>1.0</td>\n      <td>3</td>\n      <td>Normal Sale</td>\n      <td>Yes</td>\n      <td>14-11-2003</td>\n      <td>Others</td>\n      <td>NoSewr</td>\n      <td>Gravel</td>\n      <td>C</td>\n      <td>2.8</td>\n      <td>2.7</td>\n      <td>3.8</td>\n      <td>3.170</td>\n      <td>357283</td>\n      <td>71457</td>\n      <td>7939625</td>\n    </tr>\n    <tr>\n      <th>28</th>\n      <td>P02677</td>\n      <td>Adyar</td>\n      <td>730</td>\n      <td>19-08-2011</td>\n      <td>185</td>\n      <td>1.0</td>\n      <td>1.0</td>\n      <td>2</td>\n      <td>AdjLand</td>\n      <td>Yes</td>\n      <td>28-08-1972</td>\n      <td>House</td>\n      <td>ELO</td>\n      <td>Gravel</td>\n      <td>RL</td>\n      <td>2.7</td>\n      <td>4.6</td>\n      <td>4.9</td>\n      <td>4.180</td>\n      <td>265449</td>\n      <td>53090</td>\n      <td>8848285</td>\n    </tr>\n    <tr>\n      <th>29</th>\n      <td>P00755</td>\n      <td>T Nagar</td>\n      <td>1806</td>\n      <td>18-08-2013</td>\n      <td>138</td>\n      <td>2.0</td>\n      <td>1.0</td>\n      <td>5</td>\n      <td>Family</td>\n      <td>No</td>\n      <td>27-08-1978</td>\n      <td>House</td>\n      <td>NoSeWa</td>\n      <td>Paved</td>\n      <td>RH</td>\n      <td>4.1</td>\n      <td>5.0</td>\n      <td>3.0</td>\n      <td>3.830</td>\n      <td>430852</td>\n      <td>113382</td>\n      <td>11338200</td>\n    </tr>\n    <tr>\n      <th>...</th>\n      <td>...</td>\n      <td>...</td>\n      <td>...</td>\n      <td>...</td>\n      <td>...</td>\n      <td>...</td>\n      <td>...</td>\n      <td>...</td>\n      <td>...</td>\n      <td>...</td>\n      <td>...</td>\n      <td>...</td>\n      <td>...</td>\n      <td>...</td>\n      <td>...</td>\n      <td>...</td>\n      <td>...</td>\n      <td>...</td>\n      <td>...</td>\n      <td>...</td>\n      <td>...</td>\n      <td>...</td>\n    </tr>\n    <tr>\n      <th>7079</th>\n      <td>P01918</td>\n      <td>Adyar</td>\n      <td>934</td>\n      <td>15-01-2012</td>\n      <td>91</td>\n      <td>1.0</td>\n      <td>1.0</td>\n      <td>3</td>\n      <td>AbNormal</td>\n      <td>No</td>\n      <td>20-01-1989</td>\n      <td>Others</td>\n      <td>NoSeWa</td>\n      <td>Paved</td>\n      <td>RH</td>\n      <td>2.6</td>\n      <td>4.8</td>\n      <td>2.0</td>\n      <td>2.740</td>\n      <td>288628</td>\n      <td>104227</td>\n      <td>8017445</td>\n    </tr>\n    <tr>\n      <th>7080</th>\n      <td>P08039</td>\n      <td>Adyar</td>\n      <td>903</td>\n      <td>14-05-2008</td>\n      <td>108</td>\n      <td>1.0</td>\n      <td>1.0</td>\n      <td>3</td>\n      <td>AbNormal</td>\n      <td>Yes</td>\n      <td>17-05-1998</td>\n      <td>House</td>\n      <td>NoSewr</td>\n      <td>Paved</td>\n      <td>C</td>\n      <td>4.8</td>\n      <td>4.4</td>\n      <td>4.0</td>\n      <td>4.320</td>\n      <td>296843</td>\n      <td>68502</td>\n      <td>7611350</td>\n    </tr>\n    <tr>\n      <th>7081</th>\n      <td>P00603</td>\n      <td>T Nagar</td>\n      <td>1946</td>\n      <td>04-12-2013</td>\n      <td>148</td>\n      <td>2.0</td>\n      <td>1.0</td>\n      <td>5</td>\n      <td>AdjLand</td>\n      <td>No</td>\n      <td>11-12-1985</td>\n      <td>Others</td>\n      <td>NoSeWa</td>\n      <td>Gravel</td>\n      <td>RH</td>\n      <td>2.7</td>\n      <td>3.8</td>\n      <td>2.9</td>\n      <td>3.065</td>\n      <td>556955</td>\n      <td>171371</td>\n      <td>14280890</td>\n    </tr>\n    <tr>\n      <th>7082</th>\n      <td>P08060</td>\n      <td>Adyar</td>\n      <td>791</td>\n      <td>06-05-2008</td>\n      <td>71</td>\n      <td>1.0</td>\n      <td>1.0</td>\n      <td>2</td>\n      <td>Partial</td>\n      <td>Yes</td>\n      <td>16-05-1969</td>\n      <td>Commercial</td>\n      <td>NoSeWa</td>\n      <td>Gravel</td>\n      <td>C</td>\n      <td>4.9</td>\n      <td>3.8</td>\n      <td>4.2</td>\n      <td>4.330</td>\n      <td>352180</td>\n      <td>146742</td>\n      <td>9782785</td>\n    </tr>\n    <tr>\n      <th>7083</th>\n      <td>P09758</td>\n      <td>Velachery</td>\n      <td>1992</td>\n      <td>11-09-2005</td>\n      <td>147</td>\n      <td>3.0</td>\n      <td>2.0</td>\n      <td>5</td>\n      <td>Partial</td>\n      <td>No</td>\n      <td>15-09-1990</td>\n      <td>House</td>\n      <td>NoSeWa</td>\n      <td>Gravel</td>\n      <td>RM</td>\n      <td>2.4</td>\n      <td>2.8</td>\n      <td>2.4</td>\n      <td>2.580</td>\n      <td>411777</td>\n      <td>111291</td>\n      <td>11129100</td>\n    </tr>\n    <tr>\n      <th>7084</th>\n      <td>P07245</td>\n      <td>Chrompet</td>\n      <td>858</td>\n      <td>08-01-2009</td>\n      <td>32</td>\n      <td>1.0</td>\n      <td>1.0</td>\n      <td>3</td>\n      <td>Partial</td>\n      <td>Yes</td>\n      <td>14-01-1985</td>\n      <td>House</td>\n      <td>NoSeWa</td>\n      <td>No Access</td>\n      <td>RL</td>\n      <td>2.9</td>\n      <td>3.0</td>\n      <td>3.9</td>\n      <td>3.240</td>\n      <td>226302</td>\n      <td>30174</td>\n      <td>7543400</td>\n    </tr>\n    <tr>\n      <th>7085</th>\n      <td>P08537</td>\n      <td>Chrompet</td>\n      <td>990</td>\n      <td>15-11-2007</td>\n      <td>181</td>\n      <td>1.0</td>\n      <td>1.0</td>\n      <td>3</td>\n      <td>AbNormal</td>\n      <td>No</td>\n      <td>17-11-1999</td>\n      <td>Commercial</td>\n      <td>ELO</td>\n      <td>Paved</td>\n      <td>RL</td>\n      <td>3.0</td>\n      <td>4.2</td>\n      <td>4.8</td>\n      <td>4.020</td>\n      <td>370636</td>\n      <td>203252</td>\n      <td>11956000</td>\n    </tr>\n    <tr>\n      <th>7086</th>\n      <td>P03059</td>\n      <td>Karapakkam</td>\n      <td>705</td>\n      <td>02-06-2011</td>\n      <td>100</td>\n      <td>1.0</td>\n      <td>1.0</td>\n      <td>2</td>\n      <td>Family</td>\n      <td>Yes</td>\n      <td>10-06-1976</td>\n      <td>House</td>\n      <td>ELO</td>\n      <td>Gravel</td>\n      <td>A</td>\n      <td>4.7</td>\n      <td>3.1</td>\n      <td>4.8</td>\n      <td>4.260</td>\n      <td>206449</td>\n      <td>59641</td>\n      <td>4587750</td>\n    </tr>\n    <tr>\n      <th>7087</th>\n      <td>P05763</td>\n      <td>Karapakkam</td>\n      <td>1008</td>\n      <td>26-12-2009</td>\n      <td>194</td>\n      <td>1.0</td>\n      <td>1.0</td>\n      <td>3</td>\n      <td>Partial</td>\n      <td>Yes</td>\n      <td>03-01-1979</td>\n      <td>Commercial</td>\n      <td>NoSeWa</td>\n      <td>No Access</td>\n      <td>RL</td>\n      <td>2.5</td>\n      <td>4.5</td>\n      <td>3.4</td>\n      <td>3.460</td>\n      <td>373930</td>\n      <td>200646</td>\n      <td>9120250</td>\n    </tr>\n    <tr>\n      <th>7088</th>\n      <td>P05164</td>\n      <td>Karapakkam</td>\n      <td>1696</td>\n      <td>16-04-2010</td>\n      <td>48</td>\n      <td>2.0</td>\n      <td>2.0</td>\n      <td>4</td>\n      <td>Normal Sale</td>\n      <td>No</td>\n      <td>26-04-1970</td>\n      <td>House</td>\n      <td>NoSewr</td>\n      <td>No Access</td>\n      <td>RH</td>\n      <td>4.9</td>\n      <td>4.9</td>\n      <td>5.0</td>\n      <td>4.940</td>\n      <td>293724</td>\n      <td>57312</td>\n      <td>7164000</td>\n    </tr>\n    <tr>\n      <th>7089</th>\n      <td>P06915</td>\n      <td>Velachery</td>\n      <td>1907</td>\n      <td>19-04-2009</td>\n      <td>86</td>\n      <td>3.0</td>\n      <td>2.0</td>\n      <td>5</td>\n      <td>Normal Sale</td>\n      <td>No</td>\n      <td>25-04-1987</td>\n      <td>Commercial</td>\n      <td>ELO</td>\n      <td>Paved</td>\n      <td>C</td>\n      <td>2.4</td>\n      <td>4.0</td>\n      <td>4.3</td>\n      <td>3.690</td>\n      <td>420760</td>\n      <td>210380</td>\n      <td>14025340</td>\n    </tr>\n    <tr>\n      <th>7090</th>\n      <td>P02629</td>\n      <td>KK Nagar</td>\n      <td>1960</td>\n      <td>31-08-2011</td>\n      <td>98</td>\n      <td>3.0</td>\n      <td>2.0</td>\n      <td>5</td>\n      <td>Normal Sale</td>\n      <td>No</td>\n      <td>04-09-1995</td>\n      <td>Others</td>\n      <td>NoSewr</td>\n      <td>Paved</td>\n      <td>RL</td>\n      <td>5.0</td>\n      <td>3.7</td>\n      <td>3.3</td>\n      <td>3.930</td>\n      <td>432725</td>\n      <td>122051</td>\n      <td>11095520</td>\n    </tr>\n    <tr>\n      <th>7091</th>\n      <td>P03495</td>\n      <td>KK Nagar</td>\n      <td>2051</td>\n      <td>17-03-2011</td>\n      <td>30</td>\n      <td>3.0</td>\n      <td>2.0</td>\n      <td>5</td>\n      <td>Partial</td>\n      <td>No</td>\n      <td>18-03-2005</td>\n      <td>House</td>\n      <td>NoSewr</td>\n      <td>Gravel</td>\n      <td>RM</td>\n      <td>3.0</td>\n      <td>2.1</td>\n      <td>4.4</td>\n      <td>3.290</td>\n      <td>411765</td>\n      <td>160131</td>\n      <td>11437920</td>\n    </tr>\n    <tr>\n      <th>7092</th>\n      <td>P00465</td>\n      <td>Chrompet</td>\n      <td>1202</td>\n      <td>28-03-2014</td>\n      <td>134</td>\n      <td>2.0</td>\n      <td>1.0</td>\n      <td>4</td>\n      <td>Family</td>\n      <td>No</td>\n      <td>07-04-1974</td>\n      <td>Others</td>\n      <td>NoSewr</td>\n      <td>Paved</td>\n      <td>RH</td>\n      <td>3.1</td>\n      <td>3.4</td>\n      <td>3.5</td>\n      <td>3.340</td>\n      <td>232479</td>\n      <td>25831</td>\n      <td>8610340</td>\n    </tr>\n    <tr>\n      <th>7093</th>\n      <td>P07282</td>\n      <td>Velachery</td>\n      <td>1941</td>\n      <td>30-12-2008</td>\n      <td>90</td>\n      <td>3.0</td>\n      <td>2.0</td>\n      <td>5</td>\n      <td>AbNormal</td>\n      <td>Yes</td>\n      <td>11-01-1961</td>\n      <td>House</td>\n      <td>ELO</td>\n      <td>No Access</td>\n      <td>RH</td>\n      <td>3.4</td>\n      <td>4.6</td>\n      <td>3.7</td>\n      <td>4.030</td>\n      <td>320289</td>\n      <td>141304</td>\n      <td>9420260</td>\n    </tr>\n    <tr>\n      <th>7094</th>\n      <td>P07645</td>\n      <td>KK Nagar</td>\n      <td>2456</td>\n      <td>13-09-2008</td>\n      <td>171</td>\n      <td>4.0</td>\n      <td>2.0</td>\n      <td>6</td>\n      <td>AdjLand</td>\n      <td>Yes</td>\n      <td>18-09-1988</td>\n      <td>House</td>\n      <td>NoSewr</td>\n      <td>Gravel</td>\n      <td>RM</td>\n      <td>5.0</td>\n      <td>5.0</td>\n      <td>3.0</td>\n      <td>4.200</td>\n      <td>679450</td>\n      <td>353880</td>\n      <td>14155200</td>\n    </tr>\n    <tr>\n      <th>7095</th>\n      <td>P08967</td>\n      <td>Anna Nagar</td>\n      <td>1955</td>\n      <td>01-06-2007</td>\n      <td>33</td>\n      <td>2.0</td>\n      <td>1.0</td>\n      <td>5</td>\n      <td>Family</td>\n      <td>No</td>\n      <td>08-06-1977</td>\n      <td>House</td>\n      <td>NoSewr</td>\n      <td>Paved</td>\n      <td>RM</td>\n      <td>3.7</td>\n      <td>3.4</td>\n      <td>2.8</td>\n      <td>3.265</td>\n      <td>372645</td>\n      <td>146396</td>\n      <td>13308750</td>\n    </tr>\n    <tr>\n      <th>7096</th>\n      <td>P03146</td>\n      <td>Chrompet</td>\n      <td>1275</td>\n      <td>18-05-2011</td>\n      <td>3</td>\n      <td>2.0</td>\n      <td>1.0</td>\n      <td>4</td>\n      <td>AbNormal</td>\n      <td>No</td>\n      <td>23-05-1988</td>\n      <td>House</td>\n      <td>ELO</td>\n      <td>Gravel</td>\n      <td>RL</td>\n      <td>3.9</td>\n      <td>3.8</td>\n      <td>4.1</td>\n      <td>3.920</td>\n      <td>287798</td>\n      <td>86339</td>\n      <td>9593250</td>\n    </tr>\n    <tr>\n      <th>7097</th>\n      <td>P05670</td>\n      <td>Anna Nagar</td>\n      <td>1860</td>\n      <td>15-01-2010</td>\n      <td>174</td>\n      <td>2.0</td>\n      <td>1.0</td>\n      <td>5</td>\n      <td>AbNormal</td>\n      <td>No</td>\n      <td>17-01-2004</td>\n      <td>Others</td>\n      <td>AllPub</td>\n      <td>Gravel</td>\n      <td>RH</td>\n      <td>4.6</td>\n      <td>3.4</td>\n      <td>3.2</td>\n      <td>3.740</td>\n      <td>522119</td>\n      <td>70557</td>\n      <td>14111320</td>\n    </tr>\n    <tr>\n      <th>7098</th>\n      <td>P00629</td>\n      <td>Anna Nagar</td>\n      <td>1611</td>\n      <td>21-11-2013</td>\n      <td>144</td>\n      <td>1.0</td>\n      <td>1.0</td>\n      <td>4</td>\n      <td>Partial</td>\n      <td>Yes</td>\n      <td>22-11-2008</td>\n      <td>Others</td>\n      <td>NoSeWa</td>\n      <td>Paved</td>\n      <td>RM</td>\n      <td>3.2</td>\n      <td>3.7</td>\n      <td>2.9</td>\n      <td>3.205</td>\n      <td>432288</td>\n      <td>209172</td>\n      <td>13944780</td>\n    </tr>\n    <tr>\n      <th>7099</th>\n      <td>P03828</td>\n      <td>Adyar</td>\n      <td>895</td>\n      <td>05-01-2011</td>\n      <td>197</td>\n      <td>1.0</td>\n      <td>1.0</td>\n      <td>3</td>\n      <td>AdjLand</td>\n      <td>Yes</td>\n      <td>15-01-1971</td>\n      <td>House</td>\n      <td>NoSewr</td>\n      <td>No Access</td>\n      <td>I</td>\n      <td>3.6</td>\n      <td>4.7</td>\n      <td>4.2</td>\n      <td>4.120</td>\n      <td>250641</td>\n      <td>7372</td>\n      <td>7371800</td>\n    </tr>\n    <tr>\n      <th>7100</th>\n      <td>P05438</td>\n      <td>T Nagar</td>\n      <td>1733</td>\n      <td>24-02-2010</td>\n      <td>191</td>\n      <td>1.0</td>\n      <td>1.0</td>\n      <td>4</td>\n      <td>AbNormal</td>\n      <td>Yes</td>\n      <td>02-03-1985</td>\n      <td>Commercial</td>\n      <td>NoSeWa</td>\n      <td>No Access</td>\n      <td>RL</td>\n      <td>3.4</td>\n      <td>3.7</td>\n      <td>2.1</td>\n      <td>2.890</td>\n      <td>702058</td>\n      <td>312026</td>\n      <td>19501600</td>\n    </tr>\n    <tr>\n      <th>7101</th>\n      <td>P05042</td>\n      <td>Karapakkam</td>\n      <td>666</td>\n      <td>11-05-2010</td>\n      <td>51</td>\n      <td>1.0</td>\n      <td>1.0</td>\n      <td>2</td>\n      <td>AdjLand</td>\n      <td>Yes</td>\n      <td>20-05-1974</td>\n      <td>Others</td>\n      <td>ELO</td>\n      <td>Gravel</td>\n      <td>I</td>\n      <td>3.2</td>\n      <td>4.4</td>\n      <td>2.5</td>\n      <td>3.280</td>\n      <td>273317</td>\n      <td>74541</td>\n      <td>6211750</td>\n    </tr>\n    <tr>\n      <th>7102</th>\n      <td>P05560</td>\n      <td>Karapakkam</td>\n      <td>701</td>\n      <td>03-02-2010</td>\n      <td>100</td>\n      <td>1.0</td>\n      <td>1.0</td>\n      <td>2</td>\n      <td>AbNormal</td>\n      <td>No</td>\n      <td>08-02-1990</td>\n      <td>House</td>\n      <td>NoSeWa</td>\n      <td>Gravel</td>\n      <td>RH</td>\n      <td>4.2</td>\n      <td>3.0</td>\n      <td>2.0</td>\n      <td>2.960</td>\n      <td>282175</td>\n      <td>141088</td>\n      <td>5643500</td>\n    </tr>\n    <tr>\n      <th>7103</th>\n      <td>P05133</td>\n      <td>Karapakkam</td>\n      <td>1462</td>\n      <td>23-04-2010</td>\n      <td>68</td>\n      <td>2.0</td>\n      <td>2.0</td>\n      <td>4</td>\n      <td>Family</td>\n      <td>No</td>\n      <td>29-04-1986</td>\n      <td>Others</td>\n      <td>NoSeWa</td>\n      <td>Gravel</td>\n      <td>RM</td>\n      <td>2.7</td>\n      <td>3.3</td>\n      <td>3.6</td>\n      <td>3.240</td>\n      <td>356716</td>\n      <td>178358</td>\n      <td>9387250</td>\n    </tr>\n    <tr>\n      <th>7104</th>\n      <td>P03834</td>\n      <td>Karapakkam</td>\n      <td>598</td>\n      <td>03-01-2011</td>\n      <td>51</td>\n      <td>1.0</td>\n      <td>1.0</td>\n      <td>2</td>\n      <td>AdjLand</td>\n      <td>No</td>\n      <td>15-01-1962</td>\n      <td>Others</td>\n      <td>ELO</td>\n      <td>No Access</td>\n      <td>RM</td>\n      <td>3.0</td>\n      <td>2.2</td>\n      <td>2.4</td>\n      <td>2.520</td>\n      <td>208767</td>\n      <td>107060</td>\n      <td>5353000</td>\n    </tr>\n    <tr>\n      <th>7105</th>\n      <td>P10000</td>\n      <td>Velachery</td>\n      <td>1897</td>\n      <td>08-04-2004</td>\n      <td>52</td>\n      <td>3.0</td>\n      <td>2.0</td>\n      <td>5</td>\n      <td>Family</td>\n      <td>Yes</td>\n      <td>11-04-1995</td>\n      <td>Others</td>\n      <td>NoSeWa</td>\n      <td>No Access</td>\n      <td>RH</td>\n      <td>3.6</td>\n      <td>4.5</td>\n      <td>3.3</td>\n      <td>3.920</td>\n      <td>346191</td>\n      <td>205551</td>\n      <td>10818480</td>\n    </tr>\n    <tr>\n      <th>7106</th>\n      <td>P09594</td>\n      <td>Velachery</td>\n      <td>1614</td>\n      <td>25-08-2006</td>\n      <td>152</td>\n      <td>2.0</td>\n      <td>1.0</td>\n      <td>4</td>\n      <td>Normal Sale</td>\n      <td>No</td>\n      <td>01-09-1978</td>\n      <td>House</td>\n      <td>NoSeWa</td>\n      <td>Gravel</td>\n      <td>I</td>\n      <td>4.3</td>\n      <td>4.2</td>\n      <td>2.9</td>\n      <td>3.840</td>\n      <td>317354</td>\n      <td>167028</td>\n      <td>8351410</td>\n    </tr>\n    <tr>\n      <th>7107</th>\n      <td>P06508</td>\n      <td>Karapakkam</td>\n      <td>787</td>\n      <td>03-08-2009</td>\n      <td>40</td>\n      <td>1.0</td>\n      <td>1.0</td>\n      <td>2</td>\n      <td>Partial</td>\n      <td>Yes</td>\n      <td>11-08-1977</td>\n      <td>Commercial</td>\n      <td>ELO</td>\n      <td>Paved</td>\n      <td>RL</td>\n      <td>4.6</td>\n      <td>3.8</td>\n      <td>4.1</td>\n      <td>4.160</td>\n      <td>425350</td>\n      <td>119098</td>\n      <td>8507000</td>\n    </tr>\n    <tr>\n      <th>7108</th>\n      <td>P09794</td>\n      <td>Velachery</td>\n      <td>1896</td>\n      <td>13-07-2005</td>\n      <td>156</td>\n      <td>3.0</td>\n      <td>2.0</td>\n      <td>5</td>\n      <td>Partial</td>\n      <td>Yes</td>\n      <td>24-07-1961</td>\n      <td>Others</td>\n      <td>ELO</td>\n      <td>Paved</td>\n      <td>I</td>\n      <td>3.1</td>\n      <td>3.5</td>\n      <td>4.3</td>\n      <td>3.640</td>\n      <td>349177</td>\n      <td>79812</td>\n      <td>9976480</td>\n    </tr>\n  </tbody>\n</table>\n<p>7109 rows × 22 columns</p>\n</div>"
          },
          "metadata": {}
        }
      ]
    },
    {
      "metadata": {
        "_cell_guid": "b9757e29-0263-4640-8bc0-0642d2359d7e",
        "_uuid": "aebf6d06a7cc773bbd26a3432f0d1b3d8d292c48",
        "trusted": true
      },
      "cell_type": "code",
      "source": "train.describe()",
      "execution_count": 18,
      "outputs": [
        {
          "output_type": "execute_result",
          "execution_count": 18,
          "data": {
            "text/plain": "          INT_SQFT  DIST_MAINROAD      ...              COMMIS   SALES_PRICE\ncount  7109.000000    7109.000000      ...         7109.000000  7.109000e+03\nmean   1382.073006      99.603179      ...       141005.726544  1.089491e+07\nstd     457.410902      57.403110      ...        78768.093718  3.768603e+06\nmin     500.000000       0.000000      ...         5055.000000  2.156875e+06\n25%     993.000000      50.000000      ...        84219.000000  8.272100e+06\n50%    1373.000000      99.000000      ...       127628.000000  1.033505e+07\n75%    1744.000000     148.000000      ...       184506.000000  1.299390e+07\nmax    2500.000000     200.000000      ...       495405.000000  2.366734e+07\n\n[8 rows x 12 columns]",
            "text/html": "<div>\n<style scoped>\n    .dataframe tbody tr th:only-of-type {\n        vertical-align: middle;\n    }\n\n    .dataframe tbody tr th {\n        vertical-align: top;\n    }\n\n    .dataframe thead th {\n        text-align: right;\n    }\n</style>\n<table border=\"1\" class=\"dataframe\">\n  <thead>\n    <tr style=\"text-align: right;\">\n      <th></th>\n      <th>INT_SQFT</th>\n      <th>DIST_MAINROAD</th>\n      <th>N_BEDROOM</th>\n      <th>N_BATHROOM</th>\n      <th>N_ROOM</th>\n      <th>QS_ROOMS</th>\n      <th>QS_BATHROOM</th>\n      <th>QS_BEDROOM</th>\n      <th>QS_OVERALL</th>\n      <th>REG_FEE</th>\n      <th>COMMIS</th>\n      <th>SALES_PRICE</th>\n    </tr>\n  </thead>\n  <tbody>\n    <tr>\n      <th>count</th>\n      <td>7109.000000</td>\n      <td>7109.000000</td>\n      <td>7108.000000</td>\n      <td>7104.000000</td>\n      <td>7109.000000</td>\n      <td>7109.000000</td>\n      <td>7109.000000</td>\n      <td>7109.000000</td>\n      <td>7061.000000</td>\n      <td>7109.000000</td>\n      <td>7109.000000</td>\n      <td>7.109000e+03</td>\n    </tr>\n    <tr>\n      <th>mean</th>\n      <td>1382.073006</td>\n      <td>99.603179</td>\n      <td>1.637029</td>\n      <td>1.213260</td>\n      <td>3.688704</td>\n      <td>3.517471</td>\n      <td>3.507244</td>\n      <td>3.485300</td>\n      <td>3.503254</td>\n      <td>376938.330708</td>\n      <td>141005.726544</td>\n      <td>1.089491e+07</td>\n    </tr>\n    <tr>\n      <th>std</th>\n      <td>457.410902</td>\n      <td>57.403110</td>\n      <td>0.802902</td>\n      <td>0.409639</td>\n      <td>1.019099</td>\n      <td>0.891972</td>\n      <td>0.897834</td>\n      <td>0.887266</td>\n      <td>0.527223</td>\n      <td>143070.662010</td>\n      <td>78768.093718</td>\n      <td>3.768603e+06</td>\n    </tr>\n    <tr>\n      <th>min</th>\n      <td>500.000000</td>\n      <td>0.000000</td>\n      <td>1.000000</td>\n      <td>1.000000</td>\n      <td>2.000000</td>\n      <td>2.000000</td>\n      <td>2.000000</td>\n      <td>2.000000</td>\n      <td>2.000000</td>\n      <td>71177.000000</td>\n      <td>5055.000000</td>\n      <td>2.156875e+06</td>\n    </tr>\n    <tr>\n      <th>25%</th>\n      <td>993.000000</td>\n      <td>50.000000</td>\n      <td>1.000000</td>\n      <td>1.000000</td>\n      <td>3.000000</td>\n      <td>2.700000</td>\n      <td>2.700000</td>\n      <td>2.700000</td>\n      <td>3.130000</td>\n      <td>272406.000000</td>\n      <td>84219.000000</td>\n      <td>8.272100e+06</td>\n    </tr>\n    <tr>\n      <th>50%</th>\n      <td>1373.000000</td>\n      <td>99.000000</td>\n      <td>1.000000</td>\n      <td>1.000000</td>\n      <td>4.000000</td>\n      <td>3.500000</td>\n      <td>3.500000</td>\n      <td>3.500000</td>\n      <td>3.500000</td>\n      <td>349486.000000</td>\n      <td>127628.000000</td>\n      <td>1.033505e+07</td>\n    </tr>\n    <tr>\n      <th>75%</th>\n      <td>1744.000000</td>\n      <td>148.000000</td>\n      <td>2.000000</td>\n      <td>1.000000</td>\n      <td>4.000000</td>\n      <td>4.300000</td>\n      <td>4.300000</td>\n      <td>4.300000</td>\n      <td>3.890000</td>\n      <td>451562.000000</td>\n      <td>184506.000000</td>\n      <td>1.299390e+07</td>\n    </tr>\n    <tr>\n      <th>max</th>\n      <td>2500.000000</td>\n      <td>200.000000</td>\n      <td>4.000000</td>\n      <td>2.000000</td>\n      <td>6.000000</td>\n      <td>5.000000</td>\n      <td>5.000000</td>\n      <td>5.000000</td>\n      <td>4.970000</td>\n      <td>983922.000000</td>\n      <td>495405.000000</td>\n      <td>2.366734e+07</td>\n    </tr>\n  </tbody>\n</table>\n</div>"
          },
          "metadata": {}
        }
      ]
    },
    {
      "metadata": {
        "_cell_guid": "dd241f8a-f5ca-4d57-adb7-f3bbcfa250a0",
        "_uuid": "788dfe49fd783a8bdbc9e8d0e11977ae5827972b",
        "trusted": true
      },
      "cell_type": "code",
      "source": "train.columns\n",
      "execution_count": 19,
      "outputs": [
        {
          "output_type": "execute_result",
          "execution_count": 19,
          "data": {
            "text/plain": "Index(['PRT_ID', 'AREA', 'INT_SQFT', 'DATE_SALE', 'DIST_MAINROAD', 'N_BEDROOM',\n       'N_BATHROOM', 'N_ROOM', 'SALE_COND', 'PARK_FACIL', 'DATE_BUILD',\n       'BUILDTYPE', 'UTILITY_AVAIL', 'STREET', 'MZZONE', 'QS_ROOMS',\n       'QS_BATHROOM', 'QS_BEDROOM', 'QS_OVERALL', 'REG_FEE', 'COMMIS',\n       'SALES_PRICE'],\n      dtype='object')"
          },
          "metadata": {}
        }
      ]
    },
    {
      "metadata": {
        "_cell_guid": "751cbfd9-3eaf-4119-be15-a21a6d643669",
        "_uuid": "e7d619488537bfe11f35450ab7c838992785c6c0",
        "trusted": true
      },
      "cell_type": "code",
      "source": "train.values",
      "execution_count": 20,
      "outputs": [
        {
          "output_type": "execute_result",
          "execution_count": 20,
          "data": {
            "text/plain": "array([['P03210', 'Karapakkam', 1004, ..., 380000, 144400, 7600000],\n       ['P09411', 'Anna Nagar', 1986, ..., 760122, 304049, 21717770],\n       ['P01812', 'Adyar', 909, ..., 421094, 92114, 13159200],\n       ...,\n       ['P09594', 'Velachery', 1614, ..., 317354, 167028, 8351410],\n       ['P06508', 'Karapakkam', 787, ..., 425350, 119098, 8507000],\n       ['P09794', 'Velachery', 1896, ..., 349177, 79812, 9976480]],\n      dtype=object)"
          },
          "metadata": {}
        }
      ]
    },
    {
      "metadata": {
        "_cell_guid": "666b40c1-b5f6-491d-ae0f-254ef8a5b5a8",
        "_uuid": "4aff320203a52b2595743781be92119c5153717f",
        "trusted": true
      },
      "cell_type": "code",
      "source": "train['INT_SQFT'].plot()",
      "execution_count": 21,
      "outputs": [
        {
          "output_type": "execute_result",
          "execution_count": 21,
          "data": {
            "text/plain": "<matplotlib.axes._subplots.AxesSubplot at 0x7fbfe01905f8>"
          },
          "metadata": {}
        },
        {
          "output_type": "display_data",
          "data": {
            "text/plain": "<matplotlib.figure.Figure at 0x7fbf7ab22e80>",
            "image/png": "[encoded data removed]"
          },
          "metadata": {}
        }
      ]
    },
    {
      "metadata": {
        "_cell_guid": "9651c416-e071-40f6-b7a5-38e3ffb4a650",
        "_uuid": "18dcdde568e252e13664df96e2d1a6142d56da8d"
      },
      "cell_type": "raw",
      "source": ""
    },
    {
      "metadata": {
        "_cell_guid": "ab8ad773-cb66-468b-997f-80b7943f32db",
        "_uuid": "6b545da19704aa53e221d547ba012cfae7461c7d",
        "trusted": true
      },
      "cell_type": "code",
      "source": "train['INT_SQFT']",
      "execution_count": 22,
      "outputs": [
        {
          "output_type": "execute_result",
          "execution_count": 22,
          "data": {
            "text/plain": "0       1004\n1       1986\n2        909\n3       1855\n4       1226\n5       1220\n6       1167\n7       1847\n8        771\n9       1635\n10      1203\n11      1054\n12      1196\n13      1056\n14      1865\n15      1868\n16      1639\n17       796\n18      1136\n19      1902\n20      1069\n21       931\n22      2010\n23      1074\n24      1972\n25      1685\n26      1130\n27      1301\n28       730\n29      1806\n        ... \n7079     934\n7080     903\n7081    1946\n7082     791\n7083    1992\n7084     858\n7085     990\n7086     705\n7087    1008\n7088    1696\n7089    1907\n7090    1960\n7091    2051\n7092    1202\n7093    1941\n7094    2456\n7095    1955\n7096    1275\n7097    1860\n7098    1611\n7099     895\n7100    1733\n7101     666\n7102     701\n7103    1462\n7104     598\n7105    1897\n7106    1614\n7107     787\n7108    1896\nName: INT_SQFT, Length: 7109, dtype: int64"
          },
          "metadata": {}
        }
      ]
    },
    {
      "metadata": {
        "_cell_guid": "dfa4bde2-bb40-4bec-a0b0-c5e7f2c07fde",
        "_uuid": "4823a4ebc3d5a3044cf2f08e88ccae5d389c6099",
        "trusted": true
      },
      "cell_type": "code",
      "source": "train.AREA.value_counts()",
      "execution_count": 23,
      "outputs": [
        {
          "output_type": "execute_result",
          "execution_count": 23,
          "data": {
            "text/plain": "Chrompet      1681\nKarapakkam    1363\nKK Nagar       996\nVelachery      979\nAnna Nagar     783\nAdyar          773\nT Nagar        496\nChrompt          9\nChormpet         6\nChrmpet          6\nTNagar           5\nKarapakam        3\nAna Nagar        3\nVelchery         2\nAnn Nagar        2\nAdyr             1\nKKNagar          1\nName: AREA, dtype: int64"
          },
          "metadata": {}
        }
      ]
    },
    {
      "metadata": {
        "collapsed": true,
        "_cell_guid": "a72055bf-0a06-4ab2-88d4-616792ba3106",
        "_uuid": "21d571e255bd074a5d887fea35cddf665500af23",
        "trusted": true
      },
      "cell_type": "code",
      "source": "#replacing errors to the corresponding values\ntrain.AREA.replace(['Chrompt', 'Chrmpet','Chormpet','TNagar', 'Ana Nagar','Ann Nagar', 'Karapakam', 'Velchery', 'KKNagar', 'Adyr'], \\\n['Chrompet', 'Chrompet', 'Chrompet','T Nagar', 'Anna Nagar', 'Anna Nagar', 'Karapakkam', 'Velachery', 'KK Nagar', 'Adyar'], inplace=True)",
      "execution_count": 24,
      "outputs": []
    },
    {
      "metadata": {
        "_cell_guid": "5f844da0-b790-45fd-960d-d365c7c67f2e",
        "_uuid": "4374a43e9e4f2072dd6f95f55ad0ad419ae4cfa8",
        "trusted": true
      },
      "cell_type": "code",
      "source": "train.AREA.value_counts()",
      "execution_count": 25,
      "outputs": [
        {
          "output_type": "execute_result",
          "execution_count": 25,
          "data": {
            "text/plain": "Chrompet      1702\nKarapakkam    1366\nKK Nagar       997\nVelachery      981\nAnna Nagar     788\nAdyar          774\nT Nagar        501\nName: AREA, dtype: int64"
          },
          "metadata": {}
        }
      ]
    },
    {
      "metadata": {
        "collapsed": true,
        "_cell_guid": "5c4738eb-40d9-4f7f-9ddd-528b1fd0fe35",
        "_uuid": "d8e6bbe21aae0a6db47e171c7d5f1dd601f4629c",
        "trusted": true
      },
      "cell_type": "code",
      "source": "test.AREA.replace(['Velchery','Karapakam','Chrmpet','Ann Nagar', 'Chormpet', 'Chrompt'],\\\n['Velachery','Karapakkam','Chrompet','Anna Nagar','Chrompet','Chrompet'], inplace=True)\n\ntrain.SALE_COND.replace(['Ab Normal', 'Adj Land','PartiaLl','Partiall'], \\\n['AbNormal', 'AdjLand', 'Partial','Partial'], inplace=True)\n\ntest.SALE_COND.replace(['Adj Land','PartiaLl','Partiall'], \\\n['AdjLand', 'Partial','Partial'], inplace=True)\n\ntrain.PARK_FACIL.replace(['Noo'], \\\n['No'], inplace=True)\n\ntest.PARK_FACIL.replace(['Noo'], \\\n['No'], inplace=True)\n\ntrain.BUILDTYPE.replace(['Other','Comercial'], \\\n['Others','Commercial'], inplace=True)\n\ntest.BUILDTYPE.replace(['Other','Comercial', 'Commercil'], \\\n['Others','Commercial', 'Commercial'], inplace=True)\n\ntrain.UTILITY_AVAIL.replace(['All Pub'], \\\n['AllPub'], inplace=True)\n\ntest.UTILITY_AVAIL.replace(['All Pub'], \\\n['AllPub'], inplace=True)\n\ntrain.STREET.replace(['Pavd', 'NoAccess'], \\\n['Paved', 'No Access'], inplace=True)\n\ntest.STREET.replace(['Pavd', 'NoAccess'], \\\n['Paved', 'No Access'], inplace=True)",
      "execution_count": 26,
      "outputs": []
    },
    {
      "metadata": {
        "_cell_guid": "2c2dc7f3-e454-4ed0-987c-cba3ecccfe66",
        "_uuid": "04d4a673de2787f82c47aa95073095ced78a8869",
        "trusted": true
      },
      "cell_type": "code",
      "source": "train.AREA.value_counts()",
      "execution_count": 27,
      "outputs": [
        {
          "output_type": "execute_result",
          "execution_count": 27,
          "data": {
            "text/plain": "Chrompet      1702\nKarapakkam    1366\nKK Nagar       997\nVelachery      981\nAnna Nagar     788\nAdyar          774\nT Nagar        501\nName: AREA, dtype: int64"
          },
          "metadata": {}
        }
      ]
    },
    {
      "metadata": {
        "_cell_guid": "a226c4d2-1e0f-482c-9102-39c2a129af82",
        "_uuid": "f60ed3252eacd403899efb80773d96f6b2df4093",
        "trusted": true
      },
      "cell_type": "code",
      "source": "train.info()",
      "execution_count": 28,
      "outputs": [
        {
          "output_type": "stream",
          "text": "<class 'pandas.core.frame.DataFrame'>\nRangeIndex: 7109 entries, 0 to 7108\nData columns (total 22 columns):\nPRT_ID           7109 non-null object\nAREA             7109 non-null object\nINT_SQFT         7109 non-null int64\nDATE_SALE        7109 non-null object\nDIST_MAINROAD    7109 non-null int64\nN_BEDROOM        7108 non-null float64\nN_BATHROOM       7104 non-null float64\nN_ROOM           7109 non-null int64\nSALE_COND        7109 non-null object\nPARK_FACIL       7109 non-null object\nDATE_BUILD       7109 non-null object\nBUILDTYPE        7109 non-null object\nUTILITY_AVAIL    7109 non-null object\nSTREET           7109 non-null object\nMZZONE           7109 non-null object\nQS_ROOMS         7109 non-null float64\nQS_BATHROOM      7109 non-null float64\nQS_BEDROOM       7109 non-null float64\nQS_OVERALL       7061 non-null float64\nREG_FEE          7109 non-null int64\nCOMMIS           7109 non-null int64\nSALES_PRICE      7109 non-null int64\ndtypes: float64(6), int64(6), object(10)\nmemory usage: 1.2+ MB\n",
          "name": "stdout"
        }
      ]
    },
    {
      "metadata": {
        "collapsed": true,
        "_cell_guid": "f99fc37e-3fc9-4f82-ada4-0ecd8d618df6",
        "_uuid": "46e59e78ee7a29f8ec1118679be3b2c779d67236",
        "trusted": true
      },
      "cell_type": "code",
      "source": "#Dropping table\ntrain = train.drop(['PRT_ID', 'DATE_SALE', 'DATE_BUILD'], axis=1)\n# we assign\n#verticle axis = 1\n#horizontal axis = 0\n",
      "execution_count": 29,
      "outputs": []
    },
    {
      "metadata": {
        "collapsed": true,
        "_cell_guid": "e3473c1a-826f-48cb-8ffb-3b0372880b5a",
        "_uuid": "e4cf7f91dbfb822f1f092abe72ed084fe6e895f1",
        "trusted": true
      },
      "cell_type": "code",
      "source": "train  = train.fillna(0)\n#train = train.dropna(0)",
      "execution_count": 30,
      "outputs": []
    },
    {
      "metadata": {
        "_cell_guid": "c938a16e-03cf-40ab-9194-8627282ed658",
        "_uuid": "f78145c9316cdf6a9406e79d59de6cca4eb4d232",
        "trusted": true
      },
      "cell_type": "code",
      "source": "train.info()",
      "execution_count": 31,
      "outputs": [
        {
          "output_type": "stream",
          "text": "<class 'pandas.core.frame.DataFrame'>\nRangeIndex: 7109 entries, 0 to 7108\nData columns (total 19 columns):\nAREA             7109 non-null object\nINT_SQFT         7109 non-null int64\nDIST_MAINROAD    7109 non-null int64\nN_BEDROOM        7109 non-null float64\nN_BATHROOM       7109 non-null float64\nN_ROOM           7109 non-null int64\nSALE_COND        7109 non-null object\nPARK_FACIL       7109 non-null object\nBUILDTYPE        7109 non-null object\nUTILITY_AVAIL    7109 non-null object\nSTREET           7109 non-null object\nMZZONE           7109 non-null object\nQS_ROOMS         7109 non-null float64\nQS_BATHROOM      7109 non-null float64\nQS_BEDROOM       7109 non-null float64\nQS_OVERALL       7109 non-null float64\nREG_FEE          7109 non-null int64\nCOMMIS           7109 non-null int64\nSALES_PRICE      7109 non-null int64\ndtypes: float64(6), int64(6), object(7)\nmemory usage: 1.0+ MB\n",
          "name": "stdout"
        }
      ]
    },
    {
      "metadata": {
        "_cell_guid": "d29cd963-6ac6-47eb-bba2-48be3cd75029",
        "_uuid": "8173efa56faa0b981c76b09f86acc97a4c8c623f",
        "trusted": true
      },
      "cell_type": "code",
      "source": "train.describe()",
      "execution_count": 32,
      "outputs": [
        {
          "output_type": "execute_result",
          "execution_count": 32,
          "data": {
            "text/plain": "          INT_SQFT  DIST_MAINROAD      ...              COMMIS   SALES_PRICE\ncount  7109.000000    7109.000000      ...         7109.000000  7.109000e+03\nmean   1382.073006      99.603179      ...       141005.726544  1.089491e+07\nstd     457.410902      57.403110      ...        78768.093718  3.768603e+06\nmin     500.000000       0.000000      ...         5055.000000  2.156875e+06\n25%     993.000000      50.000000      ...        84219.000000  8.272100e+06\n50%    1373.000000      99.000000      ...       127628.000000  1.033505e+07\n75%    1744.000000     148.000000      ...       184506.000000  1.299390e+07\nmax    2500.000000     200.000000      ...       495405.000000  2.366734e+07\n\n[8 rows x 12 columns]",
            "text/html": "<div>\n<style scoped>\n    .dataframe tbody tr th:only-of-type {\n        vertical-align: middle;\n    }\n\n    .dataframe tbody tr th {\n        vertical-align: top;\n    }\n\n    .dataframe thead th {\n        text-align: right;\n    }\n</style>\n<table border=\"1\" class=\"dataframe\">\n  <thead>\n    <tr style=\"text-align: right;\">\n      <th></th>\n      <th>INT_SQFT</th>\n      <th>DIST_MAINROAD</th>\n      <th>N_BEDROOM</th>\n      <th>N_BATHROOM</th>\n      <th>N_ROOM</th>\n      <th>QS_ROOMS</th>\n      <th>QS_BATHROOM</th>\n      <th>QS_BEDROOM</th>\n      <th>QS_OVERALL</th>\n      <th>REG_FEE</th>\n      <th>COMMIS</th>\n      <th>SALES_PRICE</th>\n    </tr>\n  </thead>\n  <tbody>\n    <tr>\n      <th>count</th>\n      <td>7109.000000</td>\n      <td>7109.000000</td>\n      <td>7109.000000</td>\n      <td>7109.000000</td>\n      <td>7109.000000</td>\n      <td>7109.000000</td>\n      <td>7109.000000</td>\n      <td>7109.000000</td>\n      <td>7109.000000</td>\n      <td>7109.000000</td>\n      <td>7109.000000</td>\n      <td>7.109000e+03</td>\n    </tr>\n    <tr>\n      <th>mean</th>\n      <td>1382.073006</td>\n      <td>99.603179</td>\n      <td>1.636798</td>\n      <td>1.212407</td>\n      <td>3.688704</td>\n      <td>3.517471</td>\n      <td>3.507244</td>\n      <td>3.485300</td>\n      <td>3.479600</td>\n      <td>376938.330708</td>\n      <td>141005.726544</td>\n      <td>1.089491e+07</td>\n    </tr>\n    <tr>\n      <th>std</th>\n      <td>457.410902</td>\n      <td>57.403110</td>\n      <td>0.803080</td>\n      <td>0.410756</td>\n      <td>1.019099</td>\n      <td>0.891972</td>\n      <td>0.897834</td>\n      <td>0.887266</td>\n      <td>0.598669</td>\n      <td>143070.662010</td>\n      <td>78768.093718</td>\n      <td>3.768603e+06</td>\n    </tr>\n    <tr>\n      <th>min</th>\n      <td>500.000000</td>\n      <td>0.000000</td>\n      <td>0.000000</td>\n      <td>0.000000</td>\n      <td>2.000000</td>\n      <td>2.000000</td>\n      <td>2.000000</td>\n      <td>2.000000</td>\n      <td>0.000000</td>\n      <td>71177.000000</td>\n      <td>5055.000000</td>\n      <td>2.156875e+06</td>\n    </tr>\n    <tr>\n      <th>25%</th>\n      <td>993.000000</td>\n      <td>50.000000</td>\n      <td>1.000000</td>\n      <td>1.000000</td>\n      <td>3.000000</td>\n      <td>2.700000</td>\n      <td>2.700000</td>\n      <td>2.700000</td>\n      <td>3.120000</td>\n      <td>272406.000000</td>\n      <td>84219.000000</td>\n      <td>8.272100e+06</td>\n    </tr>\n    <tr>\n      <th>50%</th>\n      <td>1373.000000</td>\n      <td>99.000000</td>\n      <td>1.000000</td>\n      <td>1.000000</td>\n      <td>4.000000</td>\n      <td>3.500000</td>\n      <td>3.500000</td>\n      <td>3.500000</td>\n      <td>3.500000</td>\n      <td>349486.000000</td>\n      <td>127628.000000</td>\n      <td>1.033505e+07</td>\n    </tr>\n    <tr>\n      <th>75%</th>\n      <td>1744.000000</td>\n      <td>148.000000</td>\n      <td>2.000000</td>\n      <td>1.000000</td>\n      <td>4.000000</td>\n      <td>4.300000</td>\n      <td>4.300000</td>\n      <td>4.300000</td>\n      <td>3.880000</td>\n      <td>451562.000000</td>\n      <td>184506.000000</td>\n      <td>1.299390e+07</td>\n    </tr>\n    <tr>\n      <th>max</th>\n      <td>2500.000000</td>\n      <td>200.000000</td>\n      <td>4.000000</td>\n      <td>2.000000</td>\n      <td>6.000000</td>\n      <td>5.000000</td>\n      <td>5.000000</td>\n      <td>5.000000</td>\n      <td>4.970000</td>\n      <td>983922.000000</td>\n      <td>495405.000000</td>\n      <td>2.366734e+07</td>\n    </tr>\n  </tbody>\n</table>\n</div>"
          },
          "metadata": {}
        }
      ]
    },
    {
      "metadata": {
        "collapsed": true,
        "_cell_guid": "9992f286-1fda-436e-99cd-aabce5b15ddd",
        "_uuid": "beb8d196bd9ca7a634e5fdec8cdf11856cfa7f0e",
        "trusted": true
      },
      "cell_type": "code",
      "source": "scale_list = ['INT_SQFT','DIST_MAINROAD','REG_FEE','COMMIS','QS_ROOMS','QS_BATHROOM','QS_BEDROOM','QS_OVERALL']\nsc = train[scale_list]",
      "execution_count": 33,
      "outputs": []
    },
    {
      "metadata": {
        "_cell_guid": "5b0ce176-9bd9-4cda-803e-8ee94c6270c6",
        "_uuid": "e9d43789f0cc5904c47b11a6a6bbcf5e7facefdc",
        "trusted": true
      },
      "cell_type": "code",
      "source": "sc.head()",
      "execution_count": 34,
      "outputs": [
        {
          "output_type": "execute_result",
          "execution_count": 34,
          "data": {
            "text/plain": "   INT_SQFT  DIST_MAINROAD     ...      QS_BEDROOM  QS_OVERALL\n0      1004            131     ...             4.9       4.330\n1      1986             26     ...             2.5       3.765\n2       909             70     ...             2.2       3.090\n3      1855             14     ...             3.6       4.010\n4      1226             84     ...             4.1       3.290\n\n[5 rows x 8 columns]",
            "text/html": "<div>\n<style scoped>\n    .dataframe tbody tr th:only-of-type {\n        vertical-align: middle;\n    }\n\n    .dataframe tbody tr th {\n        vertical-align: top;\n    }\n\n    .dataframe thead th {\n        text-align: right;\n    }\n</style>\n<table border=\"1\" class=\"dataframe\">\n  <thead>\n    <tr style=\"text-align: right;\">\n      <th></th>\n      <th>INT_SQFT</th>\n      <th>DIST_MAINROAD</th>\n      <th>REG_FEE</th>\n      <th>COMMIS</th>\n      <th>QS_ROOMS</th>\n      <th>QS_BATHROOM</th>\n      <th>QS_BEDROOM</th>\n      <th>QS_OVERALL</th>\n    </tr>\n  </thead>\n  <tbody>\n    <tr>\n      <th>0</th>\n      <td>1004</td>\n      <td>131</td>\n      <td>380000</td>\n      <td>144400</td>\n      <td>4.0</td>\n      <td>3.9</td>\n      <td>4.9</td>\n      <td>4.330</td>\n    </tr>\n    <tr>\n      <th>1</th>\n      <td>1986</td>\n      <td>26</td>\n      <td>760122</td>\n      <td>304049</td>\n      <td>4.9</td>\n      <td>4.2</td>\n      <td>2.5</td>\n      <td>3.765</td>\n    </tr>\n    <tr>\n      <th>2</th>\n      <td>909</td>\n      <td>70</td>\n      <td>421094</td>\n      <td>92114</td>\n      <td>4.1</td>\n      <td>3.8</td>\n      <td>2.2</td>\n      <td>3.090</td>\n    </tr>\n    <tr>\n      <th>3</th>\n      <td>1855</td>\n      <td>14</td>\n      <td>356321</td>\n      <td>77042</td>\n      <td>4.7</td>\n      <td>3.9</td>\n      <td>3.6</td>\n      <td>4.010</td>\n    </tr>\n    <tr>\n      <th>4</th>\n      <td>1226</td>\n      <td>84</td>\n      <td>237000</td>\n      <td>74063</td>\n      <td>3.0</td>\n      <td>2.5</td>\n      <td>4.1</td>\n      <td>3.290</td>\n    </tr>\n  </tbody>\n</table>\n</div>"
          },
          "metadata": {}
        }
      ]
    },
    {
      "metadata": {
        "_cell_guid": "e4bd2096-fd3b-4dd2-9b12-50e2d17875c8",
        "_uuid": "3ec74753f5210b54e295878c45f99acb49f2de70",
        "trusted": true
      },
      "cell_type": "code",
      "source": "scaler = StandardScaler()\nsc = scaler.fit_transform(sc)\n",
      "execution_count": 35,
      "outputs": [
        {
          "output_type": "stream",
          "text": "/opt/conda/lib/python3.6/site-packages/sklearn/preprocessing/data.py:616: DataConversionWarning: Data with input dtype int64, float64 were all converted to float64 by StandardScaler.\n  return self.partial_fit(X, y)\n/opt/conda/lib/python3.6/site-packages/sklearn/base.py:459: DataConversionWarning: Data with input dtype int64, float64 were all converted to float64 by StandardScaler.\n  return self.fit(X, **fit_params).transform(X)\n",
          "name": "stderr"
        }
      ]
    },
    {
      "metadata": {
        "_cell_guid": "6167a52b-e047-436d-9722-45b947f6a609",
        "_uuid": "f0cec990a5614588d43c8d86382cbd9282566ba5",
        "trusted": true,
        "collapsed": true
      },
      "cell_type": "code",
      "source": "train[scale_list] = sc\n",
      "execution_count": 36,
      "outputs": []
    },
    {
      "metadata": {
        "_cell_guid": "7a268795-5fa7-459a-b57f-c6da29cce0dc",
        "_uuid": "f9f17f1115b91131b9a52ccd9696aee4a2cdf124",
        "trusted": true
      },
      "cell_type": "code",
      "source": "train[scale_list].head()",
      "execution_count": 37,
      "outputs": [
        {
          "output_type": "execute_result",
          "execution_count": 37,
          "data": {
            "text/plain": "   INT_SQFT  DIST_MAINROAD     ...      QS_BEDROOM  QS_OVERALL\n0 -0.826608       0.546992     ...        1.594560    1.420584\n1  1.320409      -1.282306     ...       -1.110568    0.476758\n2 -1.034314      -0.515743     ...       -1.448709   -0.650822\n3  1.033994      -1.491369     ...        0.129282    0.886028\n4 -0.341234      -0.271837     ...        0.692850   -0.316724\n\n[5 rows x 8 columns]",
            "text/html": "<div>\n<style scoped>\n    .dataframe tbody tr th:only-of-type {\n        vertical-align: middle;\n    }\n\n    .dataframe tbody tr th {\n        vertical-align: top;\n    }\n\n    .dataframe thead th {\n        text-align: right;\n    }\n</style>\n<table border=\"1\" class=\"dataframe\">\n  <thead>\n    <tr style=\"text-align: right;\">\n      <th></th>\n      <th>INT_SQFT</th>\n      <th>DIST_MAINROAD</th>\n      <th>REG_FEE</th>\n      <th>COMMIS</th>\n      <th>QS_ROOMS</th>\n      <th>QS_BATHROOM</th>\n      <th>QS_BEDROOM</th>\n      <th>QS_OVERALL</th>\n    </tr>\n  </thead>\n  <tbody>\n    <tr>\n      <th>0</th>\n      <td>-0.826608</td>\n      <td>0.546992</td>\n      <td>0.021401</td>\n      <td>0.043095</td>\n      <td>0.541007</td>\n      <td>0.437479</td>\n      <td>1.594560</td>\n      <td>1.420584</td>\n    </tr>\n    <tr>\n      <th>1</th>\n      <td>1.320409</td>\n      <td>-1.282306</td>\n      <td>2.678471</td>\n      <td>2.070061</td>\n      <td>1.550078</td>\n      <td>0.771640</td>\n      <td>-1.110568</td>\n      <td>0.476758</td>\n    </tr>\n    <tr>\n      <th>2</th>\n      <td>-1.034314</td>\n      <td>-0.515743</td>\n      <td>0.308650</td>\n      <td>-0.620748</td>\n      <td>0.653126</td>\n      <td>0.326092</td>\n      <td>-1.448709</td>\n      <td>-0.650822</td>\n    </tr>\n    <tr>\n      <th>3</th>\n      <td>1.033994</td>\n      <td>-1.491369</td>\n      <td>-0.144116</td>\n      <td>-0.812108</td>\n      <td>1.325840</td>\n      <td>0.437479</td>\n      <td>0.129282</td>\n      <td>0.886028</td>\n    </tr>\n    <tr>\n      <th>4</th>\n      <td>-0.341234</td>\n      <td>-0.271837</td>\n      <td>-0.978175</td>\n      <td>-0.849931</td>\n      <td>-0.580183</td>\n      <td>-1.121940</td>\n      <td>0.692850</td>\n      <td>-0.316724</td>\n    </tr>\n  </tbody>\n</table>\n</div>"
          },
          "metadata": {}
        }
      ]
    },
    {
      "metadata": {
        "_cell_guid": "e7c2adb9-c203-4445-8e21-c8d75c7175d2",
        "_kg_hide-output": true,
        "_uuid": "13ea3d3dfcc236e69e6d6bb907580b9976c10fe0"
      },
      "cell_type": "markdown",
      "source": " fit matlab direct algorithm per run karna \n \n transform matlab run karke changes lana\n \n har ek scaling corresponding to its own column"
    },
    {
      "metadata": {
        "_cell_guid": "3bda9983-814c-4210-93dd-b34addb1f9a1",
        "_uuid": "f4d7e5720155bc71a5d012458d65b0aab82feac6",
        "trusted": true
      },
      "cell_type": "code",
      "source": "sc[0]",
      "execution_count": 38,
      "outputs": [
        {
          "output_type": "execute_result",
          "execution_count": 38,
          "data": {
            "text/plain": "array([-0.82660819,  0.54699179,  0.02140121,  0.04309502,  0.54100678,\n        0.43747889,  1.59455962,  1.42058405])"
          },
          "metadata": {}
        }
      ]
    },
    {
      "metadata": {
        "_cell_guid": "a74ae78c-fe90-474f-bfaa-bdf773ec8200",
        "_uuid": "e740647bff2b9787ecafc16843803e51315d65b6",
        "trusted": true
      },
      "cell_type": "code",
      "source": "sc.head()",
      "execution_count": 39,
      "outputs": [
        {
          "output_type": "error",
          "ename": "AttributeError",
          "evalue": "'numpy.ndarray' object has no attribute 'head'",
          "traceback": [
            "\u001b[0;31m---------------------------------------------------------------------------\u001b[0m",
            "\u001b[0;31mAttributeError\u001b[0m                            Traceback (most recent call last)",
            "\u001b[0;32m<ipython-input-39-6aa96237a857>\u001b[0m in \u001b[0;36m<module>\u001b[0;34m()\u001b[0m\n\u001b[0;32m----> 1\u001b[0;31m \u001b[0msc\u001b[0m\u001b[0;34m.\u001b[0m\u001b[0mhead\u001b[0m\u001b[0;34m(\u001b[0m\u001b[0;34m)\u001b[0m\u001b[0;34m\u001b[0m\u001b[0m\n\u001b[0m",
            "\u001b[0;31mAttributeError\u001b[0m: 'numpy.ndarray' object has no attribute 'head'"
          ]
        }
      ]
    },
    {
      "metadata": {
        "_cell_guid": "1f9c7a40-b7ab-40e0-90ce-67d835c5a956",
        "_uuid": "735ac77ddb46b871ee6dbb6e49790f5b69eb8509"
      },
      "cell_type": "markdown",
      "source": "this error is because the data type is no further a data frame"
    },
    {
      "metadata": {
        "_cell_guid": "27b12d23-4b2e-4030-9288-854d821528cd",
        "_uuid": "5c8a239f716e0102f5e7d8ac744bad2a7db73aec"
      },
      "cell_type": "markdown",
      "source": ""
    },
    {
      "metadata": {
        "collapsed": true,
        "_cell_guid": "3486ce0a-3231-4858-bb52-69b718ff0731",
        "_uuid": "3588019999b0349431896e978dc8927264cf257c",
        "trusted": true
      },
      "cell_type": "code",
      "source": "encoding_list = ['AREA', 'SALE_COND','PARK_FACIL','BUILDTYPE','UTILITY_AVAIL', 'STREET','MZZONE']\ntrain[encoding_list] = train[encoding_list].apply(LabelEncoder().fit_transform)",
      "execution_count": 40,
      "outputs": []
    },
    {
      "metadata": {
        "_cell_guid": "0bb29542-d6ab-4f99-88a3-98adb35806e6",
        "_uuid": "966e0e754da64ad0f9baa2e93d5fc533cb23b766",
        "trusted": true
      },
      "cell_type": "code",
      "source": "train.head()",
      "execution_count": 41,
      "outputs": [
        {
          "output_type": "execute_result",
          "execution_count": 41,
          "data": {
            "text/plain": "   AREA  INT_SQFT  DIST_MAINROAD     ...        REG_FEE    COMMIS  SALES_PRICE\n0     4 -0.826608       0.546992     ...       0.021401  0.043095      7600000\n1     1  1.320409      -1.282306     ...       2.678471  2.070061     21717770\n2     0 -1.034314      -0.515743     ...       0.308650 -0.620748     13159200\n3     6  1.033994      -1.491369     ...      -0.144116 -0.812108      9630290\n4     4 -0.341234      -0.271837     ...      -0.978175 -0.849931      7406250\n\n[5 rows x 19 columns]",
            "text/html": "<div>\n<style scoped>\n    .dataframe tbody tr th:only-of-type {\n        vertical-align: middle;\n    }\n\n    .dataframe tbody tr th {\n        vertical-align: top;\n    }\n\n    .dataframe thead th {\n        text-align: right;\n    }\n</style>\n<table border=\"1\" class=\"dataframe\">\n  <thead>\n    <tr style=\"text-align: right;\">\n      <th></th>\n      <th>AREA</th>\n      <th>INT_SQFT</th>\n      <th>DIST_MAINROAD</th>\n      <th>N_BEDROOM</th>\n      <th>N_BATHROOM</th>\n      <th>N_ROOM</th>\n      <th>SALE_COND</th>\n      <th>PARK_FACIL</th>\n      <th>BUILDTYPE</th>\n      <th>UTILITY_AVAIL</th>\n      <th>STREET</th>\n      <th>MZZONE</th>\n      <th>QS_ROOMS</th>\n      <th>QS_BATHROOM</th>\n      <th>QS_BEDROOM</th>\n      <th>QS_OVERALL</th>\n      <th>REG_FEE</th>\n      <th>COMMIS</th>\n      <th>SALES_PRICE</th>\n    </tr>\n  </thead>\n  <tbody>\n    <tr>\n      <th>0</th>\n      <td>4</td>\n      <td>-0.826608</td>\n      <td>0.546992</td>\n      <td>1.0</td>\n      <td>1.0</td>\n      <td>3</td>\n      <td>0</td>\n      <td>1</td>\n      <td>0</td>\n      <td>0</td>\n      <td>2</td>\n      <td>0</td>\n      <td>0.541007</td>\n      <td>0.437479</td>\n      <td>1.594560</td>\n      <td>1.420584</td>\n      <td>0.021401</td>\n      <td>0.043095</td>\n      <td>7600000</td>\n    </tr>\n    <tr>\n      <th>1</th>\n      <td>1</td>\n      <td>1.320409</td>\n      <td>-1.282306</td>\n      <td>2.0</td>\n      <td>1.0</td>\n      <td>5</td>\n      <td>0</td>\n      <td>0</td>\n      <td>0</td>\n      <td>0</td>\n      <td>0</td>\n      <td>3</td>\n      <td>1.550078</td>\n      <td>0.771640</td>\n      <td>-1.110568</td>\n      <td>0.476758</td>\n      <td>2.678471</td>\n      <td>2.070061</td>\n      <td>21717770</td>\n    </tr>\n    <tr>\n      <th>2</th>\n      <td>0</td>\n      <td>-1.034314</td>\n      <td>-0.515743</td>\n      <td>1.0</td>\n      <td>1.0</td>\n      <td>3</td>\n      <td>0</td>\n      <td>1</td>\n      <td>0</td>\n      <td>1</td>\n      <td>0</td>\n      <td>4</td>\n      <td>0.653126</td>\n      <td>0.326092</td>\n      <td>-1.448709</td>\n      <td>-0.650822</td>\n      <td>0.308650</td>\n      <td>-0.620748</td>\n      <td>13159200</td>\n    </tr>\n    <tr>\n      <th>3</th>\n      <td>6</td>\n      <td>1.033994</td>\n      <td>-1.491369</td>\n      <td>3.0</td>\n      <td>2.0</td>\n      <td>5</td>\n      <td>2</td>\n      <td>0</td>\n      <td>2</td>\n      <td>3</td>\n      <td>2</td>\n      <td>2</td>\n      <td>1.325840</td>\n      <td>0.437479</td>\n      <td>0.129282</td>\n      <td>0.886028</td>\n      <td>-0.144116</td>\n      <td>-0.812108</td>\n      <td>9630290</td>\n    </tr>\n    <tr>\n      <th>4</th>\n      <td>4</td>\n      <td>-0.341234</td>\n      <td>-0.271837</td>\n      <td>1.0</td>\n      <td>1.0</td>\n      <td>3</td>\n      <td>0</td>\n      <td>1</td>\n      <td>2</td>\n      <td>0</td>\n      <td>0</td>\n      <td>1</td>\n      <td>-0.580183</td>\n      <td>-1.121940</td>\n      <td>0.692850</td>\n      <td>-0.316724</td>\n      <td>-0.978175</td>\n      <td>-0.849931</td>\n      <td>7406250</td>\n    </tr>\n  </tbody>\n</table>\n</div>"
          },
          "metadata": {}
        }
      ]
    },
    {
      "metadata": {
        "_cell_guid": "8a80d639-71c4-4699-a5dd-c2cd4de01d3e",
        "_uuid": "4ab6e2b82a7846194ab36ecfaa71fa55a4789c4e"
      },
      "cell_type": "markdown",
      "source": "#Linear Regression"
    },
    {
      "metadata": {
        "collapsed": true,
        "_cell_guid": "dcc60645-8611-46fd-aac2-5640bc227477",
        "_uuid": "0aaa6d1f57d6be04042cf7dd0c1af726aea83fdf",
        "trusted": true
      },
      "cell_type": "code",
      "source": "y = train['SALES_PRICE']\nx = train.drop('SALES_PRICE', axis=1)\n",
      "execution_count": 42,
      "outputs": []
    },
    {
      "metadata": {
        "_cell_guid": "dd7a55c2-7368-416c-9574-d8d2cb93e888",
        "_uuid": "7611a460a184b4620b669c940e5e70076a0f153a",
        "trusted": true
      },
      "cell_type": "code",
      "source": "y.head()",
      "execution_count": 43,
      "outputs": [
        {
          "output_type": "execute_result",
          "execution_count": 43,
          "data": {
            "text/plain": "0     7600000\n1    21717770\n2    13159200\n3     9630290\n4     7406250\nName: SALES_PRICE, dtype: int64"
          },
          "metadata": {}
        }
      ]
    },
    {
      "metadata": {
        "_cell_guid": "cbbf3963-9077-4236-a213-34863f0dcbd2",
        "_uuid": "a0d9860fbe7e27d9ae076c61dda64420f4993031",
        "trusted": true
      },
      "cell_type": "code",
      "source": "x.head()",
      "execution_count": 44,
      "outputs": [
        {
          "output_type": "execute_result",
          "execution_count": 44,
          "data": {
            "text/plain": "   AREA  INT_SQFT  DIST_MAINROAD    ...     QS_OVERALL   REG_FEE    COMMIS\n0     4 -0.826608       0.546992    ...       1.420584  0.021401  0.043095\n1     1  1.320409      -1.282306    ...       0.476758  2.678471  2.070061\n2     0 -1.034314      -0.515743    ...      -0.650822  0.308650 -0.620748\n3     6  1.033994      -1.491369    ...       0.886028 -0.144116 -0.812108\n4     4 -0.341234      -0.271837    ...      -0.316724 -0.978175 -0.849931\n\n[5 rows x 18 columns]",
            "text/html": "<div>\n<style scoped>\n    .dataframe tbody tr th:only-of-type {\n        vertical-align: middle;\n    }\n\n    .dataframe tbody tr th {\n        vertical-align: top;\n    }\n\n    .dataframe thead th {\n        text-align: right;\n    }\n</style>\n<table border=\"1\" class=\"dataframe\">\n  <thead>\n    <tr style=\"text-align: right;\">\n      <th></th>\n      <th>AREA</th>\n      <th>INT_SQFT</th>\n      <th>DIST_MAINROAD</th>\n      <th>N_BEDROOM</th>\n      <th>N_BATHROOM</th>\n      <th>N_ROOM</th>\n      <th>SALE_COND</th>\n      <th>PARK_FACIL</th>\n      <th>BUILDTYPE</th>\n      <th>UTILITY_AVAIL</th>\n      <th>STREET</th>\n      <th>MZZONE</th>\n      <th>QS_ROOMS</th>\n      <th>QS_BATHROOM</th>\n      <th>QS_BEDROOM</th>\n      <th>QS_OVERALL</th>\n      <th>REG_FEE</th>\n      <th>COMMIS</th>\n    </tr>\n  </thead>\n  <tbody>\n    <tr>\n      <th>0</th>\n      <td>4</td>\n      <td>-0.826608</td>\n      <td>0.546992</td>\n      <td>1.0</td>\n      <td>1.0</td>\n      <td>3</td>\n      <td>0</td>\n      <td>1</td>\n      <td>0</td>\n      <td>0</td>\n      <td>2</td>\n      <td>0</td>\n      <td>0.541007</td>\n      <td>0.437479</td>\n      <td>1.594560</td>\n      <td>1.420584</td>\n      <td>0.021401</td>\n      <td>0.043095</td>\n    </tr>\n    <tr>\n      <th>1</th>\n      <td>1</td>\n      <td>1.320409</td>\n      <td>-1.282306</td>\n      <td>2.0</td>\n      <td>1.0</td>\n      <td>5</td>\n      <td>0</td>\n      <td>0</td>\n      <td>0</td>\n      <td>0</td>\n      <td>0</td>\n      <td>3</td>\n      <td>1.550078</td>\n      <td>0.771640</td>\n      <td>-1.110568</td>\n      <td>0.476758</td>\n      <td>2.678471</td>\n      <td>2.070061</td>\n    </tr>\n    <tr>\n      <th>2</th>\n      <td>0</td>\n      <td>-1.034314</td>\n      <td>-0.515743</td>\n      <td>1.0</td>\n      <td>1.0</td>\n      <td>3</td>\n      <td>0</td>\n      <td>1</td>\n      <td>0</td>\n      <td>1</td>\n      <td>0</td>\n      <td>4</td>\n      <td>0.653126</td>\n      <td>0.326092</td>\n      <td>-1.448709</td>\n      <td>-0.650822</td>\n      <td>0.308650</td>\n      <td>-0.620748</td>\n    </tr>\n    <tr>\n      <th>3</th>\n      <td>6</td>\n      <td>1.033994</td>\n      <td>-1.491369</td>\n      <td>3.0</td>\n      <td>2.0</td>\n      <td>5</td>\n      <td>2</td>\n      <td>0</td>\n      <td>2</td>\n      <td>3</td>\n      <td>2</td>\n      <td>2</td>\n      <td>1.325840</td>\n      <td>0.437479</td>\n      <td>0.129282</td>\n      <td>0.886028</td>\n      <td>-0.144116</td>\n      <td>-0.812108</td>\n    </tr>\n    <tr>\n      <th>4</th>\n      <td>4</td>\n      <td>-0.341234</td>\n      <td>-0.271837</td>\n      <td>1.0</td>\n      <td>1.0</td>\n      <td>3</td>\n      <td>0</td>\n      <td>1</td>\n      <td>2</td>\n      <td>0</td>\n      <td>0</td>\n      <td>1</td>\n      <td>-0.580183</td>\n      <td>-1.121940</td>\n      <td>0.692850</td>\n      <td>-0.316724</td>\n      <td>-0.978175</td>\n      <td>-0.849931</td>\n    </tr>\n  </tbody>\n</table>\n</div>"
          },
          "metadata": {}
        }
      ]
    },
    {
      "metadata": {
        "_cell_guid": "eadf0a0d-45ea-4751-af05-c73dfda10d4f",
        "_uuid": "8b4184271a6636ba0128d36685d749c0d67af2f6",
        "trusted": true,
        "collapsed": true
      },
      "cell_type": "code",
      "source": "X_train, X_test, y_train, y_test = train_test_split(x, y ,test_size=0.3)",
      "execution_count": 45,
      "outputs": []
    },
    {
      "metadata": {
        "_cell_guid": "d872f038-55fa-4e71-bedd-4f8060840af9",
        "_uuid": "ab5401be20ea0bb75fa9a059e6f6ff0870d3d57e",
        "trusted": true
      },
      "cell_type": "code",
      "source": "\nX_train.shape",
      "execution_count": 46,
      "outputs": [
        {
          "output_type": "execute_result",
          "execution_count": 46,
          "data": {
            "text/plain": "(4976, 18)"
          },
          "metadata": {}
        }
      ]
    },
    {
      "metadata": {
        "_cell_guid": "42b2fcd2-93d7-4dc4-8030-042ee81d1767",
        "_uuid": "1c6aed90730aeb1b1da1611b004a1b28d7eec376",
        "trusted": true
      },
      "cell_type": "code",
      "source": "X_test.shape",
      "execution_count": 47,
      "outputs": [
        {
          "output_type": "execute_result",
          "execution_count": 47,
          "data": {
            "text/plain": "(2133, 18)"
          },
          "metadata": {}
        }
      ]
    },
    {
      "metadata": {
        "_cell_guid": "33c28423-7cca-4d36-8ab3-3de80693c24f",
        "_uuid": "e176d138f0cb0d8c0463a0d79183de0622b8ce2c",
        "trusted": true
      },
      "cell_type": "code",
      "source": "y_test.shape",
      "execution_count": 48,
      "outputs": [
        {
          "output_type": "execute_result",
          "execution_count": 48,
          "data": {
            "text/plain": "(2133,)"
          },
          "metadata": {}
        }
      ]
    },
    {
      "metadata": {
        "collapsed": true,
        "_cell_guid": "f2a066fb-2dba-4800-af0b-984722a5ad79",
        "_uuid": "a83285a50bbae7f269d200b329d15e8e0e641591",
        "trusted": true
      },
      "cell_type": "code",
      "source": "logreg=LinearRegression()",
      "execution_count": 49,
      "outputs": []
    },
    {
      "metadata": {
        "_cell_guid": "6983f68f-0892-4aaa-bdc7-d77d1794e691",
        "_uuid": "31207f481ec0cf38efdfc84f30423e78061f69f2",
        "trusted": true
      },
      "cell_type": "code",
      "source": "#training\nlogreg.fit(X_train,y_train)",
      "execution_count": 50,
      "outputs": [
        {
          "output_type": "execute_result",
          "execution_count": 50,
          "data": {
            "text/plain": "LinearRegression(copy_X=True, fit_intercept=True, n_jobs=1, normalize=False)"
          },
          "metadata": {}
        }
      ]
    },
    {
      "metadata": {
        "_cell_guid": "b0ee0c52-1223-401b-9829-ee7863a8c365",
        "_uuid": "554ea53a2f75af0f9daebf5351e6de4139077575",
        "trusted": true
      },
      "cell_type": "code",
      "source": "LinearRegression().fit(X_train,y_train)",
      "execution_count": 51,
      "outputs": [
        {
          "output_type": "execute_result",
          "execution_count": 51,
          "data": {
            "text/plain": "LinearRegression(copy_X=True, fit_intercept=True, n_jobs=1, normalize=False)"
          },
          "metadata": {}
        }
      ]
    },
    {
      "metadata": {
        "_cell_guid": "1c092702-7ccf-4979-bec6-91ae9e4b48e5",
        "_uuid": "fb85b6eed12f3d9f48877165ef163147cf55844d",
        "trusted": true,
        "collapsed": true
      },
      "cell_type": "code",
      "source": "y_pred=logreg.predict(X_test)",
      "execution_count": 52,
      "outputs": []
    },
    {
      "metadata": {
        "_cell_guid": "b699d595-2f7a-4dc6-962c-dff8beea63cd",
        "_uuid": "b14e54b9a9a4c6095af4b08f64f46c70891d0d94",
        "trusted": true
      },
      "cell_type": "code",
      "source": "y_test",
      "execution_count": 53,
      "outputs": [
        {
          "output_type": "execute_result",
          "execution_count": 53,
          "data": {
            "text/plain": "796     10646530\n6763     7176980\n4110    11073340\n3078    13131500\n3126     7216250\n3567    11399205\n1626    12370100\n335      7390000\n3080     9626920\n5339    10353315\n4514    15032380\n216      7427820\n5308    12142520\n4152    11513500\n1397     9089160\n1343    16595470\n3744     9155320\n179      4928250\n1636     9426345\n1542    13840180\n4547    21330680\n3659    12196780\n1760     8700500\n3462    10031100\n5408    11174665\n2419     8446600\n2433     4155500\n1551     8147530\n6719    19147860\n4369    10252060\n          ...   \n1088    12605360\n4132     7839500\n2404    11141710\n4925     9550950\n4663    11514600\n5519    14704500\n5100    11408210\n1448     9343170\n5941     5623500\n4763     7058310\n713      9329030\n3093    13179060\n5855    12787100\n4612     8416200\n1163    11084700\n4589     9299500\n4791    14272420\n322      7451690\n1511    20234860\n4327    15399860\n585     22181670\n4460    10699500\n1736    14211850\n1611     8599095\n1805     6149410\n2708     8424480\n3668    10180900\n5607     9715800\n562      5256625\n4945    13397330\nName: SALES_PRICE, Length: 2133, dtype: int64"
          },
          "metadata": {}
        }
      ]
    },
    {
      "metadata": {
        "_cell_guid": "17cac23f-8a39-4567-96cd-e5e0a648830d",
        "_uuid": "f7e81a8353f4d848e514fdbe72733f5a9e542203",
        "trusted": true
      },
      "cell_type": "code",
      "source": "y_pred[0:6]",
      "execution_count": 54,
      "outputs": [
        {
          "output_type": "execute_result",
          "execution_count": 54,
          "data": {
            "text/plain": "array([10083229.9002929 ,  5782397.94600218, 10086750.55052391,\n       12896829.75731947,  7776688.61017915, 10547549.9944239 ])"
          },
          "metadata": {}
        }
      ]
    },
    {
      "metadata": {
        "_cell_guid": "51fbb1f1-930a-49b0-a187-d106112ff8cf",
        "_uuid": "fcbc74c198d49c16e15f74acc58e91b06e4d6f42",
        "trusted": true
      },
      "cell_type": "code",
      "source": "print(metrics.mean_squared_error(y_test, y_pred))",
      "execution_count": 55,
      "outputs": [
        {
          "output_type": "stream",
          "text": "1680999458531.9421\n",
          "name": "stdout"
        }
      ]
    },
    {
      "metadata": {
        "collapsed": true,
        "_cell_guid": "05f59391-eff8-47d3-9535-7b6101919c6f",
        "_uuid": "07d3eb456a26039b9f18be4bda23c443f42d14d6",
        "trusted": true
      },
      "cell_type": "code",
      "source": "xgb = xgboost.XGBRegressor(n_estimators=25000, learning_rate=0.06, gamma=0, subsample=0.6,\n                           colsample_bytree=0.7, min_child_weight=4, max_depth=3)",
      "execution_count": 56,
      "outputs": []
    },
    {
      "metadata": {
        "_cell_guid": "78b4ee33-5a79-467f-a4ad-0b1531d3c64f",
        "_uuid": "35bffeaaab44c440a0614948fe8f62295fb295df",
        "trusted": true,
        "collapsed": true
      },
      "cell_type": "code",
      "source": "xgb.fit(X_train,y_train)",
      "execution_count": null,
      "outputs": []
    },
    {
      "metadata": {
        "collapsed": true,
        "_cell_guid": "ef5da1ae-445b-4a73-b392-c4551f497259",
        "_uuid": "6b556c1d591c371828866af5f300388697534369",
        "trusted": true
      },
      "cell_type": "code",
      "source": "predictions = xgb.predict(X_test)\n",
      "execution_count": null,
      "outputs": []
    },
    {
      "metadata": {
        "collapsed": true,
        "_cell_guid": "1e8a867d-702e-4e33-9c90-2c9bcb429570",
        "_uuid": "eba6d6ef895b6241f45c66ed922f769559294357",
        "trusted": true
      },
      "cell_type": "code",
      "source": "print(sqrt(metrics.mean_squared_error(y_test, predictions)))",
      "execution_count": null,
      "outputs": []
    },
    {
      "metadata": {
        "collapsed": true,
        "_cell_guid": "4ef342d1-937d-48dd-b705-420008d2d7ba",
        "_uuid": "9dd0e53d72bdbaf2a1ab4a6e097eea889325fd5d",
        "trusted": true
      },
      "cell_type": "code",
      "source": "",
      "execution_count": null,
      "outputs": []
    },
    {
      "metadata": {
        "trusted": true,
        "collapsed": true,
        "_uuid": "4489ab5b00986c039c3d0d5634a1aa006d73dc83"
      },
      "cell_type": "code",
      "source": "",
      "execution_count": null,
      "outputs": []
    },
    {
      "metadata": {
        "trusted": true,
        "collapsed": true,
        "_uuid": "8af1c702f8a33b2dbc018d8fbb8f9db83ea6d140"
      },
      "cell_type": "code",
      "source": "",
      "execution_count": null,
      "outputs": []
    }
  ],
  "metadata": {
    "kernelspec": {
      "display_name": "Python 3",
      "language": "python",
      "name": "python3"
    },
    "language_info": {
      "name": "python",
      "version": "3.6.6",
      "mimetype": "text/x-python",
      "codemirror_mode": {
        "name": "ipython",
        "version": 3
      },
      "pygments_lexer": "ipython3",
      "nbconvert_exporter": "python",
      "file_extension": ".py"
    }
  },
  "nbformat": 4,
  "nbformat_minor": 1
}
{
  "cells": [
    {
      "metadata": {
        "_cell_guid": "79c7e3d0-c299-4dcb-8224-4455121ee9b0",
        "collapsed": true,
        "_uuid": "d629ff2d2480ee46fbb7e2d37f6b5fab8052498a",
        "trusted": false
      },
      "cell_type": "markdown",
      "source": "**PANDAS**\n\n* Pandas is an open source library built on top of Numpy.\n* It allows for fast analysis and data cleaning and preparation.\n* It excels in performance and productivity.\n* It also have build-in visualization features.\n* It can work with data from a wide variety of sources.\n\n\nYou can use for Anaconda case -  conda install pandas\n\nOtherwise on cmd prompt - pip install pandas"
    },
    {
      "metadata": {
        "_uuid": "6df9c3fc91498b555556ba97bc020e24818d4206"
      },
      "cell_type": "markdown",
      "source": "**Topic **\n1. Series\n2. Data Frames\n3. Missing Data\n4. Group by\n5. Merging, Joining and Concatenation\n6. Operations\n7. Data Input and Output"
    },
    {
      "metadata": {
        "trusted": true,
        "collapsed": true,
        "_uuid": "aaef0c72bd4c5579cbb1d865c4c38b841cc8b4d5"
      },
      "cell_type": "markdown",
      "source": "**1. Series**\n\n\nA Series is very similar to a NumPy array (in fact it is built on top of the NumPy array object).\nWhat differentiates the NumPy array from a Series, is that a Series can \nhave axis labels, meaning it can be indexed by a label, instead of just a number location. \nIt also doesn't need to hold numeric data, it can hold any arbitrary Python Object.\n"
    },
    {
      "metadata": {
        "trusted": true,
        "collapsed": true,
        "_uuid": "8b781ab3fbf950642bba04302aeb6013b8b09b6c"
      },
      "cell_type": "code",
      "source": "# Importing libraries\nimport numpy as np\nimport pandas as pd",
      "execution_count": null,
      "outputs": []
    },
    {
      "metadata": {
        "trusted": true,
        "_uuid": "86e3f36e76d2a34020205cfa794d560ff95645bb",
        "collapsed": true
      },
      "cell_type": "code",
      "source": "labels=['a','b','c']   #list\nmy_data = [10,20,30]   #list\narr = np.array(my_data)  #use numpy\narr",
      "execution_count": null,
      "outputs": []
    },
    {
      "metadata": {
        "trusted": true,
        "_uuid": "4735023b3c73eca4f9ebadc3609586c5b35003b8",
        "collapsed": true
      },
      "cell_type": "code",
      "source": "d = {'a':10,'b':20,'c':30}  # dictionary (key -value pair relationship)\n# Using List\npd.Series(data = my_data)",
      "execution_count": null,
      "outputs": []
    },
    {
      "metadata": {
        "trusted": true,
        "_uuid": "3639553ac6dbf760950739616491afa0cf729c89",
        "collapsed": true
      },
      "cell_type": "code",
      "source": "pd.Series(data =my_data,index =labels)   #Note data comes after index",
      "execution_count": null,
      "outputs": []
    },
    {
      "metadata": {
        "trusted": true,
        "_uuid": "7bd7d800d6b363eaa0ba6fa792d0c187b5351f5d",
        "collapsed": true
      },
      "cell_type": "code",
      "source": "#You can simply this as \npd.Series(my_data,labels)",
      "execution_count": null,
      "outputs": []
    },
    {
      "metadata": {
        "trusted": true,
        "_uuid": "061cf3716ad6fd6a396a5e26ddd16889bb74a1b1",
        "collapsed": true
      },
      "cell_type": "code",
      "source": "# Numpy Arrays\npd.Series(arr) ",
      "execution_count": null,
      "outputs": []
    },
    {
      "metadata": {
        "trusted": true,
        "_uuid": "7e1e452229b00f8d31514421f74c26ce362cc146",
        "collapsed": true
      },
      "cell_type": "code",
      "source": "pd.Series(arr,labels)",
      "execution_count": null,
      "outputs": []
    },
    {
      "metadata": {
        "trusted": true,
        "_uuid": "6c880bd5e6eabc98e779885c95f50f9b61667217",
        "collapsed": true
      },
      "cell_type": "code",
      "source": "pd.Series(d)",
      "execution_count": null,
      "outputs": []
    },
    {
      "metadata": {
        "trusted": true,
        "collapsed": true,
        "_uuid": "8ad69cb84e2d4f68ee058f8aa7597db5a3cb0d9b"
      },
      "cell_type": "markdown",
      "source": "**Data in Series**\n\nA pandas Series can hold a variety of object types:"
    },
    {
      "metadata": {
        "trusted": true,
        "_uuid": "1b940084a887a623b5c23501a04a919e4cdb018f",
        "collapsed": true
      },
      "cell_type": "code",
      "source": "pd.Series(data=labels)",
      "execution_count": null,
      "outputs": []
    },
    {
      "metadata": {
        "trusted": true,
        "_uuid": "9c7a19597d620f846e534a45838d325facae96f6",
        "collapsed": true
      },
      "cell_type": "code",
      "source": "# Even functions (although unlikely that you will use this)\npd.Series([sum,print,len])",
      "execution_count": null,
      "outputs": []
    },
    {
      "metadata": {
        "_uuid": "59e9d15b02bfae612bcf4296602ad54644ace9e6"
      },
      "cell_type": "markdown",
      "source": "**Using an Index\n**\n\nThe key to using a Series is understanding its index. Pandas makes use of these index names or numbers by allowing for fast look ups of information (works like a hash table or dictionary).\n\nLet's see some examples of how to grab information from a Series. Let us create two sereis, ser1 and ser2:\n"
    },
    {
      "metadata": {
        "trusted": true,
        "_uuid": "3b98a5ace4603dd5c9a17d99c63e5495aebe674f",
        "collapsed": true
      },
      "cell_type": "code",
      "source": "ser1 = pd.Series([1,2,3,4],['USA','Germany','USSR','Japan'])\nser1",
      "execution_count": null,
      "outputs": []
    },
    {
      "metadata": {
        "trusted": true,
        "_uuid": "cc4ab3af148d974b0784a9f7e37578d95b75bc37",
        "collapsed": true
      },
      "cell_type": "code",
      "source": "ser1['USA']",
      "execution_count": null,
      "outputs": []
    },
    {
      "metadata": {
        "trusted": true,
        "_uuid": "dfb0524bd39bb7b4c18f0114032a63781c5a4db2",
        "collapsed": true
      },
      "cell_type": "code",
      "source": "ser2 = pd.Series([1,2,5,4],['USA','Germany','Italy','Japan'])\nser2",
      "execution_count": null,
      "outputs": []
    },
    {
      "metadata": {
        "trusted": true,
        "_uuid": "4004ed0542b0b5699cb04ade4fcf1bac387dad2d",
        "collapsed": true
      },
      "cell_type": "code",
      "source": "ser2['USA']",
      "execution_count": null,
      "outputs": []
    },
    {
      "metadata": {
        "trusted": true,
        "_uuid": "e53aa062d1a572da404c9b4abe0a0783724e5c5f",
        "collapsed": true
      },
      "cell_type": "code",
      "source": "# Operations are then also done based off of index:\nser1 + ser2\n# Note :  When you add two series, your Integers are converted as float. (Also see some rows got NAN values) \n# Tell what's the reason behind it in the comment below.",
      "execution_count": null,
      "outputs": []
    },
    {
      "metadata": {
        "_uuid": "4ce83dab79d2c76010fbe6fcb4b499f26eb4b024"
      },
      "cell_type": "markdown",
      "source": "**Data Frames**\n\nDataFrames are the workhorse of pandas and are directly inspired by the R programming language. We can think of a DataFrame as a bunch of Series objects put together to share the same index. Let's use pandas to explore this topic!"
    },
    {
      "metadata": {
        "trusted": true,
        "collapsed": true,
        "_uuid": "7e01d3cc022ba3408b7c3c98a21b3d38fc2afbde"
      },
      "cell_type": "code",
      "source": "#however we have already install above (to remind you I typed again)\nimport numpy as np\nimport pandas as pd",
      "execution_count": null,
      "outputs": []
    },
    {
      "metadata": {
        "trusted": true,
        "collapsed": true,
        "_uuid": "0b826135cc2493e3ac9cda001accd5bbcde70308"
      },
      "cell_type": "code",
      "source": "from numpy.random import randn\nnp.random.seed(101)",
      "execution_count": null,
      "outputs": []
    },
    {
      "metadata": {
        "_uuid": "c79b267ee7c0c3798cc4fadd846d2b8b4dd863ec"
      },
      "cell_type": "markdown",
      "source": "Docstring:\nseed(seed=None)\n\nSeed the generator.\n\nThis method is called when `RandomState` is initialized. It can be\ncalled again to re-seed the generator. For details, see `RandomState`.\n\nParameters\n----------\nseed : int or 1-d array_like, optional\n    Seed for `RandomState`.\n    Must be convertible to 32 bit unsigned integers.\n\nSee Also\n--------\nRandomState\nType:      builtin_function_or_method"
    },
    {
      "metadata": {
        "trusted": true,
        "_uuid": "ae648fb9cbc5769ca7c9302e74e318b11d9b8212",
        "collapsed": true
      },
      "cell_type": "code",
      "source": "df = pd.DataFrame(randn(5,4),['A','B','C','D','E'],['W','X','Y','Z'])\ndf",
      "execution_count": null,
      "outputs": []
    },
    {
      "metadata": {
        "_uuid": "f51f6a593d4ab1a6ecddb1603bff852c1c1902b3"
      },
      "cell_type": "markdown",
      "source": "## Selection and Indexing\n\nLet's learn the various methods to grab data from a DataFrame"
    },
    {
      "metadata": {
        "trusted": true,
        "_uuid": "474b05dad6783f44366e4b92fba81ba8052d43aa",
        "collapsed": true
      },
      "cell_type": "code",
      "source": "df['W']",
      "execution_count": null,
      "outputs": []
    },
    {
      "metadata": {
        "trusted": true,
        "_uuid": "7c7da80d7aed75129cc7ee8246f46c9891c84124",
        "collapsed": true
      },
      "cell_type": "code",
      "source": "type(df['W'])   # Return type",
      "execution_count": null,
      "outputs": []
    },
    {
      "metadata": {
        "trusted": true,
        "_uuid": "18ed5689db5fb636d8e8f6637a6bebbfe88b8b02",
        "collapsed": true
      },
      "cell_type": "code",
      "source": "# Pass a list of column names\ndf[['W','Z']]",
      "execution_count": null,
      "outputs": []
    },
    {
      "metadata": {
        "trusted": true,
        "_uuid": "6d903288655735f9cf77b02e36ab4a21e890b5fb",
        "collapsed": true
      },
      "cell_type": "code",
      "source": "# SQL Syntax (NOT RECOMMENDED!)\ndf.W",
      "execution_count": null,
      "outputs": []
    },
    {
      "metadata": {
        "_uuid": "b8e0470d12a6428227e1926f8d1cce09270d0f98"
      },
      "cell_type": "markdown",
      "source": "**Creating a new column:**"
    },
    {
      "metadata": {
        "trusted": true,
        "collapsed": true,
        "_uuid": "44b918574cc6390c75b2c5de69ba6a09911f6ece"
      },
      "cell_type": "code",
      "source": "df['new'] = df['W'] + df['Y']",
      "execution_count": null,
      "outputs": []
    },
    {
      "metadata": {
        "trusted": true,
        "_uuid": "bca66dbe38b4b4aedae5f975d4b6864474511f45",
        "collapsed": true
      },
      "cell_type": "code",
      "source": "df",
      "execution_count": null,
      "outputs": []
    },
    {
      "metadata": {
        "_uuid": "8146910f6ac9efa72195177237f5caabeea8f24d"
      },
      "cell_type": "markdown",
      "source": "** Removing Columns**"
    },
    {
      "metadata": {
        "trusted": true,
        "_uuid": "eab1887f5dc372ab578cbd590cadb8236dbea0ab",
        "collapsed": true
      },
      "cell_type": "code",
      "source": "df.drop('new',axis=1)   # Note if you don't specify the axis =1 it will assume to be zero\n# axis =1 means for columns\n# axis =0 means for rows/index",
      "execution_count": null,
      "outputs": []
    },
    {
      "metadata": {
        "trusted": true,
        "_uuid": "b4e127db9c7d189cb1782407c5a5e00792790aad",
        "collapsed": true
      },
      "cell_type": "code",
      "source": "df\n#see new is not deleted or drop permanently\n# so we have to use inplace = True",
      "execution_count": null,
      "outputs": []
    },
    {
      "metadata": {
        "trusted": true,
        "_uuid": "a321d98e273083a80d8d6e9701fa0c468852841e",
        "collapsed": true
      },
      "cell_type": "code",
      "source": "df.drop('new',axis=1,inplace=True)\ndf",
      "execution_count": null,
      "outputs": []
    },
    {
      "metadata": {
        "_uuid": "b9fd34deed4f9e0b4f2fc610cffd780b367522f4"
      },
      "cell_type": "markdown",
      "source": "**We can also drop Rows in same way**"
    },
    {
      "metadata": {
        "trusted": true,
        "_uuid": "5d63ace961dd7162accbf76b1f00802a30b6f6c5",
        "collapsed": true
      },
      "cell_type": "code",
      "source": "df.drop('E',axis=0)",
      "execution_count": null,
      "outputs": []
    },
    {
      "metadata": {
        "_uuid": "6daa4c9cd73625303ba972f1ab90a74ebfd831d9"
      },
      "cell_type": "markdown",
      "source": "**Selecting Rows**"
    },
    {
      "metadata": {
        "trusted": true,
        "_uuid": "7b64e9964addc6871d638d76849edced6607f8f8",
        "collapsed": true
      },
      "cell_type": "code",
      "source": "df.loc['A']",
      "execution_count": null,
      "outputs": []
    },
    {
      "metadata": {
        "trusted": true,
        "_uuid": "a18eff243bb631d6c7d46c575208357b8fced715",
        "collapsed": true
      },
      "cell_type": "code",
      "source": "# Or select based off of position instead of label \ndf.iloc[2]    # So we will get all values of C row",
      "execution_count": null,
      "outputs": []
    },
    {
      "metadata": {
        "_uuid": "898d2d26aaa458644c360013975fbd527110000b"
      },
      "cell_type": "markdown",
      "source": "** Selecting subset of rows and columns **"
    },
    {
      "metadata": {
        "trusted": true,
        "_uuid": "656172600e2c11cdf831dc74f26743bd0aa3e036",
        "collapsed": true
      },
      "cell_type": "code",
      "source": "df.loc['B','Y']",
      "execution_count": null,
      "outputs": []
    },
    {
      "metadata": {
        "trusted": true,
        "_uuid": "3537f0b29c39a871889ec7039af2816746edca3b",
        "collapsed": true
      },
      "cell_type": "code",
      "source": "df.loc[['A','B'],['W','Y']]",
      "execution_count": null,
      "outputs": []
    },
    {
      "metadata": {
        "_uuid": "4c6c89f6abfef78185939c497a3c59a179c1dd0b"
      },
      "cell_type": "markdown",
      "source": "### Conditional Selection\n\nAn important feature of pandas is conditional selection using bracket notation, very similar to numpy:"
    },
    {
      "metadata": {
        "trusted": true,
        "_uuid": "f01b4f6d4c6f95ab5e18993c7f09be580c37b05b",
        "collapsed": true
      },
      "cell_type": "code",
      "source": "df",
      "execution_count": null,
      "outputs": []
    },
    {
      "metadata": {
        "trusted": true,
        "_uuid": "698440d9379bd8fb53fc5c8ace8a0e138ae9013c",
        "collapsed": true
      },
      "cell_type": "code",
      "source": "df>0    # output true(means positive) or false(means negative)",
      "execution_count": null,
      "outputs": []
    },
    {
      "metadata": {
        "trusted": true,
        "_uuid": "80c685777b07aadbf69433445c57e54c63a36831",
        "collapsed": true
      },
      "cell_type": "code",
      "source": "df[df>0]\n# In this case all the false value is replace by NaN and True value replace by original value.",
      "execution_count": null,
      "outputs": []
    },
    {
      "metadata": {
        "trusted": true,
        "_uuid": "77d7498759f6a6a266c5a910af3d8d167202b87b",
        "collapsed": true
      },
      "cell_type": "code",
      "source": "df['W']>0",
      "execution_count": null,
      "outputs": []
    },
    {
      "metadata": {
        "trusted": true,
        "_uuid": "f4367517737c03b8599e468d94e5aecf7eb78cb0",
        "collapsed": true
      },
      "cell_type": "code",
      "source": "df[df['W']>0]    # element C row did you notice!!!!",
      "execution_count": null,
      "outputs": []
    },
    {
      "metadata": {
        "trusted": true,
        "_uuid": "3a7c26f818be2c6452098859b35cd7f45bc4d760",
        "collapsed": true
      },
      "cell_type": "code",
      "source": "df[df['W']>0]['Y']\n# B and D elemented because of negative value in Y column",
      "execution_count": null,
      "outputs": []
    },
    {
      "metadata": {
        "trusted": true,
        "_uuid": "f518abc74133808596e1d427bb417453bfa105e3",
        "collapsed": true
      },
      "cell_type": "code",
      "source": "df[df['W']>0][['Y','X']]",
      "execution_count": null,
      "outputs": []
    },
    {
      "metadata": {
        "_uuid": "3f1eb69d78b04f09fcdb48d5a47317da53a43fd2"
      },
      "cell_type": "markdown",
      "source": "For two conditions you can use | and & with parenthesis:"
    },
    {
      "metadata": {
        "trusted": true,
        "_uuid": "bb2fcf5e7a6c162eeeb96f29a4305832685d2951",
        "collapsed": true
      },
      "cell_type": "code",
      "source": "df[(df['W']>0) & (df['Y'] > 1)]",
      "execution_count": null,
      "outputs": []
    },
    {
      "metadata": {
        "_uuid": "ad27ad47a9339452aca906ef89876614e6ee9c4c"
      },
      "cell_type": "markdown",
      "source": "## More Index Details\n\nLet's discuss some more features of indexing, including resetting the index or setting it something else. We'll also talk about index hierarchy!"
    },
    {
      "metadata": {
        "trusted": true,
        "_uuid": "5c79d5084e5abbc07740b6a1b76ea2857dd222fc",
        "collapsed": true
      },
      "cell_type": "code",
      "source": "df",
      "execution_count": null,
      "outputs": []
    },
    {
      "metadata": {
        "trusted": true,
        "_uuid": "a6a8c4c85b70bbd2b550ff4867e84a82f25ee327",
        "collapsed": true
      },
      "cell_type": "code",
      "source": "# Reset to default 0,1...n index\ndf.reset_index()",
      "execution_count": null,
      "outputs": []
    },
    {
      "metadata": {
        "trusted": true,
        "_uuid": "78302462a7c093a1cf47207582407834d5d91523",
        "collapsed": true
      },
      "cell_type": "code",
      "source": "newind = 'CA NY WY OR CO'.split()\nnewind",
      "execution_count": null,
      "outputs": []
    },
    {
      "metadata": {
        "trusted": true,
        "_uuid": "9f33bebfc326e3a1f49f63d2ba8c489cca47cb7f",
        "collapsed": true
      },
      "cell_type": "code",
      "source": "df['States'] = newind\ndf",
      "execution_count": null,
      "outputs": []
    },
    {
      "metadata": {
        "trusted": true,
        "_uuid": "3ed7fb4d1ef51d5d58abccec9069ba7b07b80406",
        "collapsed": true
      },
      "cell_type": "code",
      "source": "df.set_index('States')",
      "execution_count": null,
      "outputs": []
    },
    {
      "metadata": {
        "trusted": true,
        "_uuid": "1d27c8e7a114cb042a2debbf4d793c9da4304172",
        "collapsed": true
      },
      "cell_type": "code",
      "source": "df",
      "execution_count": null,
      "outputs": []
    },
    {
      "metadata": {
        "trusted": true,
        "_uuid": "fadcf6d9ccb862d9e276e66e49212be79af15470",
        "collapsed": true
      },
      "cell_type": "code",
      "source": "df.set_index('States',inplace=True)\ndf",
      "execution_count": null,
      "outputs": []
    },
    {
      "metadata": {
        "_uuid": "a263eded93ee540a856a5dd1801c2466f0263392"
      },
      "cell_type": "markdown",
      "source": "## Multi-Index and Index Hierarchy\n\nLet us go over how to work with Multi-Index, first we'll create a quick example of what a Multi-Indexed DataFrame would look like:"
    },
    {
      "metadata": {
        "trusted": true,
        "collapsed": true,
        "_uuid": "5e36699761c442a4b4362502197789619c9dac2e"
      },
      "cell_type": "code",
      "source": "# Index Levels\noutside = ['G1','G1','G1','G2','G2','G2']\ninside = [1,2,3,1,2,3]\nhier_index = list(zip(outside,inside))\nhier_index = pd.MultiIndex.from_tuples(hier_index)",
      "execution_count": null,
      "outputs": []
    },
    {
      "metadata": {
        "trusted": true,
        "_uuid": "84114ea5ae3940776644fab1786a01a1d8e0e079",
        "collapsed": true
      },
      "cell_type": "code",
      "source": "hier_index",
      "execution_count": null,
      "outputs": []
    },
    {
      "metadata": {
        "trusted": true,
        "_uuid": "1cf90a74cf396d0701e9e5a89958792117530314",
        "collapsed": true
      },
      "cell_type": "code",
      "source": "df = pd.DataFrame(np.random.randn(6,2),index=hier_index,columns=['A','B'])\ndf",
      "execution_count": null,
      "outputs": []
    },
    {
      "metadata": {
        "_uuid": "dc18470f5ffe529cf55d56d1509a572fd6b66a87"
      },
      "cell_type": "markdown",
      "source": "Now let's show how to index this! For index hierarchy we use df.loc[], if this was on the columns axis, you would just use normal bracket notation df[]. Calling one level of the index returns the sub-dataframe:"
    },
    {
      "metadata": {
        "trusted": true,
        "_uuid": "6d77c0b5f641ddeb72d1c4f40950d4e8f7aef71d",
        "collapsed": true
      },
      "cell_type": "code",
      "source": "df.loc['G1']",
      "execution_count": null,
      "outputs": []
    },
    {
      "metadata": {
        "trusted": true,
        "_uuid": "5ad9b9faa2c25dee8ff91acc4280b89b1e126df1",
        "collapsed": true
      },
      "cell_type": "code",
      "source": "df.loc['G1'].loc[1]",
      "execution_count": null,
      "outputs": []
    },
    {
      "metadata": {
        "trusted": true,
        "_uuid": "a8229226301f641560f64e6b3685b78b2c03442b",
        "collapsed": true
      },
      "cell_type": "code",
      "source": "df.index.names",
      "execution_count": null,
      "outputs": []
    },
    {
      "metadata": {
        "trusted": true,
        "_uuid": "6f4fea622757668823e21408802cb75b6c03e3df",
        "collapsed": true
      },
      "cell_type": "code",
      "source": "df.index.names = ['Group','Num']\ndf",
      "execution_count": null,
      "outputs": []
    },
    {
      "metadata": {
        "trusted": true,
        "_uuid": "1e7cf875ce6837d56025add7b6cb1531d9b9cd20",
        "collapsed": true
      },
      "cell_type": "code",
      "source": "df.xs('G1')",
      "execution_count": null,
      "outputs": []
    },
    {
      "metadata": {
        "trusted": true,
        "_uuid": "562adbb24bc7a4e73f1dad3a31973779a25d7070",
        "collapsed": true
      },
      "cell_type": "code",
      "source": "df.xs(['G1',1])",
      "execution_count": null,
      "outputs": []
    },
    {
      "metadata": {
        "trusted": true,
        "_uuid": "574225813bf2c4f005fde21969326082df822780",
        "collapsed": true
      },
      "cell_type": "code",
      "source": "df.xs(1,level='Num')",
      "execution_count": null,
      "outputs": []
    },
    {
      "metadata": {
        "trusted": true,
        "collapsed": true,
        "_uuid": "ad71d2fe27957a894ba64a78299d5ade23164990"
      },
      "cell_type": "markdown",
      "source": "**Missing Data**\n\nLet's show a few convenient methods to deal with Missing Data in pandas"
    },
    {
      "metadata": {
        "trusted": true,
        "collapsed": true,
        "_uuid": "cc6b6cbf43d3761e4112e416fa0d9874914af8af"
      },
      "cell_type": "code",
      "source": "# Again I import for you (however it is not requried)\nimport numpy as np\nimport pandas as pd",
      "execution_count": null,
      "outputs": []
    },
    {
      "metadata": {
        "trusted": true,
        "_uuid": "aca935af1e96237c1275313a38ad1798ed4e4a07",
        "collapsed": true
      },
      "cell_type": "code",
      "source": "df = {'A':[1,2,np.nan],'B':[5,np.nan,np.nan],'C':[1,2,3]}  # // we make dictonary\ndf ",
      "execution_count": null,
      "outputs": []
    },
    {
      "metadata": {
        "trusted": true,
        "_uuid": "ec423e84d120dd09f9159ce3b540307e156baa33",
        "collapsed": true
      },
      "cell_type": "code",
      "source": "d = pd.DataFrame(df)     # now we make a data frame with using pandas\nd",
      "execution_count": null,
      "outputs": []
    },
    {
      "metadata": {
        "trusted": true,
        "_uuid": "13487393251debf2af68184d0bff2f79eec099ce",
        "collapsed": true
      },
      "cell_type": "code",
      "source": "d.dropna()   # it will drop all the NaN values from the table",
      "execution_count": null,
      "outputs": []
    },
    {
      "metadata": {
        "_uuid": "a9776e3a4384d9ebf380f68bd7c92bb6172511b3"
      },
      "cell_type": "markdown",
      "source": "**Drop Na parameters**\n\nSignature :\ndf.dropna(axis=0, how='any', thresh=None, subset=None, inplace=False)\n\nDocstring :\nReturn object with labels on given axis omitted where alternately any\nor all of the data are missing\n\nParameters\n----------\naxis : {0 or 'index', 1 or 'columns'}, or tuple/list thereof\n    Pass tuple or list to drop on multiple axes\nhow : {'any', 'all'}\n    * any : if any NA values are present, drop that label\n    * all : if all values are NA, drop that label\nthresh : int, default None\n    int value : require that many non-NA values\nsubset : array-like\n    Labels along other axis to consider, e.g. if you are dropping rows\n    these would be a list of columns to include\ninplace : boolean, default False\n    If True, do operation inplace and return None.\n\nReturns\n-------\ndropped : DataFrame\n"
    },
    {
      "metadata": {
        "trusted": true,
        "_uuid": "5d265f6903c178691105bffdef70efbd1166cf39",
        "collapsed": true
      },
      "cell_type": "code",
      "source": "d.dropna(axis=1)  # for column",
      "execution_count": null,
      "outputs": []
    },
    {
      "metadata": {
        "trusted": true,
        "_uuid": "54ee43e9fa25e4ec06d538dbd8095937743d2b16",
        "collapsed": true
      },
      "cell_type": "code",
      "source": "d.dropna(thresh=2) # thresh = 2 means keep only the rows with atleast 2 Non-Na values ",
      "execution_count": null,
      "outputs": []
    },
    {
      "metadata": {
        "trusted": true,
        "_uuid": "00aea9f80eae43e137a6f3f7a088142fb5d31f95",
        "collapsed": true
      },
      "cell_type": "code",
      "source": "d    # Note : I don't pass inplace = True that is why not rows or columns deleted permanently.",
      "execution_count": null,
      "outputs": []
    },
    {
      "metadata": {
        "trusted": true,
        "_uuid": "1ac191fff5a84d8f5d9bcb5598268ab3c8874554",
        "collapsed": true
      },
      "cell_type": "code",
      "source": "d.dropna(thresh = 3 )  # it means keep only those rows which having atleast 3 Non-Na values that is index 0",
      "execution_count": null,
      "outputs": []
    },
    {
      "metadata": {
        "trusted": true,
        "_uuid": "76bcf8e585fafa087bb15bbe165dbdfe54a02d34",
        "collapsed": true
      },
      "cell_type": "code",
      "source": "d.fillna(value='FILL VALUE')",
      "execution_count": null,
      "outputs": []
    },
    {
      "metadata": {
        "trusted": true,
        "_uuid": "ec4c1c59adfa1432a2ec20da67d0e4e9c8bd7972",
        "collapsed": true
      },
      "cell_type": "code",
      "source": "d['A'].fillna(value=d['A'].mean())  # here we replace NaN value with mean of the column",
      "execution_count": null,
      "outputs": []
    },
    {
      "metadata": {
        "_uuid": "de6d252f06f5a62a43c2c528346d4abd4e55b4a7"
      },
      "cell_type": "markdown",
      "source": "**Group By**\n\nThe groupby method allows you to group rows of data together and call aggregate functions"
    },
    {
      "metadata": {
        "trusted": true,
        "collapsed": true,
        "_uuid": "832e3e0963ba94a19e6dcca018ccee6edb5fff72"
      },
      "cell_type": "code",
      "source": "import pandas as pd\n# Create dataframe\ndata = {'Company':['GOOG','GOOG','MSFT','MSFT','FB','FB'],\n       'Person':['Sam','Charlie','Amy','Vanessa','Carl','Sarah'],\n       'Sales':[200,120,340,124,243,350]}",
      "execution_count": null,
      "outputs": []
    },
    {
      "metadata": {
        "trusted": true,
        "_uuid": "a13f50ec72922c87ad73154f460775a8c80de7c5",
        "collapsed": true
      },
      "cell_type": "code",
      "source": "df = pd.DataFrame(data)\ndf",
      "execution_count": null,
      "outputs": []
    },
    {
      "metadata": {
        "_uuid": "faf8f78d498672c51ccef42c555d4ce93fc97302"
      },
      "cell_type": "markdown",
      "source": "** Now you can use the .groupby() method to group rows together based off of a column name. For instance let's group based off of Company. This will create a DataFrameGroupBy object:**"
    },
    {
      "metadata": {
        "trusted": true,
        "_uuid": "948ddceac7c0d5f28a7a60c21f96b4f5388aeb55",
        "collapsed": true
      },
      "cell_type": "code",
      "source": "df.groupby('Company')",
      "execution_count": null,
      "outputs": []
    },
    {
      "metadata": {
        "trusted": true,
        "_uuid": "06d3aa384f3684a9107f5e1be41a269632be7429",
        "collapsed": true
      },
      "cell_type": "code",
      "source": "# You can save this object as a new variable:\nby_comp = df.groupby(\"Company\")\nby_comp",
      "execution_count": null,
      "outputs": []
    },
    {
      "metadata": {
        "trusted": true,
        "_uuid": "0f0eae04a6874e6ffedcddd304a446ed26a2065b",
        "collapsed": true
      },
      "cell_type": "code",
      "source": "# And then call aggregate methods off the object:\nby_comp.mean()",
      "execution_count": null,
      "outputs": []
    },
    {
      "metadata": {
        "trusted": true,
        "_uuid": "26a6b6dbf12e44c240cb7b5f11a6f2c871a9c6fd",
        "collapsed": true
      },
      "cell_type": "code",
      "source": "# or Simply write this\ndf.groupby('Company').mean()   # you can calculate other things like sum, standard deviation etc.",
      "execution_count": null,
      "outputs": []
    },
    {
      "metadata": {
        "trusted": true,
        "_uuid": "446fb0657505af7966bfea917c94810c66871d9c",
        "collapsed": true
      },
      "cell_type": "code",
      "source": "df.groupby('Company').std() # standard deviation",
      "execution_count": null,
      "outputs": []
    },
    {
      "metadata": {
        "trusted": true,
        "_uuid": "973c69b2830e632bd4ab7ba4edcec172b04d2e1a",
        "collapsed": true
      },
      "cell_type": "code",
      "source": "df.groupby('Company').sum()",
      "execution_count": null,
      "outputs": []
    },
    {
      "metadata": {
        "trusted": true,
        "_uuid": "b457dbad577754de365a080fe43637737de25ede",
        "collapsed": true
      },
      "cell_type": "code",
      "source": "df.groupby('Company').min()",
      "execution_count": null,
      "outputs": []
    },
    {
      "metadata": {
        "trusted": true,
        "_uuid": "5712e706421705b065e808114c94d3fe97a81b8f",
        "collapsed": true
      },
      "cell_type": "code",
      "source": "by_comp.count()\n# or \ndf.groupby('Company').count()",
      "execution_count": null,
      "outputs": []
    },
    {
      "metadata": {
        "trusted": true,
        "_uuid": "97226b95d663d1664f2ef294395f47b5eeb7c55d",
        "collapsed": true
      },
      "cell_type": "code",
      "source": "by_comp.describe()\n# or\n# df.groupby('Company').describe()",
      "execution_count": null,
      "outputs": []
    },
    {
      "metadata": {
        "trusted": true,
        "_uuid": "aae7fc6f707a04f23d2dc6e8698d069ac3dc9241",
        "collapsed": true
      },
      "cell_type": "code",
      "source": "by_comp.describe().transpose()",
      "execution_count": null,
      "outputs": []
    },
    {
      "metadata": {
        "trusted": true,
        "_uuid": "b1b4c2d9f51c32c37fddcbabd8d7ca2f8e817929",
        "collapsed": true
      },
      "cell_type": "code",
      "source": "by_comp.describe().transpose()['GOOG']",
      "execution_count": null,
      "outputs": []
    },
    {
      "metadata": {
        "_uuid": "02c5bbc9820a72c15b3ffbc38a6c92f7b2b3db75"
      },
      "cell_type": "markdown",
      "source": "**Merging, Joining, and Concatenating**\n\nThere are 3 main ways of combining DataFrames together: Merging, Joining and Concatenating. In this lecture we will discuss these 3 methods with examples."
    },
    {
      "metadata": {
        "trusted": true,
        "collapsed": true,
        "_uuid": "1101b8abeb9bf43ac094a2b52809baaab1916cfc"
      },
      "cell_type": "code",
      "source": "import pandas as pd",
      "execution_count": null,
      "outputs": []
    },
    {
      "metadata": {
        "trusted": true,
        "collapsed": true,
        "_uuid": "324c8d29ca6612ae0fe8b58ca4811c782ceaa34b"
      },
      "cell_type": "code",
      "source": "df1 = pd.DataFrame({'A': ['A0', 'A1', 'A2', 'A3'],\n                        'B': ['B0', 'B1', 'B2', 'B3'],\n                        'C': ['C0', 'C1', 'C2', 'C3'],\n                        'D': ['D0', 'D1', 'D2', 'D3']},\n                        index=[0, 1, 2, 3])",
      "execution_count": null,
      "outputs": []
    },
    {
      "metadata": {
        "trusted": true,
        "collapsed": true,
        "_uuid": "d3f5d139c3a74fd0d650e1abf814b8ce0c2f0a38"
      },
      "cell_type": "code",
      "source": "df2 = pd.DataFrame({'A': ['A4', 'A5', 'A6', 'A7'],\n                        'B': ['B4', 'B5', 'B6', 'B7'],\n                        'C': ['C4', 'C5', 'C6', 'C7'],\n                        'D': ['D4', 'D5', 'D6', 'D7']},\n                         index=[4, 5, 6, 7]) ",
      "execution_count": null,
      "outputs": []
    },
    {
      "metadata": {
        "trusted": true,
        "collapsed": true,
        "_uuid": "34fc9f51d2a76488d0de60be14361382c580669c"
      },
      "cell_type": "code",
      "source": "df3 = pd.DataFrame({'A': ['A8', 'A9', 'A10', 'A11'],\n                        'B': ['B8', 'B9', 'B10', 'B11'],\n                        'C': ['C8', 'C9', 'C10', 'C11'],\n                        'D': ['D8', 'D9', 'D10', 'D11']},\n                        index=[8, 9, 10, 11])",
      "execution_count": null,
      "outputs": []
    },
    {
      "metadata": {
        "trusted": true,
        "_uuid": "4326d76c3c1eb2e18a9cf259479acff36a2f4224",
        "collapsed": true
      },
      "cell_type": "code",
      "source": "df1",
      "execution_count": null,
      "outputs": []
    },
    {
      "metadata": {
        "trusted": true,
        "_uuid": "446b6b9cf299a757ff4f8f58e4a93104ab73a044",
        "collapsed": true
      },
      "cell_type": "code",
      "source": "df2",
      "execution_count": null,
      "outputs": []
    },
    {
      "metadata": {
        "trusted": true,
        "_uuid": "e7b68a354fcc1ca733fd96d4b3b5415c3ec3ea9f",
        "collapsed": true
      },
      "cell_type": "code",
      "source": "df3",
      "execution_count": null,
      "outputs": []
    },
    {
      "metadata": {
        "_uuid": "34efa0bd667f08ec7f31f965f950f257ebdba53a"
      },
      "cell_type": "markdown",
      "source": "## Concatenation\n\nConcatenation basically glues together DataFrames. Keep in mind that dimensions should match along the axis you are concatenating on. You can use **pd.concat** and pass in a list of DataFrames to concatenate together:"
    },
    {
      "metadata": {
        "trusted": true,
        "_uuid": "ede98b35445f6c5d5ee5cbefa219de312cdff272",
        "collapsed": true
      },
      "cell_type": "code",
      "source": "pd.concat([df1,df2,df3])",
      "execution_count": null,
      "outputs": []
    },
    {
      "metadata": {
        "trusted": true,
        "_uuid": "36d22f7ae1a3300da5118ecf30daa4e8a38610b1",
        "collapsed": true
      },
      "cell_type": "code",
      "source": "pd.concat([df1,df2,df3],axis=1)",
      "execution_count": null,
      "outputs": []
    },
    {
      "metadata": {
        "trusted": true,
        "collapsed": true,
        "_uuid": "95ddbbb4178faf59d088ceaca4729eb9ee40f981"
      },
      "cell_type": "code",
      "source": "left = pd.DataFrame({'key': ['K0', 'K1', 'K2', 'K3'],\n                     'A': ['A0', 'A1', 'A2', 'A3'],\n                     'B': ['B0', 'B1', 'B2', 'B3']})\n   \nright = pd.DataFrame({'key': ['K0', 'K1', 'K2', 'K3'],\n                          'C': ['C0', 'C1', 'C2', 'C3'],\n                          'D': ['D0', 'D1', 'D2', 'D3']})    ",
      "execution_count": null,
      "outputs": []
    },
    {
      "metadata": {
        "trusted": true,
        "_uuid": "0cf12607f425ce0365bdf540bd92092584567af7",
        "collapsed": true
      },
      "cell_type": "code",
      "source": "left",
      "execution_count": null,
      "outputs": []
    },
    {
      "metadata": {
        "trusted": true,
        "_uuid": "df0426e50692dac632c88733d1a6c14fe49a93e4",
        "collapsed": true
      },
      "cell_type": "code",
      "source": "right",
      "execution_count": null,
      "outputs": []
    },
    {
      "metadata": {
        "_uuid": "fff4497c48636bd7644b41f209cc3d16aa81ec8b"
      },
      "cell_type": "markdown",
      "source": "## Merging\n\nThe **merge** function allows you to merge DataFrames together using a similar logic as merging SQL Tables together. For example:"
    },
    {
      "metadata": {
        "trusted": true,
        "_uuid": "aca7387767a8d4bdd29c4e8982122b0db5f822e9",
        "collapsed": true
      },
      "cell_type": "code",
      "source": "pd.merge(left,right,how='inner',on='key')",
      "execution_count": null,
      "outputs": []
    },
    {
      "metadata": {
        "trusted": true,
        "collapsed": true,
        "_uuid": "b40185ddeb932aa0dde8220c9a0f60f5a595000e"
      },
      "cell_type": "code",
      "source": "# Or to show a more complicated example:\nleft = pd.DataFrame({'key1': ['K0', 'K0', 'K1', 'K2'],\n                     'key2': ['K0', 'K1', 'K0', 'K1'],\n                        'A': ['A0', 'A1', 'A2', 'A3'],\n                        'B': ['B0', 'B1', 'B2', 'B3']})\n    \nright = pd.DataFrame({'key1': ['K0', 'K1', 'K1', 'K2'],\n                               'key2': ['K0', 'K0', 'K0', 'K0'],\n                                  'C': ['C0', 'C1', 'C2', 'C3'],\n                                  'D': ['D0', 'D1', 'D2', 'D3']})",
      "execution_count": null,
      "outputs": []
    },
    {
      "metadata": {
        "trusted": true,
        "_uuid": "2d4274554c1703e6c8ad8ef7286d11bb42dc7eea",
        "collapsed": true
      },
      "cell_type": "code",
      "source": "pd.merge(left, right, on=['key1', 'key2'])",
      "execution_count": null,
      "outputs": []
    },
    {
      "metadata": {
        "trusted": true,
        "_uuid": "cb3aa42d3cb5473542b05f56b73f637db39ec180",
        "collapsed": true
      },
      "cell_type": "code",
      "source": "pd.merge(left, right, how='outer', on=['key1', 'key2'])",
      "execution_count": null,
      "outputs": []
    },
    {
      "metadata": {
        "trusted": true,
        "_uuid": "9f875a03eab6145eda890e84db1114abe53bb3d8",
        "collapsed": true
      },
      "cell_type": "code",
      "source": "pd.merge(left, right, how='right', on=['key1', 'key2'])",
      "execution_count": null,
      "outputs": []
    },
    {
      "metadata": {
        "trusted": true,
        "_uuid": "6496698484efb94f7c5b2ddad611c62ac0686583",
        "collapsed": true
      },
      "cell_type": "code",
      "source": "pd.merge(left, right, how='left', on=['key1', 'key2'])",
      "execution_count": null,
      "outputs": []
    },
    {
      "metadata": {
        "_uuid": "a4b5acf78dae5fea36a6ff886eac81088d9fce3b"
      },
      "cell_type": "markdown",
      "source": "## Joining\n\nJoining is a convenient method for combining the columns of two potentially differently-indexed DataFrames into a single result DataFrame."
    },
    {
      "metadata": {
        "trusted": true,
        "collapsed": true,
        "_uuid": "3307337adb0e4e35183f7c54044f55a5441c8f0a"
      },
      "cell_type": "code",
      "source": "left = pd.DataFrame({'A': ['A0', 'A1', 'A2'],\n                     'B': ['B0', 'B1', 'B2']},\n                      index=['K0', 'K1', 'K2']) \n\nright = pd.DataFrame({'C': ['C0', 'C2', 'C3'],\n                    'D': ['D0', 'D2', 'D3']},\n                      index=['K0', 'K2', 'K3'])",
      "execution_count": null,
      "outputs": []
    },
    {
      "metadata": {
        "trusted": true,
        "_uuid": "de8c506443aad17dcd070eedeeda60bacd301f1f",
        "collapsed": true
      },
      "cell_type": "code",
      "source": "left.join(right)",
      "execution_count": null,
      "outputs": []
    },
    {
      "metadata": {
        "trusted": true,
        "_uuid": "69662fd8582ced153a6ff2e95d91b646754c4bfb",
        "collapsed": true
      },
      "cell_type": "code",
      "source": "left.join(right, how='outer')",
      "execution_count": null,
      "outputs": []
    },
    {
      "metadata": {
        "_uuid": "a1f86ac62a004870209fef1f424cabdaeee01455"
      },
      "cell_type": "markdown",
      "source": "**Operations**\n\nThere are lots of operations with pandas that will be really useful to you, but don't fall into any distinct category. Let's show them here in this lecture:"
    },
    {
      "metadata": {
        "trusted": true,
        "_uuid": "37f78ef3aab70e121fd024ab75ab6dbe53b32b23",
        "collapsed": true
      },
      "cell_type": "code",
      "source": "import pandas as pd\ndf = pd.DataFrame({'col1':[1,2,3,4],'col2':[444,555,666,444],'col3':['abc','def','ghi','xyz']})\ndf.head()   # when you use head function it will display only 5 index by default\n# however in this we have only 4 index/rows so it display all four index",
      "execution_count": null,
      "outputs": []
    },
    {
      "metadata": {
        "_uuid": "cf18dbdeaadaec443b5a68935b1abaf1edec6788"
      },
      "cell_type": "markdown",
      "source": "### Info on Unique Values"
    },
    {
      "metadata": {
        "trusted": true,
        "_uuid": "0e990df9e376c6971063e6d9d11e723e040863ac",
        "collapsed": true
      },
      "cell_type": "code",
      "source": "df['col2'].unique()",
      "execution_count": null,
      "outputs": []
    },
    {
      "metadata": {
        "trusted": true,
        "_uuid": "fa4eb4b5fe4aebd95c1d3e7d11a7b2e5a428eb32",
        "collapsed": true
      },
      "cell_type": "code",
      "source": "df['col2'].nunique()\n# Return Series with number of distinct observations over requested",
      "execution_count": null,
      "outputs": []
    },
    {
      "metadata": {
        "trusted": true,
        "_uuid": "27025702b71052e653f1699c3b0c2c9d179324b3",
        "collapsed": true
      },
      "cell_type": "code",
      "source": "df['col2'].value_counts()",
      "execution_count": null,
      "outputs": []
    },
    {
      "metadata": {
        "_uuid": "23aa37936f1319cf9ff2b2e36bfcbe19db0da2db"
      },
      "cell_type": "markdown",
      "source": "### Selecting Data"
    },
    {
      "metadata": {
        "trusted": true,
        "collapsed": true,
        "_uuid": "19cb9aa46545e7c981c120d645afe23bbe836806"
      },
      "cell_type": "code",
      "source": "#Select from DataFrame using criteria from multiple columns\nnewdf = df[(df['col1']>2) & (df['col2']==444)]",
      "execution_count": null,
      "outputs": []
    },
    {
      "metadata": {
        "trusted": true,
        "_uuid": "2b25d712baae8d39a9b17e5c0a9229b1bd87208e",
        "collapsed": true
      },
      "cell_type": "code",
      "source": "newdf",
      "execution_count": null,
      "outputs": []
    },
    {
      "metadata": {
        "trusted": true,
        "collapsed": true,
        "_uuid": "f64f68214934bcf27a7176e4f2f028966362f766"
      },
      "cell_type": "code",
      "source": "### Applying Functions\ndef times2(x):\n    return x*2",
      "execution_count": null,
      "outputs": []
    },
    {
      "metadata": {
        "trusted": true,
        "_uuid": "354e80f0aa5d0f41cd72f962b7f1f7a034fecc8b",
        "collapsed": true
      },
      "cell_type": "code",
      "source": "df['col1'].apply(times2)",
      "execution_count": null,
      "outputs": []
    },
    {
      "metadata": {
        "trusted": true,
        "_uuid": "d9d13489a37bf55a6f06a82b1b0e54cc3824b1fb",
        "collapsed": true
      },
      "cell_type": "code",
      "source": "df['col3'].apply(len)",
      "execution_count": null,
      "outputs": []
    },
    {
      "metadata": {
        "trusted": true,
        "_uuid": "f591badd905a5a472b18290eef3e3ae5abad321e",
        "collapsed": true
      },
      "cell_type": "code",
      "source": "df['col1'].sum()",
      "execution_count": null,
      "outputs": []
    },
    {
      "metadata": {
        "_uuid": "9d3defc49cea96c32a1eb31c51b7475c1350e0ca"
      },
      "cell_type": "markdown",
      "source": "** Permanently Removing a Column**"
    },
    {
      "metadata": {
        "trusted": true,
        "collapsed": true,
        "_uuid": "fc6978141f5dd8d5f81058408f2c3cbe9dea4d65"
      },
      "cell_type": "code",
      "source": "del df['col1']",
      "execution_count": null,
      "outputs": []
    },
    {
      "metadata": {
        "trusted": true,
        "_uuid": "d5a36e33bb7ef74f6106bd6d37ef03498e0869aa",
        "collapsed": true
      },
      "cell_type": "code",
      "source": "df",
      "execution_count": null,
      "outputs": []
    },
    {
      "metadata": {
        "_uuid": "9d65bde02a3f628f1dc53e215a875a36ca559406"
      },
      "cell_type": "markdown",
      "source": "** Get column and index names: **"
    },
    {
      "metadata": {
        "trusted": true,
        "_uuid": "19c52cc0b8746b931cae4bef85ae33cb1d7bf91e",
        "collapsed": true
      },
      "cell_type": "code",
      "source": "df.columns",
      "execution_count": null,
      "outputs": []
    },
    {
      "metadata": {
        "trusted": true,
        "_uuid": "7e433b77ede16bbe5c5492fff9611552424519c7",
        "collapsed": true
      },
      "cell_type": "code",
      "source": "df.index",
      "execution_count": null,
      "outputs": []
    },
    {
      "metadata": {
        "_uuid": "642c1a2cb163d44bcfafa3f00e64ce0de5341cea"
      },
      "cell_type": "markdown",
      "source": "** Sorting and Ordering a DataFrame:**"
    },
    {
      "metadata": {
        "trusted": true,
        "_uuid": "86579e5472e4dfce085916a4f982bdc5bbd395d8",
        "collapsed": true
      },
      "cell_type": "code",
      "source": "df",
      "execution_count": null,
      "outputs": []
    },
    {
      "metadata": {
        "trusted": true,
        "_uuid": "0f2945691ddc9034cecb85d5ec86ec94db5800bc",
        "collapsed": true
      },
      "cell_type": "code",
      "source": "df.sort_values(by='col2') #inplace=False by default",
      "execution_count": null,
      "outputs": []
    },
    {
      "metadata": {
        "_uuid": "97b1cbeb8f5ead5ee541df8339741053d3758f62"
      },
      "cell_type": "markdown",
      "source": "** Find Null Values or Check for Null Values**"
    },
    {
      "metadata": {
        "trusted": true,
        "_uuid": "45a952a52a02767bf78e82709f90b80a0820d7d0",
        "collapsed": true
      },
      "cell_type": "code",
      "source": "df.isnull()",
      "execution_count": null,
      "outputs": []
    },
    {
      "metadata": {
        "trusted": true,
        "_uuid": "b00bab192d1fac1a47e77cb58c2f74fd82e509ce",
        "collapsed": true
      },
      "cell_type": "code",
      "source": "# Drop rows with NaN Values\ndf.dropna()",
      "execution_count": null,
      "outputs": []
    },
    {
      "metadata": {
        "_uuid": "000ec097f5d6d8bbdfd3beae436117d29cfcffc5"
      },
      "cell_type": "markdown",
      "source": "** Filling in NaN values with something else: **"
    },
    {
      "metadata": {
        "trusted": true,
        "collapsed": true,
        "_uuid": "da76e4f413f3df3278ab5b98c2634a9347f9cde0"
      },
      "cell_type": "code",
      "source": "import numpy as np",
      "execution_count": null,
      "outputs": []
    },
    {
      "metadata": {
        "trusted": true,
        "_uuid": "acdcff54ebc7dc23825fc5b2b9e21ffd404bf184",
        "collapsed": true
      },
      "cell_type": "code",
      "source": "df = pd.DataFrame({'col1':[1,2,3,np.nan],\n                   'col2':[np.nan,555,666,444],\n                   'col3':['abc','def','ghi','xyz']})\ndf.head()",
      "execution_count": null,
      "outputs": []
    },
    {
      "metadata": {
        "trusted": true,
        "_uuid": "871d68589c4abc26719c13d93bd6864dd1922485",
        "collapsed": true
      },
      "cell_type": "code",
      "source": "df.fillna('FILL')",
      "execution_count": null,
      "outputs": []
    },
    {
      "metadata": {
        "trusted": true,
        "collapsed": true,
        "_uuid": "bbab3b9d759932c432294693f72226ce3fc1d17d"
      },
      "cell_type": "code",
      "source": "data = {'A':['foo','foo','foo','bar','bar','bar'],\n     'B':['one','one','two','two','one','one'],\n       'C':['x','y','x','y','x','y'],\n       'D':[1,3,2,5,4,1]}\n\ndf = pd.DataFrame(data)",
      "execution_count": null,
      "outputs": []
    },
    {
      "metadata": {
        "trusted": true,
        "_uuid": "4758d48987e2a1032dd2d052d21da2bcee9fff39",
        "collapsed": true
      },
      "cell_type": "code",
      "source": "df",
      "execution_count": null,
      "outputs": []
    },
    {
      "metadata": {
        "trusted": true,
        "_uuid": "9703e5564676d531a856308cae8eef23b2cdfaed",
        "collapsed": true
      },
      "cell_type": "code",
      "source": "df.pivot_table(values='D',index=['A', 'B'],columns=['C'])",
      "execution_count": null,
      "outputs": []
    },
    {
      "metadata": {
        "_uuid": "3053ee000f78578e4eb3f362b06b05e4af624e9c"
      },
      "cell_type": "markdown",
      "source": "**Data Input and Output**\n\nThis notebook is the reference code for getting input and output, pandas can read a variety of file types using its pd.read_ methods. Let's take a look at the most common data types:"
    },
    {
      "metadata": {
        "trusted": true,
        "collapsed": true,
        "_uuid": "cf5159d4dd2bda15cda0fd1280b7f64054d17045"
      },
      "cell_type": "code",
      "source": "import numpy as np\nimport pandas as pd",
      "execution_count": null,
      "outputs": []
    },
    {
      "metadata": {
        "_uuid": "9bda4a6885079c99272baa430b00f0d17b5bcadd"
      },
      "cell_type": "markdown",
      "source": "**CSV**\n\n**CSV Input**"
    },
    {
      "metadata": {
        "trusted": true,
        "_uuid": "431bdad2030387b041833ee0660b7fa6cccf481d",
        "collapsed": true
      },
      "cell_type": "code",
      "source": "df = pd.read_csv('../input/salaries/Salaries.csv')\ndf",
      "execution_count": null,
      "outputs": []
    },
    {
      "metadata": {
        "trusted": true,
        "_uuid": "cd6444e11776f14d51c111692fd9562a91de6dc3",
        "collapsed": true
      },
      "cell_type": "code",
      "source": "df.head()",
      "execution_count": null,
      "outputs": []
    },
    {
      "metadata": {
        "_uuid": "f069a4582ab78a0f016253c492ce9114497952a2"
      },
      "cell_type": "markdown",
      "source": "## Excel\n\nPandas can read and write excel files, keep in mind, this only imports data. Not formulas or images, having images or macros may cause this read_excel method to crash. "
    },
    {
      "metadata": {
        "trusted": true,
        "_uuid": "a60d6b16fde766a33b8d1e2e195c788abba1a627",
        "collapsed": true
      },
      "cell_type": "code",
      "source": "# Excel Input\npd.read_excel('../input/excel-file/Excel_Sample.xlsx',sheetname='Sheet1')",
      "execution_count": null,
      "outputs": []
    },
    {
      "metadata": {
        "trusted": true,
        "collapsed": true,
        "_uuid": "37b90d1e208e82a873d7ed634cb575e24302f776"
      },
      "cell_type": "markdown",
      "source": "**HTML**\n\nYou may need to install htmllib5,lxml, and BeautifulSoup4. In your terminal/command prompt run:\n\nconda install lxml\nconda install html5lib\nconda install BeautifulSoup4\nThen restart Jupyter Notebook. (or use pip install if you aren't using the Anaconda Distribution)\n\nPandas can read table tabs off of html. For example:\n\n**HTML Input**\n\nPandas read_html function will read tables off of a webpage and return a list of DataFrame objects:"
    },
    {
      "metadata": {
        "trusted": true,
        "_uuid": "dd3a2a3717202dd8a941694489c61a6de9b9a2b0",
        "collapsed": true
      },
      "cell_type": "code",
      "source": "# df = pd.read_html('https://www.fdic.gov/bank/individual/failed/banklist.html')\n# df",
      "execution_count": null,
      "outputs": []
    }
  ],
  "metadata": {
    "kernelspec": {
      "display_name": "Python 3",
      "language": "python",
      "name": "python3"
    },
    "language_info": {
      "name": "python",
      "version": "3.6.5",
      "mimetype": "text/x-python",
      "codemirror_mode": {
        "name": "ipython",
        "version": 3
      },
      "pygments_lexer": "ipython3",
      "nbconvert_exporter": "python",
      "file_extension": ".py"
    }
  },
  "nbformat": 4,
  "nbformat_minor": 1
}
{
  "cells": [
    {
      "metadata": {
        "_uuid": "8f2839f25d086af736a60e9eeb907d3b93b6e0e5",
        "_cell_guid": "b1076dfc-b9ad-4769-8c92-a6c4dae69d19",
        "trusted": true
      },
      "cell_type": "code",
      "source": "# loading required libraries\nimport featuretools as ft\nimport numpy as np\nimport pandas as pd\n\ntrain = pd.read_csv(\"../input/Train.csv\")\ntest = pd.read_csv(\"../input/Test.csv\")",
      "execution_count": 35,
      "outputs": []
    },
    {
      "metadata": {
        "_cell_guid": "79c7e3d0-c299-4dcb-8224-4455121ee9b0",
        "_uuid": "d629ff2d2480ee46fbb7e2d37f6b5fab8052498a",
        "trusted": true
      },
      "cell_type": "code",
      "source": "# Data preperation\n\n# saving identifiers\ntest_Item_Identifier = test['Item_Identifier']\ntest_Outlet_Identifier = test['Outlet_Identifier']\n\nsales = train['Item_Outlet_Sales']\ntrain.drop(['Item_Outlet_Sales'], axis=1, inplace=True)",
      "execution_count": 36,
      "outputs": []
    },
    {
      "metadata": {
        "trusted": true,
        "_uuid": "35cd5e35ede7fb87f4b90bf04bf1080a88ec1da9"
      },
      "cell_type": "code",
      "source": "#combine the train and test set as it saves us the trouble of performing the same step(s) twice.\n\ncombi = train.append(test, ignore_index=True)",
      "execution_count": 37,
      "outputs": []
    },
    {
      "metadata": {
        "trusted": true,
        "_uuid": "5ba36172c46bc554f190af94ebaddcd7469732d4"
      },
      "cell_type": "code",
      "source": "combi.head()",
      "execution_count": 38,
      "outputs": [
        {
          "output_type": "execute_result",
          "execution_count": 38,
          "data": {
            "text/plain": "  Item_Identifier        ...                Outlet_Type\n0           FDA15        ...          Supermarket Type1\n1           DRC01        ...          Supermarket Type2\n2           FDN15        ...          Supermarket Type1\n3           FDX07        ...              Grocery Store\n4           NCD19        ...          Supermarket Type1\n\n[5 rows x 11 columns]",
            "text/html": "<div>\n<style scoped>\n    .dataframe tbody tr th:only-of-type {\n        vertical-align: middle;\n    }\n\n    .dataframe tbody tr th {\n        vertical-align: top;\n    }\n\n    .dataframe thead th {\n        text-align: right;\n    }\n</style>\n<table border=\"1\" class=\"dataframe\">\n  <thead>\n    <tr style=\"text-align: right;\">\n      <th></th>\n      <th>Item_Identifier</th>\n      <th>Item_Weight</th>\n      <th>Item_Fat_Content</th>\n      <th>Item_Visibility</th>\n      <th>Item_Type</th>\n      <th>Item_MRP</th>\n      <th>Outlet_Identifier</th>\n      <th>Outlet_Establishment_Year</th>\n      <th>Outlet_Size</th>\n      <th>Outlet_Location_Type</th>\n      <th>Outlet_Type</th>\n    </tr>\n  </thead>\n  <tbody>\n    <tr>\n      <th>0</th>\n      <td>FDA15</td>\n      <td>9.30</td>\n      <td>Low Fat</td>\n      <td>0.016047</td>\n      <td>Dairy</td>\n      <td>249.8092</td>\n      <td>OUT049</td>\n      <td>1999</td>\n      <td>Medium</td>\n      <td>Tier 1</td>\n      <td>Supermarket Type1</td>\n    </tr>\n    <tr>\n      <th>1</th>\n      <td>DRC01</td>\n      <td>5.92</td>\n      <td>Regular</td>\n      <td>0.019278</td>\n      <td>Soft Drinks</td>\n      <td>48.2692</td>\n      <td>OUT018</td>\n      <td>2009</td>\n      <td>Medium</td>\n      <td>Tier 3</td>\n      <td>Supermarket Type2</td>\n    </tr>\n    <tr>\n      <th>2</th>\n      <td>FDN15</td>\n      <td>17.50</td>\n      <td>Low Fat</td>\n      <td>0.016760</td>\n      <td>Meat</td>\n      <td>141.6180</td>\n      <td>OUT049</td>\n      <td>1999</td>\n      <td>Medium</td>\n      <td>Tier 1</td>\n      <td>Supermarket Type1</td>\n    </tr>\n    <tr>\n      <th>3</th>\n      <td>FDX07</td>\n      <td>19.20</td>\n      <td>Regular</td>\n      <td>0.000000</td>\n      <td>Fruits and Vegetables</td>\n      <td>182.0950</td>\n      <td>OUT010</td>\n      <td>1998</td>\n      <td>NaN</td>\n      <td>Tier 3</td>\n      <td>Grocery Store</td>\n    </tr>\n    <tr>\n      <th>4</th>\n      <td>NCD19</td>\n      <td>8.93</td>\n      <td>Low Fat</td>\n      <td>0.000000</td>\n      <td>Household</td>\n      <td>53.8614</td>\n      <td>OUT013</td>\n      <td>1987</td>\n      <td>High</td>\n      <td>Tier 3</td>\n      <td>Supermarket Type1</td>\n    </tr>\n  </tbody>\n</table>\n</div>"
          },
          "metadata": {}
        }
      ]
    },
    {
      "metadata": {
        "trusted": true,
        "_uuid": "69dad1d2289490ee7d0edcc7843cc2966efe2674"
      },
      "cell_type": "code",
      "source": "combi['Outlet_Size'].value_counts()",
      "execution_count": 39,
      "outputs": [
        {
          "output_type": "execute_result",
          "execution_count": 39,
          "data": {
            "text/plain": "Medium    4655\nSmall     3980\nHigh      1553\nName: Outlet_Size, dtype: int64"
          },
          "metadata": {}
        }
      ]
    },
    {
      "metadata": {
        "trusted": true,
        "_uuid": "6231e2cc70d67a434ae8f1ee9d3d59b7435794df"
      },
      "cell_type": "code",
      "source": "combi.isnull().sum()",
      "execution_count": 40,
      "outputs": [
        {
          "output_type": "execute_result",
          "execution_count": 40,
          "data": {
            "text/plain": "Item_Identifier                 0\nItem_Weight                  2439\nItem_Fat_Content                0\nItem_Visibility                 0\nItem_Type                       0\nItem_MRP                        0\nOutlet_Identifier               0\nOutlet_Establishment_Year       0\nOutlet_Size                  4016\nOutlet_Location_Type            0\nOutlet_Type                     0\ndtype: int64"
          },
          "metadata": {}
        }
      ]
    },
    {
      "metadata": {
        "trusted": true,
        "_uuid": "e52bfd65b9082a671620fdf8321e11afba4a79b0"
      },
      "cell_type": "code",
      "source": "# imputing missing data\ncombi['Item_Weight'].fillna(combi['Item_Weight'].mean(), inplace = True)\ncombi['Outlet_Size'].fillna(\"missing\", inplace = True)",
      "execution_count": 41,
      "outputs": []
    },
    {
      "metadata": {
        "trusted": true,
        "_uuid": "4fd8f2fd8581e697ee15701a05e7c8e09434a67a"
      },
      "cell_type": "code",
      "source": "combi.isnull().sum()",
      "execution_count": 42,
      "outputs": [
        {
          "output_type": "execute_result",
          "execution_count": 42,
          "data": {
            "text/plain": "Item_Identifier              0\nItem_Weight                  0\nItem_Fat_Content             0\nItem_Visibility              0\nItem_Type                    0\nItem_MRP                     0\nOutlet_Identifier            0\nOutlet_Establishment_Year    0\nOutlet_Size                  0\nOutlet_Location_Type         0\nOutlet_Type                  0\ndtype: int64"
          },
          "metadata": {}
        }
      ]
    },
    {
      "metadata": {
        "trusted": true,
        "_uuid": "93d3a6000682a2dcde15fc68bce8daf49b769a44"
      },
      "cell_type": "code",
      "source": "# Data processing\n\ncombi['Item_Fat_Content'].value_counts()",
      "execution_count": 43,
      "outputs": [
        {
          "output_type": "execute_result",
          "execution_count": 43,
          "data": {
            "text/plain": "Low Fat    8485\nRegular    4824\nLF          522\nreg         195\nlow fat     178\nName: Item_Fat_Content, dtype: int64"
          },
          "metadata": {}
        }
      ]
    },
    {
      "metadata": {
        "trusted": true,
        "_uuid": "f3920a64af4e6061b23d2024dc3a21a919ff4e3f"
      },
      "cell_type": "code",
      "source": "# dictionary to replace the categories\nfat_content_dict = {'Low Fat':0, 'Regular':1, 'LF':0, 'reg':1, 'low fat':0}\n\ncombi['Item_Fat_Content'] = combi['Item_Fat_Content'].replace(fat_content_dict, regex=True)",
      "execution_count": 44,
      "outputs": []
    },
    {
      "metadata": {
        "_uuid": "3333d8fcf3e682778817ee67051e1755ecda0769"
      },
      "cell_type": "markdown",
      "source": "# Feature Engineering using Featuretools"
    },
    {
      "metadata": {
        "trusted": true,
        "_uuid": "1532c90143268c3277e89b001fe682c9d5d41539"
      },
      "cell_type": "code",
      "source": "#perform automated feature engineering! \n#It is necessary to have a unique identifier feature in the dataset\n# so first we will create a unique identifier\n\ncombi['id'] = combi['Item_Identifier'] + combi['Outlet_Identifier']\n\ncombi.drop(['Item_Identifier'], axis=1, inplace=True)\n\n",
      "execution_count": 45,
      "outputs": []
    },
    {
      "metadata": {
        "trusted": true,
        "_uuid": "308559df4a11d6e9195bf2783f5ef584f06154e2"
      },
      "cell_type": "code",
      "source": "#creating an EntitySet. \n#An EntitySet is a structure that contains multiple dataframes and relationships between them. \n\n\n# creating and entity set 'es'\nes = ft.EntitySet(id = 'sales')\n\n# adding a dataframe \nes.entity_from_dataframe(entity_id = 'bigmart', dataframe = combi, index = 'id')",
      "execution_count": 46,
      "outputs": [
        {
          "output_type": "execute_result",
          "execution_count": 46,
          "data": {
            "text/plain": "Entityset: sales\n  Entities:\n    bigmart [Rows: 14204, Columns: 11]\n  Relationships:\n    No relationships"
          },
          "metadata": {}
        }
      ]
    },
    {
      "metadata": {
        "trusted": true,
        "_uuid": "843b85088e636e19f9d209e2c2a865a2efeb6833"
      },
      "cell_type": "code",
      "source": "#Our data contains information at two levels—item level and outlet level.\n#Featuretools offers a functionality to split a dataset into multiple tables. \n#so created a new table ‘outlet’ from the BigMart table based on the outlet ID Outlet_Identifier.\n\nes.normalize_entity(base_entity_id='bigmart', new_entity_id='outlet', index = 'Outlet_Identifier', \nadditional_variables = ['Outlet_Establishment_Year', 'Outlet_Size', 'Outlet_Location_Type', 'Outlet_Type'])",
      "execution_count": 47,
      "outputs": [
        {
          "output_type": "execute_result",
          "execution_count": 47,
          "data": {
            "text/plain": "Entityset: sales\n  Entities:\n    bigmart [Rows: 14204, Columns: 7]\n    outlet [Rows: 10, Columns: 5]\n  Relationships:\n    bigmart.Outlet_Identifier -> outlet.Outlet_Identifier"
          },
          "metadata": {}
        }
      ]
    },
    {
      "metadata": {
        "trusted": true,
        "_uuid": "4988ec0d51e678821e25f11a4775b857b0fed063"
      },
      "cell_type": "code",
      "source": "print(es)",
      "execution_count": 48,
      "outputs": [
        {
          "output_type": "stream",
          "text": "Entityset: sales\n  Entities:\n    bigmart [Rows: 14204, Columns: 7]\n    outlet [Rows: 10, Columns: 5]\n  Relationships:\n    bigmart.Outlet_Identifier -> outlet.Outlet_Identifier\n",
          "name": "stdout"
        }
      ]
    },
    {
      "metadata": {
        "_uuid": "d00fe64e9861a1eebfb8ac965b6a0a24500dc5ed"
      },
      "cell_type": "markdown",
      "source": "so we have two entitysets one named \"bigmart\" and the other \"outlet\""
    },
    {
      "metadata": {
        "trusted": true,
        "_uuid": "3dea3b94c1d6518ccd15807bec50f4dc9a655951"
      },
      "cell_type": "code",
      "source": "#Now we will use Deep Feature Synthesis to create new features automatically.\n#DFS uses Feature Primitives to create features using multiple tables present in the EntitySet.\n\nfeature_matrix, feature_names = ft.dfs(entityset=es, \ntarget_entity = 'bigmart', \nmax_depth = 2, \nverbose = 1, \nn_jobs = 3)",
      "execution_count": 49,
      "outputs": [
        {
          "output_type": "stream",
          "text": "Built 37 features\nEntitySet scattered to workers in 1.091 seconds\nElapsed: 00:01 | Remaining: 00:00 | Progress: 100%|██████████| Calculated: 11/11 chunks\n",
          "name": "stdout"
        },
        {
          "output_type": "stream",
          "text": "tornado.application - ERROR - Exception in Future <Future cancelled> after timeout\nTraceback (most recent call last):\n  File \"/opt/conda/lib/python3.6/site-packages/tornado/gen.py\", line 970, in error_callback\n    future.result()\nconcurrent.futures._base.CancelledError\n",
          "name": "stderr"
        }
      ]
    },
    {
      "metadata": {
        "_uuid": "c605323ff5636b1d2186d5313fe36e2bcc964316"
      },
      "cell_type": "markdown",
      "source": "target_entity is nothing but the entity ID for which we wish to create new features \n\n(in this case, it is the entity ‘bigmart’).\n\nThe parameter max_depth controls the complexity of the features being generated by stacking the primitives. \n\nThe parameter n_jobs helps in parallel feature computation by using multiple cores."
    },
    {
      "metadata": {
        "trusted": true,
        "_uuid": "e303e09ccf083eb95b9b96d67276ed86ce6a178f"
      },
      "cell_type": "code",
      "source": "#It has generated a bunch of new features on its own.\n\n#Let’s have a look at these newly created features.\nfeature_matrix.columns",
      "execution_count": 50,
      "outputs": [
        {
          "output_type": "execute_result",
          "execution_count": 50,
          "data": {
            "text/plain": "Index(['Item_Weight', 'Item_Fat_Content', 'Item_Visibility', 'Item_Type',\n       'Item_MRP', 'Outlet_Identifier', 'outlet.Outlet_Establishment_Year',\n       'outlet.Outlet_Size', 'outlet.Outlet_Location_Type',\n       'outlet.Outlet_Type', 'outlet.SUM(bigmart.Item_Weight)',\n       'outlet.SUM(bigmart.Item_Fat_Content)',\n       'outlet.SUM(bigmart.Item_Visibility)', 'outlet.SUM(bigmart.Item_MRP)',\n       'outlet.STD(bigmart.Item_Weight)',\n       'outlet.STD(bigmart.Item_Fat_Content)',\n       'outlet.STD(bigmart.Item_Visibility)', 'outlet.STD(bigmart.Item_MRP)',\n       'outlet.MAX(bigmart.Item_Weight)',\n       'outlet.MAX(bigmart.Item_Fat_Content)',\n       'outlet.MAX(bigmart.Item_Visibility)', 'outlet.MAX(bigmart.Item_MRP)',\n       'outlet.SKEW(bigmart.Item_Weight)',\n       'outlet.SKEW(bigmart.Item_Fat_Content)',\n       'outlet.SKEW(bigmart.Item_Visibility)', 'outlet.SKEW(bigmart.Item_MRP)',\n       'outlet.MIN(bigmart.Item_Weight)',\n       'outlet.MIN(bigmart.Item_Fat_Content)',\n       'outlet.MIN(bigmart.Item_Visibility)', 'outlet.MIN(bigmart.Item_MRP)',\n       'outlet.MEAN(bigmart.Item_Weight)',\n       'outlet.MEAN(bigmart.Item_Fat_Content)',\n       'outlet.MEAN(bigmart.Item_Visibility)', 'outlet.MEAN(bigmart.Item_MRP)',\n       'outlet.COUNT(bigmart)', 'outlet.NUM_UNIQUE(bigmart.Item_Type)',\n       'outlet.MODE(bigmart.Item_Type)'],\n      dtype='object')"
          },
          "metadata": {}
        }
      ]
    },
    {
      "metadata": {
        "trusted": true,
        "_uuid": "d758dc1a8473abbfa5037c9d0481c3ecb1a725e9"
      },
      "cell_type": "code",
      "source": "feature_matrix.head()",
      "execution_count": 51,
      "outputs": [
        {
          "output_type": "execute_result",
          "execution_count": 51,
          "data": {
            "text/plain": "             Item_Weight               ...                outlet.MODE(bigmart.Item_Type)\nid                                     ...                                              \nDRA12OUT010    11.600000               ...                         Fruits and Vegetables\nDRA12OUT013    11.600000               ...                         Fruits and Vegetables\nDRA12OUT017    11.600000               ...                                   Snack Foods\nDRA12OUT018    11.600000               ...                         Fruits and Vegetables\nDRA12OUT027    12.792854               ...                         Fruits and Vegetables\n\n[5 rows x 37 columns]",
            "text/html": "<div>\n<style scoped>\n    .dataframe tbody tr th:only-of-type {\n        vertical-align: middle;\n    }\n\n    .dataframe tbody tr th {\n        vertical-align: top;\n    }\n\n    .dataframe thead th {\n        text-align: right;\n    }\n</style>\n<table border=\"1\" class=\"dataframe\">\n  <thead>\n    <tr style=\"text-align: right;\">\n      <th></th>\n      <th>Item_Weight</th>\n      <th>Item_Fat_Content</th>\n      <th>Item_Visibility</th>\n      <th>Item_Type</th>\n      <th>Item_MRP</th>\n      <th>Outlet_Identifier</th>\n      <th>outlet.Outlet_Establishment_Year</th>\n      <th>outlet.Outlet_Size</th>\n      <th>outlet.Outlet_Location_Type</th>\n      <th>outlet.Outlet_Type</th>\n      <th>outlet.SUM(bigmart.Item_Weight)</th>\n      <th>outlet.SUM(bigmart.Item_Fat_Content)</th>\n      <th>outlet.SUM(bigmart.Item_Visibility)</th>\n      <th>outlet.SUM(bigmart.Item_MRP)</th>\n      <th>outlet.STD(bigmart.Item_Weight)</th>\n      <th>outlet.STD(bigmart.Item_Fat_Content)</th>\n      <th>outlet.STD(bigmart.Item_Visibility)</th>\n      <th>outlet.STD(bigmart.Item_MRP)</th>\n      <th>outlet.MAX(bigmart.Item_Weight)</th>\n      <th>outlet.MAX(bigmart.Item_Fat_Content)</th>\n      <th>outlet.MAX(bigmart.Item_Visibility)</th>\n      <th>outlet.MAX(bigmart.Item_MRP)</th>\n      <th>outlet.SKEW(bigmart.Item_Weight)</th>\n      <th>outlet.SKEW(bigmart.Item_Fat_Content)</th>\n      <th>outlet.SKEW(bigmart.Item_Visibility)</th>\n      <th>outlet.SKEW(bigmart.Item_MRP)</th>\n      <th>outlet.MIN(bigmart.Item_Weight)</th>\n      <th>outlet.MIN(bigmart.Item_Fat_Content)</th>\n      <th>outlet.MIN(bigmart.Item_Visibility)</th>\n      <th>outlet.MIN(bigmart.Item_MRP)</th>\n      <th>outlet.MEAN(bigmart.Item_Weight)</th>\n      <th>outlet.MEAN(bigmart.Item_Fat_Content)</th>\n      <th>outlet.MEAN(bigmart.Item_Visibility)</th>\n      <th>outlet.MEAN(bigmart.Item_MRP)</th>\n      <th>outlet.COUNT(bigmart)</th>\n      <th>outlet.NUM_UNIQUE(bigmart.Item_Type)</th>\n      <th>outlet.MODE(bigmart.Item_Type)</th>\n    </tr>\n    <tr>\n      <th>id</th>\n      <th></th>\n      <th></th>\n      <th></th>\n      <th></th>\n      <th></th>\n      <th></th>\n      <th></th>\n      <th></th>\n      <th></th>\n      <th></th>\n      <th></th>\n      <th></th>\n      <th></th>\n      <th></th>\n      <th></th>\n      <th></th>\n      <th></th>\n      <th></th>\n      <th></th>\n      <th></th>\n      <th></th>\n      <th></th>\n      <th></th>\n      <th></th>\n      <th></th>\n      <th></th>\n      <th></th>\n      <th></th>\n      <th></th>\n      <th></th>\n      <th></th>\n      <th></th>\n      <th></th>\n      <th></th>\n      <th></th>\n      <th></th>\n      <th></th>\n    </tr>\n  </thead>\n  <tbody>\n    <tr>\n      <th>DRA12OUT010</th>\n      <td>11.600000</td>\n      <td>0</td>\n      <td>0.068535</td>\n      <td>Soft Drinks</td>\n      <td>143.0154</td>\n      <td>OUT010</td>\n      <td>1998</td>\n      <td>missing</td>\n      <td>Tier 3</td>\n      <td>Grocery Store</td>\n      <td>11768.655000</td>\n      <td>330</td>\n      <td>94.293418</td>\n      <td>130572.7618</td>\n      <td>4.675070</td>\n      <td>0.479301</td>\n      <td>0.073604</td>\n      <td>62.010835</td>\n      <td>21.350000</td>\n      <td>1</td>\n      <td>0.313935</td>\n      <td>266.6884</td>\n      <td>0.112759</td>\n      <td>0.599012</td>\n      <td>0.776902</td>\n      <td>0.104693</td>\n      <td>4.610000</td>\n      <td>0</td>\n      <td>0.0</td>\n      <td>32.6558</td>\n      <td>12.722870</td>\n      <td>0.356757</td>\n      <td>0.101939</td>\n      <td>141.159742</td>\n      <td>925</td>\n      <td>16</td>\n      <td>Fruits and Vegetables</td>\n    </tr>\n    <tr>\n      <th>DRA12OUT013</th>\n      <td>11.600000</td>\n      <td>0</td>\n      <td>0.040912</td>\n      <td>Soft Drinks</td>\n      <td>142.3154</td>\n      <td>OUT013</td>\n      <td>1987</td>\n      <td>High</td>\n      <td>Tier 3</td>\n      <td>Supermarket Type1</td>\n      <td>19859.980000</td>\n      <td>549</td>\n      <td>93.555174</td>\n      <td>219172.4492</td>\n      <td>4.650214</td>\n      <td>0.478213</td>\n      <td>0.044005</td>\n      <td>62.140848</td>\n      <td>21.350000</td>\n      <td>1</td>\n      <td>0.185913</td>\n      <td>266.6884</td>\n      <td>0.104392</td>\n      <td>0.613449</td>\n      <td>0.759033</td>\n      <td>0.130888</td>\n      <td>4.555000</td>\n      <td>0</td>\n      <td>0.0</td>\n      <td>31.4900</td>\n      <td>12.788139</td>\n      <td>0.353509</td>\n      <td>0.060242</td>\n      <td>141.128428</td>\n      <td>1553</td>\n      <td>16</td>\n      <td>Fruits and Vegetables</td>\n    </tr>\n    <tr>\n      <th>DRA12OUT017</th>\n      <td>11.600000</td>\n      <td>0</td>\n      <td>0.041178</td>\n      <td>Soft Drinks</td>\n      <td>140.3154</td>\n      <td>OUT017</td>\n      <td>2007</td>\n      <td>missing</td>\n      <td>Tier 2</td>\n      <td>Supermarket Type1</td>\n      <td>19722.750000</td>\n      <td>544</td>\n      <td>94.342210</td>\n      <td>217561.3500</td>\n      <td>4.655234</td>\n      <td>0.477922</td>\n      <td>0.044152</td>\n      <td>62.295513</td>\n      <td>21.350000</td>\n      <td>1</td>\n      <td>0.188620</td>\n      <td>266.8884</td>\n      <td>0.106563</td>\n      <td>0.617805</td>\n      <td>0.774783</td>\n      <td>0.129950</td>\n      <td>4.555000</td>\n      <td>0</td>\n      <td>0.0</td>\n      <td>32.0900</td>\n      <td>12.782080</td>\n      <td>0.352560</td>\n      <td>0.061142</td>\n      <td>140.998931</td>\n      <td>1543</td>\n      <td>16</td>\n      <td>Snack Foods</td>\n    </tr>\n    <tr>\n      <th>DRA12OUT018</th>\n      <td>11.600000</td>\n      <td>0</td>\n      <td>0.041113</td>\n      <td>Soft Drinks</td>\n      <td>142.0154</td>\n      <td>OUT018</td>\n      <td>2009</td>\n      <td>Medium</td>\n      <td>Tier 3</td>\n      <td>Supermarket Type2</td>\n      <td>19794.425000</td>\n      <td>547</td>\n      <td>92.723425</td>\n      <td>217987.3906</td>\n      <td>4.650874</td>\n      <td>0.478308</td>\n      <td>0.044489</td>\n      <td>62.022851</td>\n      <td>21.350000</td>\n      <td>1</td>\n      <td>0.188323</td>\n      <td>266.3226</td>\n      <td>0.102602</td>\n      <td>0.612046</td>\n      <td>0.783017</td>\n      <td>0.133528</td>\n      <td>4.555000</td>\n      <td>0</td>\n      <td>0.0</td>\n      <td>31.8900</td>\n      <td>12.803638</td>\n      <td>0.353816</td>\n      <td>0.059976</td>\n      <td>141.000899</td>\n      <td>1546</td>\n      <td>16</td>\n      <td>Fruits and Vegetables</td>\n    </tr>\n    <tr>\n      <th>DRA12OUT027</th>\n      <td>12.792854</td>\n      <td>0</td>\n      <td>0.040748</td>\n      <td>Soft Drinks</td>\n      <td>140.0154</td>\n      <td>OUT027</td>\n      <td>1985</td>\n      <td>Medium</td>\n      <td>Tier 3</td>\n      <td>Supermarket Type3</td>\n      <td>19944.059742</td>\n      <td>551</td>\n      <td>94.075671</td>\n      <td>219838.2488</td>\n      <td>0.000000</td>\n      <td>0.478189</td>\n      <td>0.044228</td>\n      <td>62.059660</td>\n      <td>12.792854</td>\n      <td>1</td>\n      <td>0.186650</td>\n      <td>265.2884</td>\n      <td>0.000000</td>\n      <td>0.613802</td>\n      <td>0.774028</td>\n      <td>0.129638</td>\n      <td>12.792854</td>\n      <td>0</td>\n      <td>0.0</td>\n      <td>31.2900</td>\n      <td>12.792854</td>\n      <td>0.353432</td>\n      <td>0.060344</td>\n      <td>141.012347</td>\n      <td>1559</td>\n      <td>16</td>\n      <td>Fruits and Vegetables</td>\n    </tr>\n  </tbody>\n</table>\n</div>"
          },
          "metadata": {}
        }
      ]
    },
    {
      "metadata": {
        "trusted": true,
        "_uuid": "b21a738736cd3626be1191b0758a0442bb40a786"
      },
      "cell_type": "code",
      "source": "#There is one issue with this dataframe – it is not sorted properly. \n#So We will have to sort it based on the id variable from the combi dataframe.\n\nfeature_matrix = feature_matrix.reindex(index=combi['id'])\nfeature_matrix = feature_matrix.reset_index()\n\n\n#Now the dataframe feature_matrix will be in proper order.",
      "execution_count": 52,
      "outputs": []
    },
    {
      "metadata": {
        "trusted": true,
        "_uuid": "3c8f890dbd58f2a9ed39a6bec150bd816eeb5c2a"
      },
      "cell_type": "code",
      "source": "#let's check\nfeature_matrix.head()",
      "execution_count": 53,
      "outputs": [
        {
          "output_type": "execute_result",
          "execution_count": 53,
          "data": {
            "text/plain": "            id               ...                outlet.MODE(bigmart.Item_Type)\n0  FDA15OUT049               ...                         Fruits and Vegetables\n1  DRC01OUT018               ...                         Fruits and Vegetables\n2  FDN15OUT049               ...                         Fruits and Vegetables\n3  FDX07OUT010               ...                         Fruits and Vegetables\n4  NCD19OUT013               ...                         Fruits and Vegetables\n\n[5 rows x 38 columns]",
            "text/html": "<div>\n<style scoped>\n    .dataframe tbody tr th:only-of-type {\n        vertical-align: middle;\n    }\n\n    .dataframe tbody tr th {\n        vertical-align: top;\n    }\n\n    .dataframe thead th {\n        text-align: right;\n    }\n</style>\n<table border=\"1\" class=\"dataframe\">\n  <thead>\n    <tr style=\"text-align: right;\">\n      <th></th>\n      <th>id</th>\n      <th>Item_Weight</th>\n      <th>Item_Fat_Content</th>\n      <th>Item_Visibility</th>\n      <th>Item_Type</th>\n      <th>Item_MRP</th>\n      <th>Outlet_Identifier</th>\n      <th>outlet.Outlet_Establishment_Year</th>\n      <th>outlet.Outlet_Size</th>\n      <th>outlet.Outlet_Location_Type</th>\n      <th>outlet.Outlet_Type</th>\n      <th>outlet.SUM(bigmart.Item_Weight)</th>\n      <th>outlet.SUM(bigmart.Item_Fat_Content)</th>\n      <th>outlet.SUM(bigmart.Item_Visibility)</th>\n      <th>outlet.SUM(bigmart.Item_MRP)</th>\n      <th>outlet.STD(bigmart.Item_Weight)</th>\n      <th>outlet.STD(bigmart.Item_Fat_Content)</th>\n      <th>outlet.STD(bigmart.Item_Visibility)</th>\n      <th>outlet.STD(bigmart.Item_MRP)</th>\n      <th>outlet.MAX(bigmart.Item_Weight)</th>\n      <th>outlet.MAX(bigmart.Item_Fat_Content)</th>\n      <th>outlet.MAX(bigmart.Item_Visibility)</th>\n      <th>outlet.MAX(bigmart.Item_MRP)</th>\n      <th>outlet.SKEW(bigmart.Item_Weight)</th>\n      <th>outlet.SKEW(bigmart.Item_Fat_Content)</th>\n      <th>outlet.SKEW(bigmart.Item_Visibility)</th>\n      <th>outlet.SKEW(bigmart.Item_MRP)</th>\n      <th>outlet.MIN(bigmart.Item_Weight)</th>\n      <th>outlet.MIN(bigmart.Item_Fat_Content)</th>\n      <th>outlet.MIN(bigmart.Item_Visibility)</th>\n      <th>outlet.MIN(bigmart.Item_MRP)</th>\n      <th>outlet.MEAN(bigmart.Item_Weight)</th>\n      <th>outlet.MEAN(bigmart.Item_Fat_Content)</th>\n      <th>outlet.MEAN(bigmart.Item_Visibility)</th>\n      <th>outlet.MEAN(bigmart.Item_MRP)</th>\n      <th>outlet.COUNT(bigmart)</th>\n      <th>outlet.NUM_UNIQUE(bigmart.Item_Type)</th>\n      <th>outlet.MODE(bigmart.Item_Type)</th>\n    </tr>\n  </thead>\n  <tbody>\n    <tr>\n      <th>0</th>\n      <td>FDA15OUT049</td>\n      <td>9.30</td>\n      <td>0</td>\n      <td>0.016047</td>\n      <td>Dairy</td>\n      <td>249.8092</td>\n      <td>OUT049</td>\n      <td>1999</td>\n      <td>Medium</td>\n      <td>Tier 1</td>\n      <td>Supermarket Type1</td>\n      <td>19844.655</td>\n      <td>547</td>\n      <td>91.450099</td>\n      <td>218802.9588</td>\n      <td>4.650796</td>\n      <td>0.478027</td>\n      <td>0.043924</td>\n      <td>62.144594</td>\n      <td>21.35</td>\n      <td>1</td>\n      <td>0.187850</td>\n      <td>266.4884</td>\n      <td>0.099024</td>\n      <td>0.616228</td>\n      <td>0.790782</td>\n      <td>0.126294</td>\n      <td>4.555</td>\n      <td>0</td>\n      <td>0.0</td>\n      <td>32.4558</td>\n      <td>12.803003</td>\n      <td>0.352903</td>\n      <td>0.059000</td>\n      <td>141.163199</td>\n      <td>1550</td>\n      <td>16</td>\n      <td>Fruits and Vegetables</td>\n    </tr>\n    <tr>\n      <th>1</th>\n      <td>DRC01OUT018</td>\n      <td>5.92</td>\n      <td>1</td>\n      <td>0.019278</td>\n      <td>Soft Drinks</td>\n      <td>48.2692</td>\n      <td>OUT018</td>\n      <td>2009</td>\n      <td>Medium</td>\n      <td>Tier 3</td>\n      <td>Supermarket Type2</td>\n      <td>19794.425</td>\n      <td>547</td>\n      <td>92.723425</td>\n      <td>217987.3906</td>\n      <td>4.650874</td>\n      <td>0.478308</td>\n      <td>0.044489</td>\n      <td>62.022851</td>\n      <td>21.35</td>\n      <td>1</td>\n      <td>0.188323</td>\n      <td>266.3226</td>\n      <td>0.102602</td>\n      <td>0.612046</td>\n      <td>0.783017</td>\n      <td>0.133528</td>\n      <td>4.555</td>\n      <td>0</td>\n      <td>0.0</td>\n      <td>31.8900</td>\n      <td>12.803638</td>\n      <td>0.353816</td>\n      <td>0.059976</td>\n      <td>141.000899</td>\n      <td>1546</td>\n      <td>16</td>\n      <td>Fruits and Vegetables</td>\n    </tr>\n    <tr>\n      <th>2</th>\n      <td>FDN15OUT049</td>\n      <td>17.50</td>\n      <td>0</td>\n      <td>0.016760</td>\n      <td>Meat</td>\n      <td>141.6180</td>\n      <td>OUT049</td>\n      <td>1999</td>\n      <td>Medium</td>\n      <td>Tier 1</td>\n      <td>Supermarket Type1</td>\n      <td>19844.655</td>\n      <td>547</td>\n      <td>91.450099</td>\n      <td>218802.9588</td>\n      <td>4.650796</td>\n      <td>0.478027</td>\n      <td>0.043924</td>\n      <td>62.144594</td>\n      <td>21.35</td>\n      <td>1</td>\n      <td>0.187850</td>\n      <td>266.4884</td>\n      <td>0.099024</td>\n      <td>0.616228</td>\n      <td>0.790782</td>\n      <td>0.126294</td>\n      <td>4.555</td>\n      <td>0</td>\n      <td>0.0</td>\n      <td>32.4558</td>\n      <td>12.803003</td>\n      <td>0.352903</td>\n      <td>0.059000</td>\n      <td>141.163199</td>\n      <td>1550</td>\n      <td>16</td>\n      <td>Fruits and Vegetables</td>\n    </tr>\n    <tr>\n      <th>3</th>\n      <td>FDX07OUT010</td>\n      <td>19.20</td>\n      <td>1</td>\n      <td>0.000000</td>\n      <td>Fruits and Vegetables</td>\n      <td>182.0950</td>\n      <td>OUT010</td>\n      <td>1998</td>\n      <td>missing</td>\n      <td>Tier 3</td>\n      <td>Grocery Store</td>\n      <td>11768.655</td>\n      <td>330</td>\n      <td>94.293418</td>\n      <td>130572.7618</td>\n      <td>4.675070</td>\n      <td>0.479301</td>\n      <td>0.073604</td>\n      <td>62.010835</td>\n      <td>21.35</td>\n      <td>1</td>\n      <td>0.313935</td>\n      <td>266.6884</td>\n      <td>0.112759</td>\n      <td>0.599012</td>\n      <td>0.776902</td>\n      <td>0.104693</td>\n      <td>4.610</td>\n      <td>0</td>\n      <td>0.0</td>\n      <td>32.6558</td>\n      <td>12.722870</td>\n      <td>0.356757</td>\n      <td>0.101939</td>\n      <td>141.159742</td>\n      <td>925</td>\n      <td>16</td>\n      <td>Fruits and Vegetables</td>\n    </tr>\n    <tr>\n      <th>4</th>\n      <td>NCD19OUT013</td>\n      <td>8.93</td>\n      <td>0</td>\n      <td>0.000000</td>\n      <td>Household</td>\n      <td>53.8614</td>\n      <td>OUT013</td>\n      <td>1987</td>\n      <td>High</td>\n      <td>Tier 3</td>\n      <td>Supermarket Type1</td>\n      <td>19859.980</td>\n      <td>549</td>\n      <td>93.555174</td>\n      <td>219172.4492</td>\n      <td>4.650214</td>\n      <td>0.478213</td>\n      <td>0.044005</td>\n      <td>62.140848</td>\n      <td>21.35</td>\n      <td>1</td>\n      <td>0.185913</td>\n      <td>266.6884</td>\n      <td>0.104392</td>\n      <td>0.613449</td>\n      <td>0.759033</td>\n      <td>0.130888</td>\n      <td>4.555</td>\n      <td>0</td>\n      <td>0.0</td>\n      <td>31.4900</td>\n      <td>12.788139</td>\n      <td>0.353509</td>\n      <td>0.060242</td>\n      <td>141.128428</td>\n      <td>1553</td>\n      <td>16</td>\n      <td>Fruits and Vegetables</td>\n    </tr>\n  </tbody>\n</table>\n</div>"
          },
          "metadata": {}
        }
      ]
    },
    {
      "metadata": {
        "_uuid": "ed849a353f555d1e6cdbd7f84fa6ef3ceffbb35d"
      },
      "cell_type": "markdown",
      "source": "# Model building"
    },
    {
      "metadata": {
        "trusted": true,
        "_uuid": "9f172c047a1d662d2e8cdcca01e8a019a704dd38"
      },
      "cell_type": "code",
      "source": "# using cataboost algorithm\n\nfrom catboost import CatBoostRegressor\n\n#atBoost requires all the categorical variables to be in the string format. \n#so, we will convert the categorical variables in our data to string first:\n\ncategorical_features = np.where(feature_matrix.dtypes == 'object')[0]\n\nfor i in categorical_features:\n    feature_matrix.iloc[:,i] = feature_matrix.iloc[:,i].astype('str')",
      "execution_count": 54,
      "outputs": []
    },
    {
      "metadata": {
        "trusted": true,
        "_uuid": "3f952d516a0d6fec8c5304aef1ed812bdd3c8c7d"
      },
      "cell_type": "code",
      "source": "#Let’s split feature_matrix back into train and test sets.\n\nfeature_matrix.drop(['id'], axis=1, inplace=True)\ntrain = feature_matrix[:8523]\ntest = feature_matrix[8523:]",
      "execution_count": 55,
      "outputs": []
    },
    {
      "metadata": {
        "trusted": true,
        "_uuid": "df87ccdb73a1c65afa4fa66fb16de1485c249940"
      },
      "cell_type": "code",
      "source": "# removing uneccesary variables\ntrain.drop(['Outlet_Identifier'], axis=1, inplace=True)\ntest.drop(['Outlet_Identifier'], axis=1, inplace=True)",
      "execution_count": 56,
      "outputs": []
    },
    {
      "metadata": {
        "trusted": true,
        "_uuid": "4b500887d15fb052380199932072ba5a8e3935f2"
      },
      "cell_type": "code",
      "source": "# identifying categorical features\ncategorical_features = np.where(train.dtypes == 'object')[0]",
      "execution_count": 57,
      "outputs": []
    },
    {
      "metadata": {
        "trusted": true,
        "_uuid": "2c4a613ed6ca2f21ae68e8e80ca19453bc5a7ea3"
      },
      "cell_type": "code",
      "source": "#Now splitting the train data into training and validation set to check the model’s performance locally.\n\nfrom sklearn.model_selection import train_test_split\n\n# splitting train data into training and validation set\nxtrain, xvalid, ytrain, yvalid = train_test_split(train, sales, test_size=0.25, random_state=11)",
      "execution_count": 58,
      "outputs": []
    },
    {
      "metadata": {
        "trusted": true,
        "_uuid": "66752e9f1e383bfcb5bd79a0d6236ad3560c1082"
      },
      "cell_type": "code",
      "source": "#we can now train our model. The evaluation metric we will use is RMSE (Root Mean Squared Error).\n\nmodel_cat = CatBoostRegressor(iterations=100, learning_rate=0.3, depth=6, eval_metric='RMSE', random_seed=7)\n\n# training model\nmodel_cat.fit(xtrain, ytrain, cat_features=categorical_features, use_best_model=True)",
      "execution_count": 59,
      "outputs": [
        {
          "output_type": "stream",
          "text": "You should provide test set for use best model. use_best_model parameter swiched to false value.\n0:\tlearn: 2136.8880891\ttotal: 6.48ms\tremaining: 641ms\n1:\tlearn: 1703.1661771\ttotal: 178ms\tremaining: 8.73s\n2:\tlearn: 1431.2867924\ttotal: 281ms\tremaining: 9.1s\n3:\tlearn: 1281.6678532\ttotal: 383ms\tremaining: 9.19s\n4:\tlearn: 1192.1684008\ttotal: 497ms\tremaining: 9.45s\n5:\tlearn: 1136.4815192\ttotal: 679ms\tremaining: 10.6s\n6:\tlearn: 1108.4994983\ttotal: 782ms\tremaining: 10.4s\n7:\tlearn: 1090.4404507\ttotal: 879ms\tremaining: 10.1s\n8:\tlearn: 1083.3918071\ttotal: 973ms\tremaining: 9.84s\n9:\tlearn: 1078.0916303\ttotal: 1.08s\tremaining: 9.7s\n10:\tlearn: 1075.1552515\ttotal: 1.18s\tremaining: 9.57s\n11:\tlearn: 1072.8882621\ttotal: 1.28s\tremaining: 9.37s\n12:\tlearn: 1071.4932371\ttotal: 1.38s\tremaining: 9.23s\n13:\tlearn: 1071.2754705\ttotal: 1.48s\tremaining: 9.12s\n14:\tlearn: 1070.5455577\ttotal: 1.57s\tremaining: 8.9s\n15:\tlearn: 1068.8250832\ttotal: 1.67s\tremaining: 8.78s\n16:\tlearn: 1068.0881381\ttotal: 1.77s\tremaining: 8.65s\n17:\tlearn: 1067.5011489\ttotal: 1.79s\tremaining: 8.16s\n18:\tlearn: 1065.6371140\ttotal: 1.89s\tremaining: 8.04s\n19:\tlearn: 1065.6346269\ttotal: 1.97s\tremaining: 7.88s\n20:\tlearn: 1065.4876413\ttotal: 1.99s\tremaining: 7.49s\n21:\tlearn: 1065.4412031\ttotal: 2.08s\tremaining: 7.39s\n22:\tlearn: 1063.9217333\ttotal: 2.27s\tremaining: 7.6s\n23:\tlearn: 1063.6991433\ttotal: 2.37s\tremaining: 7.52s\n24:\tlearn: 1063.0454352\ttotal: 2.47s\tremaining: 7.41s\n25:\tlearn: 1062.7116921\ttotal: 2.49s\tremaining: 7.09s\n26:\tlearn: 1062.6884629\ttotal: 2.58s\tremaining: 6.99s\n27:\tlearn: 1062.2217372\ttotal: 2.68s\tremaining: 6.89s\n28:\tlearn: 1061.7216570\ttotal: 2.77s\tremaining: 6.79s\n29:\tlearn: 1060.4837557\ttotal: 2.87s\tremaining: 6.69s\n30:\tlearn: 1059.0238976\ttotal: 2.97s\tremaining: 6.6s\n31:\tlearn: 1058.9106706\ttotal: 3.07s\tremaining: 6.52s\n32:\tlearn: 1058.8641873\ttotal: 3.08s\tremaining: 6.26s\n33:\tlearn: 1058.8580222\ttotal: 3.1s\tremaining: 6.03s\n34:\tlearn: 1057.0338152\ttotal: 3.18s\tremaining: 5.9s\n35:\tlearn: 1056.2979063\ttotal: 3.36s\tremaining: 5.98s\n36:\tlearn: 1055.9617979\ttotal: 3.46s\tremaining: 5.89s\n37:\tlearn: 1055.2839800\ttotal: 3.49s\tremaining: 5.7s\n38:\tlearn: 1054.5299994\ttotal: 3.58s\tremaining: 5.61s\n39:\tlearn: 1054.4974106\ttotal: 3.68s\tremaining: 5.53s\n40:\tlearn: 1054.1152605\ttotal: 3.78s\tremaining: 5.44s\n41:\tlearn: 1053.0569072\ttotal: 3.88s\tremaining: 5.36s\n42:\tlearn: 1051.6904165\ttotal: 3.99s\tremaining: 5.28s\n43:\tlearn: 1050.8541566\ttotal: 4.16s\tremaining: 5.29s\n44:\tlearn: 1050.2969776\ttotal: 4.27s\tremaining: 5.22s\n45:\tlearn: 1049.5414434\ttotal: 4.38s\tremaining: 5.14s\n46:\tlearn: 1049.5399956\ttotal: 4.46s\tremaining: 5.03s\n47:\tlearn: 1049.0274545\ttotal: 4.56s\tremaining: 4.94s\n48:\tlearn: 1048.5935992\ttotal: 4.66s\tremaining: 4.85s\n49:\tlearn: 1048.4663778\ttotal: 4.76s\tremaining: 4.76s\n50:\tlearn: 1047.6865863\ttotal: 4.86s\tremaining: 4.67s\n51:\tlearn: 1046.0900359\ttotal: 4.97s\tremaining: 4.59s\n52:\tlearn: 1045.5392541\ttotal: 5.08s\tremaining: 4.51s\n53:\tlearn: 1045.4678962\ttotal: 5.17s\tremaining: 4.41s\n54:\tlearn: 1045.3354287\ttotal: 5.28s\tremaining: 4.32s\n55:\tlearn: 1043.7857523\ttotal: 5.38s\tremaining: 4.22s\n56:\tlearn: 1041.7918708\ttotal: 5.55s\tremaining: 4.19s\n57:\tlearn: 1041.2302439\ttotal: 5.65s\tremaining: 4.09s\n58:\tlearn: 1041.0320682\ttotal: 5.66s\tremaining: 3.93s\n59:\tlearn: 1040.4364722\ttotal: 5.76s\tremaining: 3.84s\n60:\tlearn: 1040.1835023\ttotal: 5.85s\tremaining: 3.74s\n61:\tlearn: 1039.9521495\ttotal: 5.96s\tremaining: 3.65s\n62:\tlearn: 1039.4262372\ttotal: 6.05s\tremaining: 3.56s\n63:\tlearn: 1039.2634767\ttotal: 6.08s\tremaining: 3.42s\n64:\tlearn: 1039.2564458\ttotal: 6.17s\tremaining: 3.32s\n65:\tlearn: 1038.6657524\ttotal: 6.26s\tremaining: 3.23s\n66:\tlearn: 1037.0546875\ttotal: 6.36s\tremaining: 3.13s\n67:\tlearn: 1037.0228391\ttotal: 6.45s\tremaining: 3.04s\n68:\tlearn: 1036.7138673\ttotal: 6.56s\tremaining: 2.95s\n69:\tlearn: 1036.1505491\ttotal: 6.66s\tremaining: 2.85s\n70:\tlearn: 1035.7418335\ttotal: 6.77s\tremaining: 2.77s\n71:\tlearn: 1034.0150944\ttotal: 6.87s\tremaining: 2.67s\n72:\tlearn: 1032.3222127\ttotal: 6.97s\tremaining: 2.58s\n73:\tlearn: 1031.9422398\ttotal: 7.15s\tremaining: 2.51s\n74:\tlearn: 1031.0829518\ttotal: 7.25s\tremaining: 2.42s\n75:\tlearn: 1030.9726503\ttotal: 7.36s\tremaining: 2.32s\n76:\tlearn: 1030.5290860\ttotal: 7.46s\tremaining: 2.23s\n77:\tlearn: 1029.7634915\ttotal: 7.55s\tremaining: 2.13s\n78:\tlearn: 1029.4872244\ttotal: 7.66s\tremaining: 2.04s\n79:\tlearn: 1028.6212106\ttotal: 7.77s\tremaining: 1.94s\n80:\tlearn: 1027.5711722\ttotal: 7.86s\tremaining: 1.84s\n81:\tlearn: 1027.0675106\ttotal: 7.95s\tremaining: 1.75s\n82:\tlearn: 1026.4526742\ttotal: 8.05s\tremaining: 1.65s\n83:\tlearn: 1026.2801002\ttotal: 8.07s\tremaining: 1.54s\n84:\tlearn: 1025.1269950\ttotal: 8.17s\tremaining: 1.44s\n85:\tlearn: 1024.8870390\ttotal: 8.26s\tremaining: 1.34s\n86:\tlearn: 1024.8802926\ttotal: 8.37s\tremaining: 1.25s\n87:\tlearn: 1024.6511033\ttotal: 8.46s\tremaining: 1.15s\n88:\tlearn: 1024.5921923\ttotal: 8.55s\tremaining: 1.06s\n89:\tlearn: 1023.4128298\ttotal: 8.65s\tremaining: 961ms\n90:\tlearn: 1023.3234541\ttotal: 8.76s\tremaining: 866ms\n91:\tlearn: 1023.3151303\ttotal: 8.77s\tremaining: 763ms\n92:\tlearn: 1022.8964338\ttotal: 8.86s\tremaining: 667ms\n93:\tlearn: 1022.8161714\ttotal: 8.96s\tremaining: 572ms\n94:\tlearn: 1021.6922499\ttotal: 9.14s\tremaining: 481ms\n95:\tlearn: 1021.5984522\ttotal: 9.24s\tremaining: 385ms\n96:\tlearn: 1019.8494243\ttotal: 9.34s\tremaining: 289ms\n97:\tlearn: 1019.8137823\ttotal: 9.44s\tremaining: 193ms\n98:\tlearn: 1018.9842313\ttotal: 9.54s\tremaining: 96.4ms\n99:\tlearn: 1017.8942558\ttotal: 9.66s\tremaining: 0us\n",
          "name": "stdout"
        },
        {
          "output_type": "execute_result",
          "execution_count": 59,
          "data": {
            "text/plain": "<catboost.core.CatBoostRegressor at 0x7f1f601a94e0>"
          },
          "metadata": {}
        }
      ]
    },
    {
      "metadata": {
        "trusted": true,
        "_uuid": "62a0d49e79334279bbaf947687a5be55aa2c6bac"
      },
      "cell_type": "code",
      "source": "# validation score\nmodel_cat.score(xvalid, yvalid)",
      "execution_count": 60,
      "outputs": [
        {
          "output_type": "execute_result",
          "execution_count": 60,
          "data": {
            "text/plain": "1093.6992804410283"
          },
          "metadata": {}
        }
      ]
    },
    {
      "metadata": {
        "trusted": true,
        "_uuid": "4d0a8e71f90330524768c0969cf73bebc40a9fc6"
      },
      "cell_type": "code",
      "source": "",
      "execution_count": null,
      "outputs": []
    }
  ],
  "metadata": {
    "kernelspec": {
      "display_name": "Python 3",
      "language": "python",
      "name": "python3"
    },
    "language_info": {
      "name": "python",
      "version": "3.6.6",
      "mimetype": "text/x-python",
      "codemirror_mode": {
        "name": "ipython",
        "version": 3
      },
      "pygments_lexer": "ipython3",
      "nbconvert_exporter": "python",
      "file_extension": ".py"
    }
  },
  "nbformat": 4,
  "nbformat_minor": 1
}
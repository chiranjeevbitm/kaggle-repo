{
 "cells": [
  {
   "cell_type": "markdown",
   "metadata": {},
   "source": [
    "# Import libraries "
   ]
  },
  {
   "cell_type": "code",
   "execution_count": 1,
   "metadata": {},
   "outputs": [
    {
     "ename": "ModuleNotFoundError",
     "evalue": "No module named 'bs4'",
     "output_type": "error",
     "traceback": [
      "\u001b[0;31m---------------------------------------------------------------------------\u001b[0m",
      "\u001b[0;31mModuleNotFoundError\u001b[0m                       Traceback (most recent call last)",
      "\u001b[0;32m<ipython-input-1-a70113c35b64>\u001b[0m in \u001b[0;36m<module>\u001b[0;34m\u001b[0m\n\u001b[1;32m      1\u001b[0m \u001b[0;32mimport\u001b[0m \u001b[0murllib\u001b[0m\u001b[0;34m\u001b[0m\u001b[0m\n\u001b[1;32m      2\u001b[0m \u001b[0;32mimport\u001b[0m \u001b[0murllib\u001b[0m\u001b[0;34m.\u001b[0m\u001b[0mrequest\u001b[0m \u001b[0;32mas\u001b[0m \u001b[0muReq\u001b[0m\u001b[0;34m\u001b[0m\u001b[0m\n\u001b[0;32m----> 3\u001b[0;31m \u001b[0;32mimport\u001b[0m \u001b[0mbs4\u001b[0m\u001b[0;34m\u001b[0m\u001b[0m\n\u001b[0m\u001b[1;32m      4\u001b[0m \u001b[0;32mfrom\u001b[0m \u001b[0mbs4\u001b[0m \u001b[0;32mimport\u001b[0m \u001b[0mBeautifulSoup\u001b[0m\u001b[0;34m\u001b[0m\u001b[0m\n\u001b[1;32m      5\u001b[0m \u001b[0;34m\u001b[0m\u001b[0m\n",
      "\u001b[0;31mModuleNotFoundError\u001b[0m: No module named 'bs4'"
     ]
    }
   ],
   "source": [
    "import urllib\n",
    "import urllib.request as uReq\n",
    "import bs4                           \n",
    "from bs4 import BeautifulSoup \n",
    "\n",
    "\n",
    "import pickle                                 # important to save data \n"
   ]
  },
  {
   "cell_type": "code",
   "execution_count": null,
   "metadata": {},
   "outputs": [],
   "source": [
    "# For Movies Scrapping\n",
    "site = \"http://www.imdb.com/chart/moviemeter\"\n",
    "#site = 'http://www.imdb.com/chart/top?ref_=nv_mv_250_6'\n",
    "uClient = uReq.urlopen(site)\n",
    "page_html = uClient.read()\n",
    "uClient.close()\n"
   ]
  },
  {
   "cell_type": "code",
   "execution_count": null,
   "metadata": {},
   "outputs": [],
   "source": [
    "soup = BeautifulSoup(page_html,\"html.parser\")"
   ]
  },
  {
   "cell_type": "code",
   "execution_count": null,
   "metadata": {},
   "outputs": [],
   "source": [
    "print(soup)"
   ]
  },
  {
   "cell_type": "code",
   "execution_count": null,
   "metadata": {},
   "outputs": [],
   "source": [
    "containers = soup.findAll(\"tbody\",{\"class\":\"lister-list\"})"
   ]
  },
  {
   "cell_type": "code",
   "execution_count": null,
   "metadata": {},
   "outputs": [],
   "source": [
    "print(containers)"
   ]
  },
  {
   "cell_type": "code",
   "execution_count": null,
   "metadata": {},
   "outputs": [],
   "source": [
    "print(len(containers))  \n",
    "print(type(containers[0]))\n"
   ]
  },
  {
   "cell_type": "code",
   "execution_count": null,
   "metadata": {},
   "outputs": [],
   "source": [
    "rows = containers[0].findAll(\"tr\")"
   ]
  },
  {
   "cell_type": "code",
   "execution_count": null,
   "metadata": {},
   "outputs": [],
   "source": [
    "print(rows)"
   ]
  },
  {
   "cell_type": "code",
   "execution_count": null,
   "metadata": {},
   "outputs": [],
   "source": [
    "dataSet = {\n",
    "    'Name Of Movie':[],\n",
    "    'Year Of Release':[],\n",
    "    'Ranking Change_Jump':[],\n",
    "    'Change':[],\n",
    "    'Users_count':[],\n",
    "    'Rating':[]\n",
    "\n",
    "}\n",
    "\n"
   ]
  },
  {
   "cell_type": "code",
   "execution_count": null,
   "metadata": {},
   "outputs": [],
   "source": [
    "# For Savinng the result \n",
    "file = open(\"csvfileMovies.csv\",\"w+\")"
   ]
  },
  {
   "cell_type": "code",
   "execution_count": null,
   "metadata": {},
   "outputs": [],
   "source": [
    "file.write('Name Of Movie'+','+'Year Of Release'+','+'Ranking Change_Jump'+','+'Change'+','+'Users_count'+','+'Rating'+'\\n')\n",
    "\n"
   ]
  },
  {
   "cell_type": "code",
   "execution_count": null,
   "metadata": {},
   "outputs": [],
   "source": [
    "for i in range(len(rows)):\n",
    "    \n",
    "    # Add Names of the movies to the dataset Dictionary\n",
    "    dataSet['Name Of Movie'].append(rows[i].find(\"td\",{\"class\":\"titleColumn\"}).find(\"a\").text)\n",
    "    \n",
    "    # Add Rlease Year of the movies to the dataset Dictionary\n",
    "    dataSet['Year Of Release'].append(int(rows[i].find(\"td\",{\"class\":\"titleColumn\"}).find(\"span\").text.split('(')[1].split(')')[0]))\n",
    "    \n",
    "    if (rows[i].find(\"td\",{\"class\":\"titleColumn\"}).find(\"div\").text.split('(')[1].split(')')[0] == 'no change'):\n",
    "        dataSet['Ranking Change_Jump'].append('0')\n",
    "    else:\n",
    "        dataSet['Ranking Change_Jump'].append(rows[i].find(\"td\",{\"class\":\"titleColumn\"}).find(\"div\").text.split('(')[1].split(')')[0].split('\\n')[2].replace(',',''))\n",
    "\n",
    "   \n",
    "    try :\n",
    "        dataSet['Users_count'].append(str(int(rows[i].find(\"td\",{\"class\":[\"ratingColumn\",\"imdbRating\"]}).find(\"strong\")['title'].split()[3].replace(',',''))))\n",
    "    except TypeError:\n",
    "        dataSet['Users_count'].append(\"\")\n"
   ]
  },
  {
   "cell_type": "code",
   "execution_count": null,
   "metadata": {},
   "outputs": [],
   "source": [
    "dataSet['Users_count']"
   ]
  },
  {
   "cell_type": "code",
   "execution_count": null,
   "metadata": {},
   "outputs": [],
   "source": [
    "\n",
    "\n",
    "\n",
    "\n",
    "\n"
   ]
  },
  {
   "cell_type": "code",
   "execution_count": null,
   "metadata": {},
   "outputs": [],
   "source": []
  },
  {
   "cell_type": "code",
   "execution_count": null,
   "metadata": {},
   "outputs": [],
   "source": []
  },
  {
   "cell_type": "code",
   "execution_count": null,
   "metadata": {},
   "outputs": [],
   "source": []
  },
  {
   "cell_type": "code",
   "execution_count": null,
   "metadata": {},
   "outputs": [],
   "source": []
  },
  {
   "cell_type": "code",
   "execution_count": null,
   "metadata": {},
   "outputs": [],
   "source": [
    "\n",
    "\n",
    "\t\n",
    "\tif (rows[i].find(\"td\",{\"class\":\"titleColumn\"}).find(\"div\").text.split('(')[1].split(')')[0] == 'no change'):\n",
    "\t\tdataSet['Ranking Change_Jump'].append('0')\n",
    "\telse:\n",
    "\t\tdataSet['Ranking Change_Jump'].append(rows[i].find(\"td\",{\"class\":\"titleColumn\"}).find(\"div\").text.split('(')[1].split(')')[0].split('\\n')[2].replace(',',''))\n",
    "\t\n",
    "\tif (rows[i].find(\"td\",{\"class\":\"titleColumn\"}).find(\"div\").find(\"span\") == None):\n",
    "\t\tdataSet['Change'].append('no change')\n",
    "\telse:\n",
    "\t\tdataSet['Change'].append(rows[i].find(\"td\",{\"class\":\"titleColumn\"}).find(\"div\").findAll(\"span\")[1].attrs['class'][2])\t\n",
    "\n",
    "\n",
    "\n",
    "\ttry :\n",
    "\t\tdataSet['Users_count'].append(str(int(rows[i].find(\"td\",{\"class\":[\"ratingColumn\",\"imdbRating\"]}).find(\"strong\")['title'].split()[3].replace(',',''))))\n",
    "\texcept TypeError:\n",
    "\t\tdataSet['Users_count'].append(\"\")\n",
    "\t\n",
    "\tdataSet['Rating'].append(rows[i].find(\"td\",{\"class\":[\"ratingColumn\",\"imdbRating\"]}).text.split('\\n')[1])\n",
    "\n",
    "\tfile.write(str(dataSet['Name Of Movie'][i])+\",\"+str(dataSet['Year Of Release'][i])+\",\"+str(dataSet['Ranking Change_Jump'][i])+\",\"+str(dataSet['Change'][i])+\",\"+str(dataSet['Users_count'][i])+\",\"+str(dataSet['Rating'][i])+\"\\n\")\n",
    "\n",
    "file.close()"
   ]
  }
 ],
 "metadata": {
  "kernelspec": {
   "display_name": "Python 3",
   "language": "python",
   "name": "python3"
  },
  "language_info": {
   "codemirror_mode": {
    "name": "ipython",
    "version": 3
   },
   "file_extension": ".py",
   "mimetype": "text/x-python",
   "name": "python",
   "nbconvert_exporter": "python",
   "pygments_lexer": "ipython3",
   "version": "3.7.0"
  }
 },
 "nbformat": 4,
 "nbformat_minor": 2
}

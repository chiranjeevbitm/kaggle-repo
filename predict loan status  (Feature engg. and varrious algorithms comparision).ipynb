{
  "cells": [
    {
      "metadata": {
        "_uuid": "8f2839f25d086af736a60e9eeb907d3b93b6e0e5",
        "_cell_guid": "b1076dfc-b9ad-4769-8c92-a6c4dae69d19",
        "trusted": true,
        "collapsed": true
      },
      "cell_type": "code",
      "source": "import numpy as np\nimport pandas as pd\nimport seaborn as sns\nfrom matplotlib import pyplot as plt\n\nfrom sklearn.preprocessing import Normalizer\nfrom sklearn.model_selection import train_test_split\nfrom pylab import plot, show, subplot, specgram, imshow, savefig\nfrom sklearn import preprocessing\nfrom sklearn import cross_validation, metrics\nfrom sklearn.preprocessing import Normalizer\nfrom sklearn.cross_validation import cross_val_score\n%matplotlib inline",
      "execution_count": 34,
      "outputs": []
    },
    {
      "metadata": {
        "_cell_guid": "79c7e3d0-c299-4dcb-8224-4455121ee9b0",
        "collapsed": true,
        "_uuid": "d629ff2d2480ee46fbb7e2d37f6b5fab8052498a",
        "trusted": true
      },
      "cell_type": "code",
      "source": "data_train = pd.read_csv(\"../input/train_u6lujuX_CVtuZ9i.csv\") \n\ndata_test = pd.read_csv(\"../input/test_Y3wMUE5_7gLdaTN.csv\") ",
      "execution_count": 35,
      "outputs": []
    },
    {
      "metadata": {
        "trusted": true,
        "_uuid": "eba1ec43497753394387a127a777083b8d35f103"
      },
      "cell_type": "code",
      "source": "data_train.shape",
      "execution_count": 36,
      "outputs": [
        {
          "output_type": "execute_result",
          "execution_count": 36,
          "data": {
            "text/plain": "(614, 13)"
          },
          "metadata": {}
        }
      ]
    },
    {
      "metadata": {
        "trusted": true,
        "_uuid": "56b349d06a7db574ee40ae4886eb3198218507ea"
      },
      "cell_type": "code",
      "source": "data_test.shape",
      "execution_count": 37,
      "outputs": [
        {
          "output_type": "execute_result",
          "execution_count": 37,
          "data": {
            "text/plain": "(367, 12)"
          },
          "metadata": {}
        }
      ]
    },
    {
      "metadata": {
        "trusted": true,
        "_uuid": "bff4b9ff4e27dbccfaf63c073fbcf05bfd807bce"
      },
      "cell_type": "code",
      "source": "data_train.head(5)",
      "execution_count": 38,
      "outputs": [
        {
          "output_type": "execute_result",
          "execution_count": 38,
          "data": {
            "text/plain": "    Loan_ID Gender Married     ...     Credit_History Property_Area Loan_Status\n0  LP001002   Male      No     ...                1.0         Urban           Y\n1  LP001003   Male     Yes     ...                1.0         Rural           N\n2  LP001005   Male     Yes     ...                1.0         Urban           Y\n3  LP001006   Male     Yes     ...                1.0         Urban           Y\n4  LP001008   Male      No     ...                1.0         Urban           Y\n\n[5 rows x 13 columns]",
            "text/html": "<div>\n<style scoped>\n    .dataframe tbody tr th:only-of-type {\n        vertical-align: middle;\n    }\n\n    .dataframe tbody tr th {\n        vertical-align: top;\n    }\n\n    .dataframe thead th {\n        text-align: right;\n    }\n</style>\n<table border=\"1\" class=\"dataframe\">\n  <thead>\n    <tr style=\"text-align: right;\">\n      <th></th>\n      <th>Loan_ID</th>\n      <th>Gender</th>\n      <th>Married</th>\n      <th>Dependents</th>\n      <th>Education</th>\n      <th>Self_Employed</th>\n      <th>ApplicantIncome</th>\n      <th>CoapplicantIncome</th>\n      <th>LoanAmount</th>\n      <th>Loan_Amount_Term</th>\n      <th>Credit_History</th>\n      <th>Property_Area</th>\n      <th>Loan_Status</th>\n    </tr>\n  </thead>\n  <tbody>\n    <tr>\n      <th>0</th>\n      <td>LP001002</td>\n      <td>Male</td>\n      <td>No</td>\n      <td>0</td>\n      <td>Graduate</td>\n      <td>No</td>\n      <td>5849</td>\n      <td>0.0</td>\n      <td>NaN</td>\n      <td>360.0</td>\n      <td>1.0</td>\n      <td>Urban</td>\n      <td>Y</td>\n    </tr>\n    <tr>\n      <th>1</th>\n      <td>LP001003</td>\n      <td>Male</td>\n      <td>Yes</td>\n      <td>1</td>\n      <td>Graduate</td>\n      <td>No</td>\n      <td>4583</td>\n      <td>1508.0</td>\n      <td>128.0</td>\n      <td>360.0</td>\n      <td>1.0</td>\n      <td>Rural</td>\n      <td>N</td>\n    </tr>\n    <tr>\n      <th>2</th>\n      <td>LP001005</td>\n      <td>Male</td>\n      <td>Yes</td>\n      <td>0</td>\n      <td>Graduate</td>\n      <td>Yes</td>\n      <td>3000</td>\n      <td>0.0</td>\n      <td>66.0</td>\n      <td>360.0</td>\n      <td>1.0</td>\n      <td>Urban</td>\n      <td>Y</td>\n    </tr>\n    <tr>\n      <th>3</th>\n      <td>LP001006</td>\n      <td>Male</td>\n      <td>Yes</td>\n      <td>0</td>\n      <td>Not Graduate</td>\n      <td>No</td>\n      <td>2583</td>\n      <td>2358.0</td>\n      <td>120.0</td>\n      <td>360.0</td>\n      <td>1.0</td>\n      <td>Urban</td>\n      <td>Y</td>\n    </tr>\n    <tr>\n      <th>4</th>\n      <td>LP001008</td>\n      <td>Male</td>\n      <td>No</td>\n      <td>0</td>\n      <td>Graduate</td>\n      <td>No</td>\n      <td>6000</td>\n      <td>0.0</td>\n      <td>141.0</td>\n      <td>360.0</td>\n      <td>1.0</td>\n      <td>Urban</td>\n      <td>Y</td>\n    </tr>\n  </tbody>\n</table>\n</div>"
          },
          "metadata": {}
        }
      ]
    },
    {
      "metadata": {
        "trusted": true,
        "_uuid": "68fc91a044bc396215b0afb4e60fa15e0c31b5f1"
      },
      "cell_type": "code",
      "source": "data_train.describe()",
      "execution_count": 39,
      "outputs": [
        {
          "output_type": "execute_result",
          "execution_count": 39,
          "data": {
            "text/plain": "       ApplicantIncome       ...        Credit_History\ncount       614.000000       ...            564.000000\nmean       5403.459283       ...              0.842199\nstd        6109.041673       ...              0.364878\nmin         150.000000       ...              0.000000\n25%        2877.500000       ...              1.000000\n50%        3812.500000       ...              1.000000\n75%        5795.000000       ...              1.000000\nmax       81000.000000       ...              1.000000\n\n[8 rows x 5 columns]",
            "text/html": "<div>\n<style scoped>\n    .dataframe tbody tr th:only-of-type {\n        vertical-align: middle;\n    }\n\n    .dataframe tbody tr th {\n        vertical-align: top;\n    }\n\n    .dataframe thead th {\n        text-align: right;\n    }\n</style>\n<table border=\"1\" class=\"dataframe\">\n  <thead>\n    <tr style=\"text-align: right;\">\n      <th></th>\n      <th>ApplicantIncome</th>\n      <th>CoapplicantIncome</th>\n      <th>LoanAmount</th>\n      <th>Loan_Amount_Term</th>\n      <th>Credit_History</th>\n    </tr>\n  </thead>\n  <tbody>\n    <tr>\n      <th>count</th>\n      <td>614.000000</td>\n      <td>614.000000</td>\n      <td>592.000000</td>\n      <td>600.00000</td>\n      <td>564.000000</td>\n    </tr>\n    <tr>\n      <th>mean</th>\n      <td>5403.459283</td>\n      <td>1621.245798</td>\n      <td>146.412162</td>\n      <td>342.00000</td>\n      <td>0.842199</td>\n    </tr>\n    <tr>\n      <th>std</th>\n      <td>6109.041673</td>\n      <td>2926.248369</td>\n      <td>85.587325</td>\n      <td>65.12041</td>\n      <td>0.364878</td>\n    </tr>\n    <tr>\n      <th>min</th>\n      <td>150.000000</td>\n      <td>0.000000</td>\n      <td>9.000000</td>\n      <td>12.00000</td>\n      <td>0.000000</td>\n    </tr>\n    <tr>\n      <th>25%</th>\n      <td>2877.500000</td>\n      <td>0.000000</td>\n      <td>100.000000</td>\n      <td>360.00000</td>\n      <td>1.000000</td>\n    </tr>\n    <tr>\n      <th>50%</th>\n      <td>3812.500000</td>\n      <td>1188.500000</td>\n      <td>128.000000</td>\n      <td>360.00000</td>\n      <td>1.000000</td>\n    </tr>\n    <tr>\n      <th>75%</th>\n      <td>5795.000000</td>\n      <td>2297.250000</td>\n      <td>168.000000</td>\n      <td>360.00000</td>\n      <td>1.000000</td>\n    </tr>\n    <tr>\n      <th>max</th>\n      <td>81000.000000</td>\n      <td>41667.000000</td>\n      <td>700.000000</td>\n      <td>480.00000</td>\n      <td>1.000000</td>\n    </tr>\n  </tbody>\n</table>\n</div>"
          },
          "metadata": {}
        }
      ]
    },
    {
      "metadata": {
        "trusted": true,
        "_uuid": "11f4505b8bf091f8fa3080fbb35d57151d322d99"
      },
      "cell_type": "code",
      "source": "data_test.head()",
      "execution_count": 40,
      "outputs": [
        {
          "output_type": "execute_result",
          "execution_count": 40,
          "data": {
            "text/plain": "    Loan_ID Gender      ...      Credit_History Property_Area\n0  LP001015   Male      ...                 1.0         Urban\n1  LP001022   Male      ...                 1.0         Urban\n2  LP001031   Male      ...                 1.0         Urban\n3  LP001035   Male      ...                 NaN         Urban\n4  LP001051   Male      ...                 1.0         Urban\n\n[5 rows x 12 columns]",
            "text/html": "<div>\n<style scoped>\n    .dataframe tbody tr th:only-of-type {\n        vertical-align: middle;\n    }\n\n    .dataframe tbody tr th {\n        vertical-align: top;\n    }\n\n    .dataframe thead th {\n        text-align: right;\n    }\n</style>\n<table border=\"1\" class=\"dataframe\">\n  <thead>\n    <tr style=\"text-align: right;\">\n      <th></th>\n      <th>Loan_ID</th>\n      <th>Gender</th>\n      <th>Married</th>\n      <th>Dependents</th>\n      <th>Education</th>\n      <th>Self_Employed</th>\n      <th>ApplicantIncome</th>\n      <th>CoapplicantIncome</th>\n      <th>LoanAmount</th>\n      <th>Loan_Amount_Term</th>\n      <th>Credit_History</th>\n      <th>Property_Area</th>\n    </tr>\n  </thead>\n  <tbody>\n    <tr>\n      <th>0</th>\n      <td>LP001015</td>\n      <td>Male</td>\n      <td>Yes</td>\n      <td>0</td>\n      <td>Graduate</td>\n      <td>No</td>\n      <td>5720</td>\n      <td>0</td>\n      <td>110.0</td>\n      <td>360.0</td>\n      <td>1.0</td>\n      <td>Urban</td>\n    </tr>\n    <tr>\n      <th>1</th>\n      <td>LP001022</td>\n      <td>Male</td>\n      <td>Yes</td>\n      <td>1</td>\n      <td>Graduate</td>\n      <td>No</td>\n      <td>3076</td>\n      <td>1500</td>\n      <td>126.0</td>\n      <td>360.0</td>\n      <td>1.0</td>\n      <td>Urban</td>\n    </tr>\n    <tr>\n      <th>2</th>\n      <td>LP001031</td>\n      <td>Male</td>\n      <td>Yes</td>\n      <td>2</td>\n      <td>Graduate</td>\n      <td>No</td>\n      <td>5000</td>\n      <td>1800</td>\n      <td>208.0</td>\n      <td>360.0</td>\n      <td>1.0</td>\n      <td>Urban</td>\n    </tr>\n    <tr>\n      <th>3</th>\n      <td>LP001035</td>\n      <td>Male</td>\n      <td>Yes</td>\n      <td>2</td>\n      <td>Graduate</td>\n      <td>No</td>\n      <td>2340</td>\n      <td>2546</td>\n      <td>100.0</td>\n      <td>360.0</td>\n      <td>NaN</td>\n      <td>Urban</td>\n    </tr>\n    <tr>\n      <th>4</th>\n      <td>LP001051</td>\n      <td>Male</td>\n      <td>No</td>\n      <td>0</td>\n      <td>Not Graduate</td>\n      <td>No</td>\n      <td>3276</td>\n      <td>0</td>\n      <td>78.0</td>\n      <td>360.0</td>\n      <td>1.0</td>\n      <td>Urban</td>\n    </tr>\n  </tbody>\n</table>\n</div>"
          },
          "metadata": {}
        }
      ]
    },
    {
      "metadata": {
        "trusted": true,
        "_uuid": "adadcd99aed19d1a61ecde93a5847776a647964d"
      },
      "cell_type": "code",
      "source": "data_test.describe()",
      "execution_count": 41,
      "outputs": [
        {
          "output_type": "execute_result",
          "execution_count": 41,
          "data": {
            "text/plain": "       ApplicantIncome       ...        Credit_History\ncount       367.000000       ...            338.000000\nmean       4805.599455       ...              0.825444\nstd        4910.685399       ...              0.380150\nmin           0.000000       ...              0.000000\n25%        2864.000000       ...              1.000000\n50%        3786.000000       ...              1.000000\n75%        5060.000000       ...              1.000000\nmax       72529.000000       ...              1.000000\n\n[8 rows x 5 columns]",
            "text/html": "<div>\n<style scoped>\n    .dataframe tbody tr th:only-of-type {\n        vertical-align: middle;\n    }\n\n    .dataframe tbody tr th {\n        vertical-align: top;\n    }\n\n    .dataframe thead th {\n        text-align: right;\n    }\n</style>\n<table border=\"1\" class=\"dataframe\">\n  <thead>\n    <tr style=\"text-align: right;\">\n      <th></th>\n      <th>ApplicantIncome</th>\n      <th>CoapplicantIncome</th>\n      <th>LoanAmount</th>\n      <th>Loan_Amount_Term</th>\n      <th>Credit_History</th>\n    </tr>\n  </thead>\n  <tbody>\n    <tr>\n      <th>count</th>\n      <td>367.000000</td>\n      <td>367.000000</td>\n      <td>362.000000</td>\n      <td>361.000000</td>\n      <td>338.000000</td>\n    </tr>\n    <tr>\n      <th>mean</th>\n      <td>4805.599455</td>\n      <td>1569.577657</td>\n      <td>136.132597</td>\n      <td>342.537396</td>\n      <td>0.825444</td>\n    </tr>\n    <tr>\n      <th>std</th>\n      <td>4910.685399</td>\n      <td>2334.232099</td>\n      <td>61.366652</td>\n      <td>65.156643</td>\n      <td>0.380150</td>\n    </tr>\n    <tr>\n      <th>min</th>\n      <td>0.000000</td>\n      <td>0.000000</td>\n      <td>28.000000</td>\n      <td>6.000000</td>\n      <td>0.000000</td>\n    </tr>\n    <tr>\n      <th>25%</th>\n      <td>2864.000000</td>\n      <td>0.000000</td>\n      <td>100.250000</td>\n      <td>360.000000</td>\n      <td>1.000000</td>\n    </tr>\n    <tr>\n      <th>50%</th>\n      <td>3786.000000</td>\n      <td>1025.000000</td>\n      <td>125.000000</td>\n      <td>360.000000</td>\n      <td>1.000000</td>\n    </tr>\n    <tr>\n      <th>75%</th>\n      <td>5060.000000</td>\n      <td>2430.500000</td>\n      <td>158.000000</td>\n      <td>360.000000</td>\n      <td>1.000000</td>\n    </tr>\n    <tr>\n      <th>max</th>\n      <td>72529.000000</td>\n      <td>24000.000000</td>\n      <td>550.000000</td>\n      <td>480.000000</td>\n      <td>1.000000</td>\n    </tr>\n  </tbody>\n</table>\n</div>"
          },
          "metadata": {}
        }
      ]
    },
    {
      "metadata": {
        "trusted": true,
        "_uuid": "ae17ca56e35078c039e5dbdaf06865a34cf6b1d4"
      },
      "cell_type": "code",
      "source": "data_train.isnull().sum()",
      "execution_count": 42,
      "outputs": [
        {
          "output_type": "execute_result",
          "execution_count": 42,
          "data": {
            "text/plain": "Loan_ID               0\nGender               13\nMarried               3\nDependents           15\nEducation             0\nSelf_Employed        32\nApplicantIncome       0\nCoapplicantIncome     0\nLoanAmount           22\nLoan_Amount_Term     14\nCredit_History       50\nProperty_Area         0\nLoan_Status           0\ndtype: int64"
          },
          "metadata": {}
        }
      ]
    },
    {
      "metadata": {
        "trusted": true,
        "_uuid": "a95fe111c68c53367b0782a66239ea895a8830b7",
        "collapsed": true
      },
      "cell_type": "code",
      "source": "#test.isnull().sum()",
      "execution_count": 43,
      "outputs": []
    },
    {
      "metadata": {
        "trusted": true,
        "_uuid": "f65c00a7042ba96e80cfbc12ed343564ed869ee7",
        "collapsed": true
      },
      "cell_type": "code",
      "source": "train = pd.read_csv(\"../input/train_u6lujuX_CVtuZ9i.csv\") \ntest = pd.read_csv(\"../input/test_Y3wMUE5_7gLdaTN.csv\") \ntargets = train.Loan_Status\n\ntrain.drop('Loan_Status', 1, inplace=True)\ncombined = train.append(test)\ncombined.reset_index(inplace=True)\ncombined.drop(['index', 'Loan_ID'], inplace=True, axis=1)",
      "execution_count": 44,
      "outputs": []
    },
    {
      "metadata": {
        "trusted": true,
        "_uuid": "2ccf4f73c961c7eeacf85cece9190e09e244d93f"
      },
      "cell_type": "code",
      "source": "combined.head(5)",
      "execution_count": 45,
      "outputs": [
        {
          "output_type": "execute_result",
          "execution_count": 45,
          "data": {
            "text/plain": "  Gender Married      ...      Credit_History Property_Area\n0   Male      No      ...                 1.0         Urban\n1   Male     Yes      ...                 1.0         Rural\n2   Male     Yes      ...                 1.0         Urban\n3   Male     Yes      ...                 1.0         Urban\n4   Male      No      ...                 1.0         Urban\n\n[5 rows x 11 columns]",
            "text/html": "<div>\n<style scoped>\n    .dataframe tbody tr th:only-of-type {\n        vertical-align: middle;\n    }\n\n    .dataframe tbody tr th {\n        vertical-align: top;\n    }\n\n    .dataframe thead th {\n        text-align: right;\n    }\n</style>\n<table border=\"1\" class=\"dataframe\">\n  <thead>\n    <tr style=\"text-align: right;\">\n      <th></th>\n      <th>Gender</th>\n      <th>Married</th>\n      <th>Dependents</th>\n      <th>Education</th>\n      <th>Self_Employed</th>\n      <th>ApplicantIncome</th>\n      <th>CoapplicantIncome</th>\n      <th>LoanAmount</th>\n      <th>Loan_Amount_Term</th>\n      <th>Credit_History</th>\n      <th>Property_Area</th>\n    </tr>\n  </thead>\n  <tbody>\n    <tr>\n      <th>0</th>\n      <td>Male</td>\n      <td>No</td>\n      <td>0</td>\n      <td>Graduate</td>\n      <td>No</td>\n      <td>5849</td>\n      <td>0.0</td>\n      <td>NaN</td>\n      <td>360.0</td>\n      <td>1.0</td>\n      <td>Urban</td>\n    </tr>\n    <tr>\n      <th>1</th>\n      <td>Male</td>\n      <td>Yes</td>\n      <td>1</td>\n      <td>Graduate</td>\n      <td>No</td>\n      <td>4583</td>\n      <td>1508.0</td>\n      <td>128.0</td>\n      <td>360.0</td>\n      <td>1.0</td>\n      <td>Rural</td>\n    </tr>\n    <tr>\n      <th>2</th>\n      <td>Male</td>\n      <td>Yes</td>\n      <td>0</td>\n      <td>Graduate</td>\n      <td>Yes</td>\n      <td>3000</td>\n      <td>0.0</td>\n      <td>66.0</td>\n      <td>360.0</td>\n      <td>1.0</td>\n      <td>Urban</td>\n    </tr>\n    <tr>\n      <th>3</th>\n      <td>Male</td>\n      <td>Yes</td>\n      <td>0</td>\n      <td>Not Graduate</td>\n      <td>No</td>\n      <td>2583</td>\n      <td>2358.0</td>\n      <td>120.0</td>\n      <td>360.0</td>\n      <td>1.0</td>\n      <td>Urban</td>\n    </tr>\n    <tr>\n      <th>4</th>\n      <td>Male</td>\n      <td>No</td>\n      <td>0</td>\n      <td>Graduate</td>\n      <td>No</td>\n      <td>6000</td>\n      <td>0.0</td>\n      <td>141.0</td>\n      <td>360.0</td>\n      <td>1.0</td>\n      <td>Urban</td>\n    </tr>\n  </tbody>\n</table>\n</div>"
          },
          "metadata": {}
        }
      ]
    },
    {
      "metadata": {
        "trusted": true,
        "_uuid": "4b2c034b69bad0b0ff13b52c86b448ce41a9dddc"
      },
      "cell_type": "code",
      "source": "combined.shape",
      "execution_count": 46,
      "outputs": [
        {
          "output_type": "execute_result",
          "execution_count": 46,
          "data": {
            "text/plain": "(981, 11)"
          },
          "metadata": {}
        }
      ]
    },
    {
      "metadata": {
        "trusted": true,
        "_uuid": "167d1be020d698f39abc160b6b12f37dba1187c0"
      },
      "cell_type": "code",
      "source": "combined.describe()",
      "execution_count": 47,
      "outputs": [
        {
          "output_type": "execute_result",
          "execution_count": 47,
          "data": {
            "text/plain": "       ApplicantIncome       ...        Credit_History\ncount       981.000000       ...            902.000000\nmean       5179.795107       ...              0.835920\nstd        5695.104533       ...              0.370553\nmin           0.000000       ...              0.000000\n25%        2875.000000       ...              1.000000\n50%        3800.000000       ...              1.000000\n75%        5516.000000       ...              1.000000\nmax       81000.000000       ...              1.000000\n\n[8 rows x 5 columns]",
            "text/html": "<div>\n<style scoped>\n    .dataframe tbody tr th:only-of-type {\n        vertical-align: middle;\n    }\n\n    .dataframe tbody tr th {\n        vertical-align: top;\n    }\n\n    .dataframe thead th {\n        text-align: right;\n    }\n</style>\n<table border=\"1\" class=\"dataframe\">\n  <thead>\n    <tr style=\"text-align: right;\">\n      <th></th>\n      <th>ApplicantIncome</th>\n      <th>CoapplicantIncome</th>\n      <th>LoanAmount</th>\n      <th>Loan_Amount_Term</th>\n      <th>Credit_History</th>\n    </tr>\n  </thead>\n  <tbody>\n    <tr>\n      <th>count</th>\n      <td>981.000000</td>\n      <td>981.000000</td>\n      <td>954.000000</td>\n      <td>961.000000</td>\n      <td>902.000000</td>\n    </tr>\n    <tr>\n      <th>mean</th>\n      <td>5179.795107</td>\n      <td>1601.916330</td>\n      <td>142.511530</td>\n      <td>342.201873</td>\n      <td>0.835920</td>\n    </tr>\n    <tr>\n      <th>std</th>\n      <td>5695.104533</td>\n      <td>2718.772806</td>\n      <td>77.421743</td>\n      <td>65.100602</td>\n      <td>0.370553</td>\n    </tr>\n    <tr>\n      <th>min</th>\n      <td>0.000000</td>\n      <td>0.000000</td>\n      <td>9.000000</td>\n      <td>6.000000</td>\n      <td>0.000000</td>\n    </tr>\n    <tr>\n      <th>25%</th>\n      <td>2875.000000</td>\n      <td>0.000000</td>\n      <td>100.000000</td>\n      <td>360.000000</td>\n      <td>1.000000</td>\n    </tr>\n    <tr>\n      <th>50%</th>\n      <td>3800.000000</td>\n      <td>1110.000000</td>\n      <td>126.000000</td>\n      <td>360.000000</td>\n      <td>1.000000</td>\n    </tr>\n    <tr>\n      <th>75%</th>\n      <td>5516.000000</td>\n      <td>2365.000000</td>\n      <td>162.000000</td>\n      <td>360.000000</td>\n      <td>1.000000</td>\n    </tr>\n    <tr>\n      <th>max</th>\n      <td>81000.000000</td>\n      <td>41667.000000</td>\n      <td>700.000000</td>\n      <td>480.000000</td>\n      <td>1.000000</td>\n    </tr>\n  </tbody>\n</table>\n</div>"
          },
          "metadata": {}
        }
      ]
    },
    {
      "metadata": {
        "trusted": true,
        "collapsed": true,
        "_uuid": "b151cccc211fd6c938de559719f26ddad45c7056"
      },
      "cell_type": "code",
      "source": "# To check how many columns have missing values - this can be repeated to see the progress made\ndef show_missing():\n    missing = combined.columns[combined.isnull().any()].tolist()\n    return missing\n",
      "execution_count": 48,
      "outputs": []
    },
    {
      "metadata": {
        "trusted": true,
        "_uuid": "fad204d4a41b170fdd94942e96af592d00fe28f1"
      },
      "cell_type": "code",
      "source": "#from this we can find the total missing data in each columns\n\ncombined[show_missing()].isnull().sum()",
      "execution_count": 49,
      "outputs": [
        {
          "output_type": "execute_result",
          "execution_count": 49,
          "data": {
            "text/plain": "Gender              24\nMarried              3\nDependents          25\nSelf_Employed       55\nLoanAmount          27\nLoan_Amount_Term    20\nCredit_History      79\ndtype: int64"
          },
          "metadata": {}
        }
      ]
    },
    {
      "metadata": {
        "trusted": true,
        "_uuid": "b3cb5e1cd4efb373fcbc610d956b5980cb3c0354"
      },
      "cell_type": "code",
      "source": "print (combined['Property_Area'].value_counts())\nprint (combined['Education'].value_counts())\nprint (combined['Gender'].value_counts())\nprint (combined['Dependents'].value_counts())\nprint (combined['Married'].value_counts())\nprint (combined['Self_Employed'].value_counts())\nprint (combined['Credit_History'].value_counts())",
      "execution_count": 50,
      "outputs": [
        {
          "output_type": "stream",
          "text": "Semiurban    349\nUrban        342\nRural        290\nName: Property_Area, dtype: int64\nGraduate        763\nNot Graduate    218\nName: Education, dtype: int64\nMale      775\nFemale    182\nName: Gender, dtype: int64\n0     545\n2     160\n1     160\n3+     91\nName: Dependents, dtype: int64\nYes    631\nNo     347\nName: Married, dtype: int64\nNo     807\nYes    119\nName: Self_Employed, dtype: int64\n1.0    754\n0.0    148\nName: Credit_History, dtype: int64\n",
          "name": "stdout"
        }
      ]
    },
    {
      "metadata": {
        "trusted": true,
        "collapsed": true,
        "_uuid": "f799e9dba68e42781e3ca30dec3563fc949773a3"
      },
      "cell_type": "code",
      "source": "#filling data with approperiate measure of central tendency\ncombined['Gender'].fillna('Male', inplace=True)\ncombined['Married'].fillna('Yes', inplace=True)\n\ncombined['Self_Employed'].fillna('Yes', inplace=True)\n\ncombined['Credit_History'].fillna(1, inplace=True)\n\ncombined['LoanAmount'].fillna(combined['LoanAmount'].median(), inplace=True)\n#combined['Loan_Amount_Term'].fillna(combined['Loan_Amount_Term'].mean(), inplace=True)\n",
      "execution_count": 51,
      "outputs": []
    },
    {
      "metadata": {
        "trusted": true,
        "_uuid": "050cf724427eef37df468f4734782255bfdfcb99"
      },
      "cell_type": "code",
      "source": "combined.isnull().sum()",
      "execution_count": 52,
      "outputs": [
        {
          "output_type": "execute_result",
          "execution_count": 52,
          "data": {
            "text/plain": "Gender                0\nMarried               0\nDependents           25\nEducation             0\nSelf_Employed         0\nApplicantIncome       0\nCoapplicantIncome     0\nLoanAmount            0\nLoan_Amount_Term     20\nCredit_History        0\nProperty_Area         0\ndtype: int64"
          },
          "metadata": {}
        }
      ]
    },
    {
      "metadata": {
        "trusted": true,
        "collapsed": true,
        "_uuid": "c0578b3f6b08ae73a58d1d6f5c5752bf91b8fba7"
      },
      "cell_type": "markdown",
      "source": "## Visualization"
    },
    {
      "metadata": {
        "trusted": true,
        "_uuid": "91ec07eb7728325bd38e0d28486f4ed6e82a8299"
      },
      "cell_type": "code",
      "source": "combined['ApplicantIncome'].hist()",
      "execution_count": 53,
      "outputs": [
        {
          "output_type": "execute_result",
          "execution_count": 53,
          "data": {
            "text/plain": "<matplotlib.axes._subplots.AxesSubplot at 0x7f122460af60>"
          },
          "metadata": {}
        },
        {
          "output_type": "display_data",
          "data": {
            "text/plain": "<matplotlib.figure.Figure at 0x7f122460a358>",
            "image/png": "[encoded data removed]"
          },
          "metadata": {}
        }
      ]
    },
    {
      "metadata": {
        "trusted": true,
        "_uuid": "cdcc2e89f92fc4fd3a8a3bfb9d639667bf85affa"
      },
      "cell_type": "code",
      "source": "combined['LoanAmount'].hist()",
      "execution_count": 54,
      "outputs": [
        {
          "output_type": "execute_result",
          "execution_count": 54,
          "data": {
            "text/plain": "<matplotlib.axes._subplots.AxesSubplot at 0x7f122460a940>"
          },
          "metadata": {}
        },
        {
          "output_type": "display_data",
          "data": {
            "text/plain": "<matplotlib.figure.Figure at 0x7f12245697b8>",
            "image/png": "[encoded data removed]"
          },
          "metadata": {}
        }
      ]
    },
    {
      "metadata": {
        "trusted": true,
        "_uuid": "e6f82c565b79a3cf8285401782fa37d8f8e04dfe"
      },
      "cell_type": "code",
      "source": "combined['Loan_Amount_Term'].hist()",
      "execution_count": 55,
      "outputs": [
        {
          "output_type": "execute_result",
          "execution_count": 55,
          "data": {
            "text/plain": "<matplotlib.axes._subplots.AxesSubplot at 0x7f12244e0470>"
          },
          "metadata": {}
        },
        {
          "output_type": "display_data",
          "data": {
            "text/plain": "<matplotlib.figure.Figure at 0x7f12244b6da0>",
            "image/png": "[encoded data removed]"
          },
          "metadata": {}
        }
      ]
    },
    {
      "metadata": {
        "trusted": true,
        "_uuid": "50c96dd4c99219c2f7cd2b7227bbf6ed4349bbbf"
      },
      "cell_type": "code",
      "source": "ax = combined.groupby('Gender').ApplicantIncome.mean().plot(kind='bar')\nax.set_xlabel(\"Gender\")\nax.set_ylabel(\"mean ApplicantIncom\")",
      "execution_count": 56,
      "outputs": [
        {
          "output_type": "execute_result",
          "execution_count": 56,
          "data": {
            "text/plain": "Text(0,0.5,'mean ApplicantIncom')"
          },
          "metadata": {}
        },
        {
          "output_type": "display_data",
          "data": {
            "text/plain": "<matplotlib.figure.Figure at 0x7f12244226a0>",
            "image/png": "[encoded data removed]"
          },
          "metadata": {}
        }
      ]
    },
    {
      "metadata": {
        "trusted": true,
        "_uuid": "01b6191e25c2a45f4fd76c7e682519a0022e2d88"
      },
      "cell_type": "code",
      "source": "ax = combined.groupby('Education').ApplicantIncome.mean().plot(kind='bar')\nax.set_xlabel(\"Education(1=Graduate)\")\nax.set_ylabel(\"mean ApplicantIncom\")",
      "execution_count": 57,
      "outputs": [
        {
          "output_type": "execute_result",
          "execution_count": 57,
          "data": {
            "text/plain": "Text(0,0.5,'mean ApplicantIncom')"
          },
          "metadata": {}
        },
        {
          "output_type": "display_data",
          "data": {
            "text/plain": "<matplotlib.figure.Figure at 0x7f1224395240>",
            "image/png": "[encoded data removed]"
          },
          "metadata": {}
        }
      ]
    },
    {
      "metadata": {
        "trusted": true,
        "_uuid": "a35303c89ab7a7c4f659c0ed22f2710b6cb2edbd"
      },
      "cell_type": "code",
      "source": "ax = combined.groupby('Married').ApplicantIncome.mean().plot(kind='bar')\nax.set_xlabel(\"Married(1=yes)\")\nax.set_ylabel(\"mean ApplicantIncom\")",
      "execution_count": 58,
      "outputs": [
        {
          "output_type": "execute_result",
          "execution_count": 58,
          "data": {
            "text/plain": "Text(0,0.5,'mean ApplicantIncom')"
          },
          "metadata": {}
        },
        {
          "output_type": "display_data",
          "data": {
            "text/plain": "<matplotlib.figure.Figure at 0x7f12244b6240>",
            "image/png": "[encoded data removed]"
          },
          "metadata": {}
        }
      ]
    },
    {
      "metadata": {
        "trusted": true,
        "_uuid": "6e232c8db4904ee29560c68440963857ebffccdf"
      },
      "cell_type": "code",
      "source": "\ntemp = pd.crosstab(data_train['Credit_History'], data_train['Loan_Status'])\ntemp.plot(kind='bar', stacked=True, color=['red','blue'], grid=False)",
      "execution_count": 59,
      "outputs": [
        {
          "output_type": "execute_result",
          "execution_count": 59,
          "data": {
            "text/plain": "<matplotlib.axes._subplots.AxesSubplot at 0x7f122431c6a0>"
          },
          "metadata": {}
        },
        {
          "output_type": "display_data",
          "data": {
            "text/plain": "<matplotlib.figure.Figure at 0x7f1224383fd0>",
            "image/png": "[encoded data removed]"
          },
          "metadata": {}
        }
      ]
    },
    {
      "metadata": {
        "trusted": true,
        "_uuid": "6350da5f997649c756b52794dcc4efa19b2ddf48"
      },
      "cell_type": "code",
      "source": "temp3 = pd.crosstab(data_train['Dependents'], data_train['Loan_Status'])\ntemp3.plot(kind='bar', stacked=True, color=['red','blue'], grid=False)",
      "execution_count": 60,
      "outputs": [
        {
          "output_type": "execute_result",
          "execution_count": 60,
          "data": {
            "text/plain": "<matplotlib.axes._subplots.AxesSubplot at 0x7f12242a8ba8>"
          },
          "metadata": {}
        },
        {
          "output_type": "display_data",
          "data": {
            "text/plain": "<matplotlib.figure.Figure at 0x7f1224339e80>",
            "image/png": "[encoded data removed]"
          },
          "metadata": {}
        }
      ]
    },
    {
      "metadata": {
        "trusted": true,
        "_uuid": "93fdfa799edd95ebb17b13cb9bc9572a7dcfa563"
      },
      "cell_type": "code",
      "source": "temp3 = pd.crosstab(data_train['Gender'], data_train['Loan_Status'])\ntemp3.plot(kind='bar', stacked=True, color=['red','blue'], grid=False)",
      "execution_count": 61,
      "outputs": [
        {
          "output_type": "execute_result",
          "execution_count": 61,
          "data": {
            "text/plain": "<matplotlib.axes._subplots.AxesSubplot at 0x7f1224288710>"
          },
          "metadata": {}
        },
        {
          "output_type": "display_data",
          "data": {
            "text/plain": "<matplotlib.figure.Figure at 0x7f122453ba20>",
            "image/png": "[encoded data removed]"
          },
          "metadata": {}
        }
      ]
    },
    {
      "metadata": {
        "trusted": true,
        "_uuid": "dfb8c27020f4cc5f471b47aff94225c6fa42a3d0"
      },
      "cell_type": "code",
      "source": "temp3 = pd.crosstab(data_train['Education'], data_train['Loan_Status'])\ntemp3.plot(kind='bar', stacked=True, color=['red','blue'], grid=False)",
      "execution_count": 62,
      "outputs": [
        {
          "output_type": "execute_result",
          "execution_count": 62,
          "data": {
            "text/plain": "<matplotlib.axes._subplots.AxesSubplot at 0x7f122423f470>"
          },
          "metadata": {}
        },
        {
          "output_type": "display_data",
          "data": {
            "text/plain": "<matplotlib.figure.Figure at 0x7f1224331160>",
            "image/png": "[encoded data removed]"
          },
          "metadata": {}
        }
      ]
    },
    {
      "metadata": {
        "trusted": true,
        "_uuid": "1a4a88bdb6b533a91c4e2e184610bdcffff09ac9"
      },
      "cell_type": "code",
      "source": "temp3 = pd.crosstab(data_train['Property_Area'], data_train['Loan_Status'])\ntemp3.plot(kind='bar', stacked=True, color=['red','blue'], grid=False)",
      "execution_count": 63,
      "outputs": [
        {
          "output_type": "execute_result",
          "execution_count": 63,
          "data": {
            "text/plain": "<matplotlib.axes._subplots.AxesSubplot at 0x7f12241b0e48>"
          },
          "metadata": {}
        },
        {
          "output_type": "display_data",
          "data": {
            "text/plain": "<matplotlib.figure.Figure at 0x7f12241a5208>",
            "image/png": "[encoded data removed]"
          },
          "metadata": {}
        }
      ]
    },
    {
      "metadata": {
        "_uuid": "b54c5a07af77774e2fdfabcaa470873ec4068e1d"
      },
      "cell_type": "markdown",
      "source": "# feature engineering"
    },
    {
      "metadata": {
        "_uuid": "991a81e902223119219b5d6d36ce635888a81323"
      },
      "cell_type": "markdown",
      "source": "## one hot encoding"
    },
    {
      "metadata": {
        "trusted": true,
        "_uuid": "dd4fdac24feadc62cd25a8e16c4d9aeaa377c8d2",
        "collapsed": true
      },
      "cell_type": "code",
      "source": "combined['Gender'] = combined['Gender'].map({'Male':1,'Female':0})\ncombined['Married'] = combined['Married'].map({'Yes':1,'No':0})\ncombined['Education'] = combined['Education'].map({'Graduate':1,'Not Graduate':0})\ncombined['Self_Employed'] = combined['Self_Employed'].map({'Yes':1,'No':0})",
      "execution_count": 64,
      "outputs": []
    },
    {
      "metadata": {
        "trusted": true,
        "_uuid": "63bd355fb04fcb5ef88553ad37a9f5ec0a387a46",
        "collapsed": true
      },
      "cell_type": "code",
      "source": "combined['Singleton'] = combined['Dependents'].map(lambda d: 1 if d=='1' else 0)\ncombined['Small_Family'] = combined['Dependents'].map(lambda d: 1 if d=='2' else 0)\ncombined['Large_Family'] = combined['Dependents'].map(lambda d: 1 if d=='3+' else 0)\ncombined.drop(['Dependents'], axis=1, inplace=True)",
      "execution_count": 65,
      "outputs": []
    },
    {
      "metadata": {
        "trusted": true,
        "_uuid": "fc01971cc1cbb4ed88bbf1b8acf0d3ecdf4cdde4",
        "collapsed": true
      },
      "cell_type": "code",
      "source": "combined['Total_Income'] = combined['ApplicantIncome'] + combined['CoapplicantIncome']\ncombined.drop(['ApplicantIncome','CoapplicantIncome'], axis=1, inplace=True)\n",
      "execution_count": 66,
      "outputs": []
    },
    {
      "metadata": {
        "trusted": true,
        "_uuid": "480b178d39595991f018f8a16136a5b1f7d4784a",
        "collapsed": true
      },
      "cell_type": "code",
      "source": "combined['Income_Ratio'] = combined['Total_Income'] / combined['LoanAmount']\n",
      "execution_count": 67,
      "outputs": []
    },
    {
      "metadata": {
        "trusted": true,
        "_uuid": "1762c1142a498a5c5b08b5b6c2db129afbe17153"
      },
      "cell_type": "code",
      "source": "combined['Loan_Amount_Term'].value_counts()",
      "execution_count": 68,
      "outputs": [
        {
          "output_type": "execute_result",
          "execution_count": 68,
          "data": {
            "text/plain": "360.0    823\n180.0     66\n480.0     23\n300.0     20\n240.0      8\n84.0       7\n120.0      4\n36.0       3\n60.0       3\n12.0       2\n350.0      1\n6.0        1\nName: Loan_Amount_Term, dtype: int64"
          },
          "metadata": {}
        }
      ]
    },
    {
      "metadata": {
        "trusted": true,
        "_uuid": "032d6da3f44c7e9e341e48f1f6bcbf91edaf25d9"
      },
      "cell_type": "code",
      "source": "approved_term = data_train[data_train['Loan_Status']=='Y']['Loan_Amount_Term'].value_counts()\nunapproved_term = data_train[data_train['Loan_Status']=='N']['Loan_Amount_Term'].value_counts()\ndf = pd.DataFrame([approved_term,unapproved_term])\ndf.index = ['Approved','Unapproved']\ndf.plot(kind='bar', stacked=True, figsize=(15,8))",
      "execution_count": 69,
      "outputs": [
        {
          "output_type": "execute_result",
          "execution_count": 69,
          "data": {
            "text/plain": "<matplotlib.axes._subplots.AxesSubplot at 0x7f123729de80>"
          },
          "metadata": {}
        },
        {
          "output_type": "display_data",
          "data": {
            "text/plain": "<matplotlib.figure.Figure at 0x7f123729d630>",
            "image/png": "[encoded data removed]"
          },
          "metadata": {}
        }
      ]
    },
    {
      "metadata": {
        "trusted": true,
        "_uuid": "7f4a5237fabb933cba637c70d9eec855bebb4d92",
        "collapsed": true
      },
      "cell_type": "code",
      "source": "combined['Very_Short_Term'] = combined['Loan_Amount_Term'].map(lambda t: 1 if t<=60 else 0)\ncombined['Short_Term'] = combined['Loan_Amount_Term'].map(lambda t: 1 if t>60 and t<180 else 0)\ncombined['Long_Term'] = combined['Loan_Amount_Term'].map(lambda t: 1 if t>=180 and t<=300  else 0)\ncombined['Very_Long_Term'] = combined['Loan_Amount_Term'].map(lambda t: 1 if t>300 else 0)\ncombined.drop('Loan_Amount_Term', axis=1, inplace=True)\n",
      "execution_count": 70,
      "outputs": []
    },
    {
      "metadata": {
        "trusted": true,
        "collapsed": true,
        "_uuid": "5fb09bd6a076bbec5ae7b0df60c2756760d14305"
      },
      "cell_type": "code",
      "source": "combined['Credit_History_Bad'] = combined['Credit_History'].map(lambda c: 1 if c==0 else 0)\ncombined['Credit_History_Good'] = combined['Credit_History'].map(lambda c: 1 if c==1 else 0)\ncombined['Credit_History_Unknown'] = combined['Credit_History'].map(lambda c: 1 if c==2 else 0)\ncombined.drop('Credit_History', axis=1, inplace=True)",
      "execution_count": 71,
      "outputs": []
    },
    {
      "metadata": {
        "trusted": true,
        "collapsed": true,
        "_uuid": "7220b5eef26b80e5126f18e8682479a958c772a9"
      },
      "cell_type": "code",
      "source": "property_dummies = pd.get_dummies(combined['Property_Area'], prefix='Property')\ncombined = pd.concat([combined, property_dummies], axis=1)\ncombined.drop('Property_Area', axis=1, inplace=True)",
      "execution_count": 72,
      "outputs": []
    },
    {
      "metadata": {
        "trusted": true,
        "_uuid": "78f894b7546aad4000a9594e1e2090e753fdcdba"
      },
      "cell_type": "code",
      "source": "combined[60:70]",
      "execution_count": 73,
      "outputs": [
        {
          "output_type": "execute_result",
          "execution_count": 73,
          "data": {
            "text/plain": "    Gender  Married       ...        Property_Semiurban  Property_Urban\n60       1        1       ...                         0               1\n61       1        1       ...                         0               1\n62       1        1       ...                         0               0\n63       1        1       ...                         0               0\n64       0        0       ...                         1               0\n65       1        1       ...                         1               0\n66       1        0       ...                         0               1\n67       1        1       ...                         0               1\n68       1        1       ...                         0               1\n69       0        0       ...                         1               0\n\n[10 rows x 20 columns]",
            "text/html": "<div>\n<style scoped>\n    .dataframe tbody tr th:only-of-type {\n        vertical-align: middle;\n    }\n\n    .dataframe tbody tr th {\n        vertical-align: top;\n    }\n\n    .dataframe thead th {\n        text-align: right;\n    }\n</style>\n<table border=\"1\" class=\"dataframe\">\n  <thead>\n    <tr style=\"text-align: right;\">\n      <th></th>\n      <th>Gender</th>\n      <th>Married</th>\n      <th>Education</th>\n      <th>Self_Employed</th>\n      <th>LoanAmount</th>\n      <th>Singleton</th>\n      <th>Small_Family</th>\n      <th>Large_Family</th>\n      <th>Total_Income</th>\n      <th>Income_Ratio</th>\n      <th>Very_Short_Term</th>\n      <th>Short_Term</th>\n      <th>Long_Term</th>\n      <th>Very_Long_Term</th>\n      <th>Credit_History_Bad</th>\n      <th>Credit_History_Good</th>\n      <th>Credit_History_Unknown</th>\n      <th>Property_Rural</th>\n      <th>Property_Semiurban</th>\n      <th>Property_Urban</th>\n    </tr>\n  </thead>\n  <tbody>\n    <tr>\n      <th>60</th>\n      <td>1</td>\n      <td>1</td>\n      <td>1</td>\n      <td>0</td>\n      <td>120.0</td>\n      <td>0</td>\n      <td>0</td>\n      <td>0</td>\n      <td>6296.0</td>\n      <td>52.466667</td>\n      <td>0</td>\n      <td>0</td>\n      <td>0</td>\n      <td>1</td>\n      <td>0</td>\n      <td>1</td>\n      <td>0</td>\n      <td>0</td>\n      <td>0</td>\n      <td>1</td>\n    </tr>\n    <tr>\n      <th>61</th>\n      <td>1</td>\n      <td>1</td>\n      <td>1</td>\n      <td>0</td>\n      <td>99.0</td>\n      <td>0</td>\n      <td>0</td>\n      <td>1</td>\n      <td>3029.0</td>\n      <td>30.595960</td>\n      <td>0</td>\n      <td>0</td>\n      <td>0</td>\n      <td>1</td>\n      <td>0</td>\n      <td>1</td>\n      <td>0</td>\n      <td>0</td>\n      <td>0</td>\n      <td>1</td>\n    </tr>\n    <tr>\n      <th>62</th>\n      <td>1</td>\n      <td>1</td>\n      <td>0</td>\n      <td>1</td>\n      <td>165.0</td>\n      <td>0</td>\n      <td>0</td>\n      <td>0</td>\n      <td>6058.0</td>\n      <td>36.715152</td>\n      <td>0</td>\n      <td>0</td>\n      <td>1</td>\n      <td>0</td>\n      <td>1</td>\n      <td>0</td>\n      <td>0</td>\n      <td>1</td>\n      <td>0</td>\n      <td>0</td>\n    </tr>\n    <tr>\n      <th>63</th>\n      <td>1</td>\n      <td>1</td>\n      <td>1</td>\n      <td>0</td>\n      <td>126.0</td>\n      <td>1</td>\n      <td>0</td>\n      <td>0</td>\n      <td>4945.0</td>\n      <td>39.246032</td>\n      <td>0</td>\n      <td>0</td>\n      <td>0</td>\n      <td>1</td>\n      <td>1</td>\n      <td>0</td>\n      <td>0</td>\n      <td>1</td>\n      <td>0</td>\n      <td>0</td>\n    </tr>\n    <tr>\n      <th>64</th>\n      <td>0</td>\n      <td>0</td>\n      <td>1</td>\n      <td>0</td>\n      <td>116.0</td>\n      <td>0</td>\n      <td>0</td>\n      <td>0</td>\n      <td>4166.0</td>\n      <td>35.913793</td>\n      <td>0</td>\n      <td>0</td>\n      <td>0</td>\n      <td>1</td>\n      <td>1</td>\n      <td>0</td>\n      <td>0</td>\n      <td>0</td>\n      <td>1</td>\n      <td>0</td>\n    </tr>\n    <tr>\n      <th>65</th>\n      <td>1</td>\n      <td>1</td>\n      <td>1</td>\n      <td>0</td>\n      <td>258.0</td>\n      <td>0</td>\n      <td>0</td>\n      <td>0</td>\n      <td>10321.0</td>\n      <td>40.003876</td>\n      <td>0</td>\n      <td>0</td>\n      <td>0</td>\n      <td>1</td>\n      <td>0</td>\n      <td>1</td>\n      <td>0</td>\n      <td>0</td>\n      <td>1</td>\n      <td>0</td>\n    </tr>\n    <tr>\n      <th>66</th>\n      <td>1</td>\n      <td>0</td>\n      <td>0</td>\n      <td>0</td>\n      <td>126.0</td>\n      <td>0</td>\n      <td>0</td>\n      <td>0</td>\n      <td>5454.0</td>\n      <td>43.285714</td>\n      <td>0</td>\n      <td>0</td>\n      <td>1</td>\n      <td>0</td>\n      <td>1</td>\n      <td>0</td>\n      <td>0</td>\n      <td>0</td>\n      <td>0</td>\n      <td>1</td>\n    </tr>\n    <tr>\n      <th>67</th>\n      <td>1</td>\n      <td>1</td>\n      <td>1</td>\n      <td>0</td>\n      <td>312.0</td>\n      <td>1</td>\n      <td>0</td>\n      <td>0</td>\n      <td>10750.0</td>\n      <td>34.455128</td>\n      <td>0</td>\n      <td>0</td>\n      <td>0</td>\n      <td>1</td>\n      <td>0</td>\n      <td>1</td>\n      <td>0</td>\n      <td>0</td>\n      <td>0</td>\n      <td>1</td>\n    </tr>\n    <tr>\n      <th>68</th>\n      <td>1</td>\n      <td>1</td>\n      <td>0</td>\n      <td>1</td>\n      <td>125.0</td>\n      <td>0</td>\n      <td>0</td>\n      <td>1</td>\n      <td>7100.0</td>\n      <td>56.800000</td>\n      <td>1</td>\n      <td>0</td>\n      <td>0</td>\n      <td>0</td>\n      <td>0</td>\n      <td>1</td>\n      <td>0</td>\n      <td>0</td>\n      <td>0</td>\n      <td>1</td>\n    </tr>\n    <tr>\n      <th>69</th>\n      <td>0</td>\n      <td>0</td>\n      <td>1</td>\n      <td>0</td>\n      <td>136.0</td>\n      <td>0</td>\n      <td>0</td>\n      <td>0</td>\n      <td>4300.0</td>\n      <td>31.617647</td>\n      <td>0</td>\n      <td>0</td>\n      <td>0</td>\n      <td>1</td>\n      <td>1</td>\n      <td>0</td>\n      <td>0</td>\n      <td>0</td>\n      <td>1</td>\n      <td>0</td>\n    </tr>\n  </tbody>\n</table>\n</div>"
          },
          "metadata": {}
        }
      ]
    },
    {
      "metadata": {
        "_uuid": "9a26555bcc3e8235a8a9e6183434322c5e890178"
      },
      "cell_type": "markdown",
      "source": "## feature scaling"
    },
    {
      "metadata": {
        "trusted": true,
        "_uuid": "a4a89a086ac7f9243c7337a35a6b654bbd1920ea",
        "collapsed": true
      },
      "cell_type": "code",
      "source": "def feature_scaling(dataframe):\n    dataframe -= dataframe.min()\n    dataframe /= dataframe.max()\n    return dataframe",
      "execution_count": 74,
      "outputs": []
    },
    {
      "metadata": {
        "trusted": true,
        "_uuid": "7e770ccf82890b79135a6b2ec8a6ff6d0b6ed2a4",
        "collapsed": true
      },
      "cell_type": "code",
      "source": "combined['LoanAmount'] = feature_scaling(combined['LoanAmount'])\ncombined['Total_Income'] = feature_scaling(combined['Total_Income'])\ncombined['Income_Ratio'] = feature_scaling(combined['Income_Ratio'])",
      "execution_count": 75,
      "outputs": []
    },
    {
      "metadata": {
        "trusted": true,
        "_uuid": "c205d38a9b3296a7691c670007383fd5c49a6de1"
      },
      "cell_type": "code",
      "source": "combined.head()",
      "execution_count": 76,
      "outputs": [
        {
          "output_type": "execute_result",
          "execution_count": 76,
          "data": {
            "text/plain": "   Gender  Married       ...        Property_Semiurban  Property_Urban\n0       1        0       ...                         0               1\n1       1        1       ...                         0               0\n2       1        1       ...                         0               1\n3       1        1       ...                         0               1\n4       1        0       ...                         0               1\n\n[5 rows x 20 columns]",
            "text/html": "<div>\n<style scoped>\n    .dataframe tbody tr th:only-of-type {\n        vertical-align: middle;\n    }\n\n    .dataframe tbody tr th {\n        vertical-align: top;\n    }\n\n    .dataframe thead th {\n        text-align: right;\n    }\n</style>\n<table border=\"1\" class=\"dataframe\">\n  <thead>\n    <tr style=\"text-align: right;\">\n      <th></th>\n      <th>Gender</th>\n      <th>Married</th>\n      <th>Education</th>\n      <th>Self_Employed</th>\n      <th>LoanAmount</th>\n      <th>Singleton</th>\n      <th>Small_Family</th>\n      <th>Large_Family</th>\n      <th>Total_Income</th>\n      <th>Income_Ratio</th>\n      <th>Very_Short_Term</th>\n      <th>Short_Term</th>\n      <th>Long_Term</th>\n      <th>Very_Long_Term</th>\n      <th>Credit_History_Bad</th>\n      <th>Credit_History_Good</th>\n      <th>Credit_History_Unknown</th>\n      <th>Property_Rural</th>\n      <th>Property_Semiurban</th>\n      <th>Property_Urban</th>\n    </tr>\n  </thead>\n  <tbody>\n    <tr>\n      <th>0</th>\n      <td>1</td>\n      <td>0</td>\n      <td>1</td>\n      <td>0</td>\n      <td>0.169320</td>\n      <td>0</td>\n      <td>0</td>\n      <td>0</td>\n      <td>0.055394</td>\n      <td>0.071120</td>\n      <td>0</td>\n      <td>0</td>\n      <td>0</td>\n      <td>1</td>\n      <td>0</td>\n      <td>1</td>\n      <td>0</td>\n      <td>0</td>\n      <td>0</td>\n      <td>1</td>\n    </tr>\n    <tr>\n      <th>1</th>\n      <td>1</td>\n      <td>1</td>\n      <td>1</td>\n      <td>0</td>\n      <td>0.172214</td>\n      <td>1</td>\n      <td>0</td>\n      <td>0</td>\n      <td>0.058435</td>\n      <td>0.073382</td>\n      <td>0</td>\n      <td>0</td>\n      <td>0</td>\n      <td>1</td>\n      <td>0</td>\n      <td>1</td>\n      <td>0</td>\n      <td>1</td>\n      <td>0</td>\n      <td>0</td>\n    </tr>\n    <tr>\n      <th>2</th>\n      <td>1</td>\n      <td>1</td>\n      <td>1</td>\n      <td>1</td>\n      <td>0.082489</td>\n      <td>0</td>\n      <td>0</td>\n      <td>0</td>\n      <td>0.019583</td>\n      <td>0.069245</td>\n      <td>0</td>\n      <td>0</td>\n      <td>0</td>\n      <td>1</td>\n      <td>0</td>\n      <td>1</td>\n      <td>0</td>\n      <td>0</td>\n      <td>0</td>\n      <td>1</td>\n    </tr>\n    <tr>\n      <th>3</th>\n      <td>1</td>\n      <td>1</td>\n      <td>0</td>\n      <td>0</td>\n      <td>0.160637</td>\n      <td>0</td>\n      <td>0</td>\n      <td>0</td>\n      <td>0.043980</td>\n      <td>0.060939</td>\n      <td>0</td>\n      <td>0</td>\n      <td>0</td>\n      <td>1</td>\n      <td>0</td>\n      <td>1</td>\n      <td>0</td>\n      <td>0</td>\n      <td>0</td>\n      <td>1</td>\n    </tr>\n    <tr>\n      <th>4</th>\n      <td>1</td>\n      <td>0</td>\n      <td>1</td>\n      <td>0</td>\n      <td>0.191027</td>\n      <td>0</td>\n      <td>0</td>\n      <td>0</td>\n      <td>0.057292</td>\n      <td>0.063614</td>\n      <td>0</td>\n      <td>0</td>\n      <td>0</td>\n      <td>1</td>\n      <td>0</td>\n      <td>1</td>\n      <td>0</td>\n      <td>0</td>\n      <td>0</td>\n      <td>1</td>\n    </tr>\n  </tbody>\n</table>\n</div>"
          },
          "metadata": {}
        }
      ]
    },
    {
      "metadata": {
        "trusted": true,
        "collapsed": true,
        "_uuid": "5c220c8f392163cbf30201710e958790121a8cb5"
      },
      "cell_type": "markdown",
      "source": "## prediction model"
    },
    {
      "metadata": {
        "trusted": true,
        "_uuid": "0c4a6fa2a47884a4df592c6f6581a4c8a9d0f5eb",
        "collapsed": true
      },
      "cell_type": "code",
      "source": "from sklearn.model_selection import cross_val_score\nfrom sklearn.ensemble import RandomForestClassifier\nfrom sklearn.feature_selection import SelectFromModel",
      "execution_count": 77,
      "outputs": []
    },
    {
      "metadata": {
        "trusted": true,
        "collapsed": true,
        "_uuid": "1e8253cb2870dbacfac1cf6089a6e075f5f1260e"
      },
      "cell_type": "code",
      "source": "#function for computing score\ndef compute_score(clf, X, y, scoring='accuracy'):\n    xval = cross_val_score(clf, X, y, cv = 5, scoring=scoring)\n    return np.mean(xval)",
      "execution_count": 78,
      "outputs": []
    },
    {
      "metadata": {
        "trusted": true,
        "_uuid": "3666701d8faedf67a389afa953948ad643dcac03",
        "collapsed": true
      },
      "cell_type": "code",
      "source": "#recovering train test &target\nglobal combined, data_train\ntargets = data_train['Loan_Status'].map({'Y':1,'N':0})\ntrain = combined.head(614)\ntest = combined.iloc[614:]\n",
      "execution_count": 79,
      "outputs": []
    },
    {
      "metadata": {
        "_uuid": "55e79eed7a23368fc29890f9e584abf6ada17071"
      },
      "cell_type": "markdown",
      "source": "# Random forest algorithm"
    },
    {
      "metadata": {
        "trusted": true,
        "_uuid": "447b7daf189961c1649f66fa04bbd36f684c79b0"
      },
      "cell_type": "markdown",
      "source": "## feature imortance"
    },
    {
      "metadata": {
        "trusted": true,
        "_uuid": "5a5af6f77b6de27adfa6eb12106452197a96aab2",
        "collapsed": true
      },
      "cell_type": "code",
      "source": "clf = RandomForestClassifier(n_estimators=50, max_features='sqrt')\nclf = clf.fit(train, targets)",
      "execution_count": 80,
      "outputs": []
    },
    {
      "metadata": {
        "trusted": true,
        "_uuid": "29451a67ff33f0a5b24705be2c27a0b17ede4666",
        "collapsed": true
      },
      "cell_type": "code",
      "source": "features = pd.DataFrame()\nfeatures['Feature'] = train.columns\nfeatures['Importance'] = clf.feature_importances_\nfeatures.sort_values(by=['Importance'], ascending=False, inplace=True)\nfeatures.set_index('Feature', inplace=True)",
      "execution_count": 81,
      "outputs": []
    },
    {
      "metadata": {
        "trusted": true,
        "_uuid": "a1be8cd10ce73637a794745318f4610451e8540d"
      },
      "cell_type": "code",
      "source": "features.plot(kind='bar', figsize=(20, 10))",
      "execution_count": 82,
      "outputs": [
        {
          "output_type": "execute_result",
          "execution_count": 82,
          "data": {
            "text/plain": "<matplotlib.axes._subplots.AxesSubplot at 0x7f1224551cf8>"
          },
          "metadata": {}
        },
        {
          "output_type": "display_data",
          "data": {
            "text/plain": "<matplotlib.figure.Figure at 0x7f1235238ac8>",
            "image/png": "[encoded data removed]"
          },
          "metadata": {}
        }
      ]
    },
    {
      "metadata": {
        "trusted": true,
        "_uuid": "d0ae8ab77d17704e3b7a30dea8809711e5bdcb88"
      },
      "cell_type": "code",
      "source": "model = SelectFromModel(clf, prefit=True)\ntrain_reduced = model.transform(train)\ntrain_reduced.shape",
      "execution_count": 83,
      "outputs": [
        {
          "output_type": "execute_result",
          "execution_count": 83,
          "data": {
            "text/plain": "(614, 5)"
          },
          "metadata": {}
        }
      ]
    },
    {
      "metadata": {
        "trusted": true,
        "_uuid": "5f5e75c3e8fcd07b2d32287147a98a9e88655df4"
      },
      "cell_type": "code",
      "source": "test_reduced = model.transform(test)\ntest_reduced.shape",
      "execution_count": 84,
      "outputs": [
        {
          "output_type": "execute_result",
          "execution_count": 84,
          "data": {
            "text/plain": "(367, 5)"
          },
          "metadata": {}
        }
      ]
    },
    {
      "metadata": {
        "trusted": true,
        "_uuid": "a3d8ee13f92539998043700bdffb02918127466f"
      },
      "cell_type": "code",
      "source": "parameters  = {'bootstrap': False,\n              'min_samples_leaf': 3,\n              'n_estimators': 50,\n              'min_samples_split': 10,\n              'max_features': 'sqrt',\n              'max_depth': 6}\n\nmodel = RandomForestClassifier(**parameters)\nmodel.fit(train, targets)",
      "execution_count": 85,
      "outputs": [
        {
          "output_type": "execute_result",
          "execution_count": 85,
          "data": {
            "text/plain": "RandomForestClassifier(bootstrap=False, class_weight=None, criterion='gini',\n            max_depth=6, max_features='sqrt', max_leaf_nodes=None,\n            min_impurity_decrease=0.0, min_impurity_split=None,\n            min_samples_leaf=3, min_samples_split=10,\n            min_weight_fraction_leaf=0.0, n_estimators=50, n_jobs=1,\n            oob_score=False, random_state=None, verbose=0,\n            warm_start=False)"
          },
          "metadata": {}
        }
      ]
    },
    {
      "metadata": {
        "trusted": true,
        "_uuid": "b9965370a6ae289ed97083126fd7e92d458d5a59"
      },
      "cell_type": "code",
      "source": "compute_score(model, train, targets, scoring='accuracy')",
      "execution_count": 86,
      "outputs": [
        {
          "output_type": "execute_result",
          "execution_count": 86,
          "data": {
            "text/plain": "0.799788471708091"
          },
          "metadata": {}
        }
      ]
    },
    {
      "metadata": {
        "trusted": true,
        "_uuid": "e6e51cf82241b07177f79fad425e4a939773dc5e",
        "collapsed": true
      },
      "cell_type": "code",
      "source": "#saving output as output.csv\noutput = model.predict(test).astype(int)\ndf_output = pd.DataFrame()\naux = pd.read_csv('../input/test_Y3wMUE5_7gLdaTN.csv')\ndf_output['Loan_ID'] = aux['Loan_ID']\ndf_output['Loan_Status'] = np.vectorize(lambda s: 'Y' if s==1 else 'N')(output)\ndf_output[['Loan_ID','Loan_Status']].to_csv('output.csv',index=False)",
      "execution_count": 87,
      "outputs": []
    },
    {
      "metadata": {
        "_uuid": "e9e1a3db4a9cf09b6e6b468002149046276345e9"
      },
      "cell_type": "markdown",
      "source": "# other algorithms"
    },
    {
      "metadata": {
        "trusted": true,
        "_uuid": "8f7cae943eb27492ea4602abb6b72fcbaa731bf5"
      },
      "cell_type": "code",
      "source": "####Prediction model########\n#Train-Test split\nfrom sklearn.model_selection import train_test_split\ndatatrain, datatest, labeltrain, labeltest = train_test_split(train, targets, test_size = 0.2, random_state = 42)\nlabeltrain.shape",
      "execution_count": 88,
      "outputs": [
        {
          "output_type": "execute_result",
          "execution_count": 88,
          "data": {
            "text/plain": "(491,)"
          },
          "metadata": {}
        }
      ]
    },
    {
      "metadata": {
        "trusted": true,
        "_uuid": "f71f5fb787743ed5556cf8eb28ddfdb7144ad7a1"
      },
      "cell_type": "code",
      "source": "#Logistic Regression\nfrom sklearn.linear_model import LogisticRegression\nlogis = LogisticRegression()\nlogis.fit(datatrain, labeltrain)\nlogis_score_train = logis.score(datatrain, labeltrain)\nprint(\"Training score: \",logis_score_train)\nlogis_score_test = logis.score(datatest, labeltest)\nprint(\"Testing score: \",logis_score_test)",
      "execution_count": 89,
      "outputs": [
        {
          "output_type": "stream",
          "text": "Training score:  0.814663951120163\nTesting score:  0.7886178861788617\n",
          "name": "stdout"
        }
      ]
    },
    {
      "metadata": {
        "trusted": true,
        "collapsed": true,
        "_uuid": "f099e2cc63d900ad03f79c7df58ca3d1f738c65e"
      },
      "cell_type": "code",
      "source": "#saving output as output.csv of decision tree\noutput2 = logis.predict(test).astype(int)\ndf_output2 = pd.DataFrame()\naux = pd.read_csv('../input/test_Y3wMUE5_7gLdaTN.csv')\ndf_output2['Loan_ID'] = aux['Loan_ID']\ndf_output2['Loan_Status'] = np.vectorize(lambda s: 'Y' if s==1 else 'N')(output2)\ndf_output2[['Loan_ID','Loan_Status']].to_csv('output2.csv',index=False)",
      "execution_count": 90,
      "outputs": []
    },
    {
      "metadata": {
        "trusted": true,
        "collapsed": true,
        "_uuid": "da1222d32b477a999be043b8e35066e63c2080d2"
      },
      "cell_type": "code",
      "source": "",
      "execution_count": null,
      "outputs": []
    },
    {
      "metadata": {
        "trusted": true,
        "_uuid": "362dab0fe79c1bb7c28b257784c45775d8268228"
      },
      "cell_type": "code",
      "source": "#decision tree\nfrom sklearn.ensemble import RandomForestClassifier\ndt = RandomForestClassifier()\ndt.fit(datatrain, labeltrain)\ndt_score_train = dt.score(datatrain, labeltrain)\nprint(\"Training score: \",dt_score_train)\ndt_score_test = dt.score(datatest, labeltest)\nprint(\"Testing score: \",dt_score_test)",
      "execution_count": 91,
      "outputs": [
        {
          "output_type": "stream",
          "text": "Training score:  0.9938900203665988\nTesting score:  0.7317073170731707\n",
          "name": "stdout"
        }
      ]
    },
    {
      "metadata": {
        "trusted": true,
        "_uuid": "7eef243816437ad67463ac72e1953a72ae1b20be",
        "collapsed": true
      },
      "cell_type": "code",
      "source": "#saving output as output.csv of decision tree\n#output2 = dt.predict(test).astype(int)\n#df_output2 = pd.DataFrame()\n#aux = pd.read_csv('../input/test_Y3wMUE5_7gLdaTN.csv')\n#df_output2['Loan_ID'] = aux['Loan_ID']\n#df_output2['Loan_Status'] = np.vectorize(lambda s: 'Y' if s==1 else 'N')(output2)\n#df_output2[['Loan_ID','Loan_Status']].to_csv('output2.csv',index=False)",
      "execution_count": 92,
      "outputs": []
    },
    {
      "metadata": {
        "trusted": true,
        "collapsed": true,
        "_uuid": "9e09324d6175e933ed966a4ae982d5941ac65ba5"
      },
      "cell_type": "code",
      "source": "",
      "execution_count": null,
      "outputs": []
    },
    {
      "metadata": {
        "trusted": true,
        "_uuid": "f8d4a84effe79d4db51f89cf2ca480241f831b72"
      },
      "cell_type": "code",
      "source": "#random forest\nfrom sklearn.ensemble import RandomForestClassifier\nrfc = RandomForestClassifier()\nrfc.fit(datatrain, labeltrain)\nrfc_score_train = rfc.score(datatrain, labeltrain)\nprint(\"Training score: \",rfc_score_train)\nrfc_score_test = rfc.score(datatest, labeltest)\nprint(\"Testing score: \",rfc_score_test)",
      "execution_count": 93,
      "outputs": [
        {
          "output_type": "stream",
          "text": "Training score:  0.9857433808553971\nTesting score:  0.7073170731707317\n",
          "name": "stdout"
        }
      ]
    },
    {
      "metadata": {
        "trusted": true,
        "_uuid": "894ffcb3bce21d7fafbd8f09659e33a399f8d00b"
      },
      "cell_type": "code",
      "source": "#Model comparison\nmodels = pd.DataFrame({\n        'Model'          : ['Logistic Regression',  'Decision Tree', 'Random Forest'],\n        'Training_Score' : [logis_score_train,  dt_score_train, rfc_score_train],\n        'Testing_Score'  : [logis_score_test, dt_score_test, rfc_score_test]\n    })\nmodels.sort_values(by='Testing_Score', ascending=False)",
      "execution_count": 94,
      "outputs": [
        {
          "output_type": "execute_result",
          "execution_count": 94,
          "data": {
            "text/plain": "                 Model  Training_Score  Testing_Score\n0  Logistic Regression        0.814664       0.788618\n1        Decision Tree        0.993890       0.731707\n2        Random Forest        0.985743       0.707317",
            "text/html": "<div>\n<style scoped>\n    .dataframe tbody tr th:only-of-type {\n        vertical-align: middle;\n    }\n\n    .dataframe tbody tr th {\n        vertical-align: top;\n    }\n\n    .dataframe thead th {\n        text-align: right;\n    }\n</style>\n<table border=\"1\" class=\"dataframe\">\n  <thead>\n    <tr style=\"text-align: right;\">\n      <th></th>\n      <th>Model</th>\n      <th>Training_Score</th>\n      <th>Testing_Score</th>\n    </tr>\n  </thead>\n  <tbody>\n    <tr>\n      <th>0</th>\n      <td>Logistic Regression</td>\n      <td>0.814664</td>\n      <td>0.788618</td>\n    </tr>\n    <tr>\n      <th>1</th>\n      <td>Decision Tree</td>\n      <td>0.993890</td>\n      <td>0.731707</td>\n    </tr>\n    <tr>\n      <th>2</th>\n      <td>Random Forest</td>\n      <td>0.985743</td>\n      <td>0.707317</td>\n    </tr>\n  </tbody>\n</table>\n</div>"
          },
          "metadata": {}
        }
      ]
    },
    {
      "metadata": {
        "trusted": true,
        "collapsed": true,
        "_uuid": "f9a9a4b71d6163b477b3a7be2e5ccb88681fc06c"
      },
      "cell_type": "code",
      "source": "",
      "execution_count": null,
      "outputs": []
    },
    {
      "metadata": {
        "trusted": true,
        "collapsed": true,
        "_uuid": "2fd85b21ca531c40858b4498617be7d14530ad82"
      },
      "cell_type": "code",
      "source": "",
      "execution_count": null,
      "outputs": []
    },
    {
      "metadata": {
        "trusted": true,
        "collapsed": true,
        "_uuid": "c311de4ea277b280056da03b79425d7fbc434a54"
      },
      "cell_type": "code",
      "source": "",
      "execution_count": null,
      "outputs": []
    }
  ],
  "metadata": {
    "kernelspec": {
      "display_name": "Python 3",
      "language": "python",
      "name": "python3"
    },
    "language_info": {
      "name": "python",
      "version": "3.6.6",
      "mimetype": "text/x-python",
      "codemirror_mode": {
        "name": "ipython",
        "version": 3
      },
      "pygments_lexer": "ipython3",
      "nbconvert_exporter": "python",
      "file_extension": ".py"
    }
  },
  "nbformat": 4,
  "nbformat_minor": 1
}
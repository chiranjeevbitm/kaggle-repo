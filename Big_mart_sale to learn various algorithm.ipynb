{
  "cells": [
    {
      "metadata": {
        "trusted": true,
        "_uuid": "871017435f6d67ca5471bbe28ceaf3666b697ddb"
      },
      "cell_type": "code",
      "source": "% pylab inline\n\nimport numpy as np\nimport pandas as pd\nfrom sklearn.preprocessing import LabelEncoder\nfrom sklearn.linear_model import LinearRegression\nfrom sklearn.tree import DecisionTreeClassifier, DecisionTreeRegressor\nfrom sklearn.metrics import accuracy_score, r2_score, mean_squared_error\nfrom sklearn.model_selection import cross_val_score\nfrom sklearn.ensemble import RandomForestClassifier",
      "execution_count": 10,
      "outputs": [
        {
          "output_type": "stream",
          "text": "Populating the interactive namespace from numpy and matplotlib\n",
          "name": "stdout"
        }
      ]
    },
    {
      "metadata": {
        "collapsed": true,
        "trusted": true,
        "_uuid": "795701b62f7c20a5191d5ce41f71457c0693ad20"
      },
      "cell_type": "code",
      "source": "train = pd.read_csv('../input/Train.csv')",
      "execution_count": 11,
      "outputs": []
    },
    {
      "metadata": {
        "trusted": true,
        "_uuid": "e3b12de867be97e85d0266fccb4def72bb171abe"
      },
      "cell_type": "code",
      "source": "train['Item_Fat_Content'].unique()",
      "execution_count": 12,
      "outputs": [
        {
          "output_type": "execute_result",
          "execution_count": 12,
          "data": {
            "text/plain": "array(['Low Fat', 'Regular', 'low fat', 'LF', 'reg'], dtype=object)"
          },
          "metadata": {}
        }
      ]
    },
    {
      "metadata": {
        "trusted": true,
        "_uuid": "82d0d73e8d048fb23e6e59a88d64ca73c7567fab"
      },
      "cell_type": "code",
      "source": "train['Outlet_Establishment_Year'].unique()",
      "execution_count": 13,
      "outputs": [
        {
          "output_type": "execute_result",
          "execution_count": 13,
          "data": {
            "text/plain": "array([1999, 2009, 1998, 1987, 1985, 2002, 2007, 1997, 2004])"
          },
          "metadata": {}
        }
      ]
    },
    {
      "metadata": {
        "trusted": true,
        "_uuid": "2a48ebd9946cf98a1559c4c09cc8ef4e8624db24"
      },
      "cell_type": "code",
      "source": "train['Outlet_Size'].unique()",
      "execution_count": 14,
      "outputs": [
        {
          "output_type": "execute_result",
          "execution_count": 14,
          "data": {
            "text/plain": "array(['Medium', nan, 'High', 'Small'], dtype=object)"
          },
          "metadata": {}
        }
      ]
    },
    {
      "metadata": {
        "trusted": true,
        "_uuid": "7b5202491eb60076b780e8fb546d50b59d27eb6e"
      },
      "cell_type": "code",
      "source": "train.describe()",
      "execution_count": 15,
      "outputs": [
        {
          "output_type": "execute_result",
          "execution_count": 15,
          "data": {
            "text/plain": "       Item_Weight        ...          Item_Outlet_Sales\ncount  7060.000000        ...                8523.000000\nmean     12.857645        ...                2181.288914\nstd       4.643456        ...                1706.499616\nmin       4.555000        ...                  33.290000\n25%       8.773750        ...                 834.247400\n50%      12.600000        ...                1794.331000\n75%      16.850000        ...                3101.296400\nmax      21.350000        ...               13086.964800\n\n[8 rows x 5 columns]",
            "text/html": "<div>\n<style scoped>\n    .dataframe tbody tr th:only-of-type {\n        vertical-align: middle;\n    }\n\n    .dataframe tbody tr th {\n        vertical-align: top;\n    }\n\n    .dataframe thead th {\n        text-align: right;\n    }\n</style>\n<table border=\"1\" class=\"dataframe\">\n  <thead>\n    <tr style=\"text-align: right;\">\n      <th></th>\n      <th>Item_Weight</th>\n      <th>Item_Visibility</th>\n      <th>Item_MRP</th>\n      <th>Outlet_Establishment_Year</th>\n      <th>Item_Outlet_Sales</th>\n    </tr>\n  </thead>\n  <tbody>\n    <tr>\n      <th>count</th>\n      <td>7060.000000</td>\n      <td>8523.000000</td>\n      <td>8523.000000</td>\n      <td>8523.000000</td>\n      <td>8523.000000</td>\n    </tr>\n    <tr>\n      <th>mean</th>\n      <td>12.857645</td>\n      <td>0.066132</td>\n      <td>140.992782</td>\n      <td>1997.831867</td>\n      <td>2181.288914</td>\n    </tr>\n    <tr>\n      <th>std</th>\n      <td>4.643456</td>\n      <td>0.051598</td>\n      <td>62.275067</td>\n      <td>8.371760</td>\n      <td>1706.499616</td>\n    </tr>\n    <tr>\n      <th>min</th>\n      <td>4.555000</td>\n      <td>0.000000</td>\n      <td>31.290000</td>\n      <td>1985.000000</td>\n      <td>33.290000</td>\n    </tr>\n    <tr>\n      <th>25%</th>\n      <td>8.773750</td>\n      <td>0.026989</td>\n      <td>93.826500</td>\n      <td>1987.000000</td>\n      <td>834.247400</td>\n    </tr>\n    <tr>\n      <th>50%</th>\n      <td>12.600000</td>\n      <td>0.053931</td>\n      <td>143.012800</td>\n      <td>1999.000000</td>\n      <td>1794.331000</td>\n    </tr>\n    <tr>\n      <th>75%</th>\n      <td>16.850000</td>\n      <td>0.094585</td>\n      <td>185.643700</td>\n      <td>2004.000000</td>\n      <td>3101.296400</td>\n    </tr>\n    <tr>\n      <th>max</th>\n      <td>21.350000</td>\n      <td>0.328391</td>\n      <td>266.888400</td>\n      <td>2009.000000</td>\n      <td>13086.964800</td>\n    </tr>\n  </tbody>\n</table>\n</div>"
          },
          "metadata": {}
        }
      ]
    },
    {
      "metadata": {
        "trusted": true,
        "_uuid": "2ff8ab2038958a94840dae8e92431b017dec664e"
      },
      "cell_type": "code",
      "source": "train['Item_Visibility'].hist(bins=20)",
      "execution_count": 16,
      "outputs": [
        {
          "output_type": "execute_result",
          "execution_count": 16,
          "data": {
            "text/plain": "<matplotlib.axes._subplots.AxesSubplot at 0x7f16dfb7f5c0>"
          },
          "metadata": {}
        },
        {
          "output_type": "display_data",
          "data": {
            "text/plain": "<matplotlib.figure.Figure at 0x7f16dfb62f28>",
            "image/png": "[encoded data removed]"
          },
          "metadata": {}
        }
      ]
    },
    {
      "metadata": {
        "trusted": true,
        "_uuid": "795b7babac5d73867d368b16074619d4eda5557a"
      },
      "cell_type": "code",
      "source": "train['Item_Fat_Content'].value_counts()",
      "execution_count": 17,
      "outputs": [
        {
          "output_type": "execute_result",
          "execution_count": 17,
          "data": {
            "text/plain": "Low Fat    5089\nRegular    2889\nLF          316\nreg         117\nlow fat     112\nName: Item_Fat_Content, dtype: int64"
          },
          "metadata": {}
        }
      ]
    },
    {
      "metadata": {
        "trusted": true,
        "_uuid": "9321c511d160a8c4eee5e1d05e61ceb4e4b22654"
      },
      "cell_type": "code",
      "source": "train['Outlet_Size'].value_counts()",
      "execution_count": 18,
      "outputs": [
        {
          "output_type": "execute_result",
          "execution_count": 18,
          "data": {
            "text/plain": "Medium    2793\nSmall     2388\nHigh       932\nName: Outlet_Size, dtype: int64"
          },
          "metadata": {}
        }
      ]
    },
    {
      "metadata": {
        "trusted": true,
        "_uuid": "0ced72ea8d98ed8f34bdc2369f7be4131e99e4a1"
      },
      "cell_type": "code",
      "source": "train.boxplot(column='Item_MRP', by='Outlet_Size')",
      "execution_count": 19,
      "outputs": [
        {
          "output_type": "execute_result",
          "execution_count": 19,
          "data": {
            "text/plain": "<matplotlib.axes._subplots.AxesSubplot at 0x7f16dfaf73c8>"
          },
          "metadata": {}
        },
        {
          "output_type": "display_data",
          "data": {
            "text/plain": "<matplotlib.figure.Figure at 0x7f16dfb3c4e0>",
            "image/png": "[encoded data removed]"
          },
          "metadata": {}
        }
      ]
    },
    {
      "metadata": {
        "trusted": true,
        "_uuid": "fc43e563d76a6ad2e562c992dd11ed194c4f5a2c"
      },
      "cell_type": "code",
      "source": "train.boxplot(column='Item_Visibility', by='Outlet_Type')",
      "execution_count": 20,
      "outputs": [
        {
          "output_type": "execute_result",
          "execution_count": 20,
          "data": {
            "text/plain": "<matplotlib.axes._subplots.AxesSubplot at 0x7f16d024afd0>"
          },
          "metadata": {}
        },
        {
          "output_type": "display_data",
          "data": {
            "text/plain": "<matplotlib.figure.Figure at 0x7f16ce1f2e80>",
            "image/png": "[encoded data removed]"
          },
          "metadata": {}
        }
      ]
    },
    {
      "metadata": {
        "trusted": true,
        "_uuid": "e912b874f6ee42de1c6dbe0fae6f75621adadb1e"
      },
      "cell_type": "code",
      "source": "train['Outlet_Size'].mode()[0]",
      "execution_count": 21,
      "outputs": [
        {
          "output_type": "execute_result",
          "execution_count": 21,
          "data": {
            "text/plain": "'Medium'"
          },
          "metadata": {}
        }
      ]
    },
    {
      "metadata": {
        "collapsed": true,
        "trusted": true,
        "_uuid": "aa07f7c628763fcefe29da0df449c8355b085c96"
      },
      "cell_type": "code",
      "source": "# fill the na for outlet size with medium\ntrain['Outlet_Size'] = train['Outlet_Size'].fillna(train['Outlet_Size'].mode()[0])",
      "execution_count": 22,
      "outputs": []
    },
    {
      "metadata": {
        "collapsed": true,
        "trusted": true,
        "_uuid": "de30b5ff251cb1e639838cd7ef3112e55d8e23f8"
      },
      "cell_type": "code",
      "source": "# fill the na for item weight with the mean of weights\ntrain['Item_Weight'] = train['Item_Weight'].fillna(train['Item_Weight'].mean())",
      "execution_count": 23,
      "outputs": []
    },
    {
      "metadata": {
        "scrolled": true,
        "trusted": true,
        "_uuid": "0e1a49805efc93ae9e50c7b278d27db35c10f883"
      },
      "cell_type": "code",
      "source": "train.boxplot(column='Item_Visibility')",
      "execution_count": 24,
      "outputs": [
        {
          "output_type": "execute_result",
          "execution_count": 24,
          "data": {
            "text/plain": "<matplotlib.axes._subplots.AxesSubplot at 0x7f16ce1dfcf8>"
          },
          "metadata": {}
        },
        {
          "output_type": "display_data",
          "data": {
            "text/plain": "<matplotlib.figure.Figure at 0x7f16ce17af28>",
            "image/png": "[encoded data removed]"
          },
          "metadata": {}
        }
      ]
    },
    {
      "metadata": {
        "collapsed": true,
        "trusted": true,
        "_uuid": "a6e11436b96d43f7783e1c48cfd8707606d2d9c6"
      },
      "cell_type": "code",
      "source": "# delete the observations\n\nQ1 = train['Item_Visibility'].quantile(0.25)\nQ3 = train['Item_Visibility'].quantile(0.75)\nIQR = Q3 - Q1\nfilt_train = train.query('(@Q1 - 1.5 * @IQR) <= Item_Visibility <= (@Q3 + 1.5 * @IQR)')",
      "execution_count": 25,
      "outputs": []
    },
    {
      "metadata": {
        "trusted": true,
        "_uuid": "0ecc32be25c2c268d0967a774d15bcd5b3b9616b"
      },
      "cell_type": "code",
      "source": "filt_train.shape, train.shape",
      "execution_count": 26,
      "outputs": [
        {
          "output_type": "execute_result",
          "execution_count": 26,
          "data": {
            "text/plain": "((8379, 12), (8523, 12))"
          },
          "metadata": {}
        }
      ]
    },
    {
      "metadata": {
        "trusted": true,
        "_uuid": "fbdb3a346baa76f9f13cd7a08a5f2dbf449e36cf"
      },
      "cell_type": "code",
      "source": "train = filt_train\ntrain.shape",
      "execution_count": 27,
      "outputs": [
        {
          "output_type": "execute_result",
          "execution_count": 27,
          "data": {
            "text/plain": "(8379, 12)"
          },
          "metadata": {}
        }
      ]
    },
    {
      "metadata": {
        "collapsed": true,
        "trusted": true,
        "_uuid": "2f9bf93d7febe32987643033973e6c54d375d2b4"
      },
      "cell_type": "code",
      "source": "train['Item_Visibility_bins'] = pd.cut(train['Item_Visibility'], [0.000, 0.065, 0.13, 0.2], labels=['Low Viz', 'Viz', 'High Viz'])",
      "execution_count": 28,
      "outputs": []
    },
    {
      "metadata": {
        "collapsed": true,
        "trusted": true,
        "_uuid": "44f4b1d36cc706a5a283fc2ba5f1ae2a26ac608e"
      },
      "cell_type": "code",
      "source": "train['Item_Visibility_bins'] = train['Item_Visibility_bins'].replace(NaN, 'Low Viz')",
      "execution_count": 29,
      "outputs": []
    },
    {
      "metadata": {
        "collapsed": true,
        "trusted": true,
        "_uuid": "7416b0dd7aae366e4a209fab8ec40c23b87c2160"
      },
      "cell_type": "code",
      "source": "train['Item_Fat_Content'] = train['Item_Fat_Content'].replace(['low fat', 'LF'], 'Low Fat')",
      "execution_count": 30,
      "outputs": []
    },
    {
      "metadata": {
        "collapsed": true,
        "trusted": true,
        "_uuid": "fcf448982c7000bfe1218e8e4d85aa5d67cd432c"
      },
      "cell_type": "code",
      "source": "train['Item_Fat_Content'] = train['Item_Fat_Content'].replace('reg', 'Regular')",
      "execution_count": 31,
      "outputs": []
    },
    {
      "metadata": {
        "collapsed": true,
        "trusted": true,
        "_uuid": "9e10571b23a2e0c3d8949eca9f03e7969648be26"
      },
      "cell_type": "code",
      "source": "#choosing the Fat content, item vizibility bins, outlet size, loc type and type for LABEL ENCODER",
      "execution_count": 32,
      "outputs": []
    },
    {
      "metadata": {
        "collapsed": true,
        "trusted": true,
        "_uuid": "3886a17b974954fb9a9d948192b98ad8bc1d4c69"
      },
      "cell_type": "code",
      "source": "le = LabelEncoder()",
      "execution_count": 33,
      "outputs": []
    },
    {
      "metadata": {
        "trusted": true,
        "_uuid": "1db65ea5825995b900a1bed6fb574aad0e77d1c1"
      },
      "cell_type": "code",
      "source": "train['Item_Fat_Content'].unique()",
      "execution_count": 34,
      "outputs": [
        {
          "output_type": "execute_result",
          "execution_count": 34,
          "data": {
            "text/plain": "array(['Low Fat', 'Regular'], dtype=object)"
          },
          "metadata": {}
        }
      ]
    },
    {
      "metadata": {
        "collapsed": true,
        "trusted": true,
        "_uuid": "5083f80debb70e70bfa6e505ef54a4b6311c3de6"
      },
      "cell_type": "code",
      "source": "train['Item_Fat_Content'] = le.fit_transform(train['Item_Fat_Content'])",
      "execution_count": 35,
      "outputs": []
    },
    {
      "metadata": {
        "collapsed": true,
        "trusted": true,
        "_uuid": "934bf579f1b0836d9603b86e48a58aa3f7a789c7"
      },
      "cell_type": "code",
      "source": "train['Item_Visibility_bins'] = le.fit_transform(train['Item_Visibility_bins'])",
      "execution_count": 36,
      "outputs": []
    },
    {
      "metadata": {
        "collapsed": true,
        "trusted": true,
        "_uuid": "1406bddf92a0694e7a99c34a79d2f026e8eb8d62"
      },
      "cell_type": "code",
      "source": "train['Outlet_Size'] = le.fit_transform(train['Outlet_Size'])",
      "execution_count": 37,
      "outputs": []
    },
    {
      "metadata": {
        "collapsed": true,
        "trusted": true,
        "_uuid": "efadd10a7147fdddea0bf381c74ced87a37600b1"
      },
      "cell_type": "code",
      "source": "train['Outlet_Location_Type'] = le.fit_transform(train['Outlet_Location_Type'])",
      "execution_count": 38,
      "outputs": []
    },
    {
      "metadata": {
        "collapsed": true,
        "trusted": true,
        "_uuid": "d9a4c551e1fe97c26bf4abeed083ce8e45ec1b7b"
      },
      "cell_type": "code",
      "source": "# create dummies for outlet type",
      "execution_count": 39,
      "outputs": []
    },
    {
      "metadata": {
        "trusted": true,
        "_uuid": "b7a3bb5a459ebc56790403a7789f8ac987ec8871"
      },
      "cell_type": "code",
      "source": "dummy = pd.get_dummies(train['Outlet_Type'])\ndummy.head()",
      "execution_count": 40,
      "outputs": [
        {
          "output_type": "execute_result",
          "execution_count": 40,
          "data": {
            "text/plain": "   Grocery Store        ...          Supermarket Type3\n0              0        ...                          0\n1              0        ...                          0\n2              0        ...                          0\n3              1        ...                          0\n4              0        ...                          0\n\n[5 rows x 4 columns]",
            "text/html": "<div>\n<style scoped>\n    .dataframe tbody tr th:only-of-type {\n        vertical-align: middle;\n    }\n\n    .dataframe tbody tr th {\n        vertical-align: top;\n    }\n\n    .dataframe thead th {\n        text-align: right;\n    }\n</style>\n<table border=\"1\" class=\"dataframe\">\n  <thead>\n    <tr style=\"text-align: right;\">\n      <th></th>\n      <th>Grocery Store</th>\n      <th>Supermarket Type1</th>\n      <th>Supermarket Type2</th>\n      <th>Supermarket Type3</th>\n    </tr>\n  </thead>\n  <tbody>\n    <tr>\n      <th>0</th>\n      <td>0</td>\n      <td>1</td>\n      <td>0</td>\n      <td>0</td>\n    </tr>\n    <tr>\n      <th>1</th>\n      <td>0</td>\n      <td>0</td>\n      <td>1</td>\n      <td>0</td>\n    </tr>\n    <tr>\n      <th>2</th>\n      <td>0</td>\n      <td>1</td>\n      <td>0</td>\n      <td>0</td>\n    </tr>\n    <tr>\n      <th>3</th>\n      <td>1</td>\n      <td>0</td>\n      <td>0</td>\n      <td>0</td>\n    </tr>\n    <tr>\n      <th>4</th>\n      <td>0</td>\n      <td>1</td>\n      <td>0</td>\n      <td>0</td>\n    </tr>\n  </tbody>\n</table>\n</div>"
          },
          "metadata": {}
        }
      ]
    },
    {
      "metadata": {
        "collapsed": true,
        "trusted": true,
        "_uuid": "297b59959c63f29ae1ef589164d338a7e7135ac0"
      },
      "cell_type": "code",
      "source": "train = pd.concat([train, dummy], axis=1)",
      "execution_count": 41,
      "outputs": []
    },
    {
      "metadata": {
        "trusted": true,
        "_uuid": "0d337d977ca67306fc7a61f5e620107cdab45976"
      },
      "cell_type": "code",
      "source": "# in linear regression that correlated features should not be present\n\ntrain.corr()[((train.corr() < -0.85) | (train.corr() > 0.85)) & (train.corr() != 1)]",
      "execution_count": 42,
      "outputs": [
        {
          "output_type": "execute_result",
          "execution_count": 42,
          "data": {
            "text/plain": "                           Item_Weight        ...          Supermarket Type3\nItem_Weight                        NaN        ...                        NaN\nItem_Fat_Content                   NaN        ...                        NaN\nItem_Visibility                    NaN        ...                        NaN\nItem_MRP                           NaN        ...                        NaN\nOutlet_Establishment_Year          NaN        ...                        NaN\nOutlet_Size                        NaN        ...                        NaN\nOutlet_Location_Type               NaN        ...                        NaN\nItem_Outlet_Sales                  NaN        ...                        NaN\nItem_Visibility_bins               NaN        ...                        NaN\nGrocery Store                      NaN        ...                        NaN\nSupermarket Type1                  NaN        ...                        NaN\nSupermarket Type2                  NaN        ...                        NaN\nSupermarket Type3                  NaN        ...                        NaN\n\n[13 rows x 13 columns]",
            "text/html": "<div>\n<style scoped>\n    .dataframe tbody tr th:only-of-type {\n        vertical-align: middle;\n    }\n\n    .dataframe tbody tr th {\n        vertical-align: top;\n    }\n\n    .dataframe thead th {\n        text-align: right;\n    }\n</style>\n<table border=\"1\" class=\"dataframe\">\n  <thead>\n    <tr style=\"text-align: right;\">\n      <th></th>\n      <th>Item_Weight</th>\n      <th>Item_Fat_Content</th>\n      <th>Item_Visibility</th>\n      <th>Item_MRP</th>\n      <th>Outlet_Establishment_Year</th>\n      <th>Outlet_Size</th>\n      <th>Outlet_Location_Type</th>\n      <th>Item_Outlet_Sales</th>\n      <th>Item_Visibility_bins</th>\n      <th>Grocery Store</th>\n      <th>Supermarket Type1</th>\n      <th>Supermarket Type2</th>\n      <th>Supermarket Type3</th>\n    </tr>\n  </thead>\n  <tbody>\n    <tr>\n      <th>Item_Weight</th>\n      <td>NaN</td>\n      <td>NaN</td>\n      <td>NaN</td>\n      <td>NaN</td>\n      <td>NaN</td>\n      <td>NaN</td>\n      <td>NaN</td>\n      <td>NaN</td>\n      <td>NaN</td>\n      <td>NaN</td>\n      <td>NaN</td>\n      <td>NaN</td>\n      <td>NaN</td>\n    </tr>\n    <tr>\n      <th>Item_Fat_Content</th>\n      <td>NaN</td>\n      <td>NaN</td>\n      <td>NaN</td>\n      <td>NaN</td>\n      <td>NaN</td>\n      <td>NaN</td>\n      <td>NaN</td>\n      <td>NaN</td>\n      <td>NaN</td>\n      <td>NaN</td>\n      <td>NaN</td>\n      <td>NaN</td>\n      <td>NaN</td>\n    </tr>\n    <tr>\n      <th>Item_Visibility</th>\n      <td>NaN</td>\n      <td>NaN</td>\n      <td>NaN</td>\n      <td>NaN</td>\n      <td>NaN</td>\n      <td>NaN</td>\n      <td>NaN</td>\n      <td>NaN</td>\n      <td>NaN</td>\n      <td>NaN</td>\n      <td>NaN</td>\n      <td>NaN</td>\n      <td>NaN</td>\n    </tr>\n    <tr>\n      <th>Item_MRP</th>\n      <td>NaN</td>\n      <td>NaN</td>\n      <td>NaN</td>\n      <td>NaN</td>\n      <td>NaN</td>\n      <td>NaN</td>\n      <td>NaN</td>\n      <td>NaN</td>\n      <td>NaN</td>\n      <td>NaN</td>\n      <td>NaN</td>\n      <td>NaN</td>\n      <td>NaN</td>\n    </tr>\n    <tr>\n      <th>Outlet_Establishment_Year</th>\n      <td>NaN</td>\n      <td>NaN</td>\n      <td>NaN</td>\n      <td>NaN</td>\n      <td>NaN</td>\n      <td>NaN</td>\n      <td>NaN</td>\n      <td>NaN</td>\n      <td>NaN</td>\n      <td>NaN</td>\n      <td>NaN</td>\n      <td>NaN</td>\n      <td>NaN</td>\n    </tr>\n    <tr>\n      <th>Outlet_Size</th>\n      <td>NaN</td>\n      <td>NaN</td>\n      <td>NaN</td>\n      <td>NaN</td>\n      <td>NaN</td>\n      <td>NaN</td>\n      <td>NaN</td>\n      <td>NaN</td>\n      <td>NaN</td>\n      <td>NaN</td>\n      <td>NaN</td>\n      <td>NaN</td>\n      <td>NaN</td>\n    </tr>\n    <tr>\n      <th>Outlet_Location_Type</th>\n      <td>NaN</td>\n      <td>NaN</td>\n      <td>NaN</td>\n      <td>NaN</td>\n      <td>NaN</td>\n      <td>NaN</td>\n      <td>NaN</td>\n      <td>NaN</td>\n      <td>NaN</td>\n      <td>NaN</td>\n      <td>NaN</td>\n      <td>NaN</td>\n      <td>NaN</td>\n    </tr>\n    <tr>\n      <th>Item_Outlet_Sales</th>\n      <td>NaN</td>\n      <td>NaN</td>\n      <td>NaN</td>\n      <td>NaN</td>\n      <td>NaN</td>\n      <td>NaN</td>\n      <td>NaN</td>\n      <td>NaN</td>\n      <td>NaN</td>\n      <td>NaN</td>\n      <td>NaN</td>\n      <td>NaN</td>\n      <td>NaN</td>\n    </tr>\n    <tr>\n      <th>Item_Visibility_bins</th>\n      <td>NaN</td>\n      <td>NaN</td>\n      <td>NaN</td>\n      <td>NaN</td>\n      <td>NaN</td>\n      <td>NaN</td>\n      <td>NaN</td>\n      <td>NaN</td>\n      <td>NaN</td>\n      <td>NaN</td>\n      <td>NaN</td>\n      <td>NaN</td>\n      <td>NaN</td>\n    </tr>\n    <tr>\n      <th>Grocery Store</th>\n      <td>NaN</td>\n      <td>NaN</td>\n      <td>NaN</td>\n      <td>NaN</td>\n      <td>NaN</td>\n      <td>NaN</td>\n      <td>NaN</td>\n      <td>NaN</td>\n      <td>NaN</td>\n      <td>NaN</td>\n      <td>NaN</td>\n      <td>NaN</td>\n      <td>NaN</td>\n    </tr>\n    <tr>\n      <th>Supermarket Type1</th>\n      <td>NaN</td>\n      <td>NaN</td>\n      <td>NaN</td>\n      <td>NaN</td>\n      <td>NaN</td>\n      <td>NaN</td>\n      <td>NaN</td>\n      <td>NaN</td>\n      <td>NaN</td>\n      <td>NaN</td>\n      <td>NaN</td>\n      <td>NaN</td>\n      <td>NaN</td>\n    </tr>\n    <tr>\n      <th>Supermarket Type2</th>\n      <td>NaN</td>\n      <td>NaN</td>\n      <td>NaN</td>\n      <td>NaN</td>\n      <td>NaN</td>\n      <td>NaN</td>\n      <td>NaN</td>\n      <td>NaN</td>\n      <td>NaN</td>\n      <td>NaN</td>\n      <td>NaN</td>\n      <td>NaN</td>\n      <td>NaN</td>\n    </tr>\n    <tr>\n      <th>Supermarket Type3</th>\n      <td>NaN</td>\n      <td>NaN</td>\n      <td>NaN</td>\n      <td>NaN</td>\n      <td>NaN</td>\n      <td>NaN</td>\n      <td>NaN</td>\n      <td>NaN</td>\n      <td>NaN</td>\n      <td>NaN</td>\n      <td>NaN</td>\n      <td>NaN</td>\n      <td>NaN</td>\n    </tr>\n  </tbody>\n</table>\n</div>"
          },
          "metadata": {}
        }
      ]
    },
    {
      "metadata": {
        "trusted": true,
        "_uuid": "9eaf40f1e291fd1fc33a6d76004565d18886529f"
      },
      "cell_type": "code",
      "source": "train.dtypes",
      "execution_count": 43,
      "outputs": [
        {
          "output_type": "execute_result",
          "execution_count": 43,
          "data": {
            "text/plain": "Item_Identifier               object\nItem_Weight                  float64\nItem_Fat_Content               int64\nItem_Visibility              float64\nItem_Type                     object\nItem_MRP                     float64\nOutlet_Identifier             object\nOutlet_Establishment_Year      int64\nOutlet_Size                    int64\nOutlet_Location_Type           int64\nOutlet_Type                   object\nItem_Outlet_Sales            float64\nItem_Visibility_bins           int64\nGrocery Store                  uint8\nSupermarket Type1              uint8\nSupermarket Type2              uint8\nSupermarket Type3              uint8\ndtype: object"
          },
          "metadata": {}
        }
      ]
    },
    {
      "metadata": {
        "collapsed": true,
        "trusted": true,
        "_uuid": "4cf2aab90e1eb4717bcdbf84d1965b14d095cf0d"
      },
      "cell_type": "code",
      "source": "# got to drop all the object types features\ntrain = train.drop(['Item_Identifier', 'Item_Type', 'Outlet_Identifier', 'Outlet_Type'], axis=1)",
      "execution_count": 44,
      "outputs": []
    },
    {
      "metadata": {
        "trusted": true,
        "_uuid": "217e571af733ba8d7e34ea0b62699740c31775b4"
      },
      "cell_type": "code",
      "source": "train.columns",
      "execution_count": 45,
      "outputs": [
        {
          "output_type": "execute_result",
          "execution_count": 45,
          "data": {
            "text/plain": "Index(['Item_Weight', 'Item_Fat_Content', 'Item_Visibility', 'Item_MRP',\n       'Outlet_Establishment_Year', 'Outlet_Size', 'Outlet_Location_Type',\n       'Item_Outlet_Sales', 'Item_Visibility_bins', 'Grocery Store',\n       'Supermarket Type1', 'Supermarket Type2', 'Supermarket Type3'],\n      dtype='object')"
          },
          "metadata": {}
        }
      ]
    },
    {
      "metadata": {
        "collapsed": true,
        "trusted": true,
        "_uuid": "89f137033740f54478feee10c667656e092881a0"
      },
      "cell_type": "code",
      "source": "# build the linear regression model\nX = train.drop('Item_Outlet_Sales', axis=1)\ny = train.Item_Outlet_Sales",
      "execution_count": 46,
      "outputs": []
    },
    {
      "metadata": {
        "collapsed": true,
        "trusted": true,
        "_uuid": "8bbaa25015063a63f315e3bfd6b7a898c70ec045"
      },
      "cell_type": "code",
      "source": "test = pd.read_csv('../input/Test.csv')\ntest['Outlet_Size'] = test['Outlet_Size'].fillna('Medium')",
      "execution_count": 47,
      "outputs": []
    },
    {
      "metadata": {
        "collapsed": true,
        "trusted": true,
        "_uuid": "9a5ab75b056804ac93cb9a28f7a8bf1512c46f38"
      },
      "cell_type": "code",
      "source": "test['Item_Visibility_bins'] = pd.cut(test['Item_Visibility'], [0.000, 0.065, 0.13, 0.2], labels=['Low Viz', 'Viz', 'High Viz'])",
      "execution_count": 48,
      "outputs": []
    },
    {
      "metadata": {
        "collapsed": true,
        "trusted": true,
        "_uuid": "a3ba10be5321b3c46abfb0bc5a2b082431dadb96"
      },
      "cell_type": "code",
      "source": "test['Item_Weight'] = test['Item_Weight'].fillna(test['Item_Weight'].mean())",
      "execution_count": 49,
      "outputs": []
    },
    {
      "metadata": {
        "trusted": true,
        "_uuid": "359798eba7c62763bdbfd3b7cdda389c4892dbaa"
      },
      "cell_type": "code",
      "source": "test['Item_Visibility_bins'] = test['Item_Visibility_bins'].replace(NaN, 'Low Viz')\ntest['Item_Visibility_bins'].head()",
      "execution_count": 50,
      "outputs": [
        {
          "output_type": "execute_result",
          "execution_count": 50,
          "data": {
            "text/plain": "0    Low Viz\n1    Low Viz\n2        Viz\n3    Low Viz\n4        Viz\nName: Item_Visibility_bins, dtype: category\nCategories (3, object): [Low Viz < Viz < High Viz]"
          },
          "metadata": {}
        }
      ]
    },
    {
      "metadata": {
        "collapsed": true,
        "trusted": true,
        "_uuid": "c05f73abf60acdc57d2533f45509517518e28082"
      },
      "cell_type": "code",
      "source": "test['Item_Fat_Content'] = test['Item_Fat_Content'].replace(['low fat', 'LF'], 'Low Fat')\ntest['Item_Fat_Content'] = test['Item_Fat_Content'].replace('reg', 'Regular')",
      "execution_count": 51,
      "outputs": []
    },
    {
      "metadata": {
        "collapsed": true,
        "trusted": true,
        "_uuid": "9bf0eb63b7f7a3c7ade6d67210cb9d798a942f30"
      },
      "cell_type": "code",
      "source": "test['Item_Fat_Content'] = le.fit_transform(test['Item_Fat_Content'])",
      "execution_count": 52,
      "outputs": []
    },
    {
      "metadata": {
        "collapsed": true,
        "trusted": true,
        "_uuid": "c40b6d87df7ffda35cef327fa1011e0ae78c7a62"
      },
      "cell_type": "code",
      "source": "test['Item_Visibility_bins'] = le.fit_transform(test['Item_Visibility_bins'])",
      "execution_count": 53,
      "outputs": []
    },
    {
      "metadata": {
        "collapsed": true,
        "trusted": true,
        "_uuid": "3d4f3a10fc072c00c5ab31296897b372f4a63e90"
      },
      "cell_type": "code",
      "source": "test['Outlet_Size'] = le.fit_transform(test['Outlet_Size'])",
      "execution_count": 54,
      "outputs": []
    },
    {
      "metadata": {
        "collapsed": true,
        "trusted": true,
        "_uuid": "bbde1128d44d4277a2a3c17818c908dd3ed0ff6f"
      },
      "cell_type": "code",
      "source": "test['Outlet_Location_Type'] = le.fit_transform(test['Outlet_Location_Type'])",
      "execution_count": 55,
      "outputs": []
    },
    {
      "metadata": {
        "collapsed": true,
        "trusted": true,
        "_uuid": "f50941156713176e8e14bf66856645d4f0d71a21"
      },
      "cell_type": "code",
      "source": "dummy = pd.get_dummies(test['Outlet_Type'])\ntest = pd.concat([test, dummy], axis=1)",
      "execution_count": 56,
      "outputs": []
    },
    {
      "metadata": {
        "collapsed": true,
        "trusted": true,
        "_uuid": "e8dbb086af685bdf1df53c4c6482342b2a8db0ed"
      },
      "cell_type": "code",
      "source": "X_test = test.drop(['Item_Identifier', 'Item_Type', 'Outlet_Identifier', 'Outlet_Type'], axis=1)",
      "execution_count": 57,
      "outputs": []
    },
    {
      "metadata": {
        "trusted": true,
        "_uuid": "fc7921c90ea46417f41168820249effe35672247"
      },
      "cell_type": "code",
      "source": "X.columns, X_test.columns",
      "execution_count": 58,
      "outputs": [
        {
          "output_type": "execute_result",
          "execution_count": 58,
          "data": {
            "text/plain": "(Index(['Item_Weight', 'Item_Fat_Content', 'Item_Visibility', 'Item_MRP',\n        'Outlet_Establishment_Year', 'Outlet_Size', 'Outlet_Location_Type',\n        'Item_Visibility_bins', 'Grocery Store', 'Supermarket Type1',\n        'Supermarket Type2', 'Supermarket Type3'],\n       dtype='object'),\n Index(['Item_Weight', 'Item_Fat_Content', 'Item_Visibility', 'Item_MRP',\n        'Outlet_Establishment_Year', 'Outlet_Size', 'Outlet_Location_Type',\n        'Item_Visibility_bins', 'Grocery Store', 'Supermarket Type1',\n        'Supermarket Type2', 'Supermarket Type3'],\n       dtype='object'))"
          },
          "metadata": {}
        }
      ]
    },
    {
      "metadata": {
        "collapsed": true,
        "trusted": true,
        "_uuid": "86e68fa3e71db84571dab601260c797fc8be84d8"
      },
      "cell_type": "code",
      "source": "lin = LinearRegression()",
      "execution_count": 59,
      "outputs": []
    },
    {
      "metadata": {
        "collapsed": true,
        "trusted": true,
        "_uuid": "ff7aea49f09d3dd2df27d3fd6e36458659fd83db"
      },
      "cell_type": "code",
      "source": "lin.fit(X, y)\npredictions = lin.predict(X_test)",
      "execution_count": 60,
      "outputs": []
    },
    {
      "metadata": {
        "trusted": true,
        "_uuid": "a6040b0dad826be8cde0b65ad23ca1a227ad0eb4"
      },
      "cell_type": "code",
      "source": "# create submission file\nsubmission1 = pd.DataFrame(data=[], columns=['Item_Identifier', 'Outlet_Identifier', 'Item_Outlet_Sales'])\nsubmission1['Item_Identifier'] = test['Item_Identifier']\nsubmission1['Outlet_Identifier'] = test['Outlet_Identifier']\nsubmission1['Item_Outlet_Sales'] = predictions\nsubmission1.to_csv('submission1.csv', index=False)\nsubmission1.head()",
      "execution_count": 61,
      "outputs": [
        {
          "output_type": "execute_result",
          "execution_count": 61,
          "data": {
            "text/plain": "  Item_Identifier Outlet_Identifier  Item_Outlet_Sales\n0           FDW58            OUT049        1775.267791\n1           FDW14            OUT017        1517.194705\n2           NCN55            OUT010        1933.945314\n3           FDQ58            OUT017        2543.860693\n4           FDY38            OUT027        5204.043635",
            "text/html": "<div>\n<style scoped>\n    .dataframe tbody tr th:only-of-type {\n        vertical-align: middle;\n    }\n\n    .dataframe tbody tr th {\n        vertical-align: top;\n    }\n\n    .dataframe thead th {\n        text-align: right;\n    }\n</style>\n<table border=\"1\" class=\"dataframe\">\n  <thead>\n    <tr style=\"text-align: right;\">\n      <th></th>\n      <th>Item_Identifier</th>\n      <th>Outlet_Identifier</th>\n      <th>Item_Outlet_Sales</th>\n    </tr>\n  </thead>\n  <tbody>\n    <tr>\n      <th>0</th>\n      <td>FDW58</td>\n      <td>OUT049</td>\n      <td>1775.267791</td>\n    </tr>\n    <tr>\n      <th>1</th>\n      <td>FDW14</td>\n      <td>OUT017</td>\n      <td>1517.194705</td>\n    </tr>\n    <tr>\n      <th>2</th>\n      <td>NCN55</td>\n      <td>OUT010</td>\n      <td>1933.945314</td>\n    </tr>\n    <tr>\n      <th>3</th>\n      <td>FDQ58</td>\n      <td>OUT017</td>\n      <td>2543.860693</td>\n    </tr>\n    <tr>\n      <th>4</th>\n      <td>FDY38</td>\n      <td>OUT027</td>\n      <td>5204.043635</td>\n    </tr>\n  </tbody>\n</table>\n</div>"
          },
          "metadata": {}
        }
      ]
    },
    {
      "metadata": {
        "collapsed": true,
        "trusted": true,
        "_uuid": "c7edbfa8afb5ee46abbd238ed82c87e857a28cd1"
      },
      "cell_type": "code",
      "source": "",
      "execution_count": null,
      "outputs": []
    },
    {
      "metadata": {
        "collapsed": true,
        "trusted": true,
        "_uuid": "ae49440e79e3af97fbdc88b7fd42693293e6495a"
      },
      "cell_type": "code",
      "source": "# decision tree\ndtree_class = DecisionTreeClassifier(criterion='gini', max_depth=25)\ny = y.astype(int)",
      "execution_count": 62,
      "outputs": []
    },
    {
      "metadata": {
        "trusted": true,
        "_uuid": "37444beff6e8e48112999618bd8eccbd629480a2"
      },
      "cell_type": "code",
      "source": "dtree_class.fit(X, y)",
      "execution_count": 63,
      "outputs": [
        {
          "output_type": "execute_result",
          "execution_count": 63,
          "data": {
            "text/plain": "DecisionTreeClassifier(class_weight=None, criterion='gini', max_depth=25,\n            max_features=None, max_leaf_nodes=None,\n            min_impurity_decrease=0.0, min_impurity_split=None,\n            min_samples_leaf=1, min_samples_split=2,\n            min_weight_fraction_leaf=0.0, presort=False, random_state=None,\n            splitter='best')"
          },
          "metadata": {}
        }
      ]
    },
    {
      "metadata": {
        "trusted": true,
        "_uuid": "0c22e65f6e6c172a9cc1a5ba32c7b412395353b4"
      },
      "cell_type": "code",
      "source": "accuracy_score(y, dtree_class.predict(X))",
      "execution_count": 64,
      "outputs": [
        {
          "output_type": "execute_result",
          "execution_count": 64,
          "data": {
            "text/plain": "0.9883040935672515"
          },
          "metadata": {}
        }
      ]
    },
    {
      "metadata": {
        "trusted": true,
        "_uuid": "6cd411c12c696703b9eaaff99e83cf367967c4d9"
      },
      "cell_type": "code",
      "source": "r2_score(y, dtree_class.predict(X))",
      "execution_count": 65,
      "outputs": [
        {
          "output_type": "execute_result",
          "execution_count": 65,
          "data": {
            "text/plain": "0.9836511818844509"
          },
          "metadata": {}
        }
      ]
    },
    {
      "metadata": {
        "trusted": true,
        "_uuid": "b47a371ecdd640a4bc50988b836052149376309c"
      },
      "cell_type": "code",
      "source": "pred = dtree_class.predict(X_test)\npred",
      "execution_count": 66,
      "outputs": [
        {
          "output_type": "execute_result",
          "execution_count": 66,
          "data": {
            "text/plain": "array([1693, 1230,  484, ...,  353, 3419, 1651])"
          },
          "metadata": {}
        }
      ]
    },
    {
      "metadata": {
        "trusted": true,
        "_uuid": "25045abc7848c757ffa5f88fc9b663a70a7bcb7d",
        "collapsed": true
      },
      "cell_type": "code",
      "source": "# # create submission file\n# submission = pd.DataFrame(data=[], columns=['Item_Identifier', 'Outlet_Identifier', 'Item_Outlet_Sales'])\n# submission['Item_Identifier'] = test['Item_Identifier']\n# submission['Outlet_Identifier'] = test['Outlet_Identifier']\n# submission['Item_Outlet_Sales'] = pred\n# submission.to_csv('submission.csv', index=False)\n# submission.head()",
      "execution_count": 67,
      "outputs": []
    },
    {
      "metadata": {
        "collapsed": true,
        "trusted": true,
        "_uuid": "afeec47145dd5ed791cf14c211f05a808cdae12d"
      },
      "cell_type": "code",
      "source": "",
      "execution_count": null,
      "outputs": []
    },
    {
      "metadata": {
        "collapsed": true,
        "trusted": true,
        "_uuid": "194945ed168ef27f51e87d066f92de04c9c5eaf4"
      },
      "cell_type": "code",
      "source": "dtree_reg = DecisionTreeRegressor(criterion='mse', max_depth=10)",
      "execution_count": 68,
      "outputs": []
    },
    {
      "metadata": {
        "trusted": true,
        "_uuid": "356509f1eeeea8c1ee3d258f151f7eedfa47da33"
      },
      "cell_type": "code",
      "source": "dtree_reg.fit(X, y)",
      "execution_count": 69,
      "outputs": [
        {
          "output_type": "execute_result",
          "execution_count": 69,
          "data": {
            "text/plain": "DecisionTreeRegressor(criterion='mse', max_depth=10, max_features=None,\n           max_leaf_nodes=None, min_impurity_decrease=0.0,\n           min_impurity_split=None, min_samples_leaf=1,\n           min_samples_split=2, min_weight_fraction_leaf=0.0,\n           presort=False, random_state=None, splitter='best')"
          },
          "metadata": {}
        }
      ]
    },
    {
      "metadata": {
        "trusted": true,
        "_uuid": "6f07b6aaaea1586d642f78d33de40bfc4db808a8"
      },
      "cell_type": "code",
      "source": "pred = dtree_reg.predict(X_test)\npred",
      "execution_count": 70,
      "outputs": [
        {
          "output_type": "execute_result",
          "execution_count": 70,
          "data": {
            "text/plain": "array([1683.86774194, 1283.09466019,  597.94545455, ..., 1808.80246914,\n       5011.77777778, 1283.09466019])"
          },
          "metadata": {}
        }
      ]
    },
    {
      "metadata": {
        "collapsed": true,
        "trusted": true,
        "_uuid": "890a21eda172b7243ae54c3fd9f506197e92f239"
      },
      "cell_type": "code",
      "source": "# # create submission file\n# submission = pd.DataFrame(data=[], columns=['Item_Identifier', 'Outlet_Identifier', 'Item_Outlet_Sales'])\n# submission['Item_Identifier'] = test['Item_Identifier']\n# submission['Outlet_Identifier'] = test['Outlet_Identifier']\n# submission['Item_Outlet_Sales'] = pred\n# submission.to_csv('submission2.csv', index=False)\n# submission.head()",
      "execution_count": 71,
      "outputs": []
    },
    {
      "metadata": {
        "collapsed": true,
        "trusted": true,
        "_uuid": "a70b86b62f8c5a2bdf16b6c94fbb74d2123541e5"
      },
      "cell_type": "code",
      "source": "",
      "execution_count": null,
      "outputs": []
    },
    {
      "metadata": {
        "trusted": true,
        "_uuid": "6173f9c0333e004ee00a0192d97858a53a715545"
      },
      "cell_type": "code",
      "source": "cross_val_score(lin, X, y, cv=5, scoring='r2')",
      "execution_count": 72,
      "outputs": [
        {
          "output_type": "execute_result",
          "execution_count": 72,
          "data": {
            "text/plain": "array([0.56695129, 0.54844669, 0.5434969 , 0.56014671, 0.55995928])"
          },
          "metadata": {}
        }
      ]
    },
    {
      "metadata": {
        "trusted": true,
        "_uuid": "50c19b4c5cf20024c51d2460b881a1197f8d6038"
      },
      "cell_type": "code",
      "source": "cross_val_score(dtree_reg, X, y, cv=5, scoring='r2')",
      "execution_count": 73,
      "outputs": [
        {
          "output_type": "execute_result",
          "execution_count": 73,
          "data": {
            "text/plain": "array([0.52444253, 0.51791075, 0.47384708, 0.50782669, 0.53640147])"
          },
          "metadata": {}
        }
      ]
    },
    {
      "metadata": {
        "collapsed": true,
        "trusted": true,
        "_uuid": "c049ab8d9eeb37f038998bc57afe75175811e2a1"
      },
      "cell_type": "code",
      "source": "# cross_val_score(dtree_class, X, y, cv=5, scoring='roc_auc') - results in an error",
      "execution_count": 74,
      "outputs": []
    },
    {
      "metadata": {
        "trusted": true,
        "_uuid": "fa9a48612cf373ebe9d1664eb72499dd0c3f7ef3"
      },
      "cell_type": "code",
      "source": "r2_score(y, lin.predict(X))",
      "execution_count": 75,
      "outputs": [
        {
          "output_type": "execute_result",
          "execution_count": 75,
          "data": {
            "text/plain": "0.5577422609071079"
          },
          "metadata": {}
        }
      ]
    },
    {
      "metadata": {
        "trusted": true,
        "_uuid": "3d20440d5dc912d3d15ed535c16676a239dff0cb"
      },
      "cell_type": "code",
      "source": "r2_score(y, dtree_reg.predict(X))",
      "execution_count": 76,
      "outputs": [
        {
          "output_type": "execute_result",
          "execution_count": 76,
          "data": {
            "text/plain": "0.6718952242298817"
          },
          "metadata": {}
        }
      ]
    },
    {
      "metadata": {
        "collapsed": true,
        "trusted": true,
        "_uuid": "45d7059764b1dfb0840067a79ba06d98f6c3a59f"
      },
      "cell_type": "code",
      "source": "avg_pred = (lin.predict(X) + dtree_reg.predict(X)) / 2",
      "execution_count": 77,
      "outputs": []
    },
    {
      "metadata": {
        "trusted": true,
        "_uuid": "ba559d109dbfe679daaf72a23e8dc8cf32e6cd5c"
      },
      "cell_type": "code",
      "source": "r2_score(y, avg_pred)",
      "execution_count": 78,
      "outputs": [
        {
          "output_type": "execute_result",
          "execution_count": 78,
          "data": {
            "text/plain": "0.6437695983677753"
          },
          "metadata": {}
        }
      ]
    },
    {
      "metadata": {
        "collapsed": true,
        "trusted": true,
        "_uuid": "0297680fe4a4bf9114a2da20e9298bae4715123a"
      },
      "cell_type": "code",
      "source": "wavg_pred = lin.predict(X)*0.1 + dtree_reg.predict(X)*0.9",
      "execution_count": 79,
      "outputs": []
    },
    {
      "metadata": {
        "trusted": true,
        "_uuid": "7e5f0cb0f39db2665f4310c3eca5054cff8e4e1a"
      },
      "cell_type": "code",
      "source": "r2_score(y, wavg_pred)",
      "execution_count": 80,
      "outputs": [
        {
          "output_type": "execute_result",
          "execution_count": 80,
          "data": {
            "text/plain": "0.6709022359853452"
          },
          "metadata": {}
        }
      ]
    },
    {
      "metadata": {
        "collapsed": true,
        "trusted": true,
        "_uuid": "23345870481f2f48cdaf0b9aff8bc0ea25bcf7bf"
      },
      "cell_type": "code",
      "source": "rmf = RandomForestClassifier(n_estimators=100, max_depth=10)",
      "execution_count": 81,
      "outputs": []
    },
    {
      "metadata": {
        "trusted": true,
        "_uuid": "694ad4a73649d0f400f81f1cd69985e3f660ab81",
        "collapsed": true
      },
      "cell_type": "code",
      "source": "rmf.fit(X, y)",
      "execution_count": null,
      "outputs": []
    },
    {
      "metadata": {
        "trusted": true,
        "_uuid": "2c9e9f113844c7dc3b1b5e22baf39ed21b8e369d",
        "collapsed": true
      },
      "cell_type": "code",
      "source": "r2_score(y, rmf.predict(X))",
      "execution_count": null,
      "outputs": []
    },
    {
      "metadata": {
        "trusted": true,
        "_uuid": "ec96a71f948b4df0cb20a9020a38a53e4fbc4336",
        "collapsed": true
      },
      "cell_type": "code",
      "source": "accuracy_score(y, rmf.predict(X))",
      "execution_count": null,
      "outputs": []
    },
    {
      "metadata": {
        "trusted": true,
        "collapsed": true,
        "_uuid": "1fd66776ada1d0641ed8d9fdc353e57d62fd64f2"
      },
      "cell_type": "code",
      "source": "",
      "execution_count": null,
      "outputs": []
    },
    {
      "metadata": {
        "trusted": true,
        "collapsed": true,
        "_uuid": "a492caf70a6c6463e4401653ac0a1c7a5001216e"
      },
      "cell_type": "code",
      "source": "",
      "execution_count": null,
      "outputs": []
    },
    {
      "metadata": {
        "trusted": true,
        "collapsed": true,
        "_uuid": "a2a6673a170a6b35f771e8f09f9d1f8f7ad9933e"
      },
      "cell_type": "code",
      "source": "",
      "execution_count": null,
      "outputs": []
    }
  ],
  "metadata": {
    "kernelspec": {
      "display_name": "Python 3",
      "language": "python",
      "name": "python3"
    },
    "language_info": {
      "name": "python",
      "version": "3.6.6",
      "mimetype": "text/x-python",
      "codemirror_mode": {
        "name": "ipython",
        "version": 3
      },
      "pygments_lexer": "ipython3",
      "nbconvert_exporter": "python",
      "file_extension": ".py"
    }
  },
  "nbformat": 4,
  "nbformat_minor": 1
}
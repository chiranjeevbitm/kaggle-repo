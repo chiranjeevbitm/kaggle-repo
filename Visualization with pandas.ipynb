{
  "cells": [
    {
      "metadata": {
        "_uuid": "8f2839f25d086af736a60e9eeb907d3b93b6e0e5",
        "_cell_guid": "b1076dfc-b9ad-4769-8c92-a6c4dae69d19",
        "trusted": true
      },
      "cell_type": "code",
      "source": "import pandas as pd\npd.__version__",
      "execution_count": 3,
      "outputs": [
        {
          "output_type": "execute_result",
          "execution_count": 3,
          "data": {
            "text/plain": "'0.23.3'"
          },
          "metadata": {}
        }
      ]
    },
    {
      "metadata": {
        "_cell_guid": "79c7e3d0-c299-4dcb-8224-4455121ee9b0",
        "collapsed": true,
        "_uuid": "d629ff2d2480ee46fbb7e2d37f6b5fab8052498a",
        "trusted": true
      },
      "cell_type": "code",
      "source": "import matplotlib.pyplot as plt\n%matplotlib inline\n",
      "execution_count": 4,
      "outputs": []
    },
    {
      "metadata": {
        "trusted": true,
        "_uuid": "94e6d5ea389d90f09e1aa35a1cf9bd06a2071f30",
        "collapsed": true
      },
      "cell_type": "code",
      "source": "# ri stands for Rhode Island# ri st \nri = pd.read_csv('../input/police.csv')",
      "execution_count": 5,
      "outputs": []
    },
    {
      "metadata": {
        "trusted": true,
        "_uuid": "59b3d0575c4073cbf282630a660d9e9a86db8f4c"
      },
      "cell_type": "code",
      "source": "\n# what does each row represent?# what  \nri.head()",
      "execution_count": 6,
      "outputs": [
        {
          "output_type": "execute_result",
          "execution_count": 6,
          "data": {
            "text/plain": "    stop_date stop_time        ...          stop_duration drugs_related_stop\n0  2005-01-02     01:55        ...               0-15 Min              False\n1  2005-01-18     08:15        ...               0-15 Min              False\n2  2005-01-23     23:15        ...               0-15 Min              False\n3  2005-02-20     17:15        ...              16-30 Min              False\n4  2005-03-14     10:00        ...               0-15 Min              False\n\n[5 rows x 15 columns]",
            "text/html": "<div>\n<style scoped>\n    .dataframe tbody tr th:only-of-type {\n        vertical-align: middle;\n    }\n\n    .dataframe tbody tr th {\n        vertical-align: top;\n    }\n\n    .dataframe thead th {\n        text-align: right;\n    }\n</style>\n<table border=\"1\" class=\"dataframe\">\n  <thead>\n    <tr style=\"text-align: right;\">\n      <th></th>\n      <th>stop_date</th>\n      <th>stop_time</th>\n      <th>county_name</th>\n      <th>driver_gender</th>\n      <th>driver_age_raw</th>\n      <th>driver_age</th>\n      <th>driver_race</th>\n      <th>violation_raw</th>\n      <th>violation</th>\n      <th>search_conducted</th>\n      <th>search_type</th>\n      <th>stop_outcome</th>\n      <th>is_arrested</th>\n      <th>stop_duration</th>\n      <th>drugs_related_stop</th>\n    </tr>\n  </thead>\n  <tbody>\n    <tr>\n      <th>0</th>\n      <td>2005-01-02</td>\n      <td>01:55</td>\n      <td>NaN</td>\n      <td>M</td>\n      <td>1985.0</td>\n      <td>20.0</td>\n      <td>White</td>\n      <td>Speeding</td>\n      <td>Speeding</td>\n      <td>False</td>\n      <td>NaN</td>\n      <td>Citation</td>\n      <td>False</td>\n      <td>0-15 Min</td>\n      <td>False</td>\n    </tr>\n    <tr>\n      <th>1</th>\n      <td>2005-01-18</td>\n      <td>08:15</td>\n      <td>NaN</td>\n      <td>M</td>\n      <td>1965.0</td>\n      <td>40.0</td>\n      <td>White</td>\n      <td>Speeding</td>\n      <td>Speeding</td>\n      <td>False</td>\n      <td>NaN</td>\n      <td>Citation</td>\n      <td>False</td>\n      <td>0-15 Min</td>\n      <td>False</td>\n    </tr>\n    <tr>\n      <th>2</th>\n      <td>2005-01-23</td>\n      <td>23:15</td>\n      <td>NaN</td>\n      <td>M</td>\n      <td>1972.0</td>\n      <td>33.0</td>\n      <td>White</td>\n      <td>Speeding</td>\n      <td>Speeding</td>\n      <td>False</td>\n      <td>NaN</td>\n      <td>Citation</td>\n      <td>False</td>\n      <td>0-15 Min</td>\n      <td>False</td>\n    </tr>\n    <tr>\n      <th>3</th>\n      <td>2005-02-20</td>\n      <td>17:15</td>\n      <td>NaN</td>\n      <td>M</td>\n      <td>1986.0</td>\n      <td>19.0</td>\n      <td>White</td>\n      <td>Call for Service</td>\n      <td>Other</td>\n      <td>False</td>\n      <td>NaN</td>\n      <td>Arrest Driver</td>\n      <td>True</td>\n      <td>16-30 Min</td>\n      <td>False</td>\n    </tr>\n    <tr>\n      <th>4</th>\n      <td>2005-03-14</td>\n      <td>10:00</td>\n      <td>NaN</td>\n      <td>F</td>\n      <td>1984.0</td>\n      <td>21.0</td>\n      <td>White</td>\n      <td>Speeding</td>\n      <td>Speeding</td>\n      <td>False</td>\n      <td>NaN</td>\n      <td>Citation</td>\n      <td>False</td>\n      <td>0-15 Min</td>\n      <td>False</td>\n    </tr>\n  </tbody>\n</table>\n</div>"
          },
          "metadata": {}
        }
      ]
    },
    {
      "metadata": {
        "trusted": true,
        "_uuid": "25f3c5ecf66379ad4be5bab7e6dfc4cc11865eb2"
      },
      "cell_type": "code",
      "source": "\n# what do these numbers mean?# what  \nri.shape",
      "execution_count": 7,
      "outputs": [
        {
          "output_type": "execute_result",
          "execution_count": 7,
          "data": {
            "text/plain": "(91741, 15)"
          },
          "metadata": {}
        }
      ]
    },
    {
      "metadata": {
        "trusted": true,
        "_uuid": "ff270163a9a573cba83ba67930f323a82793c649"
      },
      "cell_type": "code",
      "source": "# what do these types mean?\nri.dtypes",
      "execution_count": 8,
      "outputs": [
        {
          "output_type": "execute_result",
          "execution_count": 8,
          "data": {
            "text/plain": "stop_date              object\nstop_time              object\ncounty_name           float64\ndriver_gender          object\ndriver_age_raw        float64\ndriver_age            float64\ndriver_race            object\nviolation_raw          object\nviolation              object\nsearch_conducted         bool\nsearch_type            object\nstop_outcome           object\nis_arrested            object\nstop_duration          object\ndrugs_related_stop       bool\ndtype: object"
          },
          "metadata": {}
        }
      ]
    },
    {
      "metadata": {
        "trusted": true,
        "_uuid": "4033ad80986c0faf13bbcca37df62ea90f5f4e74"
      },
      "cell_type": "code",
      "source": "# what are these counts? how does this work?\nri.isnull().sum()",
      "execution_count": 9,
      "outputs": [
        {
          "output_type": "execute_result",
          "execution_count": 9,
          "data": {
            "text/plain": "stop_date                 0\nstop_time                 0\ncounty_name           91741\ndriver_gender          5335\ndriver_age_raw         5327\ndriver_age             5621\ndriver_race            5333\nviolation_raw          5333\nviolation              5333\nsearch_conducted          0\nsearch_type           88545\nstop_outcome           5333\nis_arrested            5333\nstop_duration          5333\ndrugs_related_stop        0\ndtype: int64"
          },
          "metadata": {}
        }
      ]
    },
    {
      "metadata": {
        "trusted": true,
        "_uuid": "da13bcb67a5302771fa30b6d4507a3496dccb95f"
      },
      "cell_type": "code",
      "source": "(True == 1) and (False == 0)\n",
      "execution_count": 10,
      "outputs": [
        {
          "output_type": "execute_result",
          "execution_count": 10,
          "data": {
            "text/plain": "True"
          },
          "metadata": {}
        }
      ]
    },
    {
      "metadata": {
        "trusted": true,
        "collapsed": true,
        "_uuid": "7283f578d06ac82bbec0638fc10ae3287c54828e"
      },
      "cell_type": "code",
      "source": "##Remove the column that only contains missing values\n\n# axis=1 also works, inplace is False by default, inplace=True avoids assignment statement\nri.drop('county_name', axis='columns', inplace=True)",
      "execution_count": 11,
      "outputs": []
    },
    {
      "metadata": {
        "trusted": true,
        "_uuid": "2f3835d50a655ac6efe5b61e2b9dad8c3fa28f7f"
      },
      "cell_type": "code",
      "source": "ri.shape",
      "execution_count": 12,
      "outputs": [
        {
          "output_type": "execute_result",
          "execution_count": 12,
          "data": {
            "text/plain": "(91741, 14)"
          },
          "metadata": {}
        }
      ]
    },
    {
      "metadata": {
        "trusted": true,
        "_uuid": "714959709365632a0ff70f83cc843d709780d580"
      },
      "cell_type": "code",
      "source": "ri.columns",
      "execution_count": 13,
      "outputs": [
        {
          "output_type": "execute_result",
          "execution_count": 13,
          "data": {
            "text/plain": "Index(['stop_date', 'stop_time', 'driver_gender', 'driver_age_raw',\n       'driver_age', 'driver_race', 'violation_raw', 'violation',\n       'search_conducted', 'search_type', 'stop_outcome', 'is_arrested',\n       'stop_duration', 'drugs_related_stop'],\n      dtype='object')"
          },
          "metadata": {}
        }
      ]
    },
    {
      "metadata": {
        "trusted": true,
        "_uuid": "44f298de617a12c4854e8736221ab61308a40af0"
      },
      "cell_type": "code",
      "source": "# alternative method\nri.dropna(axis='columns', how='all').shape",
      "execution_count": 14,
      "outputs": [
        {
          "output_type": "execute_result",
          "execution_count": 14,
          "data": {
            "text/plain": "(91741, 14)"
          },
          "metadata": {}
        }
      ]
    },
    {
      "metadata": {
        "_uuid": "bb22486745b575f8ef94abc5c4a4d964546ab7bf"
      },
      "cell_type": "markdown",
      "source": "## Do men or women speed more often?"
    },
    {
      "metadata": {
        "trusted": true,
        "_uuid": "c0b2bb10cb7ce3e3d3992b7b6ba1b1d37297b02d"
      },
      "cell_type": "code",
      "source": "#Do men or women speed more often?\n\n# when someone is stopped for speeding, how often is it a man or woman?\nri[ri.violation == 'Speeding'].driver_gender.value_counts(normalize=True)\n",
      "execution_count": 15,
      "outputs": [
        {
          "output_type": "execute_result",
          "execution_count": 15,
          "data": {
            "text/plain": "M    0.680527\nF    0.319473\nName: driver_gender, dtype: float64"
          },
          "metadata": {}
        }
      ]
    },
    {
      "metadata": {
        "trusted": true,
        "_uuid": "c4881cb4eb45e70b6193f3b01752b96ceb8134ec"
      },
      "cell_type": "code",
      "source": "# alternative\nri.loc[ri.violation == 'Speeding', 'driver_gender'].value_counts(normalize=True)\n",
      "execution_count": 16,
      "outputs": [
        {
          "output_type": "execute_result",
          "execution_count": 16,
          "data": {
            "text/plain": "M    0.680527\nF    0.319473\nName: driver_gender, dtype: float64"
          },
          "metadata": {}
        }
      ]
    },
    {
      "metadata": {
        "_uuid": "3ac43531cfbc945b1e8476448b6d2806340f2540"
      },
      "cell_type": "markdown",
      "source": "## when a man is pulled over, how often is it for speeding?"
    },
    {
      "metadata": {
        "trusted": true,
        "_uuid": "261bd9051b60a316f3e7c67879bedb3a3a7a8def"
      },
      "cell_type": "code",
      "source": "# when a man is pulled over, how often is it for speeding?\nri[ri.driver_gender == 'M'].violation.value_counts(normalize=True)",
      "execution_count": 17,
      "outputs": [
        {
          "output_type": "execute_result",
          "execution_count": 17,
          "data": {
            "text/plain": "Speeding               0.524350\nMoving violation       0.207012\nEquipment              0.135671\nOther                  0.057668\nRegistration/plates    0.038461\nSeat belt              0.036839\nName: violation, dtype: float64"
          },
          "metadata": {}
        }
      ]
    },
    {
      "metadata": {
        "trusted": true,
        "_uuid": "c7cf70ef61cae0ac137dcfb853933f960876b30f"
      },
      "cell_type": "code",
      "source": "# repeat for women\nri[ri.driver_gender == 'F'].violation.value_counts(normalize=True)",
      "execution_count": 18,
      "outputs": [
        {
          "output_type": "execute_result",
          "execution_count": 18,
          "data": {
            "text/plain": "Speeding               0.658500\nMoving violation       0.136277\nEquipment              0.105780\nRegistration/plates    0.043086\nOther                  0.029348\nSeat belt              0.027009\nName: violation, dtype: float64"
          },
          "metadata": {}
        }
      ]
    },
    {
      "metadata": {
        "trusted": true,
        "_uuid": "e36d8f44e15e8588648ddf350ad955c10569aee3"
      },
      "cell_type": "code",
      "source": "# combines the two lines above\nri.groupby('driver_gender').violation.value_counts(normalize=True)",
      "execution_count": 19,
      "outputs": [
        {
          "output_type": "execute_result",
          "execution_count": 19,
          "data": {
            "text/plain": "driver_gender  violation          \nF              Speeding               0.658500\n               Moving violation       0.136277\n               Equipment              0.105780\n               Registration/plates    0.043086\n               Other                  0.029348\n               Seat belt              0.027009\nM              Speeding               0.524350\n               Moving violation       0.207012\n               Equipment              0.135671\n               Other                  0.057668\n               Registration/plates    0.038461\n               Seat belt              0.036839\nName: violation, dtype: float64"
          },
          "metadata": {}
        }
      ]
    },
    {
      "metadata": {
        "_uuid": "bd8486ad2149590d558d13dec778088a12bdeb10"
      },
      "cell_type": "markdown",
      "source": "##  Does gender affect who gets searched during a stop?\n"
    },
    {
      "metadata": {
        "trusted": true,
        "_uuid": "a2025b69e606ff236e7d2293f95b6e15f412085a"
      },
      "cell_type": "code",
      "source": "\n# ignore gender for the moment\nri.search_conducted.value_counts(normalize=True)",
      "execution_count": 20,
      "outputs": [
        {
          "output_type": "execute_result",
          "execution_count": 20,
          "data": {
            "text/plain": "False    0.965163\nTrue     0.034837\nName: search_conducted, dtype: float64"
          },
          "metadata": {}
        }
      ]
    },
    {
      "metadata": {
        "trusted": true,
        "_uuid": "d80e28113c61c5a41ec6aa8f824a4153e3954083"
      },
      "cell_type": "code",
      "source": "# how does this work?\nri.search_conducted.mean()",
      "execution_count": 21,
      "outputs": [
        {
          "output_type": "execute_result",
          "execution_count": 21,
          "data": {
            "text/plain": "0.03483720473942948"
          },
          "metadata": {}
        }
      ]
    },
    {
      "metadata": {
        "trusted": true,
        "_uuid": "53ff8ae3925d9ccc9bbe5ae411361312e7a99127"
      },
      "cell_type": "code",
      "source": "# search rate by gender\nri.groupby('driver_gender').search_conducted.mean()",
      "execution_count": 22,
      "outputs": [
        {
          "output_type": "execute_result",
          "execution_count": 22,
          "data": {
            "text/plain": "driver_gender\nF    0.020033\nM    0.043326\nName: search_conducted, dtype: float64"
          },
          "metadata": {}
        }
      ]
    },
    {
      "metadata": {
        "trusted": true,
        "_uuid": "510555d2184b8267fd3165befd1d00f19a7eae88"
      },
      "cell_type": "code",
      "source": "# include a second factor\nri.groupby(['violation', 'driver_gender']).search_conducted.mean()",
      "execution_count": 23,
      "outputs": [
        {
          "output_type": "execute_result",
          "execution_count": 23,
          "data": {
            "text/plain": "violation            driver_gender\nEquipment            F                0.042622\n                     M                0.070081\nMoving violation     F                0.036205\n                     M                0.059831\nOther                F                0.056522\n                     M                0.047146\nRegistration/plates  F                0.066140\n                     M                0.110376\nSeat belt            F                0.012598\n                     M                0.037980\nSpeeding             F                0.008720\n                     M                0.024925\nName: search_conducted, dtype: float64"
          },
          "metadata": {}
        }
      ]
    },
    {
      "metadata": {
        "_uuid": "159dfbfe316a76253f43183a07b985531a24b979"
      },
      "cell_type": "markdown",
      "source": "Lessons:\n\nCausation is difficult to conclude, so focus on relationships\nInclude all relevant factors when studying a relationship"
    },
    {
      "metadata": {
        "_uuid": "e52dc7a77ed5d4560da37c27186290bd61075f78"
      },
      "cell_type": "markdown",
      "source": "## Why is search_type missing so often?"
    },
    {
      "metadata": {
        "trusted": true,
        "_uuid": "1a06f32adc4378ac38c14ed0f026d0d8642b86ad"
      },
      "cell_type": "code",
      "source": "\nri.isnull().sum()",
      "execution_count": 24,
      "outputs": [
        {
          "output_type": "execute_result",
          "execution_count": 24,
          "data": {
            "text/plain": "stop_date                 0\nstop_time                 0\ndriver_gender          5335\ndriver_age_raw         5327\ndriver_age             5621\ndriver_race            5333\nviolation_raw          5333\nviolation              5333\nsearch_conducted          0\nsearch_type           88545\nstop_outcome           5333\nis_arrested            5333\nstop_duration          5333\ndrugs_related_stop        0\ndtype: int64"
          },
          "metadata": {}
        }
      ]
    },
    {
      "metadata": {
        "trusted": true,
        "_uuid": "5eed1686981fcce2656e7fbe98616719f65384ca"
      },
      "cell_type": "code",
      "source": "# maybe search_type is missing any time search_conducted is False?\nri.search_conducted.value_counts()",
      "execution_count": 25,
      "outputs": [
        {
          "output_type": "execute_result",
          "execution_count": 25,
          "data": {
            "text/plain": "False    88545\nTrue      3196\nName: search_conducted, dtype: int64"
          },
          "metadata": {}
        }
      ]
    },
    {
      "metadata": {
        "trusted": true,
        "_uuid": "f3adbb28f0824f8493aaf65fd406e1e7c572e325"
      },
      "cell_type": "code",
      "source": "# test that theory, why is the Series empty?\nri[ri.search_conducted == False].search_type.value_counts()",
      "execution_count": 26,
      "outputs": [
        {
          "output_type": "execute_result",
          "execution_count": 26,
          "data": {
            "text/plain": "Series([], Name: search_type, dtype: int64)"
          },
          "metadata": {}
        }
      ]
    },
    {
      "metadata": {
        "trusted": true,
        "_uuid": "76e31244956174410608999c242fde0fa466c0ce"
      },
      "cell_type": "code",
      "source": "# value_counts ignores missing values by default\nri[ri.search_conducted == False].search_type.value_counts(dropna=False)",
      "execution_count": 27,
      "outputs": [
        {
          "output_type": "execute_result",
          "execution_count": 27,
          "data": {
            "text/plain": "NaN    88545\nName: search_type, dtype: int64"
          },
          "metadata": {}
        }
      ]
    },
    {
      "metadata": {
        "trusted": true,
        "_uuid": "ec279f1540f2cf962c61f7662f533d360055ea9a"
      },
      "cell_type": "code",
      "source": "# when search_conducted is True, search_type is never missing\nri[ri.search_conducted == True].search_type.value_counts(dropna=False)",
      "execution_count": 28,
      "outputs": [
        {
          "output_type": "execute_result",
          "execution_count": 28,
          "data": {
            "text/plain": "Incident to Arrest                                          1219\nProbable Cause                                               891\nInventory                                                    220\nReasonable Suspicion                                         197\nProtective Frisk                                             161\nIncident to Arrest,Inventory                                 129\nIncident to Arrest,Probable Cause                            106\nProbable Cause,Reasonable Suspicion                           75\nIncident to Arrest,Inventory,Probable Cause                   34\nProbable Cause,Protective Frisk                               33\nIncident to Arrest,Protective Frisk                           33\nInventory,Probable Cause                                      22\nIncident to Arrest,Reasonable Suspicion                       13\nProtective Frisk,Reasonable Suspicion                         11\nInventory,Protective Frisk                                    11\nIncident to Arrest,Inventory,Protective Frisk                 11\nIncident to Arrest,Probable Cause,Protective Frisk            10\nIncident to Arrest,Probable Cause,Reasonable Suspicion         6\nIncident to Arrest,Inventory,Reasonable Suspicion              4\nInventory,Reasonable Suspicion                                 4\nInventory,Probable Cause,Protective Frisk                      2\nInventory,Probable Cause,Reasonable Suspicion                  2\nIncident to Arrest,Protective Frisk,Reasonable Suspicion       1\nProbable Cause,Protective Frisk,Reasonable Suspicion           1\nName: search_type, dtype: int64"
          },
          "metadata": {}
        }
      ]
    },
    {
      "metadata": {
        "trusted": true,
        "_uuid": "524e55f945c820271e1d94c70c989f5031fa41e6"
      },
      "cell_type": "code",
      "source": "# alternative\nri[ri.search_conducted == True].search_type.isnull().sum()",
      "execution_count": 29,
      "outputs": [
        {
          "output_type": "execute_result",
          "execution_count": 29,
          "data": {
            "text/plain": "0"
          },
          "metadata": {}
        }
      ]
    },
    {
      "metadata": {
        "_uuid": "a70c95e2195cdce1286e910468388ea03f4fb26f"
      },
      "cell_type": "markdown",
      "source": "## During a search, how often is the driver frisked?"
    },
    {
      "metadata": {
        "trusted": true,
        "_uuid": "faa4bda98107e557c225d7d99572367e3cab139d"
      },
      "cell_type": "code",
      "source": "\n# multiple types are separated by commas\nri.search_type.value_counts(dropna=False)",
      "execution_count": 30,
      "outputs": [
        {
          "output_type": "execute_result",
          "execution_count": 30,
          "data": {
            "text/plain": "NaN                                                         88545\nIncident to Arrest                                           1219\nProbable Cause                                                891\nInventory                                                     220\nReasonable Suspicion                                          197\nProtective Frisk                                              161\nIncident to Arrest,Inventory                                  129\nIncident to Arrest,Probable Cause                             106\nProbable Cause,Reasonable Suspicion                            75\nIncident to Arrest,Inventory,Probable Cause                    34\nIncident to Arrest,Protective Frisk                            33\nProbable Cause,Protective Frisk                                33\nInventory,Probable Cause                                       22\nIncident to Arrest,Reasonable Suspicion                        13\nInventory,Protective Frisk                                     11\nIncident to Arrest,Inventory,Protective Frisk                  11\nProtective Frisk,Reasonable Suspicion                          11\nIncident to Arrest,Probable Cause,Protective Frisk             10\nIncident to Arrest,Probable Cause,Reasonable Suspicion          6\nIncident to Arrest,Inventory,Reasonable Suspicion               4\nInventory,Reasonable Suspicion                                  4\nInventory,Probable Cause,Reasonable Suspicion                   2\nInventory,Probable Cause,Protective Frisk                       2\nIncident to Arrest,Protective Frisk,Reasonable Suspicion        1\nProbable Cause,Protective Frisk,Reasonable Suspicion            1\nName: search_type, dtype: int64"
          },
          "metadata": {}
        }
      ]
    },
    {
      "metadata": {
        "trusted": true,
        "collapsed": true,
        "_uuid": "e3f5d638dbb934f06358dfdcd5d18655d78726b2"
      },
      "cell_type": "code",
      "source": "# use bracket notation when creating a column\nri['frisk'] = ri.search_type == 'Protective Frisk'",
      "execution_count": 31,
      "outputs": []
    },
    {
      "metadata": {
        "trusted": true,
        "_uuid": "971daeb726bb30490f96dbdf205cb4cb6c748714"
      },
      "cell_type": "code",
      "source": "ri.frisk.dtype",
      "execution_count": 32,
      "outputs": [
        {
          "output_type": "execute_result",
          "execution_count": 32,
          "data": {
            "text/plain": "dtype('bool')"
          },
          "metadata": {}
        }
      ]
    },
    {
      "metadata": {
        "trusted": true,
        "_uuid": "e4423ebd7e9111a55e95d5697ef2240af7bf071c"
      },
      "cell_type": "code",
      "source": "\n# includes exact matches only# includ \nri.frisk.sum()",
      "execution_count": 33,
      "outputs": [
        {
          "output_type": "execute_result",
          "execution_count": 33,
          "data": {
            "text/plain": "161"
          },
          "metadata": {}
        }
      ]
    },
    {
      "metadata": {
        "trusted": true,
        "_uuid": "61d608c894fe4e32d5d00a18619494f853c50ebc"
      },
      "cell_type": "code",
      "source": "# is this the answer?\nri.frisk.mean()",
      "execution_count": 34,
      "outputs": [
        {
          "output_type": "execute_result",
          "execution_count": 34,
          "data": {
            "text/plain": "0.0017549405391264537"
          },
          "metadata": {}
        }
      ]
    },
    {
      "metadata": {
        "trusted": true,
        "_uuid": "61edd1d9944507d4209f78831210dfb83acbf331"
      },
      "cell_type": "code",
      "source": "# uses the wrong denominator (includes stops that didn't involve a search)\nri.frisk.value_counts()",
      "execution_count": 35,
      "outputs": [
        {
          "output_type": "execute_result",
          "execution_count": 35,
          "data": {
            "text/plain": "False    91580\nTrue       161\nName: frisk, dtype: int64"
          },
          "metadata": {}
        }
      ]
    },
    {
      "metadata": {
        "trusted": true,
        "_uuid": "239eed09252ece043f9d0142e2684d89856ed179"
      },
      "cell_type": "code",
      "source": "161 / (91580 + 161)\n",
      "execution_count": 36,
      "outputs": [
        {
          "output_type": "execute_result",
          "execution_count": 36,
          "data": {
            "text/plain": "0.0017549405391264537"
          },
          "metadata": {}
        }
      ]
    },
    {
      "metadata": {
        "trusted": true,
        "collapsed": true,
        "_uuid": "9b0ece95ca4b6489e74fb7d0ae2551a22272c2f4"
      },
      "cell_type": "code",
      "source": "\n# includes partial matches\nri['frisk'] = ri.search_type.str.contains('Protective Frisk')",
      "execution_count": 37,
      "outputs": []
    },
    {
      "metadata": {
        "trusted": true,
        "_uuid": "c4f594db3bf6a3809f0a1114fe7eb5fa4e3b98b2"
      },
      "cell_type": "code",
      "source": "# seems about right\nri.frisk.sum()",
      "execution_count": 38,
      "outputs": [
        {
          "output_type": "execute_result",
          "execution_count": 38,
          "data": {
            "text/plain": "274"
          },
          "metadata": {}
        }
      ]
    },
    {
      "metadata": {
        "trusted": true,
        "_uuid": "abc1489671206c628a7053b1d1b8f01064af5c69"
      },
      "cell_type": "code",
      "source": "# frisk rate during a search\nri.frisk.mean()",
      "execution_count": 39,
      "outputs": [
        {
          "output_type": "execute_result",
          "execution_count": 39,
          "data": {
            "text/plain": "0.08573216520650813"
          },
          "metadata": {}
        }
      ]
    },
    {
      "metadata": {
        "trusted": true,
        "_uuid": "db8b14b2967fb6ea477a76ea2060e837657529cc"
      },
      "cell_type": "code",
      "source": "# str.contains preserved missing values from search_type\nri.frisk.value_counts(dropna=False)",
      "execution_count": 40,
      "outputs": [
        {
          "output_type": "execute_result",
          "execution_count": 40,
          "data": {
            "text/plain": "NaN      88545\nFalse     2922\nTrue       274\nName: frisk, dtype: int64"
          },
          "metadata": {}
        }
      ]
    },
    {
      "metadata": {
        "trusted": true,
        "_uuid": "62207396cc7349f68b04dfd5a3dfb446bb7beed8"
      },
      "cell_type": "code",
      "source": "# excludes stops that didn't involve a search\n274 / (2922 + 274)",
      "execution_count": 41,
      "outputs": [
        {
          "output_type": "execute_result",
          "execution_count": 41,
          "data": {
            "text/plain": "0.08573216520650813"
          },
          "metadata": {}
        }
      ]
    },
    {
      "metadata": {
        "_uuid": "d8a16f371aa3159bf16d6c555a5df488d9f460b9"
      },
      "cell_type": "markdown",
      "source": "Use string methods to find partial matches\nUse the correct denominator when calculating rates\npandas calculations ignore missing values\nApply the \"smell test\" to your results"
    },
    {
      "metadata": {
        "_uuid": "c9ab19c420a257b1d4d2d2e81579ead6592271fd"
      },
      "cell_type": "markdown",
      "source": "## Which year had the least number of stops?\n"
    },
    {
      "metadata": {
        "trusted": true,
        "_uuid": "c3800bf5aa477f7b661cab034cfaf69cf629b96c"
      },
      "cell_type": "code",
      "source": "\n# this works, but there's a better way\nri.stop_date.str.slice(0, 4).value_counts()",
      "execution_count": 42,
      "outputs": [
        {
          "output_type": "execute_result",
          "execution_count": 42,
          "data": {
            "text/plain": "2012    10970\n2006    10639\n2007     9476\n2014     9228\n2008     8752\n2015     8599\n2011     8126\n2013     7924\n2009     7908\n2010     7561\n2005     2558\nName: stop_date, dtype: int64"
          },
          "metadata": {}
        }
      ]
    },
    {
      "metadata": {
        "trusted": true,
        "collapsed": true,
        "_uuid": "24a1f94c95344dc4d1bd6ca489709e73e5658808"
      },
      "cell_type": "code",
      "source": "# make sure you create this column\ncombined = ri.stop_date.str.cat(ri.stop_time, sep=' ')\nri['stop_datetime'] = pd.to_datetime(combined)",
      "execution_count": 43,
      "outputs": []
    },
    {
      "metadata": {
        "trusted": true,
        "_uuid": "50d088fce64cb6b6212c2a1890ebc1fff97d7c40"
      },
      "cell_type": "code",
      "source": "ri.dtypes\n",
      "execution_count": 44,
      "outputs": [
        {
          "output_type": "execute_result",
          "execution_count": 44,
          "data": {
            "text/plain": "stop_date                     object\nstop_time                     object\ndriver_gender                 object\ndriver_age_raw               float64\ndriver_age                   float64\ndriver_race                   object\nviolation_raw                 object\nviolation                     object\nsearch_conducted                bool\nsearch_type                   object\nstop_outcome                  object\nis_arrested                   object\nstop_duration                 object\ndrugs_related_stop              bool\nfrisk                         object\nstop_datetime         datetime64[ns]\ndtype: object"
          },
          "metadata": {}
        }
      ]
    },
    {
      "metadata": {
        "trusted": true,
        "_uuid": "bdb061608a55cc72e283bc883c9b6ec63563981d"
      },
      "cell_type": "code",
      "source": "# why is 2005 so much smaller?\nri.stop_datetime.dt.year.value_counts()",
      "execution_count": 45,
      "outputs": [
        {
          "output_type": "execute_result",
          "execution_count": 45,
          "data": {
            "text/plain": "2012    10970\n2006    10639\n2007     9476\n2014     9228\n2008     8752\n2015     8599\n2011     8126\n2013     7924\n2009     7908\n2010     7561\n2005     2558\nName: stop_datetime, dtype: int64"
          },
          "metadata": {}
        }
      ]
    },
    {
      "metadata": {
        "_uuid": "22e5c76657af424e03c5ae8b1c3a2e4419dcd0e6"
      },
      "cell_type": "markdown",
      "source": "Consider removing chunks of data that may be biased\nUse the datetime data type for dates and times"
    },
    {
      "metadata": {
        "trusted": true,
        "_uuid": "67b4059c7e60855bd1dce84188ba0bd0b39632db"
      },
      "cell_type": "code",
      "source": "ri.drugs_related_stop.dtype",
      "execution_count": 46,
      "outputs": [
        {
          "output_type": "execute_result",
          "execution_count": 46,
          "data": {
            "text/plain": "dtype('bool')"
          },
          "metadata": {}
        }
      ]
    },
    {
      "metadata": {
        "trusted": true,
        "_uuid": "f728940451c2213fad78a167245de66d6b9f5c46"
      },
      "cell_type": "code",
      "source": "# baseline rate\nri.drugs_related_stop.mean()",
      "execution_count": 47,
      "outputs": [
        {
          "output_type": "execute_result",
          "execution_count": 47,
          "data": {
            "text/plain": "0.008883705213590434"
          },
          "metadata": {}
        }
      ]
    },
    {
      "metadata": {
        "trusted": true,
        "_uuid": "760218abb8a26da44ae4cea3ea697073ee89dac2"
      },
      "cell_type": "code",
      "source": "# can't groupby 'hour' unless you create it as a column\nri.groupby(ri.stop_datetime.dt.hour).drugs_related_stop.mean()",
      "execution_count": 48,
      "outputs": [
        {
          "output_type": "execute_result",
          "execution_count": 48,
          "data": {
            "text/plain": "stop_datetime\n0     0.019728\n1     0.013507\n2     0.015462\n3     0.017065\n4     0.011811\n5     0.004762\n6     0.003040\n7     0.003281\n8     0.002687\n9     0.006288\n10    0.005714\n11    0.006976\n12    0.004467\n13    0.010326\n14    0.007810\n15    0.006416\n16    0.005723\n17    0.005517\n18    0.010148\n19    0.011596\n20    0.008084\n21    0.013342\n22    0.013533\n23    0.016344\nName: drugs_related_stop, dtype: float64"
          },
          "metadata": {}
        }
      ]
    },
    {
      "metadata": {
        "trusted": true,
        "_uuid": "4c3119ec75ce9a0f5fffadb7926bc9fee2272efe"
      },
      "cell_type": "code",
      "source": "# line plot by default (for a Series)\nri.groupby(ri.stop_datetime.dt.hour).drugs_related_stop.mean().plot()",
      "execution_count": 49,
      "outputs": [
        {
          "output_type": "execute_result",
          "execution_count": 49,
          "data": {
            "text/plain": "<matplotlib.axes._subplots.AxesSubplot at 0x7f42d9c0f588>"
          },
          "metadata": {}
        },
        {
          "output_type": "display_data",
          "data": {
            "text/plain": "<matplotlib.figure.Figure at 0x7f42e2346080>",
            "image/png": "[encoded data removed]"
          },
          "metadata": {}
        }
      ]
    },
    {
      "metadata": {
        "trusted": true,
        "_uuid": "d0440a0e6453833e91f02bcda8d337d88ace19e7"
      },
      "cell_type": "code",
      "source": "# alternative: count drug-related stops by hour\nri.groupby(ri.stop_datetime.dt.hour).drugs_related_stop.sum().plot()",
      "execution_count": 50,
      "outputs": [
        {
          "output_type": "execute_result",
          "execution_count": 50,
          "data": {
            "text/plain": "<matplotlib.axes._subplots.AxesSubplot at 0x7f42d9ec72b0>"
          },
          "metadata": {}
        },
        {
          "output_type": "display_data",
          "data": {
            "text/plain": "<matplotlib.figure.Figure at 0x7f42d9925cf8>",
            "image/png": "[encoded data removed]"
          },
          "metadata": {}
        }
      ]
    },
    {
      "metadata": {
        "_uuid": "849cc962d0a5a2eec6cf7851bb22308f0dc5c2f3"
      },
      "cell_type": "markdown",
      "source": "## Do most stops occur at night?¶\n"
    },
    {
      "metadata": {
        "trusted": true,
        "_uuid": "b63311d3b3b0465fae76a2f598981549c309faa7"
      },
      "cell_type": "code",
      "source": "\nri.stop_datetime.dt.hour.value_counts()\n",
      "execution_count": 51,
      "outputs": [
        {
          "output_type": "execute_result",
          "execution_count": 51,
          "data": {
            "text/plain": "10    7350\n9     6838\n11    5877\n14    5634\n23    5629\n0     5221\n8     5210\n13    4842\n15    4832\n7     4572\n1     4442\n16    3844\n12    3582\n22    3473\n20    3340\n6     3290\n2     2975\n17    2900\n19    2587\n18    2168\n21    1499\n3     1172\n4      254\n5      210\nName: stop_datetime, dtype: int64"
          },
          "metadata": {}
        }
      ]
    },
    {
      "metadata": {
        "trusted": true,
        "_uuid": "0035fd48abfd5445d1a1b70d71cca4b70948c582"
      },
      "cell_type": "code",
      "source": "\nri.stop_datetime.dt.hour.value_counts().plot()",
      "execution_count": 52,
      "outputs": [
        {
          "output_type": "execute_result",
          "execution_count": 52,
          "data": {
            "text/plain": "<matplotlib.axes._subplots.AxesSubplot at 0x7f42d98f4c50>"
          },
          "metadata": {}
        },
        {
          "output_type": "display_data",
          "data": {
            "text/plain": "<matplotlib.figure.Figure at 0x7f42d98ee710>",
            "image/png": "[encoded data removed]"
          },
          "metadata": {}
        }
      ]
    },
    {
      "metadata": {
        "trusted": true,
        "_uuid": "4273da7ea06cd9f31466ac2d23e1569c07b758d3"
      },
      "cell_type": "code",
      "source": "ri.stop_datetime.dt.hour.value_counts().sort_index().plot()",
      "execution_count": 53,
      "outputs": [
        {
          "output_type": "execute_result",
          "execution_count": 53,
          "data": {
            "text/plain": "<matplotlib.axes._subplots.AxesSubplot at 0x7f42d98a5dd8>"
          },
          "metadata": {}
        },
        {
          "output_type": "display_data",
          "data": {
            "text/plain": "<matplotlib.figure.Figure at 0x7f42e2331c18>",
            "image/png": "[encoded data removed]"
          },
          "metadata": {}
        }
      ]
    },
    {
      "metadata": {
        "trusted": true,
        "_uuid": "97e8af31c29da67494a794efde28a44c12f0c5e5"
      },
      "cell_type": "code",
      "source": "# alternative method\nri.groupby(ri.stop_datetime.dt.hour).stop_date.count().plot()",
      "execution_count": 54,
      "outputs": [
        {
          "output_type": "execute_result",
          "execution_count": 54,
          "data": {
            "text/plain": "<matplotlib.axes._subplots.AxesSubplot at 0x7f42d9ca1da0>"
          },
          "metadata": {}
        },
        {
          "output_type": "display_data",
          "data": {
            "text/plain": "<matplotlib.figure.Figure at 0x7f42d98ee160>",
            "image/png": "[encoded data removed]"
          },
          "metadata": {}
        }
      ]
    },
    {
      "metadata": {
        "_uuid": "d6d8f4b4d0afde7a2f0c85f5ec2ae977c9695f5f"
      },
      "cell_type": "markdown",
      "source": "## Finding the bad data in the stop_duration column and fix it"
    },
    {
      "metadata": {
        "trusted": true,
        "_uuid": "3d93fc1059288d2c68f9ec1fcbd53493f1f9b51c"
      },
      "cell_type": "code",
      "source": "#Find the bad data in the stop_duration column and fix it\n# mark bad data as missing\nri.stop_duration.value_counts()",
      "execution_count": 55,
      "outputs": [
        {
          "output_type": "execute_result",
          "execution_count": 55,
          "data": {
            "text/plain": "0-15 Min     69543\n16-30 Min    13635\n30+ Min       3228\n1                1\n2                1\nName: stop_duration, dtype: int64"
          },
          "metadata": {}
        }
      ]
    },
    {
      "metadata": {
        "trusted": true,
        "_uuid": "055c5b02efa166f541e8dd51baea29524475c7c1"
      },
      "cell_type": "code",
      "source": "# what two things are still wrong with this code?\nri[(ri.stop_duration == '1') | (ri.stop_duration == '2')].stop_duration = 'NaN'",
      "execution_count": 56,
      "outputs": [
        {
          "output_type": "stream",
          "text": "/opt/conda/lib/python3.6/site-packages/pandas/core/generic.py:4405: SettingWithCopyWarning: \nA value is trying to be set on a copy of a slice from a DataFrame.\nTry using .loc[row_indexer,col_indexer] = value instead\n\nSee the caveats in the documentation: http://pandas.pydata.org/pandas-docs/stable/indexing.html#indexing-view-versus-copy\n  self[name] = value\n",
          "name": "stderr"
        }
      ]
    },
    {
      "metadata": {
        "trusted": true,
        "_uuid": "adb616a5b9b44d2b13896beeba4569558a506c73"
      },
      "cell_type": "code",
      "source": "# assignment statement did not work\nri.stop_duration.value_counts()",
      "execution_count": 57,
      "outputs": [
        {
          "output_type": "execute_result",
          "execution_count": 57,
          "data": {
            "text/plain": "0-15 Min     69543\n16-30 Min    13635\n30+ Min       3228\n1                1\n2                1\nName: stop_duration, dtype: int64"
          },
          "metadata": {}
        }
      ]
    },
    {
      "metadata": {
        "trusted": true,
        "collapsed": true,
        "_uuid": "425f62985780f147b5f535b86c1471ead3d1e592"
      },
      "cell_type": "code",
      "source": "# solves SettingWithCopyWarning\nri.loc[(ri.stop_duration == '1') | (ri.stop_duration == '2'), 'stop_duration'] = 'NaN'",
      "execution_count": 58,
      "outputs": []
    },
    {
      "metadata": {
        "trusted": true,
        "_uuid": "bb7140ee2da4a0361c49f5b9b2bd56d13a1230ce"
      },
      "cell_type": "code",
      "source": "# confusing!\nri.stop_duration.value_counts(dropna=False)",
      "execution_count": 59,
      "outputs": [
        {
          "output_type": "execute_result",
          "execution_count": 59,
          "data": {
            "text/plain": "0-15 Min     69543\n16-30 Min    13635\nNaN           5333\n30+ Min       3228\nNaN              2\nName: stop_duration, dtype: int64"
          },
          "metadata": {}
        }
      ]
    },
    {
      "metadata": {
        "trusted": true,
        "collapsed": true,
        "_uuid": "d4d762822a52728b56caad9461c112991ff64c35"
      },
      "cell_type": "code",
      "source": "# replace 'NaN' string with actual NaN value\nimport numpy as np\nri.loc[ri.stop_duration == 'NaN', 'stop_duration'] = np.nan",
      "execution_count": 60,
      "outputs": []
    },
    {
      "metadata": {
        "trusted": true,
        "_uuid": "0069e93d364514e4cdd28c32b8f07699eee2390b"
      },
      "cell_type": "code",
      "source": "ri.stop_duration.value_counts(dropna=False)",
      "execution_count": 61,
      "outputs": [
        {
          "output_type": "execute_result",
          "execution_count": 61,
          "data": {
            "text/plain": "0-15 Min     69543\n16-30 Min    13635\nNaN           5335\n30+ Min       3228\nName: stop_duration, dtype: int64"
          },
          "metadata": {}
        }
      ]
    },
    {
      "metadata": {
        "trusted": true,
        "collapsed": true,
        "_uuid": "0af3772de10217813500c2b4ef2256aacdc9e632"
      },
      "cell_type": "code",
      "source": "# alternative method\nri.stop_duration.replace(['1', '2'], value=np.nan, inplace=True)",
      "execution_count": 62,
      "outputs": []
    },
    {
      "metadata": {
        "_uuid": "5544777d4ac8267e26ee60f1e1a7d38f5ebcdd73"
      },
      "cell_type": "markdown",
      "source": "Ambiguous data should be marked as missing\nDon't ignore the SettingWithCopyWarning\nNaN is not a string"
    },
    {
      "metadata": {
        "_uuid": "3e8798276962c903c9043cae7cfc9a058d791e36"
      },
      "cell_type": "markdown",
      "source": "## What is the mean stop_duration for each violation_raw?"
    },
    {
      "metadata": {
        "trusted": true,
        "collapsed": true,
        "_uuid": "023871d85428aeb671482387be62611aae4ed1c2"
      },
      "cell_type": "code",
      "source": "\n\n# make sure you create this column\nmapping = {'0-15 Min':8, '16-30 Min':23, '30+ Min':45}\nri['stop_minutes'] = ri.stop_duration.map(mapping)",
      "execution_count": 63,
      "outputs": []
    },
    {
      "metadata": {
        "trusted": true,
        "_uuid": "b5b8ac74c809e6046db94dce6c5eed15453391d6"
      },
      "cell_type": "code",
      "source": "# matches value_counts for stop_duration\nri.stop_minutes.value_counts()",
      "execution_count": 64,
      "outputs": [
        {
          "output_type": "execute_result",
          "execution_count": 64,
          "data": {
            "text/plain": "8.0     69543\n23.0    13635\n45.0     3228\nName: stop_minutes, dtype: int64"
          },
          "metadata": {}
        }
      ]
    },
    {
      "metadata": {
        "trusted": true,
        "_uuid": "e651c694ca6ed7478236b4d6ffeb1da099120151"
      },
      "cell_type": "code",
      "source": "ri.groupby('violation_raw').stop_minutes.mean()",
      "execution_count": 65,
      "outputs": [
        {
          "output_type": "execute_result",
          "execution_count": 65,
          "data": {
            "text/plain": "violation_raw\nAPB                                 20.987342\nCall for Service                    22.034669\nEquipment/Inspection Violation      11.460345\nMotorist Assist/Courtesy            16.916256\nOther Traffic Violation             13.900265\nRegistration Violation              13.745629\nSeatbelt Violation                   9.741531\nSpecial Detail/Directed Patrol      15.061100\nSpeeding                            10.577690\nSuspicious Person                   18.750000\nViolation of City/Town Ordinance    13.388626\nWarrant                             21.400000\nName: stop_minutes, dtype: float64"
          },
          "metadata": {}
        }
      ]
    },
    {
      "metadata": {
        "trusted": true,
        "_uuid": "b9b4d2d1623aea3a6cdf75d2075ea81173b325b1"
      },
      "cell_type": "code",
      "source": "ri.groupby('violation_raw').stop_minutes.agg(['mean', 'count'])",
      "execution_count": 66,
      "outputs": [
        {
          "output_type": "execute_result",
          "execution_count": 66,
          "data": {
            "text/plain": "                                       mean  count\nviolation_raw                                     \nAPB                               20.987342     79\nCall for Service                  22.034669   1298\nEquipment/Inspection Violation    11.460345  11020\nMotorist Assist/Courtesy          16.916256    203\nOther Traffic Violation           13.900265  16223\nRegistration Violation            13.745629   3432\nSeatbelt Violation                 9.741531   2952\nSpecial Detail/Directed Patrol    15.061100   2455\nSpeeding                          10.577690  48462\nSuspicious Person                 18.750000     56\nViolation of City/Town Ordinance  13.388626    211\nWarrant                           21.400000     15",
            "text/html": "<div>\n<style scoped>\n    .dataframe tbody tr th:only-of-type {\n        vertical-align: middle;\n    }\n\n    .dataframe tbody tr th {\n        vertical-align: top;\n    }\n\n    .dataframe thead th {\n        text-align: right;\n    }\n</style>\n<table border=\"1\" class=\"dataframe\">\n  <thead>\n    <tr style=\"text-align: right;\">\n      <th></th>\n      <th>mean</th>\n      <th>count</th>\n    </tr>\n    <tr>\n      <th>violation_raw</th>\n      <th></th>\n      <th></th>\n    </tr>\n  </thead>\n  <tbody>\n    <tr>\n      <th>APB</th>\n      <td>20.987342</td>\n      <td>79</td>\n    </tr>\n    <tr>\n      <th>Call for Service</th>\n      <td>22.034669</td>\n      <td>1298</td>\n    </tr>\n    <tr>\n      <th>Equipment/Inspection Violation</th>\n      <td>11.460345</td>\n      <td>11020</td>\n    </tr>\n    <tr>\n      <th>Motorist Assist/Courtesy</th>\n      <td>16.916256</td>\n      <td>203</td>\n    </tr>\n    <tr>\n      <th>Other Traffic Violation</th>\n      <td>13.900265</td>\n      <td>16223</td>\n    </tr>\n    <tr>\n      <th>Registration Violation</th>\n      <td>13.745629</td>\n      <td>3432</td>\n    </tr>\n    <tr>\n      <th>Seatbelt Violation</th>\n      <td>9.741531</td>\n      <td>2952</td>\n    </tr>\n    <tr>\n      <th>Special Detail/Directed Patrol</th>\n      <td>15.061100</td>\n      <td>2455</td>\n    </tr>\n    <tr>\n      <th>Speeding</th>\n      <td>10.577690</td>\n      <td>48462</td>\n    </tr>\n    <tr>\n      <th>Suspicious Person</th>\n      <td>18.750000</td>\n      <td>56</td>\n    </tr>\n    <tr>\n      <th>Violation of City/Town Ordinance</th>\n      <td>13.388626</td>\n      <td>211</td>\n    </tr>\n    <tr>\n      <th>Warrant</th>\n      <td>21.400000</td>\n      <td>15</td>\n    </tr>\n  </tbody>\n</table>\n</div>"
          },
          "metadata": {}
        }
      ]
    },
    {
      "metadata": {
        "_uuid": "1a15c3cd087dda30c310a72281031bf4f1e9748a"
      },
      "cell_type": "markdown",
      "source": "Convert strings to numbers for analysis\nApproximate when necessary\nUse count with mean to looking for meaningless means"
    },
    {
      "metadata": {
        "_uuid": "19a714e699dd355745d3f791e1fcb2fe8c8afe99"
      },
      "cell_type": "markdown",
      "source": "## Plot the results of the first groupby from the previous exercise\n"
    },
    {
      "metadata": {
        "trusted": true,
        "_uuid": "49b794785d19eb2cc0360b20cab1d9ec887cfe67"
      },
      "cell_type": "code",
      "source": "\n# what's wrong with this?\nri.groupby('violation_raw').stop_minutes.mean().plot()",
      "execution_count": 67,
      "outputs": [
        {
          "output_type": "execute_result",
          "execution_count": 67,
          "data": {
            "text/plain": "<matplotlib.axes._subplots.AxesSubplot at 0x7f42d98126a0>"
          },
          "metadata": {}
        },
        {
          "output_type": "display_data",
          "data": {
            "text/plain": "<matplotlib.figure.Figure at 0x7f42d97d48d0>",
            "image/png": "[encoded data removed]"
          },
          "metadata": {}
        }
      ]
    },
    {
      "metadata": {
        "trusted": true,
        "_uuid": "cad117e6488cc3a6ccb9bfd12be0ad823c2e8815"
      },
      "cell_type": "code",
      "source": "# how could this be made better?\nri.groupby('violation_raw').stop_minutes.mean().plot(kind='bar')",
      "execution_count": 68,
      "outputs": [
        {
          "output_type": "execute_result",
          "execution_count": 68,
          "data": {
            "text/plain": "<matplotlib.axes._subplots.AxesSubplot at 0x7f42d982d400>"
          },
          "metadata": {}
        },
        {
          "output_type": "display_data",
          "data": {
            "text/plain": "<matplotlib.figure.Figure at 0x7f42d97844e0>",
            "image/png": "[encoded data removed]"
          },
          "metadata": {}
        }
      ]
    },
    {
      "metadata": {
        "trusted": true,
        "_uuid": "ffb1c7b4de1c4bc91ded28ea3eb2c7742752331c"
      },
      "cell_type": "code",
      "source": "ri.groupby('violation_raw').stop_minutes.mean().sort_values().plot(kind='barh')",
      "execution_count": 69,
      "outputs": [
        {
          "output_type": "execute_result",
          "execution_count": 69,
          "data": {
            "text/plain": "<matplotlib.axes._subplots.AxesSubplot at 0x7f42d962e7f0>"
          },
          "metadata": {}
        },
        {
          "output_type": "display_data",
          "data": {
            "text/plain": "<matplotlib.figure.Figure at 0x7f42d960e438>",
            "image/png": "[encoded data removed]"
          },
          "metadata": {}
        }
      ]
    },
    {
      "metadata": {
        "trusted": true,
        "_uuid": "7a511b763f435d29d1abce1af186b3bae3d2c466"
      },
      "cell_type": "code",
      "source": "# good first step\nri.groupby('violation').driver_age.describe()",
      "execution_count": 70,
      "outputs": [
        {
          "output_type": "execute_result",
          "execution_count": 70,
          "data": {
            "text/plain": "                       count       mean        std  ...    50%   75%   max\nviolation                                           ...                   \nEquipment            11007.0  31.781503  11.400900  ...   28.0  38.0  89.0\nMoving violation     16164.0  36.120020  13.185805  ...   33.0  46.0  99.0\nOther                 4204.0  39.536870  13.034639  ...   39.0  49.0  87.0\nRegistration/plates   3427.0  32.803035  11.033675  ...   30.0  40.0  74.0\nSeat belt             2952.0  32.206301  11.213122  ...   29.0  38.0  77.0\nSpeeding             48361.0  33.530097  12.821847  ...   30.0  42.0  90.0\n\n[6 rows x 8 columns]",
            "text/html": "<div>\n<style scoped>\n    .dataframe tbody tr th:only-of-type {\n        vertical-align: middle;\n    }\n\n    .dataframe tbody tr th {\n        vertical-align: top;\n    }\n\n    .dataframe thead th {\n        text-align: right;\n    }\n</style>\n<table border=\"1\" class=\"dataframe\">\n  <thead>\n    <tr style=\"text-align: right;\">\n      <th></th>\n      <th>count</th>\n      <th>mean</th>\n      <th>std</th>\n      <th>min</th>\n      <th>25%</th>\n      <th>50%</th>\n      <th>75%</th>\n      <th>max</th>\n    </tr>\n    <tr>\n      <th>violation</th>\n      <th></th>\n      <th></th>\n      <th></th>\n      <th></th>\n      <th></th>\n      <th></th>\n      <th></th>\n      <th></th>\n    </tr>\n  </thead>\n  <tbody>\n    <tr>\n      <th>Equipment</th>\n      <td>11007.0</td>\n      <td>31.781503</td>\n      <td>11.400900</td>\n      <td>16.0</td>\n      <td>23.0</td>\n      <td>28.0</td>\n      <td>38.0</td>\n      <td>89.0</td>\n    </tr>\n    <tr>\n      <th>Moving violation</th>\n      <td>16164.0</td>\n      <td>36.120020</td>\n      <td>13.185805</td>\n      <td>15.0</td>\n      <td>25.0</td>\n      <td>33.0</td>\n      <td>46.0</td>\n      <td>99.0</td>\n    </tr>\n    <tr>\n      <th>Other</th>\n      <td>4204.0</td>\n      <td>39.536870</td>\n      <td>13.034639</td>\n      <td>16.0</td>\n      <td>28.0</td>\n      <td>39.0</td>\n      <td>49.0</td>\n      <td>87.0</td>\n    </tr>\n    <tr>\n      <th>Registration/plates</th>\n      <td>3427.0</td>\n      <td>32.803035</td>\n      <td>11.033675</td>\n      <td>16.0</td>\n      <td>24.0</td>\n      <td>30.0</td>\n      <td>40.0</td>\n      <td>74.0</td>\n    </tr>\n    <tr>\n      <th>Seat belt</th>\n      <td>2952.0</td>\n      <td>32.206301</td>\n      <td>11.213122</td>\n      <td>17.0</td>\n      <td>24.0</td>\n      <td>29.0</td>\n      <td>38.0</td>\n      <td>77.0</td>\n    </tr>\n    <tr>\n      <th>Speeding</th>\n      <td>48361.0</td>\n      <td>33.530097</td>\n      <td>12.821847</td>\n      <td>15.0</td>\n      <td>23.0</td>\n      <td>30.0</td>\n      <td>42.0</td>\n      <td>90.0</td>\n    </tr>\n  </tbody>\n</table>\n</div>"
          },
          "metadata": {}
        }
      ]
    },
    {
      "metadata": {
        "trusted": true,
        "_uuid": "e1d2056192ef0db76b9652cbb0c91f6b2b5e7aa1"
      },
      "cell_type": "code",
      "source": "# histograms are excellent for displaying distributions\nri.driver_age.plot(kind='hist')",
      "execution_count": 71,
      "outputs": [
        {
          "output_type": "execute_result",
          "execution_count": 71,
          "data": {
            "text/plain": "<matplotlib.axes._subplots.AxesSubplot at 0x7f42d9507dd8>"
          },
          "metadata": {}
        },
        {
          "output_type": "display_data",
          "data": {
            "text/plain": "<matplotlib.figure.Figure at 0x7f42d975c7f0>",
            "image/png": "[encoded data removed]"
          },
          "metadata": {}
        }
      ]
    },
    {
      "metadata": {
        "trusted": true,
        "_uuid": "20e3b5c4bda2f44152e6f6ccddbe8ccab27a47ef"
      },
      "cell_type": "code",
      "source": "# similar to a histogram\nri.driver_age.value_counts().sort_index().plot()",
      "execution_count": 72,
      "outputs": [
        {
          "output_type": "execute_result",
          "execution_count": 72,
          "data": {
            "text/plain": "<matplotlib.axes._subplots.AxesSubplot at 0x7f42d9512f28>"
          },
          "metadata": {}
        },
        {
          "output_type": "display_data",
          "data": {
            "text/plain": "<matplotlib.figure.Figure at 0x7f42d94c52e8>",
            "image/png": "[encoded data removed]"
          },
          "metadata": {}
        }
      ]
    },
    {
      "metadata": {
        "trusted": true,
        "_uuid": "76e469c58c95cf699584da19c61cae7814457b70"
      },
      "cell_type": "code",
      "source": "\nri.hist('driver_age', by='violation')",
      "execution_count": 73,
      "outputs": [
        {
          "output_type": "execute_result",
          "execution_count": 73,
          "data": {
            "text/plain": "array([[<matplotlib.axes._subplots.AxesSubplot object at 0x7f42d97ebeb8>,\n        <matplotlib.axes._subplots.AxesSubplot object at 0x7f42d93fc7b8>],\n       [<matplotlib.axes._subplots.AxesSubplot object at 0x7f42d9438358>,\n        <matplotlib.axes._subplots.AxesSubplot object at 0x7f42d93f3438>],\n       [<matplotlib.axes._subplots.AxesSubplot object at 0x7f42d938a0f0>,\n        <matplotlib.axes._subplots.AxesSubplot object at 0x7f42d938abe0>]],\n      dtype=object)"
          },
          "metadata": {}
        },
        {
          "output_type": "display_data",
          "data": {
            "text/plain": "<matplotlib.figure.Figure at 0x7f42d94876a0>",
            "image/png": "[encoded data removed]"
          },
          "metadata": {}
        }
      ]
    },
    {
      "metadata": {
        "trusted": true,
        "_uuid": "8341733a12c5c19f49c0fbe1629f0fc23b8448ac"
      },
      "cell_type": "code",
      "source": "\n# what changed? how is this better or worse?\nri.hist('driver_age', by='violation', sharex=True)",
      "execution_count": 74,
      "outputs": [
        {
          "output_type": "execute_result",
          "execution_count": 74,
          "data": {
            "text/plain": "array([[<matplotlib.axes._subplots.AxesSubplot object at 0x7f42d927a9b0>,\n        <matplotlib.axes._subplots.AxesSubplot object at 0x7f42d9231b70>],\n       [<matplotlib.axes._subplots.AxesSubplot object at 0x7f42c71e79e8>,\n        <matplotlib.axes._subplots.AxesSubplot object at 0x7f42c719ee10>],\n       [<matplotlib.axes._subplots.AxesSubplot object at 0x7f42c713f4a8>,\n        <matplotlib.axes._subplots.AxesSubplot object at 0x7f42c7159198>]],\n      dtype=object)"
          },
          "metadata": {}
        },
        {
          "output_type": "display_data",
          "data": {
            "text/plain": "<matplotlib.figure.Figure at 0x7f42d937d550>",
            "image/png": "[encoded data removed]"
          },
          "metadata": {}
        }
      ]
    },
    {
      "metadata": {
        "trusted": true,
        "scrolled": false,
        "_uuid": "3b376c74b9f75d33ceacb8d4fea5f7ea51869326"
      },
      "cell_type": "code",
      "source": "# what changed? how is this better or worse?\nri.hist('driver_age', by='violation', sharex=True, sharey=True)",
      "execution_count": 75,
      "outputs": [
        {
          "output_type": "execute_result",
          "execution_count": 75,
          "data": {
            "text/plain": "array([[<matplotlib.axes._subplots.AxesSubplot object at 0x7f42d9494390>,\n        <matplotlib.axes._subplots.AxesSubplot object at 0x7f42c6f3a550>],\n       [<matplotlib.axes._subplots.AxesSubplot object at 0x7f42c6f73278>,\n        <matplotlib.axes._subplots.AxesSubplot object at 0x7f42c6f2f518>],\n       [<matplotlib.axes._subplots.AxesSubplot object at 0x7f42c6ec61d0>,\n        <matplotlib.axes._subplots.AxesSubplot object at 0x7f42c6ec67f0>]],\n      dtype=object)"
          },
          "metadata": {}
        },
        {
          "output_type": "display_data",
          "data": {
            "text/plain": "<matplotlib.figure.Figure at 0x7f42d9487780>",
            "image/png": "[encoded data removed]"
          },
          "metadata": {}
        }
      ]
    },
    {
      "metadata": {
        "_uuid": "64acb6a95f15e793d4120db8182b07f9fcd6a49a"
      },
      "cell_type": "markdown",
      "source": "Use histograms to show distributions\n\nBe conscious of axes when using grouped plots"
    },
    {
      "metadata": {
        "_uuid": "e66662546101b76be982b9494a8ccf158a60c460"
      },
      "cell_type": "markdown",
      "source": "##  Pretend you don't have the driver_age column, and create it from driver_age_raw (and call it new_age)"
    },
    {
      "metadata": {
        "trusted": true,
        "_uuid": "6e23aea70ec93422c27d712365f396db9279fca1"
      },
      "cell_type": "code",
      "source": "ri.head()\n",
      "execution_count": 76,
      "outputs": [
        {
          "output_type": "execute_result",
          "execution_count": 76,
          "data": {
            "text/plain": "    stop_date stop_time      ...            stop_datetime  stop_minutes\n0  2005-01-02     01:55      ...      2005-01-02 01:55:00           8.0\n1  2005-01-18     08:15      ...      2005-01-18 08:15:00           8.0\n2  2005-01-23     23:15      ...      2005-01-23 23:15:00           8.0\n3  2005-02-20     17:15      ...      2005-02-20 17:15:00          23.0\n4  2005-03-14     10:00      ...      2005-03-14 10:00:00           8.0\n\n[5 rows x 17 columns]",
            "text/html": "<div>\n<style scoped>\n    .dataframe tbody tr th:only-of-type {\n        vertical-align: middle;\n    }\n\n    .dataframe tbody tr th {\n        vertical-align: top;\n    }\n\n    .dataframe thead th {\n        text-align: right;\n    }\n</style>\n<table border=\"1\" class=\"dataframe\">\n  <thead>\n    <tr style=\"text-align: right;\">\n      <th></th>\n      <th>stop_date</th>\n      <th>stop_time</th>\n      <th>driver_gender</th>\n      <th>driver_age_raw</th>\n      <th>driver_age</th>\n      <th>driver_race</th>\n      <th>violation_raw</th>\n      <th>violation</th>\n      <th>search_conducted</th>\n      <th>search_type</th>\n      <th>stop_outcome</th>\n      <th>is_arrested</th>\n      <th>stop_duration</th>\n      <th>drugs_related_stop</th>\n      <th>frisk</th>\n      <th>stop_datetime</th>\n      <th>stop_minutes</th>\n    </tr>\n  </thead>\n  <tbody>\n    <tr>\n      <th>0</th>\n      <td>2005-01-02</td>\n      <td>01:55</td>\n      <td>M</td>\n      <td>1985.0</td>\n      <td>20.0</td>\n      <td>White</td>\n      <td>Speeding</td>\n      <td>Speeding</td>\n      <td>False</td>\n      <td>NaN</td>\n      <td>Citation</td>\n      <td>False</td>\n      <td>0-15 Min</td>\n      <td>False</td>\n      <td>NaN</td>\n      <td>2005-01-02 01:55:00</td>\n      <td>8.0</td>\n    </tr>\n    <tr>\n      <th>1</th>\n      <td>2005-01-18</td>\n      <td>08:15</td>\n      <td>M</td>\n      <td>1965.0</td>\n      <td>40.0</td>\n      <td>White</td>\n      <td>Speeding</td>\n      <td>Speeding</td>\n      <td>False</td>\n      <td>NaN</td>\n      <td>Citation</td>\n      <td>False</td>\n      <td>0-15 Min</td>\n      <td>False</td>\n      <td>NaN</td>\n      <td>2005-01-18 08:15:00</td>\n      <td>8.0</td>\n    </tr>\n    <tr>\n      <th>2</th>\n      <td>2005-01-23</td>\n      <td>23:15</td>\n      <td>M</td>\n      <td>1972.0</td>\n      <td>33.0</td>\n      <td>White</td>\n      <td>Speeding</td>\n      <td>Speeding</td>\n      <td>False</td>\n      <td>NaN</td>\n      <td>Citation</td>\n      <td>False</td>\n      <td>0-15 Min</td>\n      <td>False</td>\n      <td>NaN</td>\n      <td>2005-01-23 23:15:00</td>\n      <td>8.0</td>\n    </tr>\n    <tr>\n      <th>3</th>\n      <td>2005-02-20</td>\n      <td>17:15</td>\n      <td>M</td>\n      <td>1986.0</td>\n      <td>19.0</td>\n      <td>White</td>\n      <td>Call for Service</td>\n      <td>Other</td>\n      <td>False</td>\n      <td>NaN</td>\n      <td>Arrest Driver</td>\n      <td>True</td>\n      <td>16-30 Min</td>\n      <td>False</td>\n      <td>NaN</td>\n      <td>2005-02-20 17:15:00</td>\n      <td>23.0</td>\n    </tr>\n    <tr>\n      <th>4</th>\n      <td>2005-03-14</td>\n      <td>10:00</td>\n      <td>F</td>\n      <td>1984.0</td>\n      <td>21.0</td>\n      <td>White</td>\n      <td>Speeding</td>\n      <td>Speeding</td>\n      <td>False</td>\n      <td>NaN</td>\n      <td>Citation</td>\n      <td>False</td>\n      <td>0-15 Min</td>\n      <td>False</td>\n      <td>NaN</td>\n      <td>2005-03-14 10:00:00</td>\n      <td>8.0</td>\n    </tr>\n  </tbody>\n</table>\n</div>"
          },
          "metadata": {}
        }
      ]
    },
    {
      "metadata": {
        "trusted": true,
        "_uuid": "c7c61b4df67e8796a4b069bec224855eeb6f11da"
      },
      "cell_type": "code",
      "source": "# appears to be year of stop_date minus driver_age_raw\nri.tail()",
      "execution_count": 77,
      "outputs": [
        {
          "output_type": "execute_result",
          "execution_count": 77,
          "data": {
            "text/plain": "        stop_date stop_time      ...            stop_datetime  stop_minutes\n91736  2015-12-31     20:27      ...      2015-12-31 20:27:00           8.0\n91737  2015-12-31     20:35      ...      2015-12-31 20:35:00           8.0\n91738  2015-12-31     20:45      ...      2015-12-31 20:45:00           8.0\n91739  2015-12-31     21:42      ...      2015-12-31 21:42:00           8.0\n91740  2015-12-31     22:46      ...      2015-12-31 22:46:00           8.0\n\n[5 rows x 17 columns]",
            "text/html": "<div>\n<style scoped>\n    .dataframe tbody tr th:only-of-type {\n        vertical-align: middle;\n    }\n\n    .dataframe tbody tr th {\n        vertical-align: top;\n    }\n\n    .dataframe thead th {\n        text-align: right;\n    }\n</style>\n<table border=\"1\" class=\"dataframe\">\n  <thead>\n    <tr style=\"text-align: right;\">\n      <th></th>\n      <th>stop_date</th>\n      <th>stop_time</th>\n      <th>driver_gender</th>\n      <th>driver_age_raw</th>\n      <th>driver_age</th>\n      <th>driver_race</th>\n      <th>violation_raw</th>\n      <th>violation</th>\n      <th>search_conducted</th>\n      <th>search_type</th>\n      <th>stop_outcome</th>\n      <th>is_arrested</th>\n      <th>stop_duration</th>\n      <th>drugs_related_stop</th>\n      <th>frisk</th>\n      <th>stop_datetime</th>\n      <th>stop_minutes</th>\n    </tr>\n  </thead>\n  <tbody>\n    <tr>\n      <th>91736</th>\n      <td>2015-12-31</td>\n      <td>20:27</td>\n      <td>M</td>\n      <td>1986.0</td>\n      <td>29.0</td>\n      <td>White</td>\n      <td>Speeding</td>\n      <td>Speeding</td>\n      <td>False</td>\n      <td>NaN</td>\n      <td>Warning</td>\n      <td>False</td>\n      <td>0-15 Min</td>\n      <td>False</td>\n      <td>NaN</td>\n      <td>2015-12-31 20:27:00</td>\n      <td>8.0</td>\n    </tr>\n    <tr>\n      <th>91737</th>\n      <td>2015-12-31</td>\n      <td>20:35</td>\n      <td>F</td>\n      <td>1982.0</td>\n      <td>33.0</td>\n      <td>White</td>\n      <td>Equipment/Inspection Violation</td>\n      <td>Equipment</td>\n      <td>False</td>\n      <td>NaN</td>\n      <td>Warning</td>\n      <td>False</td>\n      <td>0-15 Min</td>\n      <td>False</td>\n      <td>NaN</td>\n      <td>2015-12-31 20:35:00</td>\n      <td>8.0</td>\n    </tr>\n    <tr>\n      <th>91738</th>\n      <td>2015-12-31</td>\n      <td>20:45</td>\n      <td>M</td>\n      <td>1992.0</td>\n      <td>23.0</td>\n      <td>White</td>\n      <td>Other Traffic Violation</td>\n      <td>Moving violation</td>\n      <td>False</td>\n      <td>NaN</td>\n      <td>Warning</td>\n      <td>False</td>\n      <td>0-15 Min</td>\n      <td>False</td>\n      <td>NaN</td>\n      <td>2015-12-31 20:45:00</td>\n      <td>8.0</td>\n    </tr>\n    <tr>\n      <th>91739</th>\n      <td>2015-12-31</td>\n      <td>21:42</td>\n      <td>M</td>\n      <td>1993.0</td>\n      <td>22.0</td>\n      <td>White</td>\n      <td>Speeding</td>\n      <td>Speeding</td>\n      <td>False</td>\n      <td>NaN</td>\n      <td>Citation</td>\n      <td>False</td>\n      <td>0-15 Min</td>\n      <td>False</td>\n      <td>NaN</td>\n      <td>2015-12-31 21:42:00</td>\n      <td>8.0</td>\n    </tr>\n    <tr>\n      <th>91740</th>\n      <td>2015-12-31</td>\n      <td>22:46</td>\n      <td>M</td>\n      <td>1959.0</td>\n      <td>56.0</td>\n      <td>Hispanic</td>\n      <td>Speeding</td>\n      <td>Speeding</td>\n      <td>False</td>\n      <td>NaN</td>\n      <td>Citation</td>\n      <td>False</td>\n      <td>0-15 Min</td>\n      <td>False</td>\n      <td>NaN</td>\n      <td>2015-12-31 22:46:00</td>\n      <td>8.0</td>\n    </tr>\n  </tbody>\n</table>\n</div>"
          },
          "metadata": {}
        }
      ]
    },
    {
      "metadata": {
        "trusted": true,
        "collapsed": true,
        "_uuid": "0149a3f2233f999336232491549a00a87a54ca7d"
      },
      "cell_type": "code",
      "source": "ri['new_age'] = ri.stop_datetime.dt.year - ri.driver_age_raw",
      "execution_count": 78,
      "outputs": []
    },
    {
      "metadata": {
        "trusted": true,
        "_uuid": "7e8bdf1ba874b2b957f7ec5030202a5b2aa0657d"
      },
      "cell_type": "code",
      "source": "# compare the distributions\nri[['driver_age', 'new_age']].hist()",
      "execution_count": 79,
      "outputs": [
        {
          "output_type": "execute_result",
          "execution_count": 79,
          "data": {
            "text/plain": "array([[<matplotlib.axes._subplots.AxesSubplot object at 0x7f42c6dc6128>,\n        <matplotlib.axes._subplots.AxesSubplot object at 0x7f42c6cbea58>]],\n      dtype=object)"
          },
          "metadata": {}
        },
        {
          "output_type": "display_data",
          "data": {
            "text/plain": "<matplotlib.figure.Figure at 0x7f42d978c908>",
            "image/png": "[encoded data removed]"
          },
          "metadata": {}
        }
      ]
    },
    {
      "metadata": {
        "trusted": true,
        "_uuid": "b59930980fb13eccd30b1971f429a6dac00afde2"
      },
      "cell_type": "code",
      "source": "# compare the summary statistics (focus on min and max)\nri[['driver_age', 'new_age']].describe()",
      "execution_count": 80,
      "outputs": [
        {
          "output_type": "execute_result",
          "execution_count": 80,
          "data": {
            "text/plain": "         driver_age       new_age\ncount  86120.000000  86414.000000\nmean      34.011333     39.784294\nstd       12.738564    110.822145\nmin       15.000000  -6794.000000\n25%       23.000000     24.000000\n50%       31.000000     31.000000\n75%       43.000000     43.000000\nmax       99.000000   2015.000000",
            "text/html": "<div>\n<style scoped>\n    .dataframe tbody tr th:only-of-type {\n        vertical-align: middle;\n    }\n\n    .dataframe tbody tr th {\n        vertical-align: top;\n    }\n\n    .dataframe thead th {\n        text-align: right;\n    }\n</style>\n<table border=\"1\" class=\"dataframe\">\n  <thead>\n    <tr style=\"text-align: right;\">\n      <th></th>\n      <th>driver_age</th>\n      <th>new_age</th>\n    </tr>\n  </thead>\n  <tbody>\n    <tr>\n      <th>count</th>\n      <td>86120.000000</td>\n      <td>86414.000000</td>\n    </tr>\n    <tr>\n      <th>mean</th>\n      <td>34.011333</td>\n      <td>39.784294</td>\n    </tr>\n    <tr>\n      <th>std</th>\n      <td>12.738564</td>\n      <td>110.822145</td>\n    </tr>\n    <tr>\n      <th>min</th>\n      <td>15.000000</td>\n      <td>-6794.000000</td>\n    </tr>\n    <tr>\n      <th>25%</th>\n      <td>23.000000</td>\n      <td>24.000000</td>\n    </tr>\n    <tr>\n      <th>50%</th>\n      <td>31.000000</td>\n      <td>31.000000</td>\n    </tr>\n    <tr>\n      <th>75%</th>\n      <td>43.000000</td>\n      <td>43.000000</td>\n    </tr>\n    <tr>\n      <th>max</th>\n      <td>99.000000</td>\n      <td>2015.000000</td>\n    </tr>\n  </tbody>\n</table>\n</div>"
          },
          "metadata": {}
        }
      ]
    },
    {
      "metadata": {
        "trusted": true,
        "_uuid": "958cde640a1be21c0b4d1fb4ae5443a02d35a262"
      },
      "cell_type": "code",
      "source": "# calculate how many ages are outside that range\nri[(ri.new_age < 15) | (ri.new_age > 99)].shape",
      "execution_count": 81,
      "outputs": [
        {
          "output_type": "execute_result",
          "execution_count": 81,
          "data": {
            "text/plain": "(294, 18)"
          },
          "metadata": {}
        }
      ]
    },
    {
      "metadata": {
        "trusted": true,
        "_uuid": "8388202dc8700f227e58b7885ad9b89ea00b2cfa"
      },
      "cell_type": "code",
      "source": "# raw data given to the researchers\nri.driver_age_raw.isnull().sum()",
      "execution_count": 82,
      "outputs": [
        {
          "output_type": "execute_result",
          "execution_count": 82,
          "data": {
            "text/plain": "5327"
          },
          "metadata": {}
        }
      ]
    },
    {
      "metadata": {
        "trusted": true,
        "_uuid": "2bbc324ef4e719f9d5851dfb176c690f1b980cdf"
      },
      "cell_type": "code",
      "source": "# age computed by the researchers (has more missing values)\nri.driver_age.isnull().sum()",
      "execution_count": 83,
      "outputs": [
        {
          "output_type": "execute_result",
          "execution_count": 83,
          "data": {
            "text/plain": "5621"
          },
          "metadata": {}
        }
      ]
    },
    {
      "metadata": {
        "trusted": true,
        "_uuid": "d534b36f2ef4edbb27564f67a30db10cd599431b"
      },
      "cell_type": "code",
      "source": "# what does this tell us? researchers set driver_age as missing if less than 15 or more than 99\n5621-5327",
      "execution_count": 84,
      "outputs": [
        {
          "output_type": "execute_result",
          "execution_count": 84,
          "data": {
            "text/plain": "294"
          },
          "metadata": {}
        }
      ]
    },
    {
      "metadata": {
        "trusted": true,
        "_uuid": "f38bfad466307e8b3dfd9e85614d1fc24664782c"
      },
      "cell_type": "code",
      "source": "# driver_age_raw NOT MISSING, driver_age MISSING\nri[(ri.driver_age_raw.notnull()) & (ri.driver_age.isnull())].head()",
      "execution_count": 85,
      "outputs": [
        {
          "output_type": "execute_result",
          "execution_count": 85,
          "data": {
            "text/plain": "      stop_date stop_time   ...    stop_minutes  new_age\n146  2005-10-05     08:50   ...             8.0   2005.0\n281  2005-10-10     12:05   ...             8.0   2005.0\n331  2005-10-12     07:50   ...             8.0   2005.0\n414  2005-10-17     08:32   ...             8.0      0.0\n455  2005-10-18     18:30   ...             8.0   2005.0\n\n[5 rows x 18 columns]",
            "text/html": "<div>\n<style scoped>\n    .dataframe tbody tr th:only-of-type {\n        vertical-align: middle;\n    }\n\n    .dataframe tbody tr th {\n        vertical-align: top;\n    }\n\n    .dataframe thead th {\n        text-align: right;\n    }\n</style>\n<table border=\"1\" class=\"dataframe\">\n  <thead>\n    <tr style=\"text-align: right;\">\n      <th></th>\n      <th>stop_date</th>\n      <th>stop_time</th>\n      <th>driver_gender</th>\n      <th>driver_age_raw</th>\n      <th>driver_age</th>\n      <th>driver_race</th>\n      <th>violation_raw</th>\n      <th>violation</th>\n      <th>search_conducted</th>\n      <th>search_type</th>\n      <th>stop_outcome</th>\n      <th>is_arrested</th>\n      <th>stop_duration</th>\n      <th>drugs_related_stop</th>\n      <th>frisk</th>\n      <th>stop_datetime</th>\n      <th>stop_minutes</th>\n      <th>new_age</th>\n    </tr>\n  </thead>\n  <tbody>\n    <tr>\n      <th>146</th>\n      <td>2005-10-05</td>\n      <td>08:50</td>\n      <td>M</td>\n      <td>0.0</td>\n      <td>NaN</td>\n      <td>White</td>\n      <td>Other Traffic Violation</td>\n      <td>Moving violation</td>\n      <td>False</td>\n      <td>NaN</td>\n      <td>Citation</td>\n      <td>False</td>\n      <td>0-15 Min</td>\n      <td>False</td>\n      <td>NaN</td>\n      <td>2005-10-05 08:50:00</td>\n      <td>8.0</td>\n      <td>2005.0</td>\n    </tr>\n    <tr>\n      <th>281</th>\n      <td>2005-10-10</td>\n      <td>12:05</td>\n      <td>F</td>\n      <td>0.0</td>\n      <td>NaN</td>\n      <td>White</td>\n      <td>Other Traffic Violation</td>\n      <td>Moving violation</td>\n      <td>False</td>\n      <td>NaN</td>\n      <td>Warning</td>\n      <td>False</td>\n      <td>0-15 Min</td>\n      <td>False</td>\n      <td>NaN</td>\n      <td>2005-10-10 12:05:00</td>\n      <td>8.0</td>\n      <td>2005.0</td>\n    </tr>\n    <tr>\n      <th>331</th>\n      <td>2005-10-12</td>\n      <td>07:50</td>\n      <td>M</td>\n      <td>0.0</td>\n      <td>NaN</td>\n      <td>White</td>\n      <td>Motorist Assist/Courtesy</td>\n      <td>Other</td>\n      <td>False</td>\n      <td>NaN</td>\n      <td>No Action</td>\n      <td>False</td>\n      <td>0-15 Min</td>\n      <td>False</td>\n      <td>NaN</td>\n      <td>2005-10-12 07:50:00</td>\n      <td>8.0</td>\n      <td>2005.0</td>\n    </tr>\n    <tr>\n      <th>414</th>\n      <td>2005-10-17</td>\n      <td>08:32</td>\n      <td>M</td>\n      <td>2005.0</td>\n      <td>NaN</td>\n      <td>White</td>\n      <td>Other Traffic Violation</td>\n      <td>Moving violation</td>\n      <td>False</td>\n      <td>NaN</td>\n      <td>Citation</td>\n      <td>False</td>\n      <td>0-15 Min</td>\n      <td>False</td>\n      <td>NaN</td>\n      <td>2005-10-17 08:32:00</td>\n      <td>8.0</td>\n      <td>0.0</td>\n    </tr>\n    <tr>\n      <th>455</th>\n      <td>2005-10-18</td>\n      <td>18:30</td>\n      <td>F</td>\n      <td>0.0</td>\n      <td>NaN</td>\n      <td>White</td>\n      <td>Speeding</td>\n      <td>Speeding</td>\n      <td>False</td>\n      <td>NaN</td>\n      <td>Warning</td>\n      <td>False</td>\n      <td>0-15 Min</td>\n      <td>False</td>\n      <td>NaN</td>\n      <td>2005-10-18 18:30:00</td>\n      <td>8.0</td>\n      <td>2005.0</td>\n    </tr>\n  </tbody>\n</table>\n</div>"
          },
          "metadata": {}
        }
      ]
    },
    {
      "metadata": {
        "trusted": true,
        "_uuid": "bcd4c46b27689b9f2912658e217fc8fb2bfd6509"
      },
      "cell_type": "code",
      "source": "# set the ages outside that range as missing\nri.loc[(ri.new_age < 15) | (ri.new_age > 99), 'new_age'] = np.nan\n\nri.new_age.equals(ri.driver_age)",
      "execution_count": 86,
      "outputs": [
        {
          "output_type": "execute_result",
          "execution_count": 86,
          "data": {
            "text/plain": "True"
          },
          "metadata": {}
        }
      ]
    },
    {
      "metadata": {
        "_uuid": "acb7e858814fe445290bf4477095bb456b2dc795"
      },
      "cell_type": "markdown",
      "source": "## Remember\nDon't assume that the head and tail are representative of the data\nColumns with missing values may still have bad data (driver_age_raw)\nData cleaning sometimes involves guessing (driver_age)\nUse histograms for a sanity check"
    },
    {
      "metadata": {
        "trusted": true,
        "collapsed": true,
        "_uuid": "01e92d3c1ecc0a5f7e079e69fc43c7f20c71f1f6"
      },
      "cell_type": "code",
      "source": "",
      "execution_count": null,
      "outputs": []
    },
    {
      "metadata": {
        "trusted": true,
        "collapsed": true,
        "_uuid": "073df1767861dade183e9d17926b9b0d35afc4e7"
      },
      "cell_type": "code",
      "source": "",
      "execution_count": null,
      "outputs": []
    }
  ],
  "metadata": {
    "kernelspec": {
      "display_name": "Python 3",
      "language": "python",
      "name": "python3"
    }
  },
  "nbformat": 4,
  "nbformat_minor": 1
}
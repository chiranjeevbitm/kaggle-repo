{
 "cells": [
  {
   "cell_type": "code",
   "execution_count": null,
   "metadata": {
    "_cell_guid": "b1076dfc-b9ad-4769-8c92-a6c4dae69d19",
    "_uuid": "8f2839f25d086af736a60e9eeb907d3b93b6e0e5",
    "collapsed": true
   },
   "outputs": [],
   "source": [
    "% pylab inline\n",
    "\n",
    "import numpy as np\n",
    "import pandas as pd\n",
    "from sklearn.preprocessing import LabelEncoder\n",
    "from sklearn.linear_model import LinearRegression\n",
    "from sklearn.tree import DecisionTreeClassifier, DecisionTreeRegressor\n",
    "from sklearn.metrics import accuracy_score, r2_score, mean_squared_error\n",
    "from sklearn.model_selection import cross_val_score\n",
    "from sklearn.ensemble import RandomForestClassifier"
   ]
  },
  {
   "cell_type": "code",
   "execution_count": null,
   "metadata": {
    "_uuid": "e2669a53afe1a68e2eb93700d909ad1782bdadc2",
    "collapsed": true
   },
   "outputs": [],
   "source": [
    "#Read train files:\n",
    "train = pd.read_csv(\"../input/Train.csv\")\n",
    "print(train.shape)"
   ]
  },
  {
   "cell_type": "code",
   "execution_count": null,
   "metadata": {
    "_uuid": "52742e738ac7db791a60e6458b4ba0673f1f9f73",
    "collapsed": true
   },
   "outputs": [],
   "source": [
    "train.head()"
   ]
  },
  {
   "cell_type": "code",
   "execution_count": null,
   "metadata": {
    "_uuid": "6ba16f25e45476286f1ce1fc105596fbdb5f8eae",
    "collapsed": true
   },
   "outputs": [],
   "source": [
    "#lets have a look at the number of unique values in each of them.\n",
    "train.apply(lambda x: len(x.unique()))\n"
   ]
  },
  {
   "cell_type": "markdown",
   "metadata": {
    "_uuid": "7d5a780955345f020beafde7edcabad8276321cd"
   },
   "source": [
    "### Finding frequency of each Categorical data using loops\n"
   ]
  },
  {
   "cell_type": "code",
   "execution_count": null,
   "metadata": {
    "_uuid": "7680729436816d5d079c32f2b6f076e573dafc5b",
    "collapsed": true
   },
   "outputs": [],
   "source": [
    "#Filter categorical variables\n",
    "categorical_columns = [x for x in train.dtypes.index if train.dtypes[x]=='object']\n",
    "#Exclude ID cols and source:\n",
    "categorical_columns = [x for x in categorical_columns if x not in ['Item_Identifier','Outlet_Identifier','source']]\n",
    "#Print frequency of categories\n",
    "for col in categorical_columns:\n",
    "    print ('\\n\\nFrequency of Categories for varible %s'%col)\n",
    "    print (train[col].value_counts())"
   ]
  },
  {
   "cell_type": "markdown",
   "metadata": {
    "_uuid": "afe082a294c020e1757b8fa4cda0412a83711434"
   },
   "source": [
    "## Data Cleaning"
   ]
  },
  {
   "cell_type": "code",
   "execution_count": null,
   "metadata": {
    "_uuid": "36b45299a9fcceaf3671a2005e6b1aba90c89295",
    "collapsed": true
   },
   "outputs": [],
   "source": [
    "train.describe()"
   ]
  },
  {
   "cell_type": "code",
   "execution_count": null,
   "metadata": {
    "_uuid": "2c49829042a92a31993f1eae17b272cff9d30c61",
    "collapsed": true
   },
   "outputs": [],
   "source": [
    "train['Item_Visibility'].hist(bins=20)"
   ]
  },
  {
   "cell_type": "code",
   "execution_count": null,
   "metadata": {
    "_uuid": "9497d9f789fcb3726fc762d01dc91d688a4cc3d0",
    "collapsed": true
   },
   "outputs": [],
   "source": [
    "train['Item_Fat_Content'].value_counts()"
   ]
  },
  {
   "cell_type": "code",
   "execution_count": null,
   "metadata": {
    "_uuid": "c2d457c00c5b7474fb48e88d913916168cde7b5a",
    "collapsed": true
   },
   "outputs": [],
   "source": [
    "train['Outlet_Size'].value_counts()"
   ]
  },
  {
   "cell_type": "code",
   "execution_count": null,
   "metadata": {
    "_uuid": "d6c7ba3ccc361dfedcd0291b6b9d45d207c466d8",
    "collapsed": true
   },
   "outputs": [],
   "source": [
    "train.boxplot(column='Item_MRP', by='Outlet_Size')"
   ]
  },
  {
   "cell_type": "code",
   "execution_count": null,
   "metadata": {
    "_uuid": "8ef438b324e92d072642699ed52e5dab977c7a28",
    "collapsed": true
   },
   "outputs": [],
   "source": [
    "train.boxplot(column='Item_Visibility', by='Outlet_Type')"
   ]
  },
  {
   "cell_type": "code",
   "execution_count": null,
   "metadata": {
    "_uuid": "e2c9e56937e3c3b835d8c866f9753ab3fe549db6",
    "collapsed": true
   },
   "outputs": [],
   "source": [
    "#Filling missing values"
   ]
  },
  {
   "cell_type": "code",
   "execution_count": null,
   "metadata": {
    "_uuid": "9a2d3655b145380966f1226d9fc29c67b4bd82cd",
    "collapsed": true
   },
   "outputs": [],
   "source": [
    "train['Outlet_Size'].mode()[0]"
   ]
  },
  {
   "cell_type": "code",
   "execution_count": null,
   "metadata": {
    "_uuid": "2ac143dcf8ee93e86b2cba02b9b3dd9f1e7a4003",
    "collapsed": true
   },
   "outputs": [],
   "source": [
    "# fill the na for outlet size with medium(Which have the highest frequency)\n",
    "train['Outlet_Size'] = train['Outlet_Size'].fillna(train['Outlet_Size'].mode()[0])"
   ]
  },
  {
   "cell_type": "code",
   "execution_count": null,
   "metadata": {
    "_uuid": "fa76be14b4615a49ed896591c9dbaf5196de8568",
    "collapsed": true
   },
   "outputs": [],
   "source": [
    "# fill the na for item weight with the mean of weights\n",
    "train['Item_Weight'] = train['Item_Weight'].fillna(train['Item_Weight'].mean())"
   ]
  },
  {
   "cell_type": "code",
   "execution_count": null,
   "metadata": {
    "_uuid": "a914863a2ca50ace2ba25d97825572881f391052",
    "collapsed": true
   },
   "outputs": [],
   "source": [
    "train.boxplot(column='Item_Visibility')"
   ]
  },
  {
   "cell_type": "code",
   "execution_count": null,
   "metadata": {
    "_uuid": "2c7c682f1de9692243c7d6c04bce31ac6a54a5fb",
    "collapsed": true
   },
   "outputs": [],
   "source": [
    "# delete the observations\n",
    "#deleting useless observations so that run time of the model can be improved\n",
    "\n",
    "Q1 = train['Item_Visibility'].quantile(0.25)\n",
    "Q3 = train['Item_Visibility'].quantile(0.75)\n",
    "IQR = Q3 - Q1\n",
    "filt_train = train.query('(@Q1 - 1.5 * @IQR) <= Item_Visibility <= (@Q3 + 1.5 * @IQR)')"
   ]
  },
  {
   "cell_type": "code",
   "execution_count": null,
   "metadata": {
    "_uuid": "1ad35526958fffeb1caaa1f4520aeb92c131664b",
    "collapsed": true
   },
   "outputs": [],
   "source": [
    "filt_train.shape,  train.shape\n"
   ]
  },
  {
   "cell_type": "code",
   "execution_count": null,
   "metadata": {
    "_uuid": "c273d5a451b7f8f32095f725065c28aafd818fc8",
    "collapsed": true
   },
   "outputs": [],
   "source": [
    "train = filt_train\n",
    "train.shape"
   ]
  },
  {
   "cell_type": "code",
   "execution_count": null,
   "metadata": {
    "_uuid": "4dd03fbc14ca88a6ac59a601cc805591c82aa805",
    "collapsed": true
   },
   "outputs": [],
   "source": [
    "#Feature engineering"
   ]
  },
  {
   "cell_type": "code",
   "execution_count": null,
   "metadata": {
    "_uuid": "1c5d8c34f1f2c5a00f89f8acfd26120d8a87a3a9",
    "collapsed": true
   },
   "outputs": [],
   "source": [
    "#splitting item visibility in Low Viz', 'Viz', 'High Viz' \n",
    "train['Item_Visibility_bins'] = pd.cut(train['Item_Visibility'], [0.000, 0.065, 0.13, 0.2], labels=['Low Viz', 'Viz', 'High Viz'])\n",
    "#replace nan by Low viz\n",
    "train['Item_Visibility_bins'] = train['Item_Visibility_bins'].replace(NaN, 'Low Viz')"
   ]
  },
  {
   "cell_type": "code",
   "execution_count": null,
   "metadata": {
    "_uuid": "4ec2ab4dfaa18c8f15abacf891510ad1b7b4f1fa",
    "collapsed": true
   },
   "outputs": [],
   "source": [
    "train['Item_Fat_Content'] = train['Item_Fat_Content'].replace(['low fat', 'LF'], 'Low Fat')\n",
    "train['Item_Fat_Content'] = train['Item_Fat_Content'].replace(['low fat', 'LF'], 'Low Fat')\n",
    "train['Item_Fat_Content'] = train['Item_Fat_Content'].replace('reg', 'Regular')"
   ]
  },
  {
   "cell_type": "code",
   "execution_count": null,
   "metadata": {
    "_uuid": "8aa9c5f9486638c34ed5fbdd3746818de771b294",
    "collapsed": true
   },
   "outputs": [],
   "source": [
    "#choosing the Fat content, item vizibility bins, outlet size, loc type and type for LABEL ENCODER"
   ]
  },
  {
   "cell_type": "code",
   "execution_count": null,
   "metadata": {
    "_uuid": "b3f0cfdba4cf4800640e98c4c165d1ebcbbfd501",
    "collapsed": true
   },
   "outputs": [],
   "source": [
    "le = LabelEncoder()"
   ]
  },
  {
   "cell_type": "code",
   "execution_count": null,
   "metadata": {
    "_uuid": "29fc26615df7338df5961c11fff3c2221df2e78c",
    "collapsed": true
   },
   "outputs": [],
   "source": [
    "train['Item_Fat_Content'].unique()"
   ]
  },
  {
   "cell_type": "code",
   "execution_count": null,
   "metadata": {
    "_uuid": "0a956abee8376b7615467e7a3c266619b92baeb5",
    "collapsed": true
   },
   "outputs": [],
   "source": [
    "train['Item_Fat_Content'] = le.fit_transform(train['Item_Fat_Content'])"
   ]
  },
  {
   "cell_type": "code",
   "execution_count": null,
   "metadata": {
    "_uuid": "28866daf17ff95f47434a2e3f77c5b3f0b2928eb",
    "collapsed": true
   },
   "outputs": [],
   "source": [
    "train['Item_Visibility_bins'] = le.fit_transform(train['Item_Visibility_bins'])"
   ]
  },
  {
   "cell_type": "code",
   "execution_count": null,
   "metadata": {
    "_uuid": "4217b24dbc471fa8c2beff2e67d0e3cde231461c",
    "collapsed": true
   },
   "outputs": [],
   "source": [
    "train['Outlet_Size'] = le.fit_transform(train['Outlet_Size'])"
   ]
  },
  {
   "cell_type": "code",
   "execution_count": null,
   "metadata": {
    "_uuid": "bef03fe97c2537a630602a11ed29fb25dde37a30",
    "collapsed": true
   },
   "outputs": [],
   "source": [
    "train['Outlet_Location_Type'] = le.fit_transform(train['Outlet_Location_Type'])"
   ]
  },
  {
   "cell_type": "code",
   "execution_count": null,
   "metadata": {
    "_uuid": "0c356f0b2feb4f049736c55bf51baed97a23f81e",
    "collapsed": true
   },
   "outputs": [],
   "source": [
    "train = pd.concat([train, dummy], axis=1)"
   ]
  },
  {
   "cell_type": "code",
   "execution_count": null,
   "metadata": {
    "_uuid": "eb31f9d2fd8f4bf3b5c6c12d9a063951e97e1a9d",
    "collapsed": true
   },
   "outputs": [],
   "source": [
    "# create dummies for outlet type\n",
    "dummy = pd.get_dummies(train['Outlet_Type'])\n",
    "dummy.head()"
   ]
  },
  {
   "cell_type": "code",
   "execution_count": null,
   "metadata": {
    "_uuid": "0e0621306f9012755a000386ee54d8591f326875",
    "collapsed": true
   },
   "outputs": [],
   "source": [
    "# in linear regression that correlated features should not be present\n",
    "\n",
    "train.corr()[((train.corr() < -0.85) | (train.corr() > 0.85)) & (train.corr() != 1)]"
   ]
  },
  {
   "cell_type": "code",
   "execution_count": null,
   "metadata": {
    "_uuid": "c6243c416a8bdd1179678fe11a42f91d5570fb9f",
    "collapsed": true
   },
   "outputs": [],
   "source": [
    "train.head()"
   ]
  },
  {
   "cell_type": "code",
   "execution_count": null,
   "metadata": {
    "_uuid": "096f294ef574a2fdc833dbf0133959875bb30af4",
    "collapsed": true
   },
   "outputs": [],
   "source": [
    "train.dtypes"
   ]
  },
  {
   "cell_type": "code",
   "execution_count": null,
   "metadata": {
    "_uuid": "526f4211ed8ab27c8cc1709aae5213e1acd00b21",
    "collapsed": true
   },
   "outputs": [],
   "source": [
    "# got to drop all the object types features\n",
    "train = train.drop(['Item_Identifier', 'Item_Type', 'Outlet_Identifier', 'Outlet_Type'], axis=1)"
   ]
  },
  {
   "cell_type": "code",
   "execution_count": null,
   "metadata": {
    "_uuid": "c4ca9a027aab81fc832f9a12c19e21f0814389d5",
    "collapsed": true
   },
   "outputs": [],
   "source": [
    "train.columns"
   ]
  },
  {
   "cell_type": "code",
   "execution_count": null,
   "metadata": {
    "_uuid": "ff2d2190e6cd6efeea45fac58bb31d8360ced9a7",
    "collapsed": true
   },
   "outputs": [],
   "source": [
    "#build the linear regression model\n",
    "X = train.drop('Item_Outlet_Sales', axis=1)\n",
    "y = train.Item_Outlet_Sales"
   ]
  },
  {
   "cell_type": "markdown",
   "metadata": {
    "_uuid": "bf9a63029a30b559706d66d955fe1e12c12e446d"
   },
   "source": [
    "## Same Operation for the test dataset\n",
    "### I am doing  these operations seperatly because test and train dataset have not equal colums"
   ]
  },
  {
   "cell_type": "code",
   "execution_count": null,
   "metadata": {
    "_uuid": "d7ff3cf4a6d60f561eb69400829f3ab809e1f191",
    "collapsed": true
   },
   "outputs": [],
   "source": [
    "test = pd.read_csv(\"../input/Test.csv\")"
   ]
  },
  {
   "cell_type": "code",
   "execution_count": null,
   "metadata": {
    "_uuid": "934c94a5db9b28503980061f795e8d324520f0f0",
    "collapsed": true
   },
   "outputs": [],
   "source": [
    "test['Outlet_Size'] = test['Outlet_Size'].fillna('Medium')"
   ]
  },
  {
   "cell_type": "code",
   "execution_count": null,
   "metadata": {
    "_uuid": "427d8f41acf77fd5d58edd80ab6189afd9c74adb",
    "collapsed": true
   },
   "outputs": [],
   "source": [
    "test['Item_Visibility_bins'] = pd.cut(test['Item_Visibility'], [0.000, 0.065, 0.13, 0.2], labels=['Low Viz', 'Viz', 'High Viz'])"
   ]
  },
  {
   "cell_type": "code",
   "execution_count": null,
   "metadata": {
    "_uuid": "caa804ff65f2e18d214f43f0baea0653d52d511b",
    "collapsed": true
   },
   "outputs": [],
   "source": [
    "test['Item_Weight'] = test['Item_Weight'].fillna(test['Item_Weight'].mean())"
   ]
  },
  {
   "cell_type": "code",
   "execution_count": null,
   "metadata": {
    "_uuid": "9bbc5c342774f84f2e2a37070fedffd10ca37a55",
    "collapsed": true
   },
   "outputs": [],
   "source": [
    "test['Item_Visibility_bins'] = test['Item_Visibility_bins'].replace(NaN, 'Low Viz')\n",
    "test['Item_Visibility_bins'].head()"
   ]
  },
  {
   "cell_type": "code",
   "execution_count": null,
   "metadata": {
    "_uuid": "710de9e020b0817eaec0059f3653b3237c431877",
    "collapsed": true
   },
   "outputs": [],
   "source": [
    "test['Item_Fat_Content'] = test['Item_Fat_Content'].replace(['low fat', 'LF'], 'Low Fat')\n",
    "test['Item_Fat_Content'] = test['Item_Fat_Content'].replace('reg', 'Regular')"
   ]
  },
  {
   "cell_type": "code",
   "execution_count": null,
   "metadata": {
    "_uuid": "53466bcfb69bc5f8b01391a98b1159e704bdaf1c",
    "collapsed": true
   },
   "outputs": [],
   "source": [
    "test['Item_Fat_Content'] = test['Item_Fat_Content'].replace(['low fat', 'LF'], 'Low Fat')"
   ]
  },
  {
   "cell_type": "code",
   "execution_count": null,
   "metadata": {
    "_uuid": "474031c95d73907c89e8ec7ea1a532de2ac69c1c",
    "collapsed": true
   },
   "outputs": [],
   "source": [
    "test['Item_Fat_Content'] = test['Item_Fat_Content'].replace('reg', 'Regular')\n"
   ]
  },
  {
   "cell_type": "code",
   "execution_count": null,
   "metadata": {
    "_uuid": "b4e1b9dac70a130a38b397fb98f7384ea376ccd6",
    "collapsed": true
   },
   "outputs": [],
   "source": [
    "\n",
    "test['Item_Fat_Content'] = le.fit_transform(test['Item_Fat_Content'])\n"
   ]
  },
  {
   "cell_type": "code",
   "execution_count": null,
   "metadata": {
    "_uuid": "ef0f024c8909f08f3900d6ff8e07bbae0da5a4a3",
    "collapsed": true
   },
   "outputs": [],
   "source": [
    "test['Item_Visibility_bins'] = le.fit_transform(test['Item_Visibility_bins'])\n"
   ]
  },
  {
   "cell_type": "code",
   "execution_count": null,
   "metadata": {
    "_uuid": "5eb9f0fd349f307a970ad39bd080f702af2c3f2c",
    "collapsed": true
   },
   "outputs": [],
   "source": [
    "test['Outlet_Size'] = le.fit_transform(test['Outlet_Size'])"
   ]
  },
  {
   "cell_type": "code",
   "execution_count": null,
   "metadata": {
    "_uuid": "052528439a0d2a4833dde1d29c7198bbe217ab5c",
    "collapsed": true
   },
   "outputs": [],
   "source": [
    "\n",
    "test['Outlet_Location_Type'] = le.fit_transform(test['Outlet_Location_Type'])"
   ]
  },
  {
   "cell_type": "code",
   "execution_count": null,
   "metadata": {
    "_uuid": "afa59e7028e38b22f651f83e78e29e1a29866f21",
    "collapsed": true
   },
   "outputs": [],
   "source": [
    "dummy = pd.get_dummies(test['Outlet_Type'])\n",
    "test = pd.concat([test, dummy], axis=1)"
   ]
  },
  {
   "cell_type": "code",
   "execution_count": null,
   "metadata": {
    "_uuid": "dc9e2ef7aab9a99d03691b91eff3961076e0a925",
    "collapsed": true
   },
   "outputs": [],
   "source": [
    "test.head()"
   ]
  },
  {
   "cell_type": "code",
   "execution_count": null,
   "metadata": {
    "_uuid": "7189b99a7287746855a17bfc5d3089e0be6b9c96",
    "collapsed": true
   },
   "outputs": [],
   "source": [
    "X_test = test.drop(['Item_Identifier', 'Item_Type', 'Outlet_Identifier', 'Outlet_Type'], axis=1)\n",
    "\n"
   ]
  },
  {
   "cell_type": "code",
   "execution_count": null,
   "metadata": {
    "_uuid": "14cf0055c0be92933d6e52fbaee495cbc247e33c",
    "collapsed": true
   },
   "outputs": [],
   "source": [
    "X.shape,y.shape,test.shape,X_test.shape"
   ]
  },
  {
   "cell_type": "code",
   "execution_count": null,
   "metadata": {
    "_uuid": "b5f43b340d6439b5f54c151ee8b17229531bf14e",
    "collapsed": true
   },
   "outputs": [],
   "source": [
    "X.head()"
   ]
  },
  {
   "cell_type": "code",
   "execution_count": null,
   "metadata": {
    "_uuid": "4d8f6963f08b54af76144c1f0479029b11dbf78a",
    "collapsed": true
   },
   "outputs": [],
   "source": [
    "X_test.head()"
   ]
  },
  {
   "cell_type": "code",
   "execution_count": null,
   "metadata": {
    "_uuid": "1851ec5d8770ba1ccd28ff2741bd513d09f8b4b0",
    "collapsed": true
   },
   "outputs": [],
   "source": [
    "lin = LinearRegression()"
   ]
  },
  {
   "cell_type": "code",
   "execution_count": null,
   "metadata": {
    "_uuid": "739a6ab00a99a974c048e7ed9c500c5c6c681895",
    "collapsed": true
   },
   "outputs": [],
   "source": [
    "lin.fit(X, y)\n",
    "predictions = lin.predict(X_test)"
   ]
  },
  {
   "cell_type": "code",
   "execution_count": null,
   "metadata": {
    "_uuid": "37904a2557551363aa8d26db96fe3b9140c7a738",
    "collapsed": true
   },
   "outputs": [],
   "source": [
    "# decision tree\n",
    "dtree_class = DecisionTreeClassifier(criterion='gini', max_depth=25)\n",
    "y = y.astype(int)"
   ]
  },
  {
   "cell_type": "code",
   "execution_count": null,
   "metadata": {
    "_uuid": "dc7790fc38aaa5ba6184189bd6450577172a47e2",
    "collapsed": true
   },
   "outputs": [],
   "source": [
    "dtree_class.fit(X, y)"
   ]
  },
  {
   "cell_type": "code",
   "execution_count": null,
   "metadata": {
    "_uuid": "246fafcb90e82665f8d1b352a5a4d30de04a02d0",
    "collapsed": true
   },
   "outputs": [],
   "source": [
    "accuracy_score(y, dtree_class.predict(X))"
   ]
  },
  {
   "cell_type": "code",
   "execution_count": null,
   "metadata": {
    "_uuid": "6b621175cc0786adca20b5775635c34fbf71edb1",
    "collapsed": true
   },
   "outputs": [],
   "source": [
    "r2_score(y, dtree_class.predict(X))"
   ]
  },
  {
   "cell_type": "code",
   "execution_count": null,
   "metadata": {
    "_uuid": "234c4841f5810dc9a1c570f0044103704dafa4ab",
    "collapsed": true
   },
   "outputs": [],
   "source": [
    "pred = dtree_class.predict(X_test)\n",
    "pred"
   ]
  },
  {
   "cell_type": "code",
   "execution_count": null,
   "metadata": {
    "_uuid": "99555b2ce32173305b7be9cffbd983d4a4e4deae",
    "collapsed": true
   },
   "outputs": [],
   "source": [
    "# # create submission file\n",
    "# submission = pd.DataFrame(data=[], columns=['Item_Identifier', 'Outlet_Identifier', 'Item_Outlet_Sales'])\n",
    "# submission['Item_Identifier'] = test['Item_Identifier']\n",
    "# submission['Outlet_Identifier'] = test['Outlet_Identifier']\n",
    "# submission['Item_Outlet_Sales'] = pred\n",
    "# submission.to_csv('submission.csv', index=False)\n",
    "# submission.head()"
   ]
  },
  {
   "cell_type": "code",
   "execution_count": null,
   "metadata": {
    "_uuid": "c1f648e8637baeb97bceb0b604d5d85854d75ffb",
    "collapsed": true
   },
   "outputs": [],
   "source": [
    "rmf = RandomForestClassifier(n_estimators=100, max_depth=10)"
   ]
  }
 ],
 "metadata": {
  "kernelspec": {
   "display_name": "Python 3",
   "language": "python",
   "name": "python3"
  },
  "language_info": {
   "codemirror_mode": {
    "name": "ipython",
    "version": 3
   },
   "file_extension": ".py",
   "mimetype": "text/x-python",
   "name": "python",
   "nbconvert_exporter": "python",
   "pygments_lexer": "ipython3",
   "version": "3.6.3"
  }
 },
 "nbformat": 4,
 "nbformat_minor": 1
}

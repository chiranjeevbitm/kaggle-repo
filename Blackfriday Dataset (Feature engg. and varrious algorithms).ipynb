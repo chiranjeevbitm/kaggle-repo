{
  "cells": [
    {
      "metadata": {
        "_uuid": "8f2839f25d086af736a60e9eeb907d3b93b6e0e5",
        "_cell_guid": "b1076dfc-b9ad-4769-8c92-a6c4dae69d19",
        "trusted": true,
        "collapsed": true
      },
      "cell_type": "code",
      "source": "import xgboost\nimport numpy as np\nimport pandas as pd\nfrom math import sqrt\nimport seaborn as sns \nimport xgboost as xgb\nimport matplotlib.pyplot as plt\nfrom sklearn.preprocessing import LabelEncoder\nfrom sklearn import preprocessing",
      "execution_count": 1,
      "outputs": []
    },
    {
      "metadata": {
        "_cell_guid": "79c7e3d0-c299-4dcb-8224-4455121ee9b0",
        "collapsed": true,
        "_uuid": "d629ff2d2480ee46fbb7e2d37f6b5fab8052498a",
        "trusted": true
      },
      "cell_type": "code",
      "source": "train = pd.read_csv(\"../input/train.csv\")\ntest = pd.read_csv(\"../input/test.csv\")",
      "execution_count": 2,
      "outputs": []
    },
    {
      "metadata": {
        "trusted": true,
        "_uuid": "ea203365e3b792edd29af7125e9cb698e09c4e2c"
      },
      "cell_type": "code",
      "source": "train.head()",
      "execution_count": 3,
      "outputs": [
        {
          "output_type": "execute_result",
          "execution_count": 3,
          "data": {
            "text/plain": "   User_ID Product_ID   ...    Product_Category_3 Purchase\n0  1000001  P00069042   ...                   NaN     8370\n1  1000001  P00248942   ...                  14.0    15200\n2  1000001  P00087842   ...                   NaN     1422\n3  1000001  P00085442   ...                   NaN     1057\n4  1000002  P00285442   ...                   NaN     7969\n\n[5 rows x 12 columns]",
            "text/html": "<div>\n<style scoped>\n    .dataframe tbody tr th:only-of-type {\n        vertical-align: middle;\n    }\n\n    .dataframe tbody tr th {\n        vertical-align: top;\n    }\n\n    .dataframe thead th {\n        text-align: right;\n    }\n</style>\n<table border=\"1\" class=\"dataframe\">\n  <thead>\n    <tr style=\"text-align: right;\">\n      <th></th>\n      <th>User_ID</th>\n      <th>Product_ID</th>\n      <th>Gender</th>\n      <th>Age</th>\n      <th>Occupation</th>\n      <th>City_Category</th>\n      <th>Stay_In_Current_City_Years</th>\n      <th>Marital_Status</th>\n      <th>Product_Category_1</th>\n      <th>Product_Category_2</th>\n      <th>Product_Category_3</th>\n      <th>Purchase</th>\n    </tr>\n  </thead>\n  <tbody>\n    <tr>\n      <th>0</th>\n      <td>1000001</td>\n      <td>P00069042</td>\n      <td>F</td>\n      <td>0-17</td>\n      <td>10</td>\n      <td>A</td>\n      <td>2</td>\n      <td>0</td>\n      <td>3</td>\n      <td>NaN</td>\n      <td>NaN</td>\n      <td>8370</td>\n    </tr>\n    <tr>\n      <th>1</th>\n      <td>1000001</td>\n      <td>P00248942</td>\n      <td>F</td>\n      <td>0-17</td>\n      <td>10</td>\n      <td>A</td>\n      <td>2</td>\n      <td>0</td>\n      <td>1</td>\n      <td>6.0</td>\n      <td>14.0</td>\n      <td>15200</td>\n    </tr>\n    <tr>\n      <th>2</th>\n      <td>1000001</td>\n      <td>P00087842</td>\n      <td>F</td>\n      <td>0-17</td>\n      <td>10</td>\n      <td>A</td>\n      <td>2</td>\n      <td>0</td>\n      <td>12</td>\n      <td>NaN</td>\n      <td>NaN</td>\n      <td>1422</td>\n    </tr>\n    <tr>\n      <th>3</th>\n      <td>1000001</td>\n      <td>P00085442</td>\n      <td>F</td>\n      <td>0-17</td>\n      <td>10</td>\n      <td>A</td>\n      <td>2</td>\n      <td>0</td>\n      <td>12</td>\n      <td>14.0</td>\n      <td>NaN</td>\n      <td>1057</td>\n    </tr>\n    <tr>\n      <th>4</th>\n      <td>1000002</td>\n      <td>P00285442</td>\n      <td>M</td>\n      <td>55+</td>\n      <td>16</td>\n      <td>C</td>\n      <td>4+</td>\n      <td>0</td>\n      <td>8</td>\n      <td>NaN</td>\n      <td>NaN</td>\n      <td>7969</td>\n    </tr>\n  </tbody>\n</table>\n</div>"
          },
          "metadata": {}
        }
      ]
    },
    {
      "metadata": {
        "trusted": true,
        "_uuid": "09f1b8750529676f4290175395a048be0c9c5a33"
      },
      "cell_type": "code",
      "source": "test.head()",
      "execution_count": 4,
      "outputs": [
        {
          "output_type": "execute_result",
          "execution_count": 4,
          "data": {
            "text/plain": "   User_ID        ...         Product_Category_3\n0  1000004        ...                        NaN\n1  1000009        ...                        NaN\n2  1000010        ...                        NaN\n3  1000010        ...                        NaN\n4  1000011        ...                       12.0\n\n[5 rows x 11 columns]",
            "text/html": "<div>\n<style scoped>\n    .dataframe tbody tr th:only-of-type {\n        vertical-align: middle;\n    }\n\n    .dataframe tbody tr th {\n        vertical-align: top;\n    }\n\n    .dataframe thead th {\n        text-align: right;\n    }\n</style>\n<table border=\"1\" class=\"dataframe\">\n  <thead>\n    <tr style=\"text-align: right;\">\n      <th></th>\n      <th>User_ID</th>\n      <th>Product_ID</th>\n      <th>Gender</th>\n      <th>Age</th>\n      <th>Occupation</th>\n      <th>City_Category</th>\n      <th>Stay_In_Current_City_Years</th>\n      <th>Marital_Status</th>\n      <th>Product_Category_1</th>\n      <th>Product_Category_2</th>\n      <th>Product_Category_3</th>\n    </tr>\n  </thead>\n  <tbody>\n    <tr>\n      <th>0</th>\n      <td>1000004</td>\n      <td>P00128942</td>\n      <td>M</td>\n      <td>46-50</td>\n      <td>7</td>\n      <td>B</td>\n      <td>2</td>\n      <td>1</td>\n      <td>1</td>\n      <td>11.0</td>\n      <td>NaN</td>\n    </tr>\n    <tr>\n      <th>1</th>\n      <td>1000009</td>\n      <td>P00113442</td>\n      <td>M</td>\n      <td>26-35</td>\n      <td>17</td>\n      <td>C</td>\n      <td>0</td>\n      <td>0</td>\n      <td>3</td>\n      <td>5.0</td>\n      <td>NaN</td>\n    </tr>\n    <tr>\n      <th>2</th>\n      <td>1000010</td>\n      <td>P00288442</td>\n      <td>F</td>\n      <td>36-45</td>\n      <td>1</td>\n      <td>B</td>\n      <td>4+</td>\n      <td>1</td>\n      <td>5</td>\n      <td>14.0</td>\n      <td>NaN</td>\n    </tr>\n    <tr>\n      <th>3</th>\n      <td>1000010</td>\n      <td>P00145342</td>\n      <td>F</td>\n      <td>36-45</td>\n      <td>1</td>\n      <td>B</td>\n      <td>4+</td>\n      <td>1</td>\n      <td>4</td>\n      <td>9.0</td>\n      <td>NaN</td>\n    </tr>\n    <tr>\n      <th>4</th>\n      <td>1000011</td>\n      <td>P00053842</td>\n      <td>F</td>\n      <td>26-35</td>\n      <td>1</td>\n      <td>C</td>\n      <td>1</td>\n      <td>0</td>\n      <td>4</td>\n      <td>5.0</td>\n      <td>12.0</td>\n    </tr>\n  </tbody>\n</table>\n</div>"
          },
          "metadata": {}
        }
      ]
    },
    {
      "metadata": {
        "trusted": true,
        "_uuid": "4a115825f0bb9d6ab69bda005d31d4d4d3a3b639"
      },
      "cell_type": "code",
      "source": "train.info()",
      "execution_count": 5,
      "outputs": [
        {
          "output_type": "stream",
          "text": "<class 'pandas.core.frame.DataFrame'>\nRangeIndex: 550068 entries, 0 to 550067\nData columns (total 12 columns):\nUser_ID                       550068 non-null int64\nProduct_ID                    550068 non-null object\nGender                        550068 non-null object\nAge                           550068 non-null object\nOccupation                    550068 non-null int64\nCity_Category                 550068 non-null object\nStay_In_Current_City_Years    550068 non-null object\nMarital_Status                550068 non-null int64\nProduct_Category_1            550068 non-null int64\nProduct_Category_2            376430 non-null float64\nProduct_Category_3            166821 non-null float64\nPurchase                      550068 non-null int64\ndtypes: float64(2), int64(5), object(5)\nmemory usage: 50.4+ MB\n",
          "name": "stdout"
        }
      ]
    },
    {
      "metadata": {
        "trusted": true,
        "_uuid": "bbe5571445acbd21a1c9b94a339eac68467abc09"
      },
      "cell_type": "code",
      "source": "test.info()",
      "execution_count": 6,
      "outputs": [
        {
          "output_type": "stream",
          "text": "<class 'pandas.core.frame.DataFrame'>\nRangeIndex: 233599 entries, 0 to 233598\nData columns (total 11 columns):\nUser_ID                       233599 non-null int64\nProduct_ID                    233599 non-null object\nGender                        233599 non-null object\nAge                           233599 non-null object\nOccupation                    233599 non-null int64\nCity_Category                 233599 non-null object\nStay_In_Current_City_Years    233599 non-null object\nMarital_Status                233599 non-null int64\nProduct_Category_1            233599 non-null int64\nProduct_Category_2            161255 non-null float64\nProduct_Category_3            71037 non-null float64\ndtypes: float64(2), int64(4), object(5)\nmemory usage: 19.6+ MB\n",
          "name": "stdout"
        }
      ]
    },
    {
      "metadata": {
        "trusted": true,
        "_uuid": "db71a211b2954312596d0837300facb55abe9ec2"
      },
      "cell_type": "code",
      "source": "train.isnull().sum()",
      "execution_count": 7,
      "outputs": [
        {
          "output_type": "execute_result",
          "execution_count": 7,
          "data": {
            "text/plain": "User_ID                            0\nProduct_ID                         0\nGender                             0\nAge                                0\nOccupation                         0\nCity_Category                      0\nStay_In_Current_City_Years         0\nMarital_Status                     0\nProduct_Category_1                 0\nProduct_Category_2            173638\nProduct_Category_3            383247\nPurchase                           0\ndtype: int64"
          },
          "metadata": {}
        }
      ]
    },
    {
      "metadata": {
        "trusted": true,
        "_uuid": "55f3252f7879db159c26e7ea92e55f8da5143622"
      },
      "cell_type": "code",
      "source": "test.isnull().sum()",
      "execution_count": 8,
      "outputs": [
        {
          "output_type": "execute_result",
          "execution_count": 8,
          "data": {
            "text/plain": "User_ID                            0\nProduct_ID                         0\nGender                             0\nAge                                0\nOccupation                         0\nCity_Category                      0\nStay_In_Current_City_Years         0\nMarital_Status                     0\nProduct_Category_1                 0\nProduct_Category_2             72344\nProduct_Category_3            162562\ndtype: int64"
          },
          "metadata": {}
        }
      ]
    },
    {
      "metadata": {
        "trusted": true,
        "collapsed": true,
        "_uuid": "02eefb89fb5a03a5d3ec86cb34c0cbabea9042f5"
      },
      "cell_type": "code",
      "source": "train['Product_Category_2'].fillna(train['Product_Category_2'].median(), inplace=True)\ntrain['Product_Category_3'].fillna(train['Product_Category_3'].median(), inplace=True)",
      "execution_count": 9,
      "outputs": []
    },
    {
      "metadata": {
        "trusted": true,
        "collapsed": true,
        "_uuid": "b17977f84a2a68172e895d1ae263118bcad3e0ec"
      },
      "cell_type": "code",
      "source": "test['Product_Category_2'].fillna(test['Product_Category_2'].median(), inplace=True)\ntest['Product_Category_3'].fillna(test['Product_Category_3'].median(), inplace=True)",
      "execution_count": 10,
      "outputs": []
    },
    {
      "metadata": {
        "trusted": true,
        "_uuid": "bdc3143f8a5cb447fd142dca72e6bc15ba223f33"
      },
      "cell_type": "code",
      "source": "train.isnull().sum()",
      "execution_count": 11,
      "outputs": [
        {
          "output_type": "execute_result",
          "execution_count": 11,
          "data": {
            "text/plain": "User_ID                       0\nProduct_ID                    0\nGender                        0\nAge                           0\nOccupation                    0\nCity_Category                 0\nStay_In_Current_City_Years    0\nMarital_Status                0\nProduct_Category_1            0\nProduct_Category_2            0\nProduct_Category_3            0\nPurchase                      0\ndtype: int64"
          },
          "metadata": {}
        }
      ]
    },
    {
      "metadata": {
        "trusted": true,
        "_uuid": "12d545099ada9e2640c80d49b8c8f7ca33c5c9d6"
      },
      "cell_type": "code",
      "source": "test.isnull().sum()",
      "execution_count": 12,
      "outputs": [
        {
          "output_type": "execute_result",
          "execution_count": 12,
          "data": {
            "text/plain": "User_ID                       0\nProduct_ID                    0\nGender                        0\nAge                           0\nOccupation                    0\nCity_Category                 0\nStay_In_Current_City_Years    0\nMarital_Status                0\nProduct_Category_1            0\nProduct_Category_2            0\nProduct_Category_3            0\ndtype: int64"
          },
          "metadata": {}
        }
      ]
    },
    {
      "metadata": {
        "trusted": true,
        "collapsed": true,
        "_uuid": "91e105b300803992b4f02eb235ccecdd542b0071"
      },
      "cell_type": "code",
      "source": "gender_dict = {'F':0, 'M':1}\nage_dict = {'0-17':0, '18-25':1, '26-35':2, '36-45':3, '46-50':4, '51-55':5, '55+':6}\ncity_dict = {'A':0, 'B':1, 'C':2}\nstay_dict = {'0':0, '1':1, '2':2, '3':3, '4+':4}",
      "execution_count": 13,
      "outputs": []
    },
    {
      "metadata": {
        "trusted": true,
        "collapsed": true,
        "_uuid": "26d0cafd124f770bde9dd031aa5428dcabc28f4c"
      },
      "cell_type": "code",
      "source": "train[\"Gender\"] = train[\"Gender\"].apply(lambda x: gender_dict[x])\ntest[\"Gender\"] = test[\"Gender\"].apply(lambda x: gender_dict[x])\n\ntrain[\"Age\"] = train[\"Age\"].apply(lambda x: age_dict[x])\ntest[\"Age\"] = test[\"Age\"].apply(lambda x: age_dict[x])\n\ntrain[\"City_Category\"] = train[\"City_Category\"].apply(lambda x: city_dict[x])\ntest[\"City_Category\"] = test[\"City_Category\"].apply(lambda x: city_dict[x])\n\ntrain[\"Stay_In_Current_City_Years\"] = train[\"Stay_In_Current_City_Years\"].apply(lambda x: stay_dict[x])\ntest[\"Stay_In_Current_City_Years\"] = test[\"Stay_In_Current_City_Years\"].apply(lambda x: stay_dict[x])\n",
      "execution_count": 14,
      "outputs": []
    },
    {
      "metadata": {
        "trusted": true,
        "_uuid": "4d75a4684572d1f440828364dc4b90c622a31ef5"
      },
      "cell_type": "code",
      "source": "train.head(3)",
      "execution_count": 15,
      "outputs": [
        {
          "output_type": "execute_result",
          "execution_count": 15,
          "data": {
            "text/plain": "   User_ID Product_ID    ...     Product_Category_3  Purchase\n0  1000001  P00069042    ...                   14.0      8370\n1  1000001  P00248942    ...                   14.0     15200\n2  1000001  P00087842    ...                   14.0      1422\n\n[3 rows x 12 columns]",
            "text/html": "<div>\n<style scoped>\n    .dataframe tbody tr th:only-of-type {\n        vertical-align: middle;\n    }\n\n    .dataframe tbody tr th {\n        vertical-align: top;\n    }\n\n    .dataframe thead th {\n        text-align: right;\n    }\n</style>\n<table border=\"1\" class=\"dataframe\">\n  <thead>\n    <tr style=\"text-align: right;\">\n      <th></th>\n      <th>User_ID</th>\n      <th>Product_ID</th>\n      <th>Gender</th>\n      <th>Age</th>\n      <th>Occupation</th>\n      <th>City_Category</th>\n      <th>Stay_In_Current_City_Years</th>\n      <th>Marital_Status</th>\n      <th>Product_Category_1</th>\n      <th>Product_Category_2</th>\n      <th>Product_Category_3</th>\n      <th>Purchase</th>\n    </tr>\n  </thead>\n  <tbody>\n    <tr>\n      <th>0</th>\n      <td>1000001</td>\n      <td>P00069042</td>\n      <td>0</td>\n      <td>0</td>\n      <td>10</td>\n      <td>0</td>\n      <td>2</td>\n      <td>0</td>\n      <td>3</td>\n      <td>9.0</td>\n      <td>14.0</td>\n      <td>8370</td>\n    </tr>\n    <tr>\n      <th>1</th>\n      <td>1000001</td>\n      <td>P00248942</td>\n      <td>0</td>\n      <td>0</td>\n      <td>10</td>\n      <td>0</td>\n      <td>2</td>\n      <td>0</td>\n      <td>1</td>\n      <td>6.0</td>\n      <td>14.0</td>\n      <td>15200</td>\n    </tr>\n    <tr>\n      <th>2</th>\n      <td>1000001</td>\n      <td>P00087842</td>\n      <td>0</td>\n      <td>0</td>\n      <td>10</td>\n      <td>0</td>\n      <td>2</td>\n      <td>0</td>\n      <td>12</td>\n      <td>9.0</td>\n      <td>14.0</td>\n      <td>1422</td>\n    </tr>\n  </tbody>\n</table>\n</div>"
          },
          "metadata": {}
        }
      ]
    },
    {
      "metadata": {
        "trusted": true,
        "collapsed": true,
        "_uuid": "e36bae96d68c9a8512613c5a6825cd24c0526dfe"
      },
      "cell_type": "code",
      "source": "train1 = pd.read_csv(\"../input/train.csv\")\ntest1 = pd.read_csv(\"../input/test.csv\")\n\ntargets = train.Purchase\n\ntrain.drop('Purchase', 1, inplace=True)\ncombined = train.append(test)\ncombined.reset_index(inplace=True)\ncombined.drop(['User_ID', 'Product_ID'], inplace=True, axis=1)",
      "execution_count": 16,
      "outputs": []
    },
    {
      "metadata": {
        "trusted": true,
        "_uuid": "bde81ad66ee15d2d3ff8b223153a691cf8281e50"
      },
      "cell_type": "code",
      "source": "print (combined['Age'].value_counts())\nprint (combined['Marital_Status'].value_counts())\nprint (combined['Gender'].value_counts())\nprint (combined['City_Category'].value_counts())\nprint (combined['Occupation'].value_counts())\nprint (combined['Stay_In_Current_City_Years'].value_counts())",
      "execution_count": 17,
      "outputs": [
        {
          "output_type": "stream",
          "text": "2    313015\n3    156724\n1    141953\n4     65278\n5     54784\n6     30579\n0     21334\nName: Age, dtype: int64\n0    462538\n1    321129\nName: Marital_Status, dtype: int64\n1    590031\n0    193636\nName: Gender, dtype: int64\n1    329739\n2    243684\n0    210244\nName: City_Category, dtype: int64\n4     103086\n0      98850\n7      84127\n1      67687\n17     57418\n20     47840\n12     44448\n14     38782\n2      37996\n16     36122\n6      29102\n3      25126\n10     18304\n5      17373\n15     17356\n11     16593\n19     11919\n13     11053\n18      9367\n9       8929\n8       2189\nName: Occupation, dtype: int64\n1    276425\n2    145427\n3    135428\n4    120671\n0    105716\nName: Stay_In_Current_City_Years, dtype: int64\n",
          "name": "stdout"
        }
      ]
    },
    {
      "metadata": {
        "trusted": true,
        "scrolled": false,
        "_uuid": "d2664271fcb9c705b524410407bd93fefb08ef4e"
      },
      "cell_type": "code",
      "source": "combined.describe()",
      "execution_count": 18,
      "outputs": [
        {
          "output_type": "execute_result",
          "execution_count": 18,
          "data": {
            "text/plain": "               index         ...          Product_Category_3\ncount  783667.000000         ...               783667.000000\nmean   227866.245330         ...                   13.595896\nstd    155861.364474         ...                    2.353838\nmin         0.000000         ...                    3.000000\n25%     97958.000000         ...                   14.000000\n50%    195916.000000         ...                   14.000000\n75%    354150.500000         ...                   14.000000\nmax    550067.000000         ...                   18.000000\n\n[8 rows x 10 columns]",
            "text/html": "<div>\n<style scoped>\n    .dataframe tbody tr th:only-of-type {\n        vertical-align: middle;\n    }\n\n    .dataframe tbody tr th {\n        vertical-align: top;\n    }\n\n    .dataframe thead th {\n        text-align: right;\n    }\n</style>\n<table border=\"1\" class=\"dataframe\">\n  <thead>\n    <tr style=\"text-align: right;\">\n      <th></th>\n      <th>index</th>\n      <th>Gender</th>\n      <th>Age</th>\n      <th>Occupation</th>\n      <th>City_Category</th>\n      <th>Stay_In_Current_City_Years</th>\n      <th>Marital_Status</th>\n      <th>Product_Category_1</th>\n      <th>Product_Category_2</th>\n      <th>Product_Category_3</th>\n    </tr>\n  </thead>\n  <tbody>\n    <tr>\n      <th>count</th>\n      <td>783667.000000</td>\n      <td>783667.00000</td>\n      <td>783667.000000</td>\n      <td>783667.000000</td>\n      <td>783667.000000</td>\n      <td>783667.000000</td>\n      <td>783667.000000</td>\n      <td>783667.000000</td>\n      <td>783667.000000</td>\n      <td>783667.000000</td>\n    </tr>\n    <tr>\n      <th>mean</th>\n      <td>227866.245330</td>\n      <td>0.75291</td>\n      <td>2.496802</td>\n      <td>8.079300</td>\n      <td>1.042671</td>\n      <td>1.858247</td>\n      <td>0.409777</td>\n      <td>5.366196</td>\n      <td>9.579427</td>\n      <td>13.595896</td>\n    </tr>\n    <tr>\n      <th>std</th>\n      <td>155861.364474</td>\n      <td>0.43132</td>\n      <td>1.352736</td>\n      <td>6.522206</td>\n      <td>0.759879</td>\n      <td>1.288790</td>\n      <td>0.491793</td>\n      <td>3.878160</td>\n      <td>4.233575</td>\n      <td>2.353838</td>\n    </tr>\n    <tr>\n      <th>min</th>\n      <td>0.000000</td>\n      <td>0.00000</td>\n      <td>0.000000</td>\n      <td>0.000000</td>\n      <td>0.000000</td>\n      <td>0.000000</td>\n      <td>0.000000</td>\n      <td>1.000000</td>\n      <td>2.000000</td>\n      <td>3.000000</td>\n    </tr>\n    <tr>\n      <th>25%</th>\n      <td>97958.000000</td>\n      <td>1.00000</td>\n      <td>2.000000</td>\n      <td>2.000000</td>\n      <td>0.000000</td>\n      <td>1.000000</td>\n      <td>0.000000</td>\n      <td>1.000000</td>\n      <td>8.000000</td>\n      <td>14.000000</td>\n    </tr>\n    <tr>\n      <th>50%</th>\n      <td>195916.000000</td>\n      <td>1.00000</td>\n      <td>2.000000</td>\n      <td>7.000000</td>\n      <td>1.000000</td>\n      <td>2.000000</td>\n      <td>0.000000</td>\n      <td>5.000000</td>\n      <td>9.000000</td>\n      <td>14.000000</td>\n    </tr>\n    <tr>\n      <th>75%</th>\n      <td>354150.500000</td>\n      <td>1.00000</td>\n      <td>3.000000</td>\n      <td>14.000000</td>\n      <td>2.000000</td>\n      <td>3.000000</td>\n      <td>1.000000</td>\n      <td>8.000000</td>\n      <td>14.000000</td>\n      <td>14.000000</td>\n    </tr>\n    <tr>\n      <th>max</th>\n      <td>550067.000000</td>\n      <td>1.00000</td>\n      <td>6.000000</td>\n      <td>20.000000</td>\n      <td>2.000000</td>\n      <td>4.000000</td>\n      <td>1.000000</td>\n      <td>20.000000</td>\n      <td>18.000000</td>\n      <td>18.000000</td>\n    </tr>\n  </tbody>\n</table>\n</div>"
          },
          "metadata": {}
        }
      ]
    },
    {
      "metadata": {
        "trusted": true,
        "collapsed": true,
        "_uuid": "7199253052d162f819d1faeed33308eeaaf155b0"
      },
      "cell_type": "code",
      "source": "def feature_scaling(dataframe):\n    dataframe -= dataframe.min()\n    dataframe /= dataframe.max()\n    return dataframe",
      "execution_count": 19,
      "outputs": []
    },
    {
      "metadata": {
        "trusted": true,
        "collapsed": true,
        "_uuid": "938bde036749cddb93dfca384ee810cd3c13c8f1"
      },
      "cell_type": "code",
      "source": "combined['Occupation'] = feature_scaling(combined['Occupation'])\ncombined['Stay_In_Current_City_Years'] = feature_scaling(combined['Stay_In_Current_City_Years'])\ncombined['Product_Category_1'] = feature_scaling(combined['Product_Category_1'])\ncombined['Product_Category_2'] = feature_scaling(combined['Product_Category_3'])\ncombined['Product_Category_3'] = feature_scaling(combined['Product_Category_3'])\ncombined['index'] = feature_scaling(combined['index'])\ncombined['Age'] = feature_scaling(combined['Age'])",
      "execution_count": 20,
      "outputs": []
    },
    {
      "metadata": {
        "trusted": true,
        "_uuid": "bca4a90797a86fac99bb505c67099f50be89a1bb"
      },
      "cell_type": "code",
      "source": "combined.tail()",
      "execution_count": 21,
      "outputs": [
        {
          "output_type": "execute_result",
          "execution_count": 21,
          "data": {
            "text/plain": "           index         ...          Product_Category_3\n783662  0.424665         ...                    0.733333\n783663  0.424666         ...                    0.733333\n783664  0.424668         ...                    0.600000\n783665  0.424670         ...                    0.733333\n783666  0.424672         ...                    0.733333\n\n[5 rows x 10 columns]",
            "text/html": "<div>\n<style scoped>\n    .dataframe tbody tr th:only-of-type {\n        vertical-align: middle;\n    }\n\n    .dataframe tbody tr th {\n        vertical-align: top;\n    }\n\n    .dataframe thead th {\n        text-align: right;\n    }\n</style>\n<table border=\"1\" class=\"dataframe\">\n  <thead>\n    <tr style=\"text-align: right;\">\n      <th></th>\n      <th>index</th>\n      <th>Gender</th>\n      <th>Age</th>\n      <th>Occupation</th>\n      <th>City_Category</th>\n      <th>Stay_In_Current_City_Years</th>\n      <th>Marital_Status</th>\n      <th>Product_Category_1</th>\n      <th>Product_Category_2</th>\n      <th>Product_Category_3</th>\n    </tr>\n  </thead>\n  <tbody>\n    <tr>\n      <th>783662</th>\n      <td>0.424665</td>\n      <td>0</td>\n      <td>0.333333</td>\n      <td>0.75</td>\n      <td>1</td>\n      <td>1.0</td>\n      <td>1</td>\n      <td>0.368421</td>\n      <td>0.733333</td>\n      <td>0.733333</td>\n    </tr>\n    <tr>\n      <th>783663</th>\n      <td>0.424666</td>\n      <td>0</td>\n      <td>0.333333</td>\n      <td>0.75</td>\n      <td>1</td>\n      <td>1.0</td>\n      <td>1</td>\n      <td>0.210526</td>\n      <td>0.733333</td>\n      <td>0.733333</td>\n    </tr>\n    <tr>\n      <th>783664</th>\n      <td>0.424668</td>\n      <td>0</td>\n      <td>0.333333</td>\n      <td>0.75</td>\n      <td>1</td>\n      <td>1.0</td>\n      <td>1</td>\n      <td>0.000000</td>\n      <td>0.600000</td>\n      <td>0.600000</td>\n    </tr>\n    <tr>\n      <th>783665</th>\n      <td>0.424670</td>\n      <td>0</td>\n      <td>0.666667</td>\n      <td>0.05</td>\n      <td>2</td>\n      <td>1.0</td>\n      <td>0</td>\n      <td>0.473684</td>\n      <td>0.733333</td>\n      <td>0.733333</td>\n    </tr>\n    <tr>\n      <th>783666</th>\n      <td>0.424672</td>\n      <td>0</td>\n      <td>0.666667</td>\n      <td>0.00</td>\n      <td>1</td>\n      <td>1.0</td>\n      <td>1</td>\n      <td>0.157895</td>\n      <td>0.733333</td>\n      <td>0.733333</td>\n    </tr>\n  </tbody>\n</table>\n</div>"
          },
          "metadata": {}
        }
      ]
    },
    {
      "metadata": {
        "trusted": true,
        "collapsed": true,
        "_uuid": "85335fd8e569dd35eee91bc80fd6b913dd4cc781"
      },
      "cell_type": "code",
      "source": "#prediction model\nfrom sklearn.model_selection import cross_val_score\nfrom sklearn.ensemble import RandomForestClassifier\nfrom sklearn.feature_selection import SelectFromModel",
      "execution_count": 22,
      "outputs": []
    },
    {
      "metadata": {
        "trusted": true,
        "collapsed": true,
        "_uuid": "33ec9ef669effddd2f836086fdb396a7d155c32a"
      },
      "cell_type": "code",
      "source": "#recovering train test &target\nglobal combined, data_train\ntargets = train1['Purchase']\ntrain = combined.head(550068)\ntest = combined.iloc[550068:]",
      "execution_count": 23,
      "outputs": []
    },
    {
      "metadata": {
        "trusted": true,
        "_uuid": "e4c3ab419454404861b5e8b8ab7ba9bbbbfe42d6"
      },
      "cell_type": "code",
      "source": "####Prediction model########\n#Train-Test split\nfrom sklearn.model_selection import train_test_split\ndatatrain, datatest, labeltrain, labeltest = train_test_split(train, targets, test_size = 0.2, random_state = 42)\nlabeltrain.shape",
      "execution_count": null,
      "outputs": [
        {
          "output_type": "execute_result",
          "execution_count": 24,
          "data": {
            "text/plain": "(440054,)"
          },
          "metadata": {}
        }
      ]
    },
    {
      "metadata": {
        "trusted": true,
        "_uuid": "75d1e15c11f7291ec18dd845d533a8b13f306e99"
      },
      "cell_type": "code",
      "source": "from sklearn import cross_validation, metrics\nimport xgboost as xgb\nxgb = xgb.XGBRegressor()\nxgb.fit(datatrain,labeltrain)\npredictions_xgb = xgb.predict(datatest)\nerror_xgb = metrics.mean_squared_error(labeltest, predictions_xgb)\nprint(error_xgb)",
      "execution_count": null,
      "outputs": [
        {
          "output_type": "stream",
          "text": "/opt/conda/lib/python3.6/site-packages/sklearn/cross_validation.py:41: DeprecationWarning: This module was deprecated in version 0.18 in favor of the model_selection module into which all the refactored classes and functions are moved. Also note that the interface of the new CV iterators are different from that of this module. This module will be removed in 0.20.\n  \"This module will be removed in 0.20.\", DeprecationWarning)\n",
          "name": "stderr"
        }
      ]
    },
    {
      "metadata": {
        "trusted": true,
        "_uuid": "4123ff7f4ecc3f258c8072743c9b566796776d48",
        "collapsed": true
      },
      "cell_type": "code",
      "source": "#Prediction using test data\ny_pred =xgb.predict(datatest)\n#classification accuracy\nfrom sklearn import metrics\nprint(metrics.accuracy_score(labeltest, y_pred))\n",
      "execution_count": null,
      "outputs": []
    },
    {
      "metadata": {
        "trusted": true,
        "_uuid": "1889d5886a2ba821fc69880ad5e65c7ad761ea36",
        "collapsed": true
      },
      "cell_type": "code",
      "source": "xgb_score_train = xgb.score(datatrain, labeltrain)\nprint(\"Training score: \",xgb_score_train)\nxgb_score_test = xgb.score(datatest, labeltest)\nprint(\"Testing score: \",xgb_score_test)",
      "execution_count": null,
      "outputs": []
    },
    {
      "metadata": {
        "trusted": true,
        "_uuid": "ca5a09b85a99b2f29300b42d2a3ff8aca109400e",
        "collapsed": true
      },
      "cell_type": "code",
      "source": "#saving output as output.csv of decision tree\noutput2 = xgb.predict(test).astype(int)\ndf_output2 = pd.DataFrame()\naux = pd.read_csv('../input/test.csv')\ndf_output2['User_ID'] = aux['User_ID']\ndf_output2['Product_ID'] = aux['Product_ID']\ndf_output2['Purchase'] = np.vectorize()(output2)\ndf_output2[['User_ID','Product_ID','Purchase']].to_csv('output2.csv',index=False)",
      "execution_count": null,
      "outputs": []
    },
    {
      "metadata": {
        "trusted": true,
        "collapsed": true,
        "_uuid": "6df73096aad73262a05feebef85fdc31c92d15cc"
      },
      "cell_type": "code",
      "source": "#random forest\n# from sklearn.ensemble import RandomForestClassifier\n# rfc = RandomForestClassifier()\n# rfc.fit(datatrain, labeltrain)\n# rfc_score_train = rfc.score(datatrain, labeltrain)\n# print(\"Training score: \",rfc_score_train)\n# rfc_score_test = rfc.score(datatest, labeltest)\n# print(\"Testing score: \",rfc_score_test)",
      "execution_count": null,
      "outputs": []
    },
    {
      "metadata": {
        "trusted": true,
        "collapsed": true,
        "_uuid": "a09a7ae820c0688077c65efde30e1290fea7c55c"
      },
      "cell_type": "code",
      "source": "",
      "execution_count": null,
      "outputs": []
    },
    {
      "metadata": {
        "trusted": true,
        "collapsed": true,
        "_uuid": "642a53e2476d430d83b801a892034806ad22fd02"
      },
      "cell_type": "code",
      "source": "",
      "execution_count": null,
      "outputs": []
    },
    {
      "metadata": {
        "trusted": true,
        "collapsed": true,
        "_uuid": "8e651fbb9ecf6ab937ece1d5ecc4c2d6b9d84bd1"
      },
      "cell_type": "code",
      "source": "",
      "execution_count": null,
      "outputs": []
    },
    {
      "metadata": {
        "trusted": true,
        "_uuid": "e42ab7efccd644d4c035410f825b71bd433d5445",
        "collapsed": true
      },
      "cell_type": "code",
      "source": "# clf = RandomForestClassifier(n_estimators=50, max_features='sqrt')\n# clf = clf.fit(train, targets)",
      "execution_count": null,
      "outputs": []
    },
    {
      "metadata": {
        "trusted": true,
        "collapsed": true,
        "_uuid": "261b47c2756029fac14650f90863d8e58d1e4a33"
      },
      "cell_type": "code",
      "source": "",
      "execution_count": null,
      "outputs": []
    },
    {
      "metadata": {
        "trusted": true,
        "_uuid": "48b53e979c80bd1dfb4038859d94abed2feead9e",
        "collapsed": true
      },
      "cell_type": "code",
      "source": "# #correlation map\n# f,ax = plt.subplots(figsize=(18, 18))\n# sns.heatmap(combined.corr(), annot=True, linewidths=.5, fmt= '.5f',ax=ax)\n# plt.show()",
      "execution_count": null,
      "outputs": []
    },
    {
      "metadata": {
        "trusted": true,
        "collapsed": true,
        "_uuid": "50bccb9af255afd2abaa30d1a6eca097ddebbb0f"
      },
      "cell_type": "code",
      "source": "# # Saving id variables to create final submission\n# ids_test = test['User_ID'].copy()\n# product_ids_test = test['Product_ID'].copy()",
      "execution_count": null,
      "outputs": []
    },
    {
      "metadata": {
        "trusted": true,
        "_uuid": "f116550abdb8bededb34ee9b595ea713e67851ef",
        "collapsed": true
      },
      "cell_type": "code",
      "source": "# Reducing boundaries to decrease RMSE\n# cutoff_purchase = np.percentile(train['Purchase'], 99.9)  # 99.9 percentile\n# train.ix[train['Purchase'] > cutoff_purchase, 'Purchase'] = cutoff_purchase",
      "execution_count": null,
      "outputs": []
    },
    {
      "metadata": {
        "trusted": true,
        "_uuid": "0fddc5544e46090b0fc24bcdcb84751541fa8fd9",
        "collapsed": true
      },
      "cell_type": "code",
      "source": "# Label Encoding User_IDs\n# le = LabelEncoder()\n# train['User_ID'] = le.fit_transform(train['User_ID'])\n# test['User_ID'] = le.transform(test['User_ID'])",
      "execution_count": null,
      "outputs": []
    },
    {
      "metadata": {
        "trusted": true,
        "collapsed": true,
        "_uuid": "28be189bca01927eedf72cc6b3351e4bdb6d19b7"
      },
      "cell_type": "code",
      "source": "# Label Encoding Product_IDs\n# new_product_ids = list(set(pd.unique(test['Product_ID'])) - set(pd.unique(train['Product_ID'])))",
      "execution_count": null,
      "outputs": []
    },
    {
      "metadata": {
        "trusted": true,
        "_uuid": "0aa5a780550c8e592126bab4910d0d43d3b9ada0",
        "collapsed": true
      },
      "cell_type": "code",
      "source": "# le = LabelEncoder()\n# train['Product_ID'] = le.fit_transform(train['Product_ID'])\n# test.ix[test['Product_ID'].isin(new_product_ids), 'Product_ID'] = -1\n# new_product_ids.append(-1)",
      "execution_count": null,
      "outputs": []
    },
    {
      "metadata": {
        "trusted": true,
        "_uuid": "a1f93a04a8a577021f584092275acfb3834ddea1",
        "collapsed": true
      },
      "cell_type": "code",
      "source": "#test.ix[~test['Product_ID'].isin(new_product_ids), 'Product_ID'] = le.transform(test.ix[~test['Product_ID'].isin(new_product_ids), 'Product_ID'])",
      "execution_count": null,
      "outputs": []
    },
    {
      "metadata": {
        "trusted": true,
        "collapsed": true,
        "_uuid": "86a51eab145e29de30c25adbdf5b944807833fc8"
      },
      "cell_type": "code",
      "source": "\n# y = train['Purchase']\n# train.drop(['Purchase', 'Product_Category_2', 'Product_Category_3'], inplace=True, axis=1)\n# test.drop(['Product_Category_2', 'Product_Category_3'], inplace=True, axis=1)\n",
      "execution_count": null,
      "outputs": []
    },
    {
      "metadata": {
        "trusted": true,
        "collapsed": true,
        "_uuid": "a7f3081e3d120a64cfd6e486177c641857ff9baa"
      },
      "cell_type": "code",
      "source": "# train = pd.get_dummies(train)\n# test = pd.get_dummies(test)",
      "execution_count": null,
      "outputs": []
    },
    {
      "metadata": {
        "trusted": true,
        "collapsed": true,
        "_uuid": "12cdbcfa2976d0f4cf61dc296bfc39bd3f734a47"
      },
      "cell_type": "code",
      "source": "# # Modeling\n# dtrain = xgb.DMatrix(train.values, label=y, missing=np.nan)\n\n# param = {'objective': 'reg:linear', 'booster': 'gbtree', 'silent': 1,\n#          'max_depth': 10, 'eta': 0.1, 'nthread': 4,\n#           'subsample': 0.8, 'colsample_bytree': 0.8, 'min_child_weight': 20,\n#          'max_delta_step': 0, 'gamma': 0}\n# num_round = 690",
      "execution_count": null,
      "outputs": []
    },
    {
      "metadata": {
        "trusted": true,
        "collapsed": true,
        "_uuid": "0da163b8f5bf74e901694aabc3b607aa85ee56a3"
      },
      "cell_type": "code",
      "source": "# seeds = [1122, 2244, 3366, 4488, 5500]\n# test_preds = np.zeros((len(test), len(seeds)))",
      "execution_count": null,
      "outputs": []
    },
    {
      "metadata": {
        "trusted": true,
        "_uuid": "f181b0e9bd3f939076f186fe2d92fa626777d008",
        "collapsed": true
      },
      "cell_type": "code",
      "source": "# for run in range(len(seeds)):\n#     #sys.stdout.write(\"\\rXGB RUN:{}/{}\".format(run+1, len(seeds)))\n#     #sys.stdout.flush()\n#     param['seed'] = seeds[run]\n#     clf = xgb.train(param, dtrain, num_round)\n#     dtest = xgb.DMatrix(test.values, missing=np.nan)\n#     test_preds[:, run] = clf.predict(dtest)\n\n\n# test_preds = np.mean(test_preds, axis=1)",
      "execution_count": null,
      "outputs": []
    },
    {
      "metadata": {
        "trusted": true,
        "collapsed": true,
        "_uuid": "658679ae844042a476c1736684f9171082672d78"
      },
      "cell_type": "code",
      "source": "# Submission file\n# submit = pd.DataFrame({'User_ID': ids_test, 'Product_ID': product_ids_test, 'Purchase': test_preds})\n# submit = submit[['User_ID', 'Product_ID', 'Purchase']]\n\n# submit.ix[submit['Purchase'] < 0, 'Purchase'] = 12  # changing min prediction to min value in train\n# submit.to_csv(\"final_solution.csv\", index=False)",
      "execution_count": null,
      "outputs": []
    }
  ],
  "metadata": {
    "kernelspec": {
      "display_name": "Python 3",
      "language": "python",
      "name": "python3"
    },
    "language_info": {
      "name": "python",
      "version": "3.6.6",
      "mimetype": "text/x-python",
      "codemirror_mode": {
        "name": "ipython",
        "version": 3
      },
      "pygments_lexer": "ipython3",
      "nbconvert_exporter": "python",
      "file_extension": ".py"
    }
  },
  "nbformat": 4,
  "nbformat_minor": 1
}